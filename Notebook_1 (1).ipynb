{
  "cells": [
    {
      "cell_type": "code",
      "execution_count": null,
      "metadata": {
        "id": "HpWv6BtUliLp"
      },
      "outputs": [],
      "source": [
        "import pandas as pd"
      ]
    },
    {
      "cell_type": "code",
      "execution_count": null,
      "metadata": {
        "id": "mtKmHlR8Q4K9"
      },
      "outputs": [],
      "source": [
        "data = pd.read_csv('/content/drive/MyDrive/5DATA002W.2 Coursework Dataset(25012025v6.0).csv')"
      ]
    },
    {
      "cell_type": "code",
      "execution_count": null,
      "metadata": {
        "colab": {
          "base_uri": "https://localhost:8080/",
          "height": 556
        },
        "id": "04CTmDUWVpPX",
        "outputId": "b931b3e9-2e35-43c1-f377-e1bf9ccc89e1"
      },
      "outputs": [
        {
          "data": {
            "application/vnd.google.colaboratory.intrinsic+json": {
              "summary": "{\n  \"name\": \"data\",\n  \"rows\": 4024,\n  \"fields\": [\n    {\n      \"column\": \"Patient_ID\",\n      \"properties\": {\n        \"dtype\": \"string\",\n        \"num_unique_values\": 4024,\n        \"samples\": [\n          \"A1730\",\n          \"A1216\",\n          \"A2734\"\n        ],\n        \"semantic_type\": \"\",\n        \"description\": \"\"\n      }\n    },\n    {\n      \"column\": \"Month_of_Birth\",\n      \"properties\": {\n        \"dtype\": \"number\",\n        \"std\": 3,\n        \"min\": 1,\n        \"max\": 12,\n        \"num_unique_values\": 12,\n        \"samples\": [\n          7,\n          9,\n          12\n        ],\n        \"semantic_type\": \"\",\n        \"description\": \"\"\n      }\n    },\n    {\n      \"column\": \"Age\",\n      \"properties\": {\n        \"dtype\": \"number\",\n        \"std\": 11.715528128359864,\n        \"min\": -50.0,\n        \"max\": 502.0,\n        \"num_unique_values\": 44,\n        \"samples\": [\n          -50.0,\n          42.0,\n          37.0\n        ],\n        \"semantic_type\": \"\",\n        \"description\": \"\"\n      }\n    },\n    {\n      \"column\": \"Sex\",\n      \"properties\": {\n        \"dtype\": \"category\",\n        \"num_unique_values\": 2,\n        \"samples\": [\n          \"1\",\n          \"Female\"\n        ],\n        \"semantic_type\": \"\",\n        \"description\": \"\"\n      }\n    },\n    {\n      \"column\": \"Occupation\",\n      \"properties\": {\n        \"dtype\": \"category\",\n        \"num_unique_values\": 40,\n        \"samples\": [\n          \"Manufacturing\",\n          \"Hospitality\"\n        ],\n        \"semantic_type\": \"\",\n        \"description\": \"\"\n      }\n    },\n    {\n      \"column\": \"T_Stage\",\n      \"properties\": {\n        \"dtype\": \"category\",\n        \"num_unique_values\": 4,\n        \"samples\": [\n          \"T2\",\n          \"T4\"\n        ],\n        \"semantic_type\": \"\",\n        \"description\": \"\"\n      }\n    },\n    {\n      \"column\": \"N_Stage\",\n      \"properties\": {\n        \"dtype\": \"category\",\n        \"num_unique_values\": 3,\n        \"samples\": [\n          \"N1\",\n          \"N2\"\n        ],\n        \"semantic_type\": \"\",\n        \"description\": \"\"\n      }\n    },\n    {\n      \"column\": \"6th_Stage\",\n      \"properties\": {\n        \"dtype\": \"category\",\n        \"num_unique_values\": 5,\n        \"samples\": [\n          \"IIIA\",\n          \"IIIB\"\n        ],\n        \"semantic_type\": \"\",\n        \"description\": \"\"\n      }\n    },\n    {\n      \"column\": \"Differentiated\",\n      \"properties\": {\n        \"dtype\": \"category\",\n        \"num_unique_values\": 4,\n        \"samples\": [\n          \"Moderately differentiated\",\n          \"Undifferentiated\"\n        ],\n        \"semantic_type\": \"\",\n        \"description\": \"\"\n      }\n    },\n    {\n      \"column\": \"Grade\",\n      \"properties\": {\n        \"dtype\": \"number\",\n        \"std\": 0,\n        \"min\": 1,\n        \"max\": 4,\n        \"num_unique_values\": 4,\n        \"samples\": [\n          2,\n          4\n        ],\n        \"semantic_type\": \"\",\n        \"description\": \"\"\n      }\n    },\n    {\n      \"column\": \"A_Stage\",\n      \"properties\": {\n        \"dtype\": \"category\",\n        \"num_unique_values\": 2,\n        \"samples\": [\n          \"Distant\",\n          \"Regional\"\n        ],\n        \"semantic_type\": \"\",\n        \"description\": \"\"\n      }\n    },\n    {\n      \"column\": \"Tumor_Size\",\n      \"properties\": {\n        \"dtype\": \"number\",\n        \"std\": 21.161080054199935,\n        \"min\": -75.0,\n        \"max\": 140.0,\n        \"num_unique_values\": 111,\n        \"samples\": [\n          33.0,\n          13.0\n        ],\n        \"semantic_type\": \"\",\n        \"description\": \"\"\n      }\n    },\n    {\n      \"column\": \"Estrogen_Status\",\n      \"properties\": {\n        \"dtype\": \"category\",\n        \"num_unique_values\": 2,\n        \"samples\": [\n          \"Negative\",\n          \"Positive\"\n        ],\n        \"semantic_type\": \"\",\n        \"description\": \"\"\n      }\n    },\n    {\n      \"column\": \"Progesterone_Status\",\n      \"properties\": {\n        \"dtype\": \"category\",\n        \"num_unique_values\": 2,\n        \"samples\": [\n          \"Negative\",\n          \"Positive\"\n        ],\n        \"semantic_type\": \"\",\n        \"description\": \"\"\n      }\n    },\n    {\n      \"column\": \"Regional_Node_Examined\",\n      \"properties\": {\n        \"dtype\": \"number\",\n        \"std\": 8.129292677142855,\n        \"min\": 1.0,\n        \"max\": 61.0,\n        \"num_unique_values\": 54,\n        \"samples\": [\n          10.0,\n          35.0\n        ],\n        \"semantic_type\": \"\",\n        \"description\": \"\"\n      }\n    },\n    {\n      \"column\": \"Reginol_Node_Positive\",\n      \"properties\": {\n        \"dtype\": \"number\",\n        \"std\": 5,\n        \"min\": 1,\n        \"max\": 46,\n        \"num_unique_values\": 38,\n        \"samples\": [\n          35,\n          41\n        ],\n        \"semantic_type\": \"\",\n        \"description\": \"\"\n      }\n    },\n    {\n      \"column\": \"Survival_Months\",\n      \"properties\": {\n        \"dtype\": \"number\",\n        \"std\": 25,\n        \"min\": 1,\n        \"max\": 760,\n        \"num_unique_values\": 108,\n        \"samples\": [\n          48,\n          64\n        ],\n        \"semantic_type\": \"\",\n        \"description\": \"\"\n      }\n    },\n    {\n      \"column\": \"Mortality_Status\",\n      \"properties\": {\n        \"dtype\": \"category\",\n        \"num_unique_values\": 7,\n        \"samples\": [\n          \"Alive\",\n          \"Dead\"\n        ],\n        \"semantic_type\": \"\",\n        \"description\": \"\"\n      }\n    }\n  ]\n}",
              "type": "dataframe",
              "variable_name": "data"
            },
            "text/html": [
              "\n",
              "  <div id=\"df-fa0a892b-d045-4a5f-ade3-9e8a74518bda\" class=\"colab-df-container\">\n",
              "    <div>\n",
              "<style scoped>\n",
              "    .dataframe tbody tr th:only-of-type {\n",
              "        vertical-align: middle;\n",
              "    }\n",
              "\n",
              "    .dataframe tbody tr th {\n",
              "        vertical-align: top;\n",
              "    }\n",
              "\n",
              "    .dataframe thead th {\n",
              "        text-align: right;\n",
              "    }\n",
              "</style>\n",
              "<table border=\"1\" class=\"dataframe\">\n",
              "  <thead>\n",
              "    <tr style=\"text-align: right;\">\n",
              "      <th></th>\n",
              "      <th>Patient_ID</th>\n",
              "      <th>Month_of_Birth</th>\n",
              "      <th>Age</th>\n",
              "      <th>Sex</th>\n",
              "      <th>Occupation</th>\n",
              "      <th>T_Stage</th>\n",
              "      <th>N_Stage</th>\n",
              "      <th>6th_Stage</th>\n",
              "      <th>Differentiated</th>\n",
              "      <th>Grade</th>\n",
              "      <th>A_Stage</th>\n",
              "      <th>Tumor_Size</th>\n",
              "      <th>Estrogen_Status</th>\n",
              "      <th>Progesterone_Status</th>\n",
              "      <th>Regional_Node_Examined</th>\n",
              "      <th>Reginol_Node_Positive</th>\n",
              "      <th>Survival_Months</th>\n",
              "      <th>Mortality_Status</th>\n",
              "    </tr>\n",
              "  </thead>\n",
              "  <tbody>\n",
              "    <tr>\n",
              "      <th>0</th>\n",
              "      <td>A0012</td>\n",
              "      <td>12</td>\n",
              "      <td>68.0</td>\n",
              "      <td>Female</td>\n",
              "      <td>Teaching</td>\n",
              "      <td>T1</td>\n",
              "      <td>N1</td>\n",
              "      <td>IIA</td>\n",
              "      <td>Poorly differentiated</td>\n",
              "      <td>3</td>\n",
              "      <td>Regional</td>\n",
              "      <td>4.0</td>\n",
              "      <td>Positive</td>\n",
              "      <td>Positive</td>\n",
              "      <td>24.0</td>\n",
              "      <td>1</td>\n",
              "      <td>60</td>\n",
              "      <td>Alive</td>\n",
              "    </tr>\n",
              "    <tr>\n",
              "      <th>1</th>\n",
              "      <td>A0013</td>\n",
              "      <td>12</td>\n",
              "      <td>50.0</td>\n",
              "      <td>Female</td>\n",
              "      <td>Medical</td>\n",
              "      <td>T2</td>\n",
              "      <td>N2</td>\n",
              "      <td>IIIA</td>\n",
              "      <td>Moderately differentiated</td>\n",
              "      <td>2</td>\n",
              "      <td>Regional</td>\n",
              "      <td>35.0</td>\n",
              "      <td>Positive</td>\n",
              "      <td>Positive</td>\n",
              "      <td>14.0</td>\n",
              "      <td>5</td>\n",
              "      <td>62</td>\n",
              "      <td>Alive</td>\n",
              "    </tr>\n",
              "    <tr>\n",
              "      <th>2</th>\n",
              "      <td>A0014</td>\n",
              "      <td>11</td>\n",
              "      <td>58.0</td>\n",
              "      <td>Female</td>\n",
              "      <td>Engineering</td>\n",
              "      <td>T3</td>\n",
              "      <td>N3</td>\n",
              "      <td>IIIC</td>\n",
              "      <td>Moderately differentiated</td>\n",
              "      <td>2</td>\n",
              "      <td>Regional</td>\n",
              "      <td>63.0</td>\n",
              "      <td>Positive</td>\n",
              "      <td>Positive</td>\n",
              "      <td>14.0</td>\n",
              "      <td>7</td>\n",
              "      <td>75</td>\n",
              "      <td>Alive</td>\n",
              "    </tr>\n",
              "    <tr>\n",
              "      <th>3</th>\n",
              "      <td>A0015</td>\n",
              "      <td>3</td>\n",
              "      <td>58.0</td>\n",
              "      <td>Female</td>\n",
              "      <td>Technology</td>\n",
              "      <td>T1</td>\n",
              "      <td>N1</td>\n",
              "      <td>IIA</td>\n",
              "      <td>Poorly differentiated</td>\n",
              "      <td>3</td>\n",
              "      <td>Regional</td>\n",
              "      <td>18.0</td>\n",
              "      <td>Positive</td>\n",
              "      <td>Positive</td>\n",
              "      <td>2.0</td>\n",
              "      <td>1</td>\n",
              "      <td>84</td>\n",
              "      <td>Alive</td>\n",
              "    </tr>\n",
              "    <tr>\n",
              "      <th>4</th>\n",
              "      <td>A0016</td>\n",
              "      <td>1</td>\n",
              "      <td>47.0</td>\n",
              "      <td>Female</td>\n",
              "      <td>Multimedia</td>\n",
              "      <td>T2</td>\n",
              "      <td>N1</td>\n",
              "      <td>IIB</td>\n",
              "      <td>Poorly differentiated</td>\n",
              "      <td>3</td>\n",
              "      <td>Regional</td>\n",
              "      <td>41.0</td>\n",
              "      <td>Positive</td>\n",
              "      <td>Positive</td>\n",
              "      <td>3.0</td>\n",
              "      <td>1</td>\n",
              "      <td>50</td>\n",
              "      <td>Alive</td>\n",
              "    </tr>\n",
              "    <tr>\n",
              "      <th>5</th>\n",
              "      <td>A0017</td>\n",
              "      <td>2</td>\n",
              "      <td>51.0</td>\n",
              "      <td>Female</td>\n",
              "      <td>Research</td>\n",
              "      <td>T1</td>\n",
              "      <td>N1</td>\n",
              "      <td>IIA</td>\n",
              "      <td>Moderately differentiated</td>\n",
              "      <td>2</td>\n",
              "      <td>Regional</td>\n",
              "      <td>20.0</td>\n",
              "      <td>Positive</td>\n",
              "      <td>Positive</td>\n",
              "      <td>18.0</td>\n",
              "      <td>2</td>\n",
              "      <td>89</td>\n",
              "      <td>Alive</td>\n",
              "    </tr>\n",
              "    <tr>\n",
              "      <th>6</th>\n",
              "      <td>A0018</td>\n",
              "      <td>5</td>\n",
              "      <td>51.0</td>\n",
              "      <td>Female</td>\n",
              "      <td>House Person</td>\n",
              "      <td>T1</td>\n",
              "      <td>N1</td>\n",
              "      <td>IIA</td>\n",
              "      <td>Well differentiated</td>\n",
              "      <td>1</td>\n",
              "      <td>Regional</td>\n",
              "      <td>8.0</td>\n",
              "      <td>Positive</td>\n",
              "      <td>Positive</td>\n",
              "      <td>11.0</td>\n",
              "      <td>1</td>\n",
              "      <td>54</td>\n",
              "      <td>Alive</td>\n",
              "    </tr>\n",
              "    <tr>\n",
              "      <th>7</th>\n",
              "      <td>A0019</td>\n",
              "      <td>4</td>\n",
              "      <td>40.0</td>\n",
              "      <td>Female</td>\n",
              "      <td>Reporting</td>\n",
              "      <td>T2</td>\n",
              "      <td>N1</td>\n",
              "      <td>IIB</td>\n",
              "      <td>Moderately differentiated</td>\n",
              "      <td>2</td>\n",
              "      <td>Regional</td>\n",
              "      <td>30.0</td>\n",
              "      <td>Positive</td>\n",
              "      <td>Positive</td>\n",
              "      <td>9.0</td>\n",
              "      <td>1</td>\n",
              "      <td>14</td>\n",
              "      <td>Dead</td>\n",
              "    </tr>\n",
              "    <tr>\n",
              "      <th>8</th>\n",
              "      <td>A0020</td>\n",
              "      <td>6</td>\n",
              "      <td>40.0</td>\n",
              "      <td>Female</td>\n",
              "      <td>Development</td>\n",
              "      <td>T4</td>\n",
              "      <td>N3</td>\n",
              "      <td>IIIC</td>\n",
              "      <td>Poorly differentiated</td>\n",
              "      <td>3</td>\n",
              "      <td>Regional</td>\n",
              "      <td>103.0</td>\n",
              "      <td>Positive</td>\n",
              "      <td>Positive</td>\n",
              "      <td>20.0</td>\n",
              "      <td>18</td>\n",
              "      <td>70</td>\n",
              "      <td>Alive</td>\n",
              "    </tr>\n",
              "    <tr>\n",
              "      <th>9</th>\n",
              "      <td>A0021</td>\n",
              "      <td>4</td>\n",
              "      <td>69.0</td>\n",
              "      <td>Female</td>\n",
              "      <td>Construction</td>\n",
              "      <td>T4</td>\n",
              "      <td>N3</td>\n",
              "      <td>IIIC</td>\n",
              "      <td>Well differentiated</td>\n",
              "      <td>1</td>\n",
              "      <td>Distant</td>\n",
              "      <td>32.0</td>\n",
              "      <td>Positive</td>\n",
              "      <td>Positive</td>\n",
              "      <td>21.0</td>\n",
              "      <td>12</td>\n",
              "      <td>92</td>\n",
              "      <td>Alive</td>\n",
              "    </tr>\n",
              "  </tbody>\n",
              "</table>\n",
              "</div>\n",
              "    <div class=\"colab-df-buttons\">\n",
              "\n",
              "  <div class=\"colab-df-container\">\n",
              "    <button class=\"colab-df-convert\" onclick=\"convertToInteractive('df-fa0a892b-d045-4a5f-ade3-9e8a74518bda')\"\n",
              "            title=\"Convert this dataframe to an interactive table.\"\n",
              "            style=\"display:none;\">\n",
              "\n",
              "  <svg xmlns=\"http://www.w3.org/2000/svg\" height=\"24px\" viewBox=\"0 -960 960 960\">\n",
              "    <path d=\"M120-120v-720h720v720H120Zm60-500h600v-160H180v160Zm220 220h160v-160H400v160Zm0 220h160v-160H400v160ZM180-400h160v-160H180v160Zm440 0h160v-160H620v160ZM180-180h160v-160H180v160Zm440 0h160v-160H620v160Z\"/>\n",
              "  </svg>\n",
              "    </button>\n",
              "\n",
              "  <style>\n",
              "    .colab-df-container {\n",
              "      display:flex;\n",
              "      gap: 12px;\n",
              "    }\n",
              "\n",
              "    .colab-df-convert {\n",
              "      background-color: #E8F0FE;\n",
              "      border: none;\n",
              "      border-radius: 50%;\n",
              "      cursor: pointer;\n",
              "      display: none;\n",
              "      fill: #1967D2;\n",
              "      height: 32px;\n",
              "      padding: 0 0 0 0;\n",
              "      width: 32px;\n",
              "    }\n",
              "\n",
              "    .colab-df-convert:hover {\n",
              "      background-color: #E2EBFA;\n",
              "      box-shadow: 0px 1px 2px rgba(60, 64, 67, 0.3), 0px 1px 3px 1px rgba(60, 64, 67, 0.15);\n",
              "      fill: #174EA6;\n",
              "    }\n",
              "\n",
              "    .colab-df-buttons div {\n",
              "      margin-bottom: 4px;\n",
              "    }\n",
              "\n",
              "    [theme=dark] .colab-df-convert {\n",
              "      background-color: #3B4455;\n",
              "      fill: #D2E3FC;\n",
              "    }\n",
              "\n",
              "    [theme=dark] .colab-df-convert:hover {\n",
              "      background-color: #434B5C;\n",
              "      box-shadow: 0px 1px 3px 1px rgba(0, 0, 0, 0.15);\n",
              "      filter: drop-shadow(0px 1px 2px rgba(0, 0, 0, 0.3));\n",
              "      fill: #FFFFFF;\n",
              "    }\n",
              "  </style>\n",
              "\n",
              "    <script>\n",
              "      const buttonEl =\n",
              "        document.querySelector('#df-fa0a892b-d045-4a5f-ade3-9e8a74518bda button.colab-df-convert');\n",
              "      buttonEl.style.display =\n",
              "        google.colab.kernel.accessAllowed ? 'block' : 'none';\n",
              "\n",
              "      async function convertToInteractive(key) {\n",
              "        const element = document.querySelector('#df-fa0a892b-d045-4a5f-ade3-9e8a74518bda');\n",
              "        const dataTable =\n",
              "          await google.colab.kernel.invokeFunction('convertToInteractive',\n",
              "                                                    [key], {});\n",
              "        if (!dataTable) return;\n",
              "\n",
              "        const docLinkHtml = 'Like what you see? Visit the ' +\n",
              "          '<a target=\"_blank\" href=https://colab.research.google.com/notebooks/data_table.ipynb>data table notebook</a>'\n",
              "          + ' to learn more about interactive tables.';\n",
              "        element.innerHTML = '';\n",
              "        dataTable['output_type'] = 'display_data';\n",
              "        await google.colab.output.renderOutput(dataTable, element);\n",
              "        const docLink = document.createElement('div');\n",
              "        docLink.innerHTML = docLinkHtml;\n",
              "        element.appendChild(docLink);\n",
              "      }\n",
              "    </script>\n",
              "  </div>\n",
              "\n",
              "\n",
              "<div id=\"df-ff049400-6485-4a04-ae75-a3bb7948e65f\">\n",
              "  <button class=\"colab-df-quickchart\" onclick=\"quickchart('df-ff049400-6485-4a04-ae75-a3bb7948e65f')\"\n",
              "            title=\"Suggest charts\"\n",
              "            style=\"display:none;\">\n",
              "\n",
              "<svg xmlns=\"http://www.w3.org/2000/svg\" height=\"24px\"viewBox=\"0 0 24 24\"\n",
              "     width=\"24px\">\n",
              "    <g>\n",
              "        <path d=\"M19 3H5c-1.1 0-2 .9-2 2v14c0 1.1.9 2 2 2h14c1.1 0 2-.9 2-2V5c0-1.1-.9-2-2-2zM9 17H7v-7h2v7zm4 0h-2V7h2v10zm4 0h-2v-4h2v4z\"/>\n",
              "    </g>\n",
              "</svg>\n",
              "  </button>\n",
              "\n",
              "<style>\n",
              "  .colab-df-quickchart {\n",
              "      --bg-color: #E8F0FE;\n",
              "      --fill-color: #1967D2;\n",
              "      --hover-bg-color: #E2EBFA;\n",
              "      --hover-fill-color: #174EA6;\n",
              "      --disabled-fill-color: #AAA;\n",
              "      --disabled-bg-color: #DDD;\n",
              "  }\n",
              "\n",
              "  [theme=dark] .colab-df-quickchart {\n",
              "      --bg-color: #3B4455;\n",
              "      --fill-color: #D2E3FC;\n",
              "      --hover-bg-color: #434B5C;\n",
              "      --hover-fill-color: #FFFFFF;\n",
              "      --disabled-bg-color: #3B4455;\n",
              "      --disabled-fill-color: #666;\n",
              "  }\n",
              "\n",
              "  .colab-df-quickchart {\n",
              "    background-color: var(--bg-color);\n",
              "    border: none;\n",
              "    border-radius: 50%;\n",
              "    cursor: pointer;\n",
              "    display: none;\n",
              "    fill: var(--fill-color);\n",
              "    height: 32px;\n",
              "    padding: 0;\n",
              "    width: 32px;\n",
              "  }\n",
              "\n",
              "  .colab-df-quickchart:hover {\n",
              "    background-color: var(--hover-bg-color);\n",
              "    box-shadow: 0 1px 2px rgba(60, 64, 67, 0.3), 0 1px 3px 1px rgba(60, 64, 67, 0.15);\n",
              "    fill: var(--button-hover-fill-color);\n",
              "  }\n",
              "\n",
              "  .colab-df-quickchart-complete:disabled,\n",
              "  .colab-df-quickchart-complete:disabled:hover {\n",
              "    background-color: var(--disabled-bg-color);\n",
              "    fill: var(--disabled-fill-color);\n",
              "    box-shadow: none;\n",
              "  }\n",
              "\n",
              "  .colab-df-spinner {\n",
              "    border: 2px solid var(--fill-color);\n",
              "    border-color: transparent;\n",
              "    border-bottom-color: var(--fill-color);\n",
              "    animation:\n",
              "      spin 1s steps(1) infinite;\n",
              "  }\n",
              "\n",
              "  @keyframes spin {\n",
              "    0% {\n",
              "      border-color: transparent;\n",
              "      border-bottom-color: var(--fill-color);\n",
              "      border-left-color: var(--fill-color);\n",
              "    }\n",
              "    20% {\n",
              "      border-color: transparent;\n",
              "      border-left-color: var(--fill-color);\n",
              "      border-top-color: var(--fill-color);\n",
              "    }\n",
              "    30% {\n",
              "      border-color: transparent;\n",
              "      border-left-color: var(--fill-color);\n",
              "      border-top-color: var(--fill-color);\n",
              "      border-right-color: var(--fill-color);\n",
              "    }\n",
              "    40% {\n",
              "      border-color: transparent;\n",
              "      border-right-color: var(--fill-color);\n",
              "      border-top-color: var(--fill-color);\n",
              "    }\n",
              "    60% {\n",
              "      border-color: transparent;\n",
              "      border-right-color: var(--fill-color);\n",
              "    }\n",
              "    80% {\n",
              "      border-color: transparent;\n",
              "      border-right-color: var(--fill-color);\n",
              "      border-bottom-color: var(--fill-color);\n",
              "    }\n",
              "    90% {\n",
              "      border-color: transparent;\n",
              "      border-bottom-color: var(--fill-color);\n",
              "    }\n",
              "  }\n",
              "</style>\n",
              "\n",
              "  <script>\n",
              "    async function quickchart(key) {\n",
              "      const quickchartButtonEl =\n",
              "        document.querySelector('#' + key + ' button');\n",
              "      quickchartButtonEl.disabled = true;  // To prevent multiple clicks.\n",
              "      quickchartButtonEl.classList.add('colab-df-spinner');\n",
              "      try {\n",
              "        const charts = await google.colab.kernel.invokeFunction(\n",
              "            'suggestCharts', [key], {});\n",
              "      } catch (error) {\n",
              "        console.error('Error during call to suggestCharts:', error);\n",
              "      }\n",
              "      quickchartButtonEl.classList.remove('colab-df-spinner');\n",
              "      quickchartButtonEl.classList.add('colab-df-quickchart-complete');\n",
              "    }\n",
              "    (() => {\n",
              "      let quickchartButtonEl =\n",
              "        document.querySelector('#df-ff049400-6485-4a04-ae75-a3bb7948e65f button');\n",
              "      quickchartButtonEl.style.display =\n",
              "        google.colab.kernel.accessAllowed ? 'block' : 'none';\n",
              "    })();\n",
              "  </script>\n",
              "</div>\n",
              "\n",
              "    </div>\n",
              "  </div>\n"
            ],
            "text/plain": [
              "  Patient_ID  Month_of_Birth   Age     Sex    Occupation T_Stage N_Stage  \\\n",
              "0      A0012              12  68.0  Female      Teaching      T1      N1   \n",
              "1      A0013              12  50.0  Female       Medical      T2      N2   \n",
              "2      A0014              11  58.0  Female   Engineering      T3      N3   \n",
              "3      A0015               3  58.0  Female    Technology      T1      N1   \n",
              "4      A0016               1  47.0  Female    Multimedia      T2      N1   \n",
              "5      A0017               2  51.0  Female      Research      T1      N1   \n",
              "6      A0018               5  51.0  Female  House Person      T1      N1   \n",
              "7      A0019               4  40.0  Female     Reporting      T2      N1   \n",
              "8      A0020               6  40.0  Female   Development      T4      N3   \n",
              "9      A0021               4  69.0  Female  Construction      T4      N3   \n",
              "\n",
              "  6th_Stage             Differentiated  Grade   A_Stage  Tumor_Size  \\\n",
              "0       IIA      Poorly differentiated      3  Regional         4.0   \n",
              "1      IIIA  Moderately differentiated      2  Regional        35.0   \n",
              "2      IIIC  Moderately differentiated      2  Regional        63.0   \n",
              "3       IIA      Poorly differentiated      3  Regional        18.0   \n",
              "4       IIB      Poorly differentiated      3  Regional        41.0   \n",
              "5       IIA  Moderately differentiated      2  Regional        20.0   \n",
              "6       IIA        Well differentiated      1  Regional         8.0   \n",
              "7       IIB  Moderately differentiated      2  Regional        30.0   \n",
              "8      IIIC      Poorly differentiated      3  Regional       103.0   \n",
              "9      IIIC        Well differentiated      1   Distant        32.0   \n",
              "\n",
              "  Estrogen_Status Progesterone_Status  Regional_Node_Examined  \\\n",
              "0        Positive            Positive                    24.0   \n",
              "1        Positive            Positive                    14.0   \n",
              "2        Positive            Positive                    14.0   \n",
              "3        Positive            Positive                     2.0   \n",
              "4        Positive            Positive                     3.0   \n",
              "5        Positive            Positive                    18.0   \n",
              "6        Positive            Positive                    11.0   \n",
              "7        Positive            Positive                     9.0   \n",
              "8        Positive            Positive                    20.0   \n",
              "9        Positive            Positive                    21.0   \n",
              "\n",
              "   Reginol_Node_Positive  Survival_Months Mortality_Status  \n",
              "0                      1               60            Alive  \n",
              "1                      5               62            Alive  \n",
              "2                      7               75            Alive  \n",
              "3                      1               84            Alive  \n",
              "4                      1               50            Alive  \n",
              "5                      2               89            Alive  \n",
              "6                      1               54            Alive  \n",
              "7                      1               14             Dead  \n",
              "8                     18               70            Alive  \n",
              "9                     12               92            Alive  "
            ]
          },
          "execution_count": 5,
          "metadata": {},
          "output_type": "execute_result"
        }
      ],
      "source": [
        "data.head(10)"
      ]
    },
    {
      "cell_type": "code",
      "execution_count": null,
      "metadata": {
        "colab": {
          "base_uri": "https://localhost:8080/"
        },
        "id": "RT5zIEBAV9iA",
        "outputId": "c71a42d7-bda7-487a-f61b-6d74fb12d67d"
      },
      "outputs": [
        {
          "data": {
            "text/plain": [
              "['Patient_ID',\n",
              " 'Month_of_Birth',\n",
              " 'Age',\n",
              " 'Sex',\n",
              " 'Occupation',\n",
              " 'T_Stage',\n",
              " 'N_Stage',\n",
              " '6th_Stage',\n",
              " 'Differentiated',\n",
              " 'Grade',\n",
              " 'A_Stage',\n",
              " 'Tumor_Size',\n",
              " 'Estrogen_Status',\n",
              " 'Progesterone_Status',\n",
              " 'Regional_Node_Examined',\n",
              " 'Reginol_Node_Positive',\n",
              " 'Survival_Months',\n",
              " 'Mortality_Status']"
            ]
          },
          "execution_count": 6,
          "metadata": {},
          "output_type": "execute_result"
        }
      ],
      "source": [
        "list(data.columns)"
      ]
    },
    {
      "cell_type": "code",
      "execution_count": null,
      "metadata": {
        "colab": {
          "base_uri": "https://localhost:8080/"
        },
        "id": "g9Xl5WlPXcyZ",
        "outputId": "cf4ddfc3-9823-432c-9786-0544c0c92dca"
      },
      "outputs": [
        {
          "name": "stdout",
          "output_type": "stream",
          "text": [
            "<class 'pandas.core.frame.DataFrame'>\n",
            "RangeIndex: 4024 entries, 0 to 4023\n",
            "Data columns (total 18 columns):\n",
            " #   Column                  Non-Null Count  Dtype  \n",
            "---  ------                  --------------  -----  \n",
            " 0   Patient_ID              4024 non-null   object \n",
            " 1   Month_of_Birth          4024 non-null   int64  \n",
            " 2   Age                     4015 non-null   float64\n",
            " 3   Sex                     4020 non-null   object \n",
            " 4   Occupation              43 non-null     object \n",
            " 5   T_Stage                 4024 non-null   object \n",
            " 6   N_Stage                 4024 non-null   object \n",
            " 7   6th_Stage               4024 non-null   object \n",
            " 8   Differentiated          4024 non-null   object \n",
            " 9   Grade                   4024 non-null   int64  \n",
            " 10  A_Stage                 4024 non-null   object \n",
            " 11  Tumor_Size              4021 non-null   float64\n",
            " 12  Estrogen_Status         4024 non-null   object \n",
            " 13  Progesterone_Status     4024 non-null   object \n",
            " 14  Regional_Node_Examined  4023 non-null   float64\n",
            " 15  Reginol_Node_Positive   4024 non-null   int64  \n",
            " 16  Survival_Months         4024 non-null   int64  \n",
            " 17  Mortality_Status        4024 non-null   object \n",
            "dtypes: float64(3), int64(4), object(11)\n",
            "memory usage: 566.0+ KB\n"
          ]
        }
      ],
      "source": [
        "data.info()"
      ]
    },
    {
      "cell_type": "code",
      "execution_count": null,
      "metadata": {
        "colab": {
          "base_uri": "https://localhost:8080/"
        },
        "id": "W1Yy2ovPcGfe",
        "outputId": "7cb19ea5-7ad0-4757-a413-9ab25e453b11"
      },
      "outputs": [
        {
          "data": {
            "text/plain": [
              "(4024, 18)"
            ]
          },
          "execution_count": 10,
          "metadata": {},
          "output_type": "execute_result"
        }
      ],
      "source": [
        "data.shape"
      ]
    },
    {
      "cell_type": "code",
      "execution_count": null,
      "metadata": {
        "colab": {
          "base_uri": "https://localhost:8080/",
          "height": 300
        },
        "id": "AdBZotljc6gh",
        "outputId": "f315261e-518e-402b-b291-884e63eb6d73"
      },
      "outputs": [
        {
          "data": {
            "application/vnd.google.colaboratory.intrinsic+json": {
              "summary": "{\n  \"name\": \"data\",\n  \"rows\": 8,\n  \"fields\": [\n    {\n      \"column\": \"Month_of_Birth\",\n      \"properties\": {\n        \"dtype\": \"number\",\n        \"std\": 1420.5843614155217,\n        \"min\": 1.0,\n        \"max\": 4024.0,\n        \"num_unique_values\": 8,\n        \"samples\": [\n          6.481361829025845,\n          6.0,\n          4024.0\n        ],\n        \"semantic_type\": \"\",\n        \"description\": \"\"\n      }\n    },\n    {\n      \"column\": \"Age\",\n      \"properties\": {\n        \"dtype\": \"number\",\n        \"std\": 1395.4758479200066,\n        \"min\": -50.0,\n        \"max\": 4015.0,\n        \"num_unique_values\": 8,\n        \"samples\": [\n          54.10709838107098,\n          54.0,\n          4015.0\n        ],\n        \"semantic_type\": \"\",\n        \"description\": \"\"\n      }\n    },\n    {\n      \"column\": \"Grade\",\n      \"properties\": {\n        \"dtype\": \"number\",\n        \"std\": 1421.952286244199,\n        \"min\": 0.6382338311415823,\n        \"max\": 4024.0,\n        \"num_unique_values\": 7,\n        \"samples\": [\n          4024.0,\n          2.150596421471173,\n          3.0\n        ],\n        \"semantic_type\": \"\",\n        \"description\": \"\"\n      }\n    },\n    {\n      \"column\": \"Tumor_Size\",\n      \"properties\": {\n        \"dtype\": \"number\",\n        \"std\": 1412.9462816474029,\n        \"min\": -75.0,\n        \"max\": 4021.0,\n        \"num_unique_values\": 8,\n        \"samples\": [\n          30.41929868191992,\n          25.0,\n          4021.0\n        ],\n        \"semantic_type\": \"\",\n        \"description\": \"\"\n      }\n    },\n    {\n      \"column\": \"Regional_Node_Examined\",\n      \"properties\": {\n        \"dtype\": \"number\",\n        \"std\": 1416.074296977853,\n        \"min\": 1.0,\n        \"max\": 4023.0,\n        \"num_unique_values\": 8,\n        \"samples\": [\n          14.373601789709172,\n          14.0,\n          4023.0\n        ],\n        \"semantic_type\": \"\",\n        \"description\": \"\"\n      }\n    },\n    {\n      \"column\": \"Reginol_Node_Positive\",\n      \"properties\": {\n        \"dtype\": \"number\",\n        \"std\": 1419.5333800980586,\n        \"min\": 1.0,\n        \"max\": 4024.0,\n        \"num_unique_values\": 7,\n        \"samples\": [\n          4024.0,\n          4.158051689860835,\n          5.0\n        ],\n        \"semantic_type\": \"\",\n        \"description\": \"\"\n      }\n    },\n    {\n      \"column\": \"Survival_Months\",\n      \"properties\": {\n        \"dtype\": \"number\",\n        \"std\": 1390.795251925918,\n        \"min\": 1.0,\n        \"max\": 4024.0,\n        \"num_unique_values\": 8,\n        \"samples\": [\n          71.47216699801193,\n          73.0,\n          4024.0\n        ],\n        \"semantic_type\": \"\",\n        \"description\": \"\"\n      }\n    }\n  ]\n}",
              "type": "dataframe"
            },
            "text/html": [
              "\n",
              "  <div id=\"df-c46213d4-1223-4653-8e98-73e100fbf99d\" class=\"colab-df-container\">\n",
              "    <div>\n",
              "<style scoped>\n",
              "    .dataframe tbody tr th:only-of-type {\n",
              "        vertical-align: middle;\n",
              "    }\n",
              "\n",
              "    .dataframe tbody tr th {\n",
              "        vertical-align: top;\n",
              "    }\n",
              "\n",
              "    .dataframe thead th {\n",
              "        text-align: right;\n",
              "    }\n",
              "</style>\n",
              "<table border=\"1\" class=\"dataframe\">\n",
              "  <thead>\n",
              "    <tr style=\"text-align: right;\">\n",
              "      <th></th>\n",
              "      <th>Month_of_Birth</th>\n",
              "      <th>Age</th>\n",
              "      <th>Grade</th>\n",
              "      <th>Tumor_Size</th>\n",
              "      <th>Regional_Node_Examined</th>\n",
              "      <th>Reginol_Node_Positive</th>\n",
              "      <th>Survival_Months</th>\n",
              "    </tr>\n",
              "  </thead>\n",
              "  <tbody>\n",
              "    <tr>\n",
              "      <th>count</th>\n",
              "      <td>4024.000000</td>\n",
              "      <td>4015.000000</td>\n",
              "      <td>4024.000000</td>\n",
              "      <td>4021.000000</td>\n",
              "      <td>4023.000000</td>\n",
              "      <td>4024.000000</td>\n",
              "      <td>4024.000000</td>\n",
              "    </tr>\n",
              "    <tr>\n",
              "      <th>mean</th>\n",
              "      <td>6.481362</td>\n",
              "      <td>54.107098</td>\n",
              "      <td>2.150596</td>\n",
              "      <td>30.419299</td>\n",
              "      <td>14.373602</td>\n",
              "      <td>4.158052</td>\n",
              "      <td>71.472167</td>\n",
              "    </tr>\n",
              "    <tr>\n",
              "      <th>std</th>\n",
              "      <td>3.475442</td>\n",
              "      <td>11.715528</td>\n",
              "      <td>0.638234</td>\n",
              "      <td>21.161080</td>\n",
              "      <td>8.129293</td>\n",
              "      <td>5.109331</td>\n",
              "      <td>25.361855</td>\n",
              "    </tr>\n",
              "    <tr>\n",
              "      <th>min</th>\n",
              "      <td>1.000000</td>\n",
              "      <td>-50.000000</td>\n",
              "      <td>1.000000</td>\n",
              "      <td>-75.000000</td>\n",
              "      <td>1.000000</td>\n",
              "      <td>1.000000</td>\n",
              "      <td>1.000000</td>\n",
              "    </tr>\n",
              "    <tr>\n",
              "      <th>25%</th>\n",
              "      <td>3.000000</td>\n",
              "      <td>47.000000</td>\n",
              "      <td>2.000000</td>\n",
              "      <td>16.000000</td>\n",
              "      <td>9.000000</td>\n",
              "      <td>1.000000</td>\n",
              "      <td>56.000000</td>\n",
              "    </tr>\n",
              "    <tr>\n",
              "      <th>50%</th>\n",
              "      <td>6.000000</td>\n",
              "      <td>54.000000</td>\n",
              "      <td>2.000000</td>\n",
              "      <td>25.000000</td>\n",
              "      <td>14.000000</td>\n",
              "      <td>2.000000</td>\n",
              "      <td>73.000000</td>\n",
              "    </tr>\n",
              "    <tr>\n",
              "      <th>75%</th>\n",
              "      <td>10.000000</td>\n",
              "      <td>61.000000</td>\n",
              "      <td>3.000000</td>\n",
              "      <td>38.000000</td>\n",
              "      <td>19.000000</td>\n",
              "      <td>5.000000</td>\n",
              "      <td>90.000000</td>\n",
              "    </tr>\n",
              "    <tr>\n",
              "      <th>max</th>\n",
              "      <td>12.000000</td>\n",
              "      <td>502.000000</td>\n",
              "      <td>4.000000</td>\n",
              "      <td>140.000000</td>\n",
              "      <td>61.000000</td>\n",
              "      <td>46.000000</td>\n",
              "      <td>760.000000</td>\n",
              "    </tr>\n",
              "  </tbody>\n",
              "</table>\n",
              "</div>\n",
              "    <div class=\"colab-df-buttons\">\n",
              "\n",
              "  <div class=\"colab-df-container\">\n",
              "    <button class=\"colab-df-convert\" onclick=\"convertToInteractive('df-c46213d4-1223-4653-8e98-73e100fbf99d')\"\n",
              "            title=\"Convert this dataframe to an interactive table.\"\n",
              "            style=\"display:none;\">\n",
              "\n",
              "  <svg xmlns=\"http://www.w3.org/2000/svg\" height=\"24px\" viewBox=\"0 -960 960 960\">\n",
              "    <path d=\"M120-120v-720h720v720H120Zm60-500h600v-160H180v160Zm220 220h160v-160H400v160Zm0 220h160v-160H400v160ZM180-400h160v-160H180v160Zm440 0h160v-160H620v160ZM180-180h160v-160H180v160Zm440 0h160v-160H620v160Z\"/>\n",
              "  </svg>\n",
              "    </button>\n",
              "\n",
              "  <style>\n",
              "    .colab-df-container {\n",
              "      display:flex;\n",
              "      gap: 12px;\n",
              "    }\n",
              "\n",
              "    .colab-df-convert {\n",
              "      background-color: #E8F0FE;\n",
              "      border: none;\n",
              "      border-radius: 50%;\n",
              "      cursor: pointer;\n",
              "      display: none;\n",
              "      fill: #1967D2;\n",
              "      height: 32px;\n",
              "      padding: 0 0 0 0;\n",
              "      width: 32px;\n",
              "    }\n",
              "\n",
              "    .colab-df-convert:hover {\n",
              "      background-color: #E2EBFA;\n",
              "      box-shadow: 0px 1px 2px rgba(60, 64, 67, 0.3), 0px 1px 3px 1px rgba(60, 64, 67, 0.15);\n",
              "      fill: #174EA6;\n",
              "    }\n",
              "\n",
              "    .colab-df-buttons div {\n",
              "      margin-bottom: 4px;\n",
              "    }\n",
              "\n",
              "    [theme=dark] .colab-df-convert {\n",
              "      background-color: #3B4455;\n",
              "      fill: #D2E3FC;\n",
              "    }\n",
              "\n",
              "    [theme=dark] .colab-df-convert:hover {\n",
              "      background-color: #434B5C;\n",
              "      box-shadow: 0px 1px 3px 1px rgba(0, 0, 0, 0.15);\n",
              "      filter: drop-shadow(0px 1px 2px rgba(0, 0, 0, 0.3));\n",
              "      fill: #FFFFFF;\n",
              "    }\n",
              "  </style>\n",
              "\n",
              "    <script>\n",
              "      const buttonEl =\n",
              "        document.querySelector('#df-c46213d4-1223-4653-8e98-73e100fbf99d button.colab-df-convert');\n",
              "      buttonEl.style.display =\n",
              "        google.colab.kernel.accessAllowed ? 'block' : 'none';\n",
              "\n",
              "      async function convertToInteractive(key) {\n",
              "        const element = document.querySelector('#df-c46213d4-1223-4653-8e98-73e100fbf99d');\n",
              "        const dataTable =\n",
              "          await google.colab.kernel.invokeFunction('convertToInteractive',\n",
              "                                                    [key], {});\n",
              "        if (!dataTable) return;\n",
              "\n",
              "        const docLinkHtml = 'Like what you see? Visit the ' +\n",
              "          '<a target=\"_blank\" href=https://colab.research.google.com/notebooks/data_table.ipynb>data table notebook</a>'\n",
              "          + ' to learn more about interactive tables.';\n",
              "        element.innerHTML = '';\n",
              "        dataTable['output_type'] = 'display_data';\n",
              "        await google.colab.output.renderOutput(dataTable, element);\n",
              "        const docLink = document.createElement('div');\n",
              "        docLink.innerHTML = docLinkHtml;\n",
              "        element.appendChild(docLink);\n",
              "      }\n",
              "    </script>\n",
              "  </div>\n",
              "\n",
              "\n",
              "<div id=\"df-26a85719-342d-46db-887c-5a82dbc81e18\">\n",
              "  <button class=\"colab-df-quickchart\" onclick=\"quickchart('df-26a85719-342d-46db-887c-5a82dbc81e18')\"\n",
              "            title=\"Suggest charts\"\n",
              "            style=\"display:none;\">\n",
              "\n",
              "<svg xmlns=\"http://www.w3.org/2000/svg\" height=\"24px\"viewBox=\"0 0 24 24\"\n",
              "     width=\"24px\">\n",
              "    <g>\n",
              "        <path d=\"M19 3H5c-1.1 0-2 .9-2 2v14c0 1.1.9 2 2 2h14c1.1 0 2-.9 2-2V5c0-1.1-.9-2-2-2zM9 17H7v-7h2v7zm4 0h-2V7h2v10zm4 0h-2v-4h2v4z\"/>\n",
              "    </g>\n",
              "</svg>\n",
              "  </button>\n",
              "\n",
              "<style>\n",
              "  .colab-df-quickchart {\n",
              "      --bg-color: #E8F0FE;\n",
              "      --fill-color: #1967D2;\n",
              "      --hover-bg-color: #E2EBFA;\n",
              "      --hover-fill-color: #174EA6;\n",
              "      --disabled-fill-color: #AAA;\n",
              "      --disabled-bg-color: #DDD;\n",
              "  }\n",
              "\n",
              "  [theme=dark] .colab-df-quickchart {\n",
              "      --bg-color: #3B4455;\n",
              "      --fill-color: #D2E3FC;\n",
              "      --hover-bg-color: #434B5C;\n",
              "      --hover-fill-color: #FFFFFF;\n",
              "      --disabled-bg-color: #3B4455;\n",
              "      --disabled-fill-color: #666;\n",
              "  }\n",
              "\n",
              "  .colab-df-quickchart {\n",
              "    background-color: var(--bg-color);\n",
              "    border: none;\n",
              "    border-radius: 50%;\n",
              "    cursor: pointer;\n",
              "    display: none;\n",
              "    fill: var(--fill-color);\n",
              "    height: 32px;\n",
              "    padding: 0;\n",
              "    width: 32px;\n",
              "  }\n",
              "\n",
              "  .colab-df-quickchart:hover {\n",
              "    background-color: var(--hover-bg-color);\n",
              "    box-shadow: 0 1px 2px rgba(60, 64, 67, 0.3), 0 1px 3px 1px rgba(60, 64, 67, 0.15);\n",
              "    fill: var(--button-hover-fill-color);\n",
              "  }\n",
              "\n",
              "  .colab-df-quickchart-complete:disabled,\n",
              "  .colab-df-quickchart-complete:disabled:hover {\n",
              "    background-color: var(--disabled-bg-color);\n",
              "    fill: var(--disabled-fill-color);\n",
              "    box-shadow: none;\n",
              "  }\n",
              "\n",
              "  .colab-df-spinner {\n",
              "    border: 2px solid var(--fill-color);\n",
              "    border-color: transparent;\n",
              "    border-bottom-color: var(--fill-color);\n",
              "    animation:\n",
              "      spin 1s steps(1) infinite;\n",
              "  }\n",
              "\n",
              "  @keyframes spin {\n",
              "    0% {\n",
              "      border-color: transparent;\n",
              "      border-bottom-color: var(--fill-color);\n",
              "      border-left-color: var(--fill-color);\n",
              "    }\n",
              "    20% {\n",
              "      border-color: transparent;\n",
              "      border-left-color: var(--fill-color);\n",
              "      border-top-color: var(--fill-color);\n",
              "    }\n",
              "    30% {\n",
              "      border-color: transparent;\n",
              "      border-left-color: var(--fill-color);\n",
              "      border-top-color: var(--fill-color);\n",
              "      border-right-color: var(--fill-color);\n",
              "    }\n",
              "    40% {\n",
              "      border-color: transparent;\n",
              "      border-right-color: var(--fill-color);\n",
              "      border-top-color: var(--fill-color);\n",
              "    }\n",
              "    60% {\n",
              "      border-color: transparent;\n",
              "      border-right-color: var(--fill-color);\n",
              "    }\n",
              "    80% {\n",
              "      border-color: transparent;\n",
              "      border-right-color: var(--fill-color);\n",
              "      border-bottom-color: var(--fill-color);\n",
              "    }\n",
              "    90% {\n",
              "      border-color: transparent;\n",
              "      border-bottom-color: var(--fill-color);\n",
              "    }\n",
              "  }\n",
              "</style>\n",
              "\n",
              "  <script>\n",
              "    async function quickchart(key) {\n",
              "      const quickchartButtonEl =\n",
              "        document.querySelector('#' + key + ' button');\n",
              "      quickchartButtonEl.disabled = true;  // To prevent multiple clicks.\n",
              "      quickchartButtonEl.classList.add('colab-df-spinner');\n",
              "      try {\n",
              "        const charts = await google.colab.kernel.invokeFunction(\n",
              "            'suggestCharts', [key], {});\n",
              "      } catch (error) {\n",
              "        console.error('Error during call to suggestCharts:', error);\n",
              "      }\n",
              "      quickchartButtonEl.classList.remove('colab-df-spinner');\n",
              "      quickchartButtonEl.classList.add('colab-df-quickchart-complete');\n",
              "    }\n",
              "    (() => {\n",
              "      let quickchartButtonEl =\n",
              "        document.querySelector('#df-26a85719-342d-46db-887c-5a82dbc81e18 button');\n",
              "      quickchartButtonEl.style.display =\n",
              "        google.colab.kernel.accessAllowed ? 'block' : 'none';\n",
              "    })();\n",
              "  </script>\n",
              "</div>\n",
              "\n",
              "    </div>\n",
              "  </div>\n"
            ],
            "text/plain": [
              "       Month_of_Birth          Age        Grade   Tumor_Size  \\\n",
              "count     4024.000000  4015.000000  4024.000000  4021.000000   \n",
              "mean         6.481362    54.107098     2.150596    30.419299   \n",
              "std          3.475442    11.715528     0.638234    21.161080   \n",
              "min          1.000000   -50.000000     1.000000   -75.000000   \n",
              "25%          3.000000    47.000000     2.000000    16.000000   \n",
              "50%          6.000000    54.000000     2.000000    25.000000   \n",
              "75%         10.000000    61.000000     3.000000    38.000000   \n",
              "max         12.000000   502.000000     4.000000   140.000000   \n",
              "\n",
              "       Regional_Node_Examined  Reginol_Node_Positive  Survival_Months  \n",
              "count             4023.000000            4024.000000      4024.000000  \n",
              "mean                14.373602               4.158052        71.472167  \n",
              "std                  8.129293               5.109331        25.361855  \n",
              "min                  1.000000               1.000000         1.000000  \n",
              "25%                  9.000000               1.000000        56.000000  \n",
              "50%                 14.000000               2.000000        73.000000  \n",
              "75%                 19.000000               5.000000        90.000000  \n",
              "max                 61.000000              46.000000       760.000000  "
            ]
          },
          "execution_count": 11,
          "metadata": {},
          "output_type": "execute_result"
        }
      ],
      "source": [
        "data.describe()"
      ]
    },
    {
      "cell_type": "code",
      "execution_count": null,
      "metadata": {
        "colab": {
          "base_uri": "https://localhost:8080/",
          "height": 174
        },
        "id": "q97LsBCZecdX",
        "outputId": "0d9fd125-99a4-4654-a981-d3db99055e2d"
      },
      "outputs": [
        {
          "data": {
            "application/vnd.google.colaboratory.intrinsic+json": {
              "summary": "{\n  \"name\": \"data\",\n  \"rows\": 4,\n  \"fields\": [\n    {\n      \"column\": \"Patient_ID\",\n      \"properties\": {\n        \"dtype\": \"string\",\n        \"num_unique_values\": 3,\n        \"samples\": [\n          \"4024\",\n          \"A0012\",\n          \"1\"\n        ],\n        \"semantic_type\": \"\",\n        \"description\": \"\"\n      }\n    },\n    {\n      \"column\": \"Sex\",\n      \"properties\": {\n        \"dtype\": \"string\",\n        \"num_unique_values\": 4,\n        \"samples\": [\n          2,\n          \"4001\",\n          \"4020\"\n        ],\n        \"semantic_type\": \"\",\n        \"description\": \"\"\n      }\n    },\n    {\n      \"column\": \"Occupation\",\n      \"properties\": {\n        \"dtype\": \"string\",\n        \"num_unique_values\": 4,\n        \"samples\": [\n          40,\n          \"2\",\n          \"43\"\n        ],\n        \"semantic_type\": \"\",\n        \"description\": \"\"\n      }\n    },\n    {\n      \"column\": \"T_Stage\",\n      \"properties\": {\n        \"dtype\": \"string\",\n        \"num_unique_values\": 4,\n        \"samples\": [\n          4,\n          \"1786\",\n          \"4024\"\n        ],\n        \"semantic_type\": \"\",\n        \"description\": \"\"\n      }\n    },\n    {\n      \"column\": \"N_Stage\",\n      \"properties\": {\n        \"dtype\": \"string\",\n        \"num_unique_values\": 4,\n        \"samples\": [\n          3,\n          \"2732\",\n          \"4024\"\n        ],\n        \"semantic_type\": \"\",\n        \"description\": \"\"\n      }\n    },\n    {\n      \"column\": \"6th_Stage\",\n      \"properties\": {\n        \"dtype\": \"string\",\n        \"num_unique_values\": 4,\n        \"samples\": [\n          5,\n          \"1305\",\n          \"4024\"\n        ],\n        \"semantic_type\": \"\",\n        \"description\": \"\"\n      }\n    },\n    {\n      \"column\": \"Differentiated\",\n      \"properties\": {\n        \"dtype\": \"string\",\n        \"num_unique_values\": 4,\n        \"samples\": [\n          4,\n          \"2351\",\n          \"4024\"\n        ],\n        \"semantic_type\": \"\",\n        \"description\": \"\"\n      }\n    },\n    {\n      \"column\": \"A_Stage\",\n      \"properties\": {\n        \"dtype\": \"string\",\n        \"num_unique_values\": 4,\n        \"samples\": [\n          2,\n          \"3932\",\n          \"4024\"\n        ],\n        \"semantic_type\": \"\",\n        \"description\": \"\"\n      }\n    },\n    {\n      \"column\": \"Estrogen_Status\",\n      \"properties\": {\n        \"dtype\": \"string\",\n        \"num_unique_values\": 4,\n        \"samples\": [\n          2,\n          \"3755\",\n          \"4024\"\n        ],\n        \"semantic_type\": \"\",\n        \"description\": \"\"\n      }\n    },\n    {\n      \"column\": \"Progesterone_Status\",\n      \"properties\": {\n        \"dtype\": \"string\",\n        \"num_unique_values\": 4,\n        \"samples\": [\n          2,\n          \"3326\",\n          \"4024\"\n        ],\n        \"semantic_type\": \"\",\n        \"description\": \"\"\n      }\n    },\n    {\n      \"column\": \"Mortality_Status\",\n      \"properties\": {\n        \"dtype\": \"string\",\n        \"num_unique_values\": 4,\n        \"samples\": [\n          7,\n          \"3399\",\n          \"4024\"\n        ],\n        \"semantic_type\": \"\",\n        \"description\": \"\"\n      }\n    }\n  ]\n}",
              "type": "dataframe"
            },
            "text/html": [
              "\n",
              "  <div id=\"df-3836d076-0891-461d-bcb2-7cc8de245db3\" class=\"colab-df-container\">\n",
              "    <div>\n",
              "<style scoped>\n",
              "    .dataframe tbody tr th:only-of-type {\n",
              "        vertical-align: middle;\n",
              "    }\n",
              "\n",
              "    .dataframe tbody tr th {\n",
              "        vertical-align: top;\n",
              "    }\n",
              "\n",
              "    .dataframe thead th {\n",
              "        text-align: right;\n",
              "    }\n",
              "</style>\n",
              "<table border=\"1\" class=\"dataframe\">\n",
              "  <thead>\n",
              "    <tr style=\"text-align: right;\">\n",
              "      <th></th>\n",
              "      <th>Patient_ID</th>\n",
              "      <th>Sex</th>\n",
              "      <th>Occupation</th>\n",
              "      <th>T_Stage</th>\n",
              "      <th>N_Stage</th>\n",
              "      <th>6th_Stage</th>\n",
              "      <th>Differentiated</th>\n",
              "      <th>A_Stage</th>\n",
              "      <th>Estrogen_Status</th>\n",
              "      <th>Progesterone_Status</th>\n",
              "      <th>Mortality_Status</th>\n",
              "    </tr>\n",
              "  </thead>\n",
              "  <tbody>\n",
              "    <tr>\n",
              "      <th>count</th>\n",
              "      <td>4024</td>\n",
              "      <td>4020</td>\n",
              "      <td>43</td>\n",
              "      <td>4024</td>\n",
              "      <td>4024</td>\n",
              "      <td>4024</td>\n",
              "      <td>4024</td>\n",
              "      <td>4024</td>\n",
              "      <td>4024</td>\n",
              "      <td>4024</td>\n",
              "      <td>4024</td>\n",
              "    </tr>\n",
              "    <tr>\n",
              "      <th>unique</th>\n",
              "      <td>4024</td>\n",
              "      <td>2</td>\n",
              "      <td>40</td>\n",
              "      <td>4</td>\n",
              "      <td>3</td>\n",
              "      <td>5</td>\n",
              "      <td>4</td>\n",
              "      <td>2</td>\n",
              "      <td>2</td>\n",
              "      <td>2</td>\n",
              "      <td>7</td>\n",
              "    </tr>\n",
              "    <tr>\n",
              "      <th>top</th>\n",
              "      <td>A0012</td>\n",
              "      <td>Female</td>\n",
              "      <td>House Person</td>\n",
              "      <td>T2</td>\n",
              "      <td>N1</td>\n",
              "      <td>IIA</td>\n",
              "      <td>Moderately differentiated</td>\n",
              "      <td>Regional</td>\n",
              "      <td>Positive</td>\n",
              "      <td>Positive</td>\n",
              "      <td>Alive</td>\n",
              "    </tr>\n",
              "    <tr>\n",
              "      <th>freq</th>\n",
              "      <td>1</td>\n",
              "      <td>4001</td>\n",
              "      <td>2</td>\n",
              "      <td>1786</td>\n",
              "      <td>2732</td>\n",
              "      <td>1305</td>\n",
              "      <td>2351</td>\n",
              "      <td>3932</td>\n",
              "      <td>3755</td>\n",
              "      <td>3326</td>\n",
              "      <td>3399</td>\n",
              "    </tr>\n",
              "  </tbody>\n",
              "</table>\n",
              "</div>\n",
              "    <div class=\"colab-df-buttons\">\n",
              "\n",
              "  <div class=\"colab-df-container\">\n",
              "    <button class=\"colab-df-convert\" onclick=\"convertToInteractive('df-3836d076-0891-461d-bcb2-7cc8de245db3')\"\n",
              "            title=\"Convert this dataframe to an interactive table.\"\n",
              "            style=\"display:none;\">\n",
              "\n",
              "  <svg xmlns=\"http://www.w3.org/2000/svg\" height=\"24px\" viewBox=\"0 -960 960 960\">\n",
              "    <path d=\"M120-120v-720h720v720H120Zm60-500h600v-160H180v160Zm220 220h160v-160H400v160Zm0 220h160v-160H400v160ZM180-400h160v-160H180v160Zm440 0h160v-160H620v160ZM180-180h160v-160H180v160Zm440 0h160v-160H620v160Z\"/>\n",
              "  </svg>\n",
              "    </button>\n",
              "\n",
              "  <style>\n",
              "    .colab-df-container {\n",
              "      display:flex;\n",
              "      gap: 12px;\n",
              "    }\n",
              "\n",
              "    .colab-df-convert {\n",
              "      background-color: #E8F0FE;\n",
              "      border: none;\n",
              "      border-radius: 50%;\n",
              "      cursor: pointer;\n",
              "      display: none;\n",
              "      fill: #1967D2;\n",
              "      height: 32px;\n",
              "      padding: 0 0 0 0;\n",
              "      width: 32px;\n",
              "    }\n",
              "\n",
              "    .colab-df-convert:hover {\n",
              "      background-color: #E2EBFA;\n",
              "      box-shadow: 0px 1px 2px rgba(60, 64, 67, 0.3), 0px 1px 3px 1px rgba(60, 64, 67, 0.15);\n",
              "      fill: #174EA6;\n",
              "    }\n",
              "\n",
              "    .colab-df-buttons div {\n",
              "      margin-bottom: 4px;\n",
              "    }\n",
              "\n",
              "    [theme=dark] .colab-df-convert {\n",
              "      background-color: #3B4455;\n",
              "      fill: #D2E3FC;\n",
              "    }\n",
              "\n",
              "    [theme=dark] .colab-df-convert:hover {\n",
              "      background-color: #434B5C;\n",
              "      box-shadow: 0px 1px 3px 1px rgba(0, 0, 0, 0.15);\n",
              "      filter: drop-shadow(0px 1px 2px rgba(0, 0, 0, 0.3));\n",
              "      fill: #FFFFFF;\n",
              "    }\n",
              "  </style>\n",
              "\n",
              "    <script>\n",
              "      const buttonEl =\n",
              "        document.querySelector('#df-3836d076-0891-461d-bcb2-7cc8de245db3 button.colab-df-convert');\n",
              "      buttonEl.style.display =\n",
              "        google.colab.kernel.accessAllowed ? 'block' : 'none';\n",
              "\n",
              "      async function convertToInteractive(key) {\n",
              "        const element = document.querySelector('#df-3836d076-0891-461d-bcb2-7cc8de245db3');\n",
              "        const dataTable =\n",
              "          await google.colab.kernel.invokeFunction('convertToInteractive',\n",
              "                                                    [key], {});\n",
              "        if (!dataTable) return;\n",
              "\n",
              "        const docLinkHtml = 'Like what you see? Visit the ' +\n",
              "          '<a target=\"_blank\" href=https://colab.research.google.com/notebooks/data_table.ipynb>data table notebook</a>'\n",
              "          + ' to learn more about interactive tables.';\n",
              "        element.innerHTML = '';\n",
              "        dataTable['output_type'] = 'display_data';\n",
              "        await google.colab.output.renderOutput(dataTable, element);\n",
              "        const docLink = document.createElement('div');\n",
              "        docLink.innerHTML = docLinkHtml;\n",
              "        element.appendChild(docLink);\n",
              "      }\n",
              "    </script>\n",
              "  </div>\n",
              "\n",
              "\n",
              "<div id=\"df-fae5f8f9-fb3f-4e6f-bd02-1f6f346b05df\">\n",
              "  <button class=\"colab-df-quickchart\" onclick=\"quickchart('df-fae5f8f9-fb3f-4e6f-bd02-1f6f346b05df')\"\n",
              "            title=\"Suggest charts\"\n",
              "            style=\"display:none;\">\n",
              "\n",
              "<svg xmlns=\"http://www.w3.org/2000/svg\" height=\"24px\"viewBox=\"0 0 24 24\"\n",
              "     width=\"24px\">\n",
              "    <g>\n",
              "        <path d=\"M19 3H5c-1.1 0-2 .9-2 2v14c0 1.1.9 2 2 2h14c1.1 0 2-.9 2-2V5c0-1.1-.9-2-2-2zM9 17H7v-7h2v7zm4 0h-2V7h2v10zm4 0h-2v-4h2v4z\"/>\n",
              "    </g>\n",
              "</svg>\n",
              "  </button>\n",
              "\n",
              "<style>\n",
              "  .colab-df-quickchart {\n",
              "      --bg-color: #E8F0FE;\n",
              "      --fill-color: #1967D2;\n",
              "      --hover-bg-color: #E2EBFA;\n",
              "      --hover-fill-color: #174EA6;\n",
              "      --disabled-fill-color: #AAA;\n",
              "      --disabled-bg-color: #DDD;\n",
              "  }\n",
              "\n",
              "  [theme=dark] .colab-df-quickchart {\n",
              "      --bg-color: #3B4455;\n",
              "      --fill-color: #D2E3FC;\n",
              "      --hover-bg-color: #434B5C;\n",
              "      --hover-fill-color: #FFFFFF;\n",
              "      --disabled-bg-color: #3B4455;\n",
              "      --disabled-fill-color: #666;\n",
              "  }\n",
              "\n",
              "  .colab-df-quickchart {\n",
              "    background-color: var(--bg-color);\n",
              "    border: none;\n",
              "    border-radius: 50%;\n",
              "    cursor: pointer;\n",
              "    display: none;\n",
              "    fill: var(--fill-color);\n",
              "    height: 32px;\n",
              "    padding: 0;\n",
              "    width: 32px;\n",
              "  }\n",
              "\n",
              "  .colab-df-quickchart:hover {\n",
              "    background-color: var(--hover-bg-color);\n",
              "    box-shadow: 0 1px 2px rgba(60, 64, 67, 0.3), 0 1px 3px 1px rgba(60, 64, 67, 0.15);\n",
              "    fill: var(--button-hover-fill-color);\n",
              "  }\n",
              "\n",
              "  .colab-df-quickchart-complete:disabled,\n",
              "  .colab-df-quickchart-complete:disabled:hover {\n",
              "    background-color: var(--disabled-bg-color);\n",
              "    fill: var(--disabled-fill-color);\n",
              "    box-shadow: none;\n",
              "  }\n",
              "\n",
              "  .colab-df-spinner {\n",
              "    border: 2px solid var(--fill-color);\n",
              "    border-color: transparent;\n",
              "    border-bottom-color: var(--fill-color);\n",
              "    animation:\n",
              "      spin 1s steps(1) infinite;\n",
              "  }\n",
              "\n",
              "  @keyframes spin {\n",
              "    0% {\n",
              "      border-color: transparent;\n",
              "      border-bottom-color: var(--fill-color);\n",
              "      border-left-color: var(--fill-color);\n",
              "    }\n",
              "    20% {\n",
              "      border-color: transparent;\n",
              "      border-left-color: var(--fill-color);\n",
              "      border-top-color: var(--fill-color);\n",
              "    }\n",
              "    30% {\n",
              "      border-color: transparent;\n",
              "      border-left-color: var(--fill-color);\n",
              "      border-top-color: var(--fill-color);\n",
              "      border-right-color: var(--fill-color);\n",
              "    }\n",
              "    40% {\n",
              "      border-color: transparent;\n",
              "      border-right-color: var(--fill-color);\n",
              "      border-top-color: var(--fill-color);\n",
              "    }\n",
              "    60% {\n",
              "      border-color: transparent;\n",
              "      border-right-color: var(--fill-color);\n",
              "    }\n",
              "    80% {\n",
              "      border-color: transparent;\n",
              "      border-right-color: var(--fill-color);\n",
              "      border-bottom-color: var(--fill-color);\n",
              "    }\n",
              "    90% {\n",
              "      border-color: transparent;\n",
              "      border-bottom-color: var(--fill-color);\n",
              "    }\n",
              "  }\n",
              "</style>\n",
              "\n",
              "  <script>\n",
              "    async function quickchart(key) {\n",
              "      const quickchartButtonEl =\n",
              "        document.querySelector('#' + key + ' button');\n",
              "      quickchartButtonEl.disabled = true;  // To prevent multiple clicks.\n",
              "      quickchartButtonEl.classList.add('colab-df-spinner');\n",
              "      try {\n",
              "        const charts = await google.colab.kernel.invokeFunction(\n",
              "            'suggestCharts', [key], {});\n",
              "      } catch (error) {\n",
              "        console.error('Error during call to suggestCharts:', error);\n",
              "      }\n",
              "      quickchartButtonEl.classList.remove('colab-df-spinner');\n",
              "      quickchartButtonEl.classList.add('colab-df-quickchart-complete');\n",
              "    }\n",
              "    (() => {\n",
              "      let quickchartButtonEl =\n",
              "        document.querySelector('#df-fae5f8f9-fb3f-4e6f-bd02-1f6f346b05df button');\n",
              "      quickchartButtonEl.style.display =\n",
              "        google.colab.kernel.accessAllowed ? 'block' : 'none';\n",
              "    })();\n",
              "  </script>\n",
              "</div>\n",
              "\n",
              "    </div>\n",
              "  </div>\n"
            ],
            "text/plain": [
              "       Patient_ID     Sex    Occupation T_Stage N_Stage 6th_Stage  \\\n",
              "count        4024    4020            43    4024    4024      4024   \n",
              "unique       4024       2            40       4       3         5   \n",
              "top         A0012  Female  House Person      T2      N1       IIA   \n",
              "freq            1    4001             2    1786    2732      1305   \n",
              "\n",
              "                   Differentiated   A_Stage Estrogen_Status  \\\n",
              "count                        4024      4024            4024   \n",
              "unique                          4         2               2   \n",
              "top     Moderately differentiated  Regional        Positive   \n",
              "freq                         2351      3932            3755   \n",
              "\n",
              "       Progesterone_Status Mortality_Status  \n",
              "count                 4024             4024  \n",
              "unique                   2                7  \n",
              "top               Positive            Alive  \n",
              "freq                  3326             3399  "
            ]
          },
          "execution_count": 12,
          "metadata": {},
          "output_type": "execute_result"
        }
      ],
      "source": [
        "data.describe(include='object')"
      ]
    },
    {
      "cell_type": "code",
      "execution_count": null,
      "metadata": {
        "colab": {
          "base_uri": "https://localhost:8080/"
        },
        "id": "9X02CfpIemB3",
        "outputId": "7b410aa9-cc6f-4ea2-d8d5-a2b50da42b45"
      },
      "outputs": [
        {
          "name": "stdout",
          "output_type": "stream",
          "text": [
            "['Female' '1' nan]\n"
          ]
        }
      ],
      "source": [
        "# Check unique values for\n",
        "print(data['Sex'].unique())"
      ]
    },
    {
      "cell_type": "code",
      "execution_count": null,
      "metadata": {
        "colab": {
          "base_uri": "https://localhost:8080/"
        },
        "id": "Oi06K02kfLyq",
        "outputId": "b526a994-405e-421b-ff00-17f42b7c96fb"
      },
      "outputs": [
        {
          "name": "stdout",
          "output_type": "stream",
          "text": [
            "['T1' 'T2' 'T3' 'T4']\n"
          ]
        }
      ],
      "source": [
        "print(data['T_Stage'].unique())"
      ]
    },
    {
      "cell_type": "code",
      "execution_count": null,
      "metadata": {
        "colab": {
          "base_uri": "https://localhost:8080/"
        },
        "id": "Ky6gzB3-ffws",
        "outputId": "c978294e-85f0-43e5-c929-89c88840f5bf"
      },
      "outputs": [
        {
          "name": "stdout",
          "output_type": "stream",
          "text": [
            "['Alive' 'Dead' 'ALIVE' 'DEAD' 'ALive' 'alive' 'dead']\n"
          ]
        }
      ],
      "source": [
        "print(data['Mortality_Status'].unique())"
      ]
    },
    {
      "cell_type": "code",
      "execution_count": null,
      "metadata": {
        "colab": {
          "base_uri": "https://localhost:8080/"
        },
        "id": "jxxEATyIfsYe",
        "outputId": "4f12a0b1-e5ba-4c18-e70c-b992445899c4"
      },
      "outputs": [
        {
          "name": "stdout",
          "output_type": "stream",
          "text": [
            "['Positive' 'Negative']\n"
          ]
        }
      ],
      "source": [
        "print(data['Estrogen_Status'].unique())"
      ]
    },
    {
      "cell_type": "code",
      "execution_count": null,
      "metadata": {
        "colab": {
          "base_uri": "https://localhost:8080/",
          "height": 648
        },
        "id": "OeMEvlepf2BB",
        "outputId": "0fc98ac4-3f02-4a06-d041-5cde3230367a"
      },
      "outputs": [
        {
          "data": {
            "text/html": [
              "<div>\n",
              "<style scoped>\n",
              "    .dataframe tbody tr th:only-of-type {\n",
              "        vertical-align: middle;\n",
              "    }\n",
              "\n",
              "    .dataframe tbody tr th {\n",
              "        vertical-align: top;\n",
              "    }\n",
              "\n",
              "    .dataframe thead th {\n",
              "        text-align: right;\n",
              "    }\n",
              "</style>\n",
              "<table border=\"1\" class=\"dataframe\">\n",
              "  <thead>\n",
              "    <tr style=\"text-align: right;\">\n",
              "      <th></th>\n",
              "      <th>0</th>\n",
              "    </tr>\n",
              "  </thead>\n",
              "  <tbody>\n",
              "    <tr>\n",
              "      <th>Patient_ID</th>\n",
              "      <td>0</td>\n",
              "    </tr>\n",
              "    <tr>\n",
              "      <th>Month_of_Birth</th>\n",
              "      <td>0</td>\n",
              "    </tr>\n",
              "    <tr>\n",
              "      <th>Age</th>\n",
              "      <td>9</td>\n",
              "    </tr>\n",
              "    <tr>\n",
              "      <th>Sex</th>\n",
              "      <td>4</td>\n",
              "    </tr>\n",
              "    <tr>\n",
              "      <th>Occupation</th>\n",
              "      <td>3981</td>\n",
              "    </tr>\n",
              "    <tr>\n",
              "      <th>T_Stage</th>\n",
              "      <td>0</td>\n",
              "    </tr>\n",
              "    <tr>\n",
              "      <th>N_Stage</th>\n",
              "      <td>0</td>\n",
              "    </tr>\n",
              "    <tr>\n",
              "      <th>6th_Stage</th>\n",
              "      <td>0</td>\n",
              "    </tr>\n",
              "    <tr>\n",
              "      <th>Differentiated</th>\n",
              "      <td>0</td>\n",
              "    </tr>\n",
              "    <tr>\n",
              "      <th>Grade</th>\n",
              "      <td>0</td>\n",
              "    </tr>\n",
              "    <tr>\n",
              "      <th>A_Stage</th>\n",
              "      <td>0</td>\n",
              "    </tr>\n",
              "    <tr>\n",
              "      <th>Tumor_Size</th>\n",
              "      <td>3</td>\n",
              "    </tr>\n",
              "    <tr>\n",
              "      <th>Estrogen_Status</th>\n",
              "      <td>0</td>\n",
              "    </tr>\n",
              "    <tr>\n",
              "      <th>Progesterone_Status</th>\n",
              "      <td>0</td>\n",
              "    </tr>\n",
              "    <tr>\n",
              "      <th>Regional_Node_Examined</th>\n",
              "      <td>1</td>\n",
              "    </tr>\n",
              "    <tr>\n",
              "      <th>Reginol_Node_Positive</th>\n",
              "      <td>0</td>\n",
              "    </tr>\n",
              "    <tr>\n",
              "      <th>Survival_Months</th>\n",
              "      <td>0</td>\n",
              "    </tr>\n",
              "    <tr>\n",
              "      <th>Mortality_Status</th>\n",
              "      <td>0</td>\n",
              "    </tr>\n",
              "  </tbody>\n",
              "</table>\n",
              "</div><br><label><b>dtype:</b> int64</label>"
            ],
            "text/plain": [
              "Patient_ID                   0\n",
              "Month_of_Birth               0\n",
              "Age                          9\n",
              "Sex                          4\n",
              "Occupation                3981\n",
              "T_Stage                      0\n",
              "N_Stage                      0\n",
              "6th_Stage                    0\n",
              "Differentiated               0\n",
              "Grade                        0\n",
              "A_Stage                      0\n",
              "Tumor_Size                   3\n",
              "Estrogen_Status              0\n",
              "Progesterone_Status          0\n",
              "Regional_Node_Examined       1\n",
              "Reginol_Node_Positive        0\n",
              "Survival_Months              0\n",
              "Mortality_Status             0\n",
              "dtype: int64"
            ]
          },
          "execution_count": 20,
          "metadata": {},
          "output_type": "execute_result"
        }
      ],
      "source": [
        "data.isnull().sum()"
      ]
    },
    {
      "cell_type": "code",
      "execution_count": null,
      "metadata": {
        "colab": {
          "base_uri": "https://localhost:8080/",
          "height": 648
        },
        "id": "ET03jw-agli3",
        "outputId": "de692535-22f7-4d32-8580-364381fc2ca4"
      },
      "outputs": [
        {
          "data": {
            "text/html": [
              "<div>\n",
              "<style scoped>\n",
              "    .dataframe tbody tr th:only-of-type {\n",
              "        vertical-align: middle;\n",
              "    }\n",
              "\n",
              "    .dataframe tbody tr th {\n",
              "        vertical-align: top;\n",
              "    }\n",
              "\n",
              "    .dataframe thead th {\n",
              "        text-align: right;\n",
              "    }\n",
              "</style>\n",
              "<table border=\"1\" class=\"dataframe\">\n",
              "  <thead>\n",
              "    <tr style=\"text-align: right;\">\n",
              "      <th></th>\n",
              "      <th>0</th>\n",
              "    </tr>\n",
              "  </thead>\n",
              "  <tbody>\n",
              "    <tr>\n",
              "      <th>Patient_ID</th>\n",
              "      <td>0.000000</td>\n",
              "    </tr>\n",
              "    <tr>\n",
              "      <th>Month_of_Birth</th>\n",
              "      <td>0.000000</td>\n",
              "    </tr>\n",
              "    <tr>\n",
              "      <th>Age</th>\n",
              "      <td>0.223658</td>\n",
              "    </tr>\n",
              "    <tr>\n",
              "      <th>Sex</th>\n",
              "      <td>0.099404</td>\n",
              "    </tr>\n",
              "    <tr>\n",
              "      <th>Occupation</th>\n",
              "      <td>98.931412</td>\n",
              "    </tr>\n",
              "    <tr>\n",
              "      <th>T_Stage</th>\n",
              "      <td>0.000000</td>\n",
              "    </tr>\n",
              "    <tr>\n",
              "      <th>N_Stage</th>\n",
              "      <td>0.000000</td>\n",
              "    </tr>\n",
              "    <tr>\n",
              "      <th>6th_Stage</th>\n",
              "      <td>0.000000</td>\n",
              "    </tr>\n",
              "    <tr>\n",
              "      <th>Differentiated</th>\n",
              "      <td>0.000000</td>\n",
              "    </tr>\n",
              "    <tr>\n",
              "      <th>Grade</th>\n",
              "      <td>0.000000</td>\n",
              "    </tr>\n",
              "    <tr>\n",
              "      <th>A_Stage</th>\n",
              "      <td>0.000000</td>\n",
              "    </tr>\n",
              "    <tr>\n",
              "      <th>Tumor_Size</th>\n",
              "      <td>0.074553</td>\n",
              "    </tr>\n",
              "    <tr>\n",
              "      <th>Estrogen_Status</th>\n",
              "      <td>0.000000</td>\n",
              "    </tr>\n",
              "    <tr>\n",
              "      <th>Progesterone_Status</th>\n",
              "      <td>0.000000</td>\n",
              "    </tr>\n",
              "    <tr>\n",
              "      <th>Regional_Node_Examined</th>\n",
              "      <td>0.024851</td>\n",
              "    </tr>\n",
              "    <tr>\n",
              "      <th>Reginol_Node_Positive</th>\n",
              "      <td>0.000000</td>\n",
              "    </tr>\n",
              "    <tr>\n",
              "      <th>Survival_Months</th>\n",
              "      <td>0.000000</td>\n",
              "    </tr>\n",
              "    <tr>\n",
              "      <th>Mortality_Status</th>\n",
              "      <td>0.000000</td>\n",
              "    </tr>\n",
              "  </tbody>\n",
              "</table>\n",
              "</div><br><label><b>dtype:</b> float64</label>"
            ],
            "text/plain": [
              "Patient_ID                 0.000000\n",
              "Month_of_Birth             0.000000\n",
              "Age                        0.223658\n",
              "Sex                        0.099404\n",
              "Occupation                98.931412\n",
              "T_Stage                    0.000000\n",
              "N_Stage                    0.000000\n",
              "6th_Stage                  0.000000\n",
              "Differentiated             0.000000\n",
              "Grade                      0.000000\n",
              "A_Stage                    0.000000\n",
              "Tumor_Size                 0.074553\n",
              "Estrogen_Status            0.000000\n",
              "Progesterone_Status        0.000000\n",
              "Regional_Node_Examined     0.024851\n",
              "Reginol_Node_Positive      0.000000\n",
              "Survival_Months            0.000000\n",
              "Mortality_Status           0.000000\n",
              "dtype: float64"
            ]
          },
          "execution_count": 21,
          "metadata": {},
          "output_type": "execute_result"
        }
      ],
      "source": [
        "data.isna().sum()/len(data)*100"
      ]
    },
    {
      "cell_type": "code",
      "execution_count": null,
      "metadata": {
        "id": "Sr3hS0ouhAFt"
      },
      "outputs": [],
      "source": [
        "data = data.drop(columns=(['Occupation']))"
      ]
    },
    {
      "cell_type": "code",
      "execution_count": null,
      "metadata": {
        "id": "f1WppriOhN2Q"
      },
      "outputs": [],
      "source": [
        "data = data.drop(columns=(['Month_of_Birth']))"
      ]
    },
    {
      "cell_type": "code",
      "execution_count": null,
      "metadata": {
        "id": "EKOMb7moiQ24"
      },
      "outputs": [],
      "source": [
        "import plotly.express as px"
      ]
    },
    {
      "cell_type": "code",
      "execution_count": null,
      "metadata": {
        "colab": {
          "base_uri": "https://localhost:8080/",
          "height": 542
        },
        "id": "CeE1IreQibHZ",
        "outputId": "401dc5fb-976c-4e10-adc6-0be36091c359"
      },
      "outputs": [
        {
          "data": {
            "text/html": [
              "<html>\n",
              "<head><meta charset=\"utf-8\" /></head>\n",
              "<body>\n",
              "    <div>            <script src=\"https://cdnjs.cloudflare.com/ajax/libs/mathjax/2.7.5/MathJax.js?config=TeX-AMS-MML_SVG\"></script><script type=\"text/javascript\">if (window.MathJax && window.MathJax.Hub && window.MathJax.Hub.Config) {window.MathJax.Hub.Config({SVG: {font: \"STIX-Web\"}});}</script>                <script type=\"text/javascript\">window.PlotlyConfig = {MathJaxConfig: 'local'};</script>\n",
              "        <script charset=\"utf-8\" src=\"https://cdn.plot.ly/plotly-2.35.2.min.js\"></script>                <div id=\"c829a3fa-e04e-4aa7-bacb-c0cd8b70248d\" class=\"plotly-graph-div\" style=\"height:525px; width:100%;\"></div>            <script type=\"text/javascript\">                                    window.PLOTLYENV=window.PLOTLYENV || {};                                    if (document.getElementById(\"c829a3fa-e04e-4aa7-bacb-c0cd8b70248d\")) {                    Plotly.newPlot(                        \"c829a3fa-e04e-4aa7-bacb-c0cd8b70248d\",                        [{\"alignmentgroup\":\"True\",\"bingroup\":\"x\",\"hovertemplate\":\"Age=%{x}\\u003cbr\\u003ecount=%{y}\\u003cextra\\u003e\\u003c\\u002fextra\\u003e\",\"legendgroup\":\"\",\"marker\":{\"color\":\"#636efa\",\"pattern\":{\"shape\":\"\"}},\"name\":\"\",\"offsetgroup\":\"\",\"orientation\":\"v\",\"showlegend\":false,\"x\":[68.0,50.0,58.0,58.0,47.0,51.0,51.0,40.0,40.0,69.0,68.0,46.0,65.0,48.0,62.0,61.0,56.0,43.0,48.0,60.0,48.0,57.0,55.0,48.0,62.0,63.0,48.0,46.0,57.0,66.0,47.0,53.0,59.0,60.0,46.0,51.0,54.0,51.0,49.0,51.0,57.0,64.0,62.0,53.0,55.0,66.0,42.0,62.0,null,69.0,37.0,69.0,null,63.0,57.0,55.0,62.0,50.0,50.0,55.0,56.0,51.0,42.0,59.0,67.0,46.0,31.0,40.0,58.0,52.0,null,64.0,31.0,66.0,67.0,56.0,66.0,42.0,51.0,68.0,53.0,67.0,66.0,53.0,51.0,46.0,48.0,52.0,55.0,65.0,53.0,33.0,63.0,45.0,59.0,60.0,50.0,61.0,50.0,68.0,38.0,47.0,39.0,57.0,52.0,60.0,54.0,68.0,38.0,63.0,61.0,37.0,46.0,45.0,54.0,53.0,50.0,69.0,48.0,53.0,67.0,43.0,50.0,59.0,53.0,62.0,39.0,59.0,56.0,45.0,60.0,50.0,58.0,50.0,55.0,37.0,46.0,65.0,61.0,52.0,54.0,36.0,180.0,62.0,54.0,61.0,46.0,38.0,66.0,59.0,38.0,67.0,60.0,61.0,67.0,69.0,47.0,39.0,53.0,55.0,59.0,53.0,59.0,57.0,61.0,68.0,54.0,37.0,48.0,53.0,69.0,63.0,49.0,63.0,60.0,41.0,59.0,43.0,52.0,61.0,60.0,61.0,63.0,48.0,51.0,66.0,68.0,58.0,62.0,46.0,58.0,60.0,62.0,53.0,42.0,63.0,55.0,50.0,52.0,47.0,55.0,60.0,66.0,50.0,64.0,67.0,56.0,60.0,56.0,48.0,44.0,37.0,-50.0,63.0,54.0,63.0,44.0,68.0,64.0,50.0,55.0,66.0,46.0,43.0,43.0,43.0,59.0,55.0,61.0,66.0,55.0,65.0,69.0,59.0,63.0,68.0,48.0,61.0,43.0,44.0,47.0,52.0,69.0,39.0,43.0,64.0,66.0,45.0,37.0,50.0,40.0,52.0,null,32.0,65.0,67.0,57.0,63.0,42.0,57.0,42.0,46.0,47.0,67.0,67.0,65.0,65.0,33.0,64.0,66.0,34.0,55.0,47.0,58.0,38.0,57.0,65.0,52.0,67.0,57.0,61.0,45.0,50.0,50.0,53.0,54.0,58.0,56.0,68.0,41.0,61.0,65.0,69.0,43.0,47.0,67.0,45.0,65.0,53.0,67.0,43.0,47.0,48.0,62.0,68.0,57.0,40.0,56.0,52.0,40.0,51.0,67.0,54.0,56.0,48.0,57.0,47.0,54.0,41.0,65.0,58.0,38.0,38.0,60.0,58.0,63.0,53.0,43.0,60.0,60.0,47.0,48.0,59.0,56.0,53.0,48.0,52.0,61.0,66.0,45.0,52.0,67.0,40.0,50.0,65.0,55.0,47.0,49.0,53.0,53.0,44.0,54.0,51.0,46.0,47.0,68.0,50.0,67.0,47.0,68.0,55.0,47.0,56.0,51.0,41.0,67.0,58.0,67.0,63.0,69.0,59.0,null,65.0,48.0,39.0,55.0,50.0,39.0,49.0,58.0,34.0,49.0,52.0,62.0,55.0,57.0,40.0,52.0,63.0,57.0,40.0,55.0,42.0,52.0,39.0,53.0,47.0,37.0,63.0,null,50.0,56.0,56.0,52.0,38.0,57.0,56.0,null,54.0,69.0,62.0,63.0,46.0,47.0,55.0,40.0,47.0,52.0,65.0,63.0,57.0,45.0,62.0,54.0,65.0,64.0,47.0,63.0,66.0,69.0,48.0,60.0,61.0,61.0,43.0,49.0,63.0,61.0,61.0,69.0,66.0,39.0,52.0,49.0,55.0,62.0,42.0,50.0,52.0,38.0,39.0,57.0,62.0,55.0,47.0,68.0,50.0,42.0,null,42.0,46.0,50.0,62.0,58.0,53.0,46.0,38.0,40.0,60.0,63.0,49.0,57.0,48.0,46.0,61.0,61.0,53.0,53.0,42.0,57.0,56.0,48.0,59.0,57.0,56.0,64.0,50.0,40.0,40.0,52.0,59.0,53.0,54.0,61.0,null,41.0,57.0,40.0,63.0,62.0,62.0,42.0,47.0,53.0,64.0,51.0,56.0,50.0,66.0,56.0,46.0,66.0,57.0,55.0,32.0,58.0,63.0,48.0,64.0,44.0,57.0,61.0,502.0,45.0,52.0,67.0,45.0,63.0,56.0,46.0,53.0,62.0,47.0,39.0,33.0,56.0,55.0,69.0,58.0,42.0,58.0,51.0,64.0,62.0,52.0,43.0,65.0,59.0,62.0,51.0,57.0,46.0,40.0,49.0,46.0,40.0,49.0,61.0,56.0,50.0,55.0,60.0,34.0,51.0,53.0,58.0,61.0,48.0,63.0,56.0,66.0,64.0,49.0,56.0,67.0,42.0,47.0,60.0,43.0,42.0,60.0,52.0,63.0,60.0,61.0,58.0,52.0,64.0,68.0,47.0,51.0,53.0,63.0,50.0,45.0,68.0,46.0,54.0,65.0,51.0,45.0,45.0,57.0,35.0,54.0,68.0,58.0,48.0,59.0,47.0,52.0,46.0,34.0,34.0,36.0,40.0,38.0,61.0,37.0,60.0,38.0,56.0,49.0,65.0,61.0,69.0,53.0,61.0,47.0,62.0,62.0,41.0,41.0,48.0,48.0,54.0,63.0,44.0,51.0,55.0,49.0,64.0,63.0,46.0,46.0,61.0,52.0,62.0,52.0,39.0,36.0,64.0,55.0,65.0,45.0,68.0,57.0,44.0,51.0,50.0,52.0,53.0,49.0,65.0,67.0,63.0,43.0,57.0,63.0,52.0,61.0,58.0,62.0,56.0,48.0,64.0,67.0,57.0,41.0,62.0,51.0,65.0,51.0,46.0,46.0,48.0,43.0,59.0,49.0,56.0,53.0,58.0,51.0,55.0,54.0,34.0,42.0,45.0,46.0,62.0,49.0,38.0,30.0,68.0,59.0,49.0,57.0,49.0,65.0,47.0,40.0,45.0,54.0,55.0,57.0,67.0,51.0,54.0,52.0,63.0,48.0,49.0,46.0,46.0,46.0,65.0,69.0,59.0,48.0,43.0,55.0,59.0,67.0,69.0,54.0,69.0,60.0,45.0,48.0,60.0,49.0,33.0,60.0,68.0,67.0,50.0,46.0,39.0,55.0,59.0,32.0,63.0,53.0,54.0,50.0,45.0,46.0,46.0,67.0,58.0,60.0,55.0,46.0,62.0,59.0,59.0,44.0,69.0,43.0,63.0,43.0,36.0,63.0,60.0,56.0,44.0,69.0,50.0,55.0,65.0,47.0,62.0,60.0,62.0,62.0,63.0,61.0,55.0,66.0,69.0,60.0,61.0,51.0,49.0,58.0,60.0,48.0,63.0,40.0,69.0,67.0,41.0,67.0,45.0,66.0,55.0,48.0,58.0,61.0,59.0,51.0,44.0,59.0,58.0,43.0,52.0,57.0,52.0,56.0,69.0,49.0,64.0,48.0,41.0,51.0,45.0,53.0,47.0,60.0,62.0,50.0,55.0,60.0,65.0,64.0,64.0,67.0,57.0,38.0,52.0,36.0,49.0,89.0,64.0,61.0,68.0,56.0,47.0,31.0,55.0,62.0,48.0,46.0,62.0,61.0,56.0,65.0,38.0,57.0,62.0,57.0,63.0,62.0,49.0,31.0,67.0,39.0,48.0,38.0,47.0,47.0,53.0,46.0,38.0,52.0,46.0,61.0,38.0,50.0,40.0,51.0,61.0,42.0,63.0,64.0,66.0,42.0,51.0,45.0,46.0,55.0,49.0,65.0,58.0,47.0,65.0,67.0,39.0,59.0,38.0,41.0,65.0,52.0,49.0,58.0,55.0,64.0,53.0,39.0,54.0,67.0,65.0,45.0,63.0,56.0,38.0,47.0,46.0,66.0,51.0,63.0,43.0,49.0,69.0,51.0,49.0,44.0,45.0,64.0,60.0,60.0,60.0,53.0,63.0,53.0,53.0,46.0,65.0,30.0,43.0,61.0,67.0,42.0,68.0,58.0,57.0,43.0,39.0,53.0,55.0,66.0,58.0,41.0,50.0,39.0,37.0,46.0,55.0,42.0,53.0,66.0,55.0,48.0,49.0,60.0,61.0,63.0,61.0,47.0,53.0,45.0,62.0,47.0,40.0,63.0,42.0,47.0,51.0,51.0,50.0,46.0,47.0,46.0,56.0,64.0,49.0,66.0,60.0,60.0,53.0,63.0,61.0,45.0,47.0,55.0,35.0,55.0,60.0,31.0,51.0,58.0,50.0,48.0,57.0,69.0,57.0,44.0,60.0,56.0,55.0,68.0,42.0,47.0,59.0,65.0,32.0,49.0,60.0,55.0,64.0,43.0,61.0,42.0,58.0,51.0,68.0,58.0,62.0,66.0,52.0,69.0,64.0,66.0,62.0,55.0,55.0,57.0,54.0,67.0,62.0,66.0,56.0,64.0,67.0,41.0,65.0,51.0,49.0,56.0,44.0,56.0,48.0,54.0,62.0,53.0,45.0,50.0,54.0,32.0,65.0,63.0,67.0,62.0,67.0,42.0,60.0,48.0,60.0,69.0,54.0,56.0,48.0,45.0,59.0,59.0,49.0,64.0,47.0,46.0,63.0,61.0,65.0,64.0,53.0,42.0,49.0,66.0,36.0,46.0,53.0,62.0,55.0,53.0,57.0,58.0,68.0,41.0,69.0,61.0,46.0,60.0,63.0,45.0,60.0,50.0,64.0,51.0,58.0,63.0,61.0,49.0,57.0,51.0,60.0,66.0,50.0,53.0,33.0,45.0,57.0,52.0,52.0,58.0,60.0,59.0,43.0,47.0,52.0,63.0,51.0,63.0,49.0,61.0,64.0,57.0,58.0,55.0,54.0,67.0,57.0,37.0,61.0,46.0,31.0,59.0,50.0,59.0,41.0,64.0,60.0,68.0,46.0,43.0,49.0,56.0,60.0,67.0,67.0,50.0,68.0,66.0,40.0,45.0,61.0,68.0,59.0,65.0,50.0,62.0,59.0,56.0,46.0,41.0,45.0,44.0,47.0,66.0,56.0,49.0,64.0,66.0,45.0,65.0,54.0,48.0,49.0,40.0,64.0,61.0,61.0,55.0,43.0,63.0,48.0,46.0,63.0,43.0,46.0,35.0,68.0,47.0,43.0,57.0,64.0,61.0,44.0,50.0,49.0,67.0,46.0,51.0,58.0,46.0,59.0,53.0,62.0,57.0,51.0,69.0,47.0,57.0,55.0,52.0,45.0,39.0,56.0,45.0,41.0,63.0,68.0,64.0,49.0,68.0,46.0,59.0,40.0,47.0,53.0,59.0,50.0,47.0,46.0,46.0,67.0,51.0,65.0,56.0,68.0,57.0,49.0,48.0,67.0,64.0,53.0,42.0,50.0,56.0,53.0,59.0,67.0,45.0,45.0,49.0,65.0,45.0,56.0,60.0,57.0,54.0,50.0,63.0,41.0,51.0,65.0,59.0,66.0,41.0,66.0,67.0,40.0,39.0,66.0,58.0,45.0,65.0,43.0,57.0,47.0,44.0,46.0,64.0,59.0,51.0,66.0,46.0,52.0,49.0,42.0,63.0,66.0,48.0,66.0,41.0,61.0,55.0,62.0,35.0,59.0,54.0,64.0,64.0,38.0,60.0,55.0,41.0,67.0,53.0,53.0,34.0,39.0,31.0,64.0,40.0,59.0,55.0,46.0,58.0,66.0,56.0,47.0,39.0,46.0,62.0,46.0,60.0,36.0,51.0,60.0,63.0,65.0,59.0,50.0,53.0,46.0,46.0,46.0,47.0,61.0,52.0,57.0,59.0,63.0,48.0,59.0,58.0,47.0,56.0,44.0,44.0,33.0,54.0,45.0,60.0,62.0,53.0,41.0,39.0,44.0,57.0,33.0,68.0,49.0,50.0,60.0,50.0,40.0,46.0,49.0,69.0,54.0,51.0,51.0,68.0,41.0,58.0,62.0,42.0,46.0,54.0,54.0,47.0,66.0,42.0,55.0,60.0,52.0,61.0,48.0,58.0,44.0,43.0,53.0,48.0,63.0,64.0,39.0,59.0,51.0,39.0,56.0,51.0,49.0,68.0,51.0,54.0,64.0,43.0,39.0,69.0,66.0,55.0,69.0,51.0,57.0,63.0,55.0,55.0,59.0,61.0,49.0,60.0,50.0,61.0,47.0,55.0,57.0,53.0,44.0,63.0,62.0,43.0,69.0,46.0,53.0,40.0,63.0,64.0,57.0,43.0,60.0,42.0,40.0,43.0,57.0,68.0,65.0,60.0,67.0,39.0,59.0,52.0,58.0,48.0,61.0,34.0,56.0,59.0,52.0,57.0,67.0,65.0,48.0,64.0,64.0,57.0,47.0,49.0,40.0,57.0,47.0,63.0,43.0,66.0,66.0,44.0,64.0,45.0,68.0,55.0,54.0,66.0,59.0,61.0,58.0,51.0,68.0,41.0,59.0,64.0,63.0,65.0,51.0,66.0,35.0,42.0,49.0,47.0,66.0,49.0,47.0,45.0,55.0,63.0,51.0,59.0,43.0,59.0,55.0,49.0,45.0,41.0,63.0,41.0,59.0,62.0,65.0,47.0,67.0,53.0,46.0,56.0,63.0,67.0,63.0,47.0,63.0,48.0,61.0,39.0,68.0,51.0,69.0,39.0,48.0,30.0,40.0,39.0,44.0,58.0,38.0,47.0,59.0,53.0,41.0,52.0,54.0,51.0,41.0,58.0,49.0,58.0,42.0,68.0,35.0,46.0,53.0,40.0,66.0,62.0,53.0,37.0,53.0,50.0,64.0,66.0,65.0,64.0,49.0,53.0,50.0,61.0,57.0,62.0,52.0,47.0,64.0,34.0,61.0,61.0,58.0,52.0,50.0,66.0,66.0,43.0,41.0,56.0,53.0,53.0,43.0,64.0,51.0,58.0,68.0,66.0,51.0,55.0,62.0,62.0,42.0,55.0,59.0,66.0,57.0,46.0,64.0,65.0,48.0,40.0,54.0,60.0,63.0,61.0,69.0,45.0,45.0,49.0,69.0,42.0,54.0,64.0,49.0,44.0,52.0,47.0,59.0,67.0,63.0,68.0,52.0,61.0,39.0,66.0,53.0,51.0,40.0,56.0,33.0,67.0,55.0,45.0,60.0,47.0,45.0,56.0,41.0,65.0,66.0,52.0,55.0,57.0,49.0,48.0,31.0,59.0,43.0,45.0,61.0,31.0,47.0,32.0,49.0,54.0,51.0,47.0,53.0,40.0,59.0,65.0,47.0,59.0,39.0,54.0,36.0,46.0,41.0,62.0,45.0,41.0,43.0,69.0,56.0,62.0,65.0,32.0,66.0,62.0,32.0,32.0,50.0,53.0,60.0,59.0,46.0,49.0,39.0,50.0,59.0,60.0,63.0,61.0,63.0,49.0,42.0,46.0,51.0,43.0,49.0,45.0,46.0,69.0,50.0,66.0,43.0,56.0,37.0,52.0,53.0,55.0,43.0,52.0,61.0,45.0,42.0,50.0,66.0,62.0,67.0,60.0,57.0,69.0,60.0,48.0,50.0,53.0,63.0,52.0,57.0,55.0,63.0,51.0,46.0,50.0,56.0,57.0,31.0,59.0,53.0,66.0,46.0,67.0,61.0,42.0,36.0,49.0,68.0,55.0,68.0,52.0,63.0,45.0,53.0,46.0,59.0,53.0,53.0,42.0,53.0,51.0,40.0,44.0,60.0,63.0,66.0,57.0,58.0,61.0,46.0,59.0,57.0,55.0,61.0,44.0,55.0,53.0,69.0,55.0,38.0,48.0,67.0,51.0,55.0,47.0,37.0,54.0,61.0,50.0,54.0,47.0,62.0,57.0,59.0,49.0,45.0,69.0,55.0,69.0,45.0,57.0,54.0,49.0,56.0,69.0,60.0,35.0,58.0,69.0,65.0,67.0,51.0,40.0,33.0,56.0,59.0,61.0,46.0,67.0,69.0,52.0,41.0,57.0,54.0,60.0,36.0,52.0,35.0,57.0,68.0,64.0,49.0,57.0,49.0,53.0,52.0,46.0,54.0,60.0,46.0,66.0,55.0,47.0,49.0,44.0,49.0,60.0,46.0,49.0,50.0,49.0,51.0,52.0,46.0,68.0,48.0,48.0,53.0,54.0,50.0,56.0,56.0,54.0,45.0,55.0,64.0,46.0,56.0,58.0,45.0,30.0,67.0,46.0,49.0,63.0,49.0,67.0,60.0,46.0,37.0,65.0,43.0,61.0,64.0,52.0,43.0,67.0,51.0,69.0,67.0,59.0,50.0,65.0,47.0,51.0,46.0,53.0,57.0,53.0,63.0,60.0,47.0,46.0,43.0,46.0,60.0,53.0,62.0,47.0,65.0,59.0,61.0,69.0,55.0,53.0,54.0,49.0,61.0,62.0,40.0,45.0,47.0,59.0,42.0,66.0,34.0,65.0,43.0,50.0,56.0,61.0,55.0,45.0,52.0,42.0,65.0,65.0,39.0,44.0,50.0,67.0,61.0,61.0,60.0,64.0,45.0,60.0,56.0,49.0,51.0,61.0,53.0,59.0,38.0,64.0,53.0,67.0,69.0,63.0,58.0,44.0,67.0,53.0,48.0,58.0,47.0,68.0,69.0,60.0,60.0,50.0,50.0,59.0,63.0,62.0,40.0,48.0,60.0,46.0,50.0,46.0,64.0,64.0,68.0,68.0,65.0,64.0,55.0,65.0,50.0,40.0,35.0,50.0,52.0,39.0,55.0,69.0,55.0,60.0,50.0,62.0,64.0,47.0,41.0,60.0,69.0,38.0,41.0,62.0,54.0,67.0,63.0,50.0,53.0,46.0,46.0,64.0,47.0,68.0,51.0,61.0,55.0,50.0,52.0,47.0,37.0,57.0,47.0,48.0,47.0,45.0,37.0,58.0,43.0,56.0,64.0,40.0,58.0,56.0,42.0,63.0,59.0,62.0,69.0,58.0,64.0,47.0,59.0,48.0,44.0,49.0,46.0,48.0,53.0,63.0,47.0,52.0,62.0,42.0,47.0,43.0,58.0,59.0,35.0,64.0,43.0,56.0,60.0,67.0,57.0,67.0,36.0,40.0,49.0,51.0,63.0,38.0,44.0,56.0,44.0,61.0,38.0,68.0,65.0,55.0,66.0,43.0,57.0,66.0,59.0,57.0,68.0,51.0,68.0,47.0,62.0,50.0,69.0,66.0,67.0,62.0,67.0,66.0,48.0,44.0,50.0,56.0,49.0,46.0,50.0,62.0,40.0,69.0,64.0,36.0,50.0,49.0,65.0,40.0,64.0,50.0,51.0,67.0,51.0,62.0,62.0,55.0,63.0,42.0,56.0,31.0,56.0,59.0,48.0,66.0,51.0,69.0,63.0,48.0,46.0,69.0,60.0,61.0,60.0,58.0,44.0,48.0,45.0,52.0,58.0,48.0,58.0,45.0,66.0,62.0,60.0,54.0,63.0,57.0,63.0,49.0,45.0,67.0,54.0,59.0,51.0,46.0,64.0,68.0,47.0,52.0,69.0,59.0,65.0,56.0,45.0,48.0,43.0,67.0,65.0,57.0,48.0,45.0,64.0,65.0,53.0,63.0,60.0,45.0,51.0,54.0,54.0,49.0,49.0,41.0,51.0,68.0,44.0,68.0,67.0,62.0,45.0,46.0,48.0,61.0,52.0,48.0,61.0,47.0,54.0,55.0,48.0,47.0,62.0,51.0,49.0,46.0,56.0,35.0,66.0,47.0,63.0,41.0,46.0,68.0,49.0,61.0,43.0,50.0,54.0,42.0,68.0,48.0,49.0,46.0,38.0,63.0,65.0,46.0,59.0,61.0,47.0,58.0,55.0,48.0,50.0,59.0,50.0,47.0,58.0,51.0,67.0,44.0,48.0,56.0,48.0,55.0,45.0,51.0,60.0,52.0,62.0,69.0,38.0,57.0,53.0,49.0,58.0,44.0,33.0,46.0,68.0,53.0,49.0,57.0,53.0,67.0,47.0,50.0,60.0,48.0,42.0,56.0,56.0,55.0,46.0,43.0,52.0,64.0,54.0,40.0,58.0,62.0,67.0,66.0,68.0,58.0,54.0,69.0,56.0,61.0,42.0,38.0,57.0,39.0,66.0,59.0,31.0,46.0,53.0,49.0,68.0,45.0,63.0,41.0,61.0,69.0,56.0,45.0,37.0,62.0,69.0,44.0,54.0,53.0,60.0,45.0,42.0,47.0,48.0,49.0,51.0,51.0,55.0,64.0,64.0,58.0,69.0,69.0,61.0,52.0,54.0,64.0,45.0,37.0,56.0,54.0,55.0,56.0,58.0,44.0,51.0,55.0,57.0,50.0,66.0,62.0,62.0,62.0,49.0,49.0,55.0,38.0,63.0,47.0,65.0,63.0,32.0,48.0,60.0,45.0,55.0,42.0,67.0,66.0,44.0,59.0,68.0,44.0,49.0,63.0,63.0,60.0,49.0,46.0,62.0,50.0,48.0,60.0,55.0,66.0,59.0,69.0,57.0,45.0,55.0,36.0,46.0,67.0,59.0,50.0,60.0,63.0,50.0,64.0,55.0,47.0,64.0,64.0,50.0,46.0,61.0,61.0,69.0,69.0,48.0,42.0,45.0,43.0,59.0,62.0,62.0,38.0,69.0,42.0,59.0,66.0,63.0,56.0,37.0,50.0,52.0,54.0,58.0,42.0,59.0,56.0,50.0,42.0,47.0,45.0,41.0,47.0,56.0,51.0,45.0,43.0,54.0,65.0,48.0,49.0,51.0,52.0,54.0,41.0,63.0,54.0,69.0,64.0,69.0,66.0,64.0,46.0,50.0,46.0,60.0,39.0,60.0,48.0,51.0,55.0,62.0,56.0,36.0,65.0,58.0,62.0,52.0,66.0,56.0,54.0,56.0,62.0,54.0,65.0,59.0,51.0,65.0,54.0,57.0,60.0,60.0,48.0,53.0,48.0,68.0,49.0,54.0,49.0,55.0,46.0,41.0,53.0,52.0,55.0,63.0,53.0,66.0,56.0,58.0,50.0,52.0,56.0,53.0,47.0,52.0,55.0,62.0,51.0,63.0,47.0,50.0,60.0,61.0,67.0,59.0,66.0,44.0,44.0,56.0,38.0,49.0,57.0,59.0,49.0,48.0,51.0,54.0,59.0,56.0,52.0,49.0,55.0,60.0,63.0,58.0,39.0,62.0,60.0,45.0,45.0,62.0,65.0,68.0,43.0,36.0,63.0,36.0,47.0,51.0,61.0,66.0,47.0,41.0,48.0,45.0,67.0,58.0,50.0,47.0,59.0,67.0,63.0,62.0,52.0,65.0,35.0,51.0,54.0,44.0,57.0,57.0,36.0,45.0,50.0,43.0,36.0,54.0,65.0,41.0,65.0,59.0,61.0,45.0,69.0,54.0,50.0,53.0,50.0,67.0,43.0,39.0,45.0,46.0,65.0,42.0,68.0,69.0,47.0,48.0,48.0,51.0,68.0,48.0,35.0,49.0,60.0,64.0,55.0,52.0,60.0,68.0,49.0,45.0,46.0,49.0,67.0,62.0,62.0,54.0,50.0,53.0,51.0,57.0,48.0,53.0,54.0,49.0,66.0,65.0,55.0,49.0,47.0,58.0,58.0,47.0,37.0,61.0,58.0,68.0,63.0,57.0,36.0,47.0,59.0,55.0,41.0,44.0,61.0,49.0,65.0,69.0,52.0,64.0,69.0,44.0,49.0,64.0,43.0,55.0,51.0,39.0,37.0,61.0,54.0,59.0,45.0,61.0,50.0,49.0,40.0,48.0,49.0,53.0,44.0,53.0,52.0,53.0,48.0,57.0,44.0,59.0,49.0,53.0,55.0,62.0,38.0,56.0,53.0,40.0,43.0,67.0,43.0,50.0,61.0,62.0,53.0,55.0,58.0,69.0,52.0,62.0,64.0,68.0,48.0,51.0,67.0,58.0,62.0,69.0,57.0,53.0,47.0,58.0,46.0,53.0,49.0,65.0,50.0,39.0,42.0,45.0,47.0,53.0,55.0,63.0,62.0,51.0,57.0,46.0,42.0,63.0,57.0,52.0,56.0,58.0,66.0,36.0,36.0,55.0,44.0,59.0,38.0,40.0,68.0,47.0,57.0,42.0,43.0,52.0,65.0,57.0,47.0,41.0,51.0,60.0,53.0,47.0,52.0,63.0,55.0,69.0,40.0,44.0,40.0,33.0,51.0,41.0,61.0,53.0,61.0,46.0,46.0,42.0,44.0,44.0,52.0,63.0,56.0,53.0,43.0,62.0,49.0,56.0,58.0,62.0,61.0,62.0,54.0,51.0,52.0,38.0,44.0,59.0,52.0,48.0,34.0,67.0,47.0,62.0,49.0,53.0,47.0,54.0,46.0,54.0,48.0,57.0,49.0,48.0,50.0,51.0,42.0,55.0,63.0,62.0,58.0,54.0,62.0,68.0,47.0,52.0,37.0,55.0,65.0,46.0,63.0,62.0,65.0,68.0,58.0,66.0,62.0,68.0,32.0,43.0,62.0,40.0,61.0,46.0,48.0,64.0,60.0,57.0,64.0,54.0,48.0,65.0,35.0,54.0,54.0,69.0,44.0,48.0,69.0,55.0,49.0,65.0,47.0,64.0,52.0,64.0,69.0,48.0,65.0,68.0,49.0,54.0,63.0,57.0,39.0,45.0,54.0,65.0,51.0,64.0,48.0,68.0,49.0,57.0,35.0,66.0,48.0,67.0,53.0,66.0,40.0,59.0,69.0,67.0,60.0,64.0,48.0,63.0,49.0,53.0,50.0,53.0,63.0,44.0,45.0,51.0,54.0,47.0,56.0,54.0,51.0,63.0,59.0,62.0,57.0,50.0,51.0,48.0,48.0,54.0,46.0,69.0,39.0,40.0,56.0,57.0,51.0,49.0,62.0,59.0,53.0,45.0,53.0,65.0,39.0,48.0,53.0,53.0,67.0,62.0,68.0,38.0,64.0,47.0,63.0,61.0,68.0,58.0,41.0,47.0,56.0,56.0,56.0,46.0,53.0,45.0,66.0,61.0,53.0,51.0,68.0,67.0,59.0,64.0,57.0,54.0,41.0,49.0,51.0,42.0,46.0,61.0,44.0,55.0,50.0,62.0,62.0,46.0,56.0,57.0,47.0,42.0,56.0,50.0,43.0,46.0,46.0,60.0,44.0,47.0,46.0,60.0,60.0,61.0,67.0,61.0,43.0,66.0,51.0,56.0,67.0,51.0,50.0,52.0,56.0,61.0,53.0,63.0,59.0,65.0,66.0,57.0,44.0,61.0,41.0,40.0,53.0,51.0,55.0,50.0,60.0,55.0,58.0,41.0,50.0,59.0,60.0,48.0,50.0,67.0,62.0,65.0,54.0,61.0,49.0,54.0,59.0,48.0,42.0,64.0,59.0,53.0,51.0,34.0,49.0,56.0,53.0,59.0,55.0,43.0,69.0,49.0,57.0,48.0,64.0,59.0,64.0,43.0,49.0,41.0,58.0,48.0,40.0,55.0,47.0,63.0,63.0,61.0,46.0,50.0,65.0,52.0,56.0,60.0,46.0,62.0,61.0,52.0,49.0,67.0,50.0,54.0,69.0,42.0,61.0,47.0,40.0,65.0,52.0,48.0,64.0,50.0,69.0,46.0,61.0,66.0,65.0,41.0,50.0,68.0,49.0,43.0,50.0,58.0,60.0,43.0,43.0,53.0,42.0,55.0,43.0,40.0,69.0,49.0,59.0,60.0,63.0,50.0,59.0,56.0,66.0,61.0,54.0,51.0,63.0,40.0,48.0,49.0,61.0,60.0,49.0,52.0,59.0,57.0,65.0,58.0,55.0,63.0,59.0,57.0,61.0,56.0,68.0,62.0,63.0,61.0,65.0,63.0,64.0,68.0,53.0,67.0,40.0,49.0,49.0,53.0,66.0,52.0,43.0,60.0,40.0,46.0,62.0,50.0,66.0,67.0,52.0,55.0,68.0,63.0,59.0,44.0,63.0,65.0,55.0,61.0,59.0,66.0,60.0,63.0,49.0,52.0,33.0,69.0,51.0,48.0,47.0,43.0,54.0,46.0,68.0,62.0,69.0,59.0,48.0,61.0,46.0,51.0,58.0,49.0,43.0,54.0,46.0,47.0,58.0,60.0,38.0,47.0,58.0,45.0,46.0,42.0,67.0,64.0,67.0,50.0,48.0,57.0,56.0,62.0,55.0,58.0,57.0,65.0,45.0,39.0,56.0,51.0,66.0,58.0,57.0,60.0,48.0,63.0,42.0,40.0,67.0,66.0,42.0,49.0,53.0,51.0,48.0,67.0,50.0,48.0,37.0,55.0,49.0,63.0,55.0,64.0,51.0,47.0,64.0,42.0,50.0,41.0,43.0,56.0,59.0,68.0,54.0,53.0,63.0,58.0,50.0,49.0,57.0,56.0,60.0,63.0,47.0,50.0,54.0,53.0,49.0,46.0,56.0,68.0,43.0,46.0,62.0,66.0,68.0,54.0,30.0,62.0,48.0,65.0,51.0,65.0,67.0,42.0,68.0,32.0,53.0,49.0,50.0,55.0,47.0,67.0,42.0,60.0,62.0,59.0,67.0,44.0,49.0,67.0,67.0,64.0,43.0,69.0,55.0,46.0,47.0,60.0,47.0,58.0,66.0,61.0,33.0,55.0,41.0,50.0,63.0,47.0,57.0,42.0,33.0,57.0,56.0,47.0,63.0,53.0,42.0,50.0,44.0,58.0,65.0,44.0,59.0,57.0,57.0,53.0,44.0,46.0,59.0,62.0,48.0,44.0,62.0,65.0,58.0,47.0,42.0,49.0,57.0,44.0,66.0,53.0,45.0,47.0,49.0,47.0,49.0,57.0,59.0,61.0,58.0,48.0,48.0,50.0,48.0,67.0,51.0,50.0,69.0,63.0,52.0,57.0,46.0,63.0,68.0,62.0,38.0,58.0,48.0,49.0,41.0,62.0,46.0,66.0,47.0,51.0,53.0,65.0,53.0,57.0,53.0,49.0,67.0,51.0,55.0,55.0,59.0,65.0,42.0,50.0,52.0,59.0,55.0,46.0,51.0,47.0,62.0,56.0,63.0,48.0,59.0,67.0,35.0,55.0,59.0,61.0,48.0,66.0,49.0,58.0,58.0,55.0,57.0,60.0,54.0,35.0,69.0,55.0,63.0,52.0,49.0,68.0,48.0,61.0,68.0,43.0,62.0,57.0,65.0,66.0,58.0,49.0,62.0,54.0,47.0,46.0,52.0,51.0,60.0,59.0,64.0,46.0,59.0,56.0,68.0,65.0,53.0,66.0,41.0,53.0,63.0,65.0,50.0,62.0,52.0,65.0,43.0,63.0,64.0,69.0,65.0,43.0,66.0,48.0,57.0,60.0,59.0,59.0,44.0,54.0,55.0,62.0,65.0,55.0,63.0,41.0,58.0,68.0,54.0,43.0,40.0,62.0,49.0,54.0,66.0,47.0,52.0,56.0,50.0,57.0,45.0,69.0,41.0,55.0,59.0,67.0,53.0,61.0,45.0,61.0,69.0,43.0,61.0,51.0,61.0,57.0,58.0,52.0,43.0,63.0,65.0,35.0,51.0,50.0,50.0,51.0,68.0,51.0,38.0,54.0,51.0,69.0,62.0,52.0,59.0,61.0,43.0,61.0,68.0,50.0,60.0,47.0,60.0,60.0,47.0,65.0,64.0,45.0,57.0,47.0,65.0,60.0,59.0,41.0,50.0,64.0,59.0,58.0,46.0,69.0,60.0,69.0,54.0,47.0,46.0,47.0,61.0,55.0,49.0,49.0,51.0,47.0,68.0,58.0,56.0,59.0,51.0,51.0,37.0,67.0,44.0,68.0,57.0,66.0,65.0,52.0,47.0,43.0,53.0,56.0,49.0,46.0,41.0,38.0,54.0,58.0,54.0,44.0,59.0,63.0,57.0,49.0,56.0,41.0,55.0,58.0,64.0,44.0,51.0,67.0,57.0,54.0,55.0,61.0,39.0,57.0,50.0,56.0,42.0,51.0,46.0,42.0,38.0,45.0,56.0,46.0,61.0,46.0,48.0,60.0,66.0,49.0,46.0,39.0,61.0,46.0,52.0,60.0,42.0,47.0,42.0,43.0,63.0,55.0,52.0,40.0,38.0,33.0,59.0,63.0,44.0,58.0,69.0,57.0,50.0,36.0,37.0,63.0,45.0,42.0,40.0,45.0,54.0,55.0,47.0,51.0,63.0,65.0,34.0,47.0,69.0,66.0,41.0,58.0,64.0,53.0,43.0,31.0,43.0,54.0,60.0,59.0,47.0,41.0,69.0,48.0,40.0,68.0,56.0,46.0,59.0,46.0,46.0,57.0,51.0,55.0,53.0,64.0,68.0,51.0,36.0,68.0,47.0,40.0,65.0,64.0,52.0,41.0,66.0,69.0,56.0,54.0,60.0,49.0,60.0,65.0,55.0,54.0,60.0,46.0,62.0,49.0,52.0,46.0,57.0,50.0,68.0,50.0,50.0,48.0,48.0,63.0,67.0,56.0,47.0,55.0,40.0,69.0,41.0,41.0,49.0,69.0,54.0,52.0,54.0,57.0,42.0,37.0,45.0,56.0,54.0,55.0,57.0,51.0,48.0,58.0,57.0,62.0,55.0,60.0,65.0,66.0,60.0,58.0,66.0,66.0,69.0,49.0,67.0,53.0,39.0,56.0,62.0,47.0,37.0,56.0,53.0,53.0,48.0,54.0,41.0,32.0,44.0,46.0,47.0,58.0,63.0,67.0,55.0,51.0,44.0,51.0,63.0,66.0,45.0,63.0,60.0,50.0,67.0,56.0,52.0,53.0,57.0,65.0,66.0,47.0,44.0,62.0,50.0,68.0,47.0,52.0,69.0,61.0,54.0,37.0,58.0,58.0,40.0,66.0,69.0,47.0,44.0,61.0,42.0,34.0,59.0,55.0,59.0,51.0,49.0,68.0,62.0,56.0,64.0,44.0,45.0,35.0,56.0,50.0,45.0,61.0,57.0,50.0,43.0,60.0,69.0,40.0,69.0,62.0,59.0,36.0,54.0,59.0,65.0,39.0,65.0,54.0,59.0,52.0,50.0,62.0,58.0,53.0,57.0,59.0,55.0,49.0,49.0,54.0,53.0,58.0,62.0,67.0,61.0,47.0,48.0,60.0,62.0,50.0,51.0,57.0,64.0,64.0,62.0,49.0,51.0,68.0,51.0,47.0,40.0,66.0,68.0,56.0,46.0,68.0,38.0,44.0,46.0,56.0,39.0,54.0,47.0,64.0,48.0,57.0,53.0,41.0,44.0,54.0,57.0,39.0,64.0,59.0,63.0,65.0,47.0,41.0,61.0,64.0,54.0,48.0,48.0,39.0,50.0,54.0,58.0,56.0,62.0,40.0,54.0,47.0,67.0,48.0,68.0,66.0,63.0,62.0,62.0,57.0,66.0,68.0,55.0,66.0,67.0,55.0,49.0,38.0,52.0,65.0,61.0,51.0,55.0,54.0,61.0,39.0,61.0,51.0,42.0,57.0,51.0,62.0,69.0,35.0,68.0,53.0,31.0,55.0,57.0,66.0,58.0,68.0,41.0,44.0,60.0,53.0,59.0,62.0,51.0,68.0,40.0,65.0,54.0,46.0,64.0,62.0,56.0,68.0,58.0,46.0],\"xaxis\":\"x\",\"yaxis\":\"y\",\"type\":\"histogram\"}],                        {\"template\":{\"data\":{\"histogram2dcontour\":[{\"type\":\"histogram2dcontour\",\"colorbar\":{\"outlinewidth\":0,\"ticks\":\"\"},\"colorscale\":[[0.0,\"#0d0887\"],[0.1111111111111111,\"#46039f\"],[0.2222222222222222,\"#7201a8\"],[0.3333333333333333,\"#9c179e\"],[0.4444444444444444,\"#bd3786\"],[0.5555555555555556,\"#d8576b\"],[0.6666666666666666,\"#ed7953\"],[0.7777777777777778,\"#fb9f3a\"],[0.8888888888888888,\"#fdca26\"],[1.0,\"#f0f921\"]]}],\"choropleth\":[{\"type\":\"choropleth\",\"colorbar\":{\"outlinewidth\":0,\"ticks\":\"\"}}],\"histogram2d\":[{\"type\":\"histogram2d\",\"colorbar\":{\"outlinewidth\":0,\"ticks\":\"\"},\"colorscale\":[[0.0,\"#0d0887\"],[0.1111111111111111,\"#46039f\"],[0.2222222222222222,\"#7201a8\"],[0.3333333333333333,\"#9c179e\"],[0.4444444444444444,\"#bd3786\"],[0.5555555555555556,\"#d8576b\"],[0.6666666666666666,\"#ed7953\"],[0.7777777777777778,\"#fb9f3a\"],[0.8888888888888888,\"#fdca26\"],[1.0,\"#f0f921\"]]}],\"heatmap\":[{\"type\":\"heatmap\",\"colorbar\":{\"outlinewidth\":0,\"ticks\":\"\"},\"colorscale\":[[0.0,\"#0d0887\"],[0.1111111111111111,\"#46039f\"],[0.2222222222222222,\"#7201a8\"],[0.3333333333333333,\"#9c179e\"],[0.4444444444444444,\"#bd3786\"],[0.5555555555555556,\"#d8576b\"],[0.6666666666666666,\"#ed7953\"],[0.7777777777777778,\"#fb9f3a\"],[0.8888888888888888,\"#fdca26\"],[1.0,\"#f0f921\"]]}],\"heatmapgl\":[{\"type\":\"heatmapgl\",\"colorbar\":{\"outlinewidth\":0,\"ticks\":\"\"},\"colorscale\":[[0.0,\"#0d0887\"],[0.1111111111111111,\"#46039f\"],[0.2222222222222222,\"#7201a8\"],[0.3333333333333333,\"#9c179e\"],[0.4444444444444444,\"#bd3786\"],[0.5555555555555556,\"#d8576b\"],[0.6666666666666666,\"#ed7953\"],[0.7777777777777778,\"#fb9f3a\"],[0.8888888888888888,\"#fdca26\"],[1.0,\"#f0f921\"]]}],\"contourcarpet\":[{\"type\":\"contourcarpet\",\"colorbar\":{\"outlinewidth\":0,\"ticks\":\"\"}}],\"contour\":[{\"type\":\"contour\",\"colorbar\":{\"outlinewidth\":0,\"ticks\":\"\"},\"colorscale\":[[0.0,\"#0d0887\"],[0.1111111111111111,\"#46039f\"],[0.2222222222222222,\"#7201a8\"],[0.3333333333333333,\"#9c179e\"],[0.4444444444444444,\"#bd3786\"],[0.5555555555555556,\"#d8576b\"],[0.6666666666666666,\"#ed7953\"],[0.7777777777777778,\"#fb9f3a\"],[0.8888888888888888,\"#fdca26\"],[1.0,\"#f0f921\"]]}],\"surface\":[{\"type\":\"surface\",\"colorbar\":{\"outlinewidth\":0,\"ticks\":\"\"},\"colorscale\":[[0.0,\"#0d0887\"],[0.1111111111111111,\"#46039f\"],[0.2222222222222222,\"#7201a8\"],[0.3333333333333333,\"#9c179e\"],[0.4444444444444444,\"#bd3786\"],[0.5555555555555556,\"#d8576b\"],[0.6666666666666666,\"#ed7953\"],[0.7777777777777778,\"#fb9f3a\"],[0.8888888888888888,\"#fdca26\"],[1.0,\"#f0f921\"]]}],\"mesh3d\":[{\"type\":\"mesh3d\",\"colorbar\":{\"outlinewidth\":0,\"ticks\":\"\"}}],\"scatter\":[{\"fillpattern\":{\"fillmode\":\"overlay\",\"size\":10,\"solidity\":0.2},\"type\":\"scatter\"}],\"parcoords\":[{\"type\":\"parcoords\",\"line\":{\"colorbar\":{\"outlinewidth\":0,\"ticks\":\"\"}}}],\"scatterpolargl\":[{\"type\":\"scatterpolargl\",\"marker\":{\"colorbar\":{\"outlinewidth\":0,\"ticks\":\"\"}}}],\"bar\":[{\"error_x\":{\"color\":\"#2a3f5f\"},\"error_y\":{\"color\":\"#2a3f5f\"},\"marker\":{\"line\":{\"color\":\"#E5ECF6\",\"width\":0.5},\"pattern\":{\"fillmode\":\"overlay\",\"size\":10,\"solidity\":0.2}},\"type\":\"bar\"}],\"scattergeo\":[{\"type\":\"scattergeo\",\"marker\":{\"colorbar\":{\"outlinewidth\":0,\"ticks\":\"\"}}}],\"scatterpolar\":[{\"type\":\"scatterpolar\",\"marker\":{\"colorbar\":{\"outlinewidth\":0,\"ticks\":\"\"}}}],\"histogram\":[{\"marker\":{\"pattern\":{\"fillmode\":\"overlay\",\"size\":10,\"solidity\":0.2}},\"type\":\"histogram\"}],\"scattergl\":[{\"type\":\"scattergl\",\"marker\":{\"colorbar\":{\"outlinewidth\":0,\"ticks\":\"\"}}}],\"scatter3d\":[{\"type\":\"scatter3d\",\"line\":{\"colorbar\":{\"outlinewidth\":0,\"ticks\":\"\"}},\"marker\":{\"colorbar\":{\"outlinewidth\":0,\"ticks\":\"\"}}}],\"scattermapbox\":[{\"type\":\"scattermapbox\",\"marker\":{\"colorbar\":{\"outlinewidth\":0,\"ticks\":\"\"}}}],\"scatterternary\":[{\"type\":\"scatterternary\",\"marker\":{\"colorbar\":{\"outlinewidth\":0,\"ticks\":\"\"}}}],\"scattercarpet\":[{\"type\":\"scattercarpet\",\"marker\":{\"colorbar\":{\"outlinewidth\":0,\"ticks\":\"\"}}}],\"carpet\":[{\"aaxis\":{\"endlinecolor\":\"#2a3f5f\",\"gridcolor\":\"white\",\"linecolor\":\"white\",\"minorgridcolor\":\"white\",\"startlinecolor\":\"#2a3f5f\"},\"baxis\":{\"endlinecolor\":\"#2a3f5f\",\"gridcolor\":\"white\",\"linecolor\":\"white\",\"minorgridcolor\":\"white\",\"startlinecolor\":\"#2a3f5f\"},\"type\":\"carpet\"}],\"table\":[{\"cells\":{\"fill\":{\"color\":\"#EBF0F8\"},\"line\":{\"color\":\"white\"}},\"header\":{\"fill\":{\"color\":\"#C8D4E3\"},\"line\":{\"color\":\"white\"}},\"type\":\"table\"}],\"barpolar\":[{\"marker\":{\"line\":{\"color\":\"#E5ECF6\",\"width\":0.5},\"pattern\":{\"fillmode\":\"overlay\",\"size\":10,\"solidity\":0.2}},\"type\":\"barpolar\"}],\"pie\":[{\"automargin\":true,\"type\":\"pie\"}]},\"layout\":{\"autotypenumbers\":\"strict\",\"colorway\":[\"#636efa\",\"#EF553B\",\"#00cc96\",\"#ab63fa\",\"#FFA15A\",\"#19d3f3\",\"#FF6692\",\"#B6E880\",\"#FF97FF\",\"#FECB52\"],\"font\":{\"color\":\"#2a3f5f\"},\"hovermode\":\"closest\",\"hoverlabel\":{\"align\":\"left\"},\"paper_bgcolor\":\"white\",\"plot_bgcolor\":\"#E5ECF6\",\"polar\":{\"bgcolor\":\"#E5ECF6\",\"angularaxis\":{\"gridcolor\":\"white\",\"linecolor\":\"white\",\"ticks\":\"\"},\"radialaxis\":{\"gridcolor\":\"white\",\"linecolor\":\"white\",\"ticks\":\"\"}},\"ternary\":{\"bgcolor\":\"#E5ECF6\",\"aaxis\":{\"gridcolor\":\"white\",\"linecolor\":\"white\",\"ticks\":\"\"},\"baxis\":{\"gridcolor\":\"white\",\"linecolor\":\"white\",\"ticks\":\"\"},\"caxis\":{\"gridcolor\":\"white\",\"linecolor\":\"white\",\"ticks\":\"\"}},\"coloraxis\":{\"colorbar\":{\"outlinewidth\":0,\"ticks\":\"\"}},\"colorscale\":{\"sequential\":[[0.0,\"#0d0887\"],[0.1111111111111111,\"#46039f\"],[0.2222222222222222,\"#7201a8\"],[0.3333333333333333,\"#9c179e\"],[0.4444444444444444,\"#bd3786\"],[0.5555555555555556,\"#d8576b\"],[0.6666666666666666,\"#ed7953\"],[0.7777777777777778,\"#fb9f3a\"],[0.8888888888888888,\"#fdca26\"],[1.0,\"#f0f921\"]],\"sequentialminus\":[[0.0,\"#0d0887\"],[0.1111111111111111,\"#46039f\"],[0.2222222222222222,\"#7201a8\"],[0.3333333333333333,\"#9c179e\"],[0.4444444444444444,\"#bd3786\"],[0.5555555555555556,\"#d8576b\"],[0.6666666666666666,\"#ed7953\"],[0.7777777777777778,\"#fb9f3a\"],[0.8888888888888888,\"#fdca26\"],[1.0,\"#f0f921\"]],\"diverging\":[[0,\"#8e0152\"],[0.1,\"#c51b7d\"],[0.2,\"#de77ae\"],[0.3,\"#f1b6da\"],[0.4,\"#fde0ef\"],[0.5,\"#f7f7f7\"],[0.6,\"#e6f5d0\"],[0.7,\"#b8e186\"],[0.8,\"#7fbc41\"],[0.9,\"#4d9221\"],[1,\"#276419\"]]},\"xaxis\":{\"gridcolor\":\"white\",\"linecolor\":\"white\",\"ticks\":\"\",\"title\":{\"standoff\":15},\"zerolinecolor\":\"white\",\"automargin\":true,\"zerolinewidth\":2},\"yaxis\":{\"gridcolor\":\"white\",\"linecolor\":\"white\",\"ticks\":\"\",\"title\":{\"standoff\":15},\"zerolinecolor\":\"white\",\"automargin\":true,\"zerolinewidth\":2},\"scene\":{\"xaxis\":{\"backgroundcolor\":\"#E5ECF6\",\"gridcolor\":\"white\",\"linecolor\":\"white\",\"showbackground\":true,\"ticks\":\"\",\"zerolinecolor\":\"white\",\"gridwidth\":2},\"yaxis\":{\"backgroundcolor\":\"#E5ECF6\",\"gridcolor\":\"white\",\"linecolor\":\"white\",\"showbackground\":true,\"ticks\":\"\",\"zerolinecolor\":\"white\",\"gridwidth\":2},\"zaxis\":{\"backgroundcolor\":\"#E5ECF6\",\"gridcolor\":\"white\",\"linecolor\":\"white\",\"showbackground\":true,\"ticks\":\"\",\"zerolinecolor\":\"white\",\"gridwidth\":2}},\"shapedefaults\":{\"line\":{\"color\":\"#2a3f5f\"}},\"annotationdefaults\":{\"arrowcolor\":\"#2a3f5f\",\"arrowhead\":0,\"arrowwidth\":1},\"geo\":{\"bgcolor\":\"white\",\"landcolor\":\"#E5ECF6\",\"subunitcolor\":\"white\",\"showland\":true,\"showlakes\":true,\"lakecolor\":\"white\"},\"title\":{\"x\":0.05},\"mapbox\":{\"style\":\"light\"}}},\"xaxis\":{\"anchor\":\"y\",\"domain\":[0.0,1.0],\"title\":{\"text\":\"Age\"}},\"yaxis\":{\"anchor\":\"x\",\"domain\":[0.0,1.0],\"title\":{\"text\":\"count\"}},\"legend\":{\"tracegroupgap\":0},\"margin\":{\"t\":60},\"barmode\":\"relative\"},                        {\"responsive\": true}                    ).then(function(){\n",
              "                            \n",
              "var gd = document.getElementById('c829a3fa-e04e-4aa7-bacb-c0cd8b70248d');\n",
              "var x = new MutationObserver(function (mutations, observer) {{\n",
              "        var display = window.getComputedStyle(gd).display;\n",
              "        if (!display || display === 'none') {{\n",
              "            console.log([gd, 'removed!']);\n",
              "            Plotly.purge(gd);\n",
              "            observer.disconnect();\n",
              "        }}\n",
              "}});\n",
              "\n",
              "// Listen for the removal of the full notebook cells\n",
              "var notebookContainer = gd.closest('#notebook-container');\n",
              "if (notebookContainer) {{\n",
              "    x.observe(notebookContainer, {childList: true});\n",
              "}}\n",
              "\n",
              "// Listen for the clearing of the current output cell\n",
              "var outputEl = gd.closest('.output');\n",
              "if (outputEl) {{\n",
              "    x.observe(outputEl, {childList: true});\n",
              "}}\n",
              "\n",
              "                        })                };                            </script>        </div>\n",
              "</body>\n",
              "</html>"
            ]
          },
          "metadata": {},
          "output_type": "display_data"
        }
      ],
      "source": [
        "VariableName_fig = px.histogram(data, x='Age')\n",
        "VariableName_fig.show()"
      ]
    },
    {
      "cell_type": "code",
      "execution_count": null,
      "metadata": {
        "colab": {
          "base_uri": "https://localhost:8080/",
          "height": 542
        },
        "id": "ktMUqY96i5Qi",
        "outputId": "afc45741-5b2a-4878-df4e-39afabf5bc1d"
      },
      "outputs": [
        {
          "data": {
            "text/html": [
              "<html>\n",
              "<head><meta charset=\"utf-8\" /></head>\n",
              "<body>\n",
              "    <div>            <script src=\"https://cdnjs.cloudflare.com/ajax/libs/mathjax/2.7.5/MathJax.js?config=TeX-AMS-MML_SVG\"></script><script type=\"text/javascript\">if (window.MathJax && window.MathJax.Hub && window.MathJax.Hub.Config) {window.MathJax.Hub.Config({SVG: {font: \"STIX-Web\"}});}</script>                <script type=\"text/javascript\">window.PlotlyConfig = {MathJaxConfig: 'local'};</script>\n",
              "        <script charset=\"utf-8\" src=\"https://cdn.plot.ly/plotly-2.35.2.min.js\"></script>                <div id=\"41453a1b-dfc1-4653-b1e4-bbae8bfb35d1\" class=\"plotly-graph-div\" style=\"height:525px; width:100%;\"></div>            <script type=\"text/javascript\">                                    window.PLOTLYENV=window.PLOTLYENV || {};                                    if (document.getElementById(\"41453a1b-dfc1-4653-b1e4-bbae8bfb35d1\")) {                    Plotly.newPlot(                        \"41453a1b-dfc1-4653-b1e4-bbae8bfb35d1\",                        [{\"alignmentgroup\":\"True\",\"bingroup\":\"x\",\"hovertemplate\":\"Mortality_Status=%{x}\\u003cbr\\u003ecount=%{y}\\u003cextra\\u003e\\u003c\\u002fextra\\u003e\",\"legendgroup\":\"\",\"marker\":{\"color\":\"#636efa\",\"pattern\":{\"shape\":\"\"}},\"name\":\"\",\"offsetgroup\":\"\",\"orientation\":\"v\",\"showlegend\":false,\"x\":[\"Alive\",\"Alive\",\"Alive\",\"Alive\",\"Alive\",\"Alive\",\"Alive\",\"Dead\",\"Alive\",\"Alive\",\"Dead\",\"Alive\",\"Alive\",\"Alive\",\"Alive\",\"Alive\",\"Alive\",\"Alive\",\"Alive\",\"Alive\",\"Alive\",\"Alive\",\"Alive\",\"Alive\",\"Alive\",\"Alive\",\"Alive\",\"Alive\",\"Alive\",\"Alive\",\"Alive\",\"Alive\",\"Alive\",\"Alive\",\"Alive\",\"Alive\",\"Alive\",\"Alive\",\"Alive\",\"Alive\",\"Dead\",\"Alive\",\"Alive\",\"Alive\",\"Alive\",\"Alive\",\"Dead\",\"Alive\",\"Alive\",\"Alive\",\"Alive\",\"Alive\",\"Alive\",\"Alive\",\"Alive\",\"Alive\",\"Alive\",\"Alive\",\"Alive\",\"Alive\",\"Alive\",\"Alive\",\"Alive\",\"Alive\",\"Dead\",\"Alive\",\"Dead\",\"Alive\",\"Alive\",\"Alive\",\"Alive\",\"Dead\",\"Alive\",\"Alive\",\"Alive\",\"Alive\",\"Alive\",\"Alive\",\"Alive\",\"Alive\",\"Alive\",\"Alive\",\"Alive\",\"Alive\",\"Alive\",\"Alive\",\"Alive\",\"Alive\",\"Alive\",\"Alive\",\"Dead\",\"Alive\",\"Dead\",\"Dead\",\"Alive\",\"Alive\",\"Dead\",\"Alive\",\"Dead\",\"Alive\",\"Dead\",\"Alive\",\"Alive\",\"Dead\",\"Alive\",\"Alive\",\"Dead\",\"Alive\",\"Alive\",\"Alive\",\"Alive\",\"Dead\",\"Alive\",\"Alive\",\"Alive\",\"Alive\",\"Alive\",\"Alive\",\"Alive\",\"Alive\",\"Alive\",\"Alive\",\"Alive\",\"Alive\",\"Alive\",\"Dead\",\"Alive\",\"Alive\",\"Alive\",\"Alive\",\"Alive\",\"Alive\",\"Alive\",\"Alive\",\"Dead\",\"Dead\",\"Alive\",\"Dead\",\"Dead\",\"Alive\",\"Alive\",\"Alive\",\"Alive\",\"Dead\",\"Dead\",\"Alive\",\"Alive\",\"Dead\",\"Alive\",\"Alive\",\"Alive\",\"Alive\",\"Dead\",\"Alive\",\"Alive\",\"Alive\",\"Alive\",\"Alive\",\"Alive\",\"Dead\",\"Alive\",\"Alive\",\"Alive\",\"Alive\",\"Alive\",\"Alive\",\"Alive\",\"Alive\",\"Alive\",\"Alive\",\"Dead\",\"Alive\",\"Alive\",\"Alive\",\"Alive\",\"Alive\",\"Dead\",\"Alive\",\"Alive\",\"Dead\",\"Alive\",\"Dead\",\"Dead\",\"Alive\",\"Alive\",\"Alive\",\"Alive\",\"Alive\",\"Dead\",\"Alive\",\"Alive\",\"Alive\",\"Alive\",\"Alive\",\"Alive\",\"Alive\",\"Alive\",\"Alive\",\"Alive\",\"Alive\",\"Alive\",\"Alive\",\"Dead\",\"Dead\",\"Alive\",\"Alive\",\"Alive\",\"Alive\",\"Alive\",\"Alive\",\"Alive\",\"Dead\",\"Alive\",\"Alive\",\"Alive\",\"Dead\",\"Dead\",\"Alive\",\"Alive\",\"Dead\",\"Dead\",\"Dead\",\"Alive\",\"Alive\",\"Alive\",\"Alive\",\"Alive\",\"Alive\",\"Alive\",\"Alive\",\"Alive\",\"Alive\",\"Alive\",\"Alive\",\"Alive\",\"Alive\",\"Alive\",\"Alive\",\"Dead\",\"Alive\",\"Dead\",\"Alive\",\"Alive\",\"Alive\",\"Alive\",\"Alive\",\"Alive\",\"Dead\",\"Alive\",\"Alive\",\"Alive\",\"Alive\",\"Alive\",\"Alive\",\"Alive\",\"Alive\",\"Alive\",\"Alive\",\"Alive\",\"Alive\",\"Alive\",\"Alive\",\"Alive\",\"Dead\",\"Alive\",\"Alive\",\"Alive\",\"Alive\",\"Dead\",\"Alive\",\"Dead\",\"Alive\",\"Alive\",\"Alive\",\"Alive\",\"Alive\",\"Alive\",\"Dead\",\"Alive\",\"Alive\",\"Alive\",\"Alive\",\"Dead\",\"Alive\",\"Alive\",\"Dead\",\"Alive\",\"Alive\",\"Alive\",\"Dead\",\"Alive\",\"Alive\",\"Dead\",\"Alive\",\"Alive\",\"Alive\",\"Alive\",\"Alive\",\"Alive\",\"Alive\",\"Alive\",\"Alive\",\"Alive\",\"Alive\",\"Alive\",\"Dead\",\"Alive\",\"Alive\",\"Alive\",\"Alive\",\"Alive\",\"Alive\",\"Alive\",\"Dead\",\"Alive\",\"Alive\",\"Alive\",\"Alive\",\"Alive\",\"Alive\",\"Alive\",\"Alive\",\"Alive\",\"Alive\",\"Alive\",\"Alive\",\"Alive\",\"Alive\",\"Alive\",\"Alive\",\"Alive\",\"Dead\",\"Alive\",\"Alive\",\"Alive\",\"Alive\",\"Alive\",\"Alive\",\"Alive\",\"Alive\",\"Alive\",\"Alive\",\"Alive\",\"Alive\",\"Alive\",\"Alive\",\"Alive\",\"Alive\",\"Alive\",\"Alive\",\"Alive\",\"Alive\",\"Alive\",\"Alive\",\"Alive\",\"Alive\",\"Alive\",\"Dead\",\"Alive\",\"Alive\",\"Alive\",\"Alive\",\"Dead\",\"Dead\",\"Alive\",\"Alive\",\"Alive\",\"Alive\",\"Alive\",\"Dead\",\"Alive\",\"Dead\",\"Alive\",\"Alive\",\"Alive\",\"Alive\",\"Alive\",\"Alive\",\"Alive\",\"Dead\",\"Alive\",\"Alive\",\"Alive\",\"Alive\",\"Alive\",\"Alive\",\"Alive\",\"Alive\",\"Alive\",\"Alive\",\"Alive\",\"Alive\",\"Alive\",\"Alive\",\"Dead\",\"Alive\",\"Alive\",\"Alive\",\"Alive\",\"Alive\",\"Alive\",\"Alive\",\"Alive\",\"Alive\",\"Alive\",\"Alive\",\"Alive\",\"Alive\",\"Alive\",\"Alive\",\"Alive\",\"Alive\",\"Alive\",\"Dead\",\"Alive\",\"Alive\",\"Alive\",\"Alive\",\"Alive\",\"Alive\",\"Alive\",\"Alive\",\"Alive\",\"Alive\",\"Alive\",\"Alive\",\"Alive\",\"Alive\",\"Dead\",\"Alive\",\"Alive\",\"Alive\",\"Alive\",\"Alive\",\"Alive\",\"Dead\",\"Alive\",\"Alive\",\"Alive\",\"Alive\",\"Alive\",\"Dead\",\"Alive\",\"Alive\",\"Alive\",\"Dead\",\"Alive\",\"Alive\",\"Alive\",\"Alive\",\"Alive\",\"Alive\",\"Alive\",\"Alive\",\"Alive\",\"Dead\",\"Alive\",\"Dead\",\"Alive\",\"Alive\",\"Alive\",\"Alive\",\"Alive\",\"Alive\",\"Alive\",\"Alive\",\"Alive\",\"Alive\",\"Alive\",\"Alive\",\"Alive\",\"Alive\",\"Alive\",\"Alive\",\"Dead\",\"Alive\",\"Alive\",\"Alive\",\"Alive\",\"Alive\",\"Alive\",\"Alive\",\"Dead\",\"Alive\",\"Dead\",\"Alive\",\"Dead\",\"Alive\",\"Alive\",\"Alive\",\"Alive\",\"Alive\",\"Alive\",\"Dead\",\"Alive\",\"Alive\",\"Alive\",\"Alive\",\"Alive\",\"Alive\",\"Alive\",\"Alive\",\"Alive\",\"Alive\",\"Alive\",\"Alive\",\"Alive\",\"Dead\",\"Alive\",\"Alive\",\"Alive\",\"Dead\",\"Alive\",\"Alive\",\"Alive\",\"Alive\",\"Alive\",\"Alive\",\"Alive\",\"Alive\",\"Dead\",\"Alive\",\"Dead\",\"Dead\",\"Alive\",\"Dead\",\"Alive\",\"Alive\",\"Alive\",\"Alive\",\"Alive\",\"Alive\",\"Alive\",\"Alive\",\"Dead\",\"Alive\",\"Alive\",\"Dead\",\"Alive\",\"Alive\",\"Alive\",\"Alive\",\"Alive\",\"Alive\",\"Alive\",\"Alive\",\"Dead\",\"Alive\",\"Dead\",\"Alive\",\"Dead\",\"Alive\",\"Alive\",\"Alive\",\"Alive\",\"Alive\",\"Dead\",\"Alive\",\"Alive\",\"Alive\",\"ALIVE\",\"ALIVE\",\"ALIVE\",\"ALIVE\",\"ALIVE\",\"Dead\",\"Dead\",\"Alive\",\"Alive\",\"Alive\",\"Alive\",\"Alive\",\"Dead\",\"Alive\",\"Alive\",\"Alive\",\"Alive\",\"Alive\",\"Alive\",\"Alive\",\"Dead\",\"Dead\",\"Alive\",\"Alive\",\"Alive\",\"Alive\",\"Alive\",\"Alive\",\"Dead\",\"Alive\",\"Alive\",\"Alive\",\"Alive\",\"Dead\",\"Alive\",\"Alive\",\"Alive\",\"Alive\",\"Alive\",\"Alive\",\"Alive\",\"Alive\",\"Alive\",\"Alive\",\"Alive\",\"Alive\",\"Alive\",\"Dead\",\"Alive\",\"Alive\",\"Alive\",\"Alive\",\"Alive\",\"Alive\",\"Alive\",\"Alive\",\"Alive\",\"Alive\",\"Alive\",\"Alive\",\"Dead\",\"Alive\",\"Alive\",\"Alive\",\"Alive\",\"Alive\",\"Alive\",\"Alive\",\"Alive\",\"Alive\",\"Alive\",\"Dead\",\"Alive\",\"Dead\",\"Alive\",\"Alive\",\"Alive\",\"Alive\",\"Alive\",\"Alive\",\"Alive\",\"Dead\",\"Alive\",\"Alive\",\"Alive\",\"Alive\",\"Alive\",\"Alive\",\"Alive\",\"DEAD\",\"Alive\",\"Alive\",\"ALive\",\"Alive\",\"Alive\",\"Alive\",\"DEAD\",\"Alive\",\"Alive\",\"Dead\",\"Alive\",\"Alive\",\"Alive\",\"Dead\",\"Alive\",\"Dead\",\"Alive\",\"Alive\",\"Alive\",\"Alive\",\"Alive\",\"Alive\",\"Alive\",\"Alive\",\"Alive\",\"Alive\",\"Alive\",\"Dead\",\"Alive\",\"Dead\",\"Alive\",\"Alive\",\"Alive\",\"DEAD\",\"Alive\",\"Alive\",\"Alive\",\"Alive\",\"Alive\",\"Alive\",\"Alive\",\"Alive\",\"Alive\",\"Alive\",\"Alive\",\"Alive\",\"Dead\",\"Alive\",\"Alive\",\"Alive\",\"Alive\",\"Alive\",\"Alive\",\"Dead\",\"Alive\",\"Alive\",\"Alive\",\"Alive\",\"Dead\",\"Alive\",\"Alive\",\"Alive\",\"Alive\",\"Alive\",\"Alive\",\"Alive\",\"Alive\",\"Alive\",\"Alive\",\"Alive\",\"Alive\",\"Alive\",\"Alive\",\"Alive\",\"DEAD\",\"Alive\",\"Dead\",\"Dead\",\"Dead\",\"Dead\",\"Dead\",\"Alive\",\"Alive\",\"Dead\",\"Alive\",\"Alive\",\"Dead\",\"Alive\",\"Alive\",\"Alive\",\"Alive\",\"Alive\",\"Dead\",\"Alive\",\"Alive\",\"Alive\",\"Alive\",\"Alive\",\"Alive\",\"Alive\",\"Alive\",\"Alive\",\"Dead\",\"Dead\",\"Dead\",\"Alive\",\"Alive\",\"Dead\",\"DEAD\",\"Alive\",\"Alive\",\"Alive\",\"Alive\",\"Alive\",\"Alive\",\"Alive\",\"Alive\",\"Alive\",\"Alive\",\"Alive\",\"Alive\",\"alive\",\"Alive\",\"Alive\",\"alive\",\"Alive\",\"Dead\",\"Alive\",\"Alive\",\"Dead\",\"Alive\",\"Alive\",\"Alive\",\"Dead\",\"Alive\",\"Alive\",\"Alive\",\"Alive\",\"Alive\",\"Alive\",\"Alive\",\"Alive\",\"Alive\",\"Alive\",\"Alive\",\"Alive\",\"Alive\",\"Alive\",\"Alive\",\"Dead\",\"Dead\",\"Dead\",\"Alive\",\"Alive\",\"Alive\",\"Alive\",\"Alive\",\"Alive\",\"Alive\",\"Alive\",\"Alive\",\"Alive\",\"Alive\",\"Alive\",\"Alive\",\"Alive\",\"Alive\",\"Alive\",\"Alive\",\"Alive\",\"alive\",\"Alive\",\"Alive\",\"Alive\",\"Alive\",\"Alive\",\"Alive\",\"Alive\",\"Alive\",\"Alive\",\"Alive\",\"Alive\",\"Dead\",\"Alive\",\"Dead\",\"Alive\",\"Alive\",\"Alive\",\"Dead\",\"Alive\",\"Alive\",\"Alive\",\"Alive\",\"Dead\",\"Alive\",\"Alive\",\"Alive\",\"Alive\",\"Alive\",\"Alive\",\"Dead\",\"Dead\",\"Alive\",\"Dead\",\"Alive\",\"Alive\",\"Alive\",\"Dead\",\"Alive\",\"Alive\",\"Dead\",\"Alive\",\"Alive\",\"Dead\",\"Dead\",\"Alive\",\"Alive\",\"Dead\",\"Alive\",\"Alive\",\"Dead\",\"Alive\",\"Alive\",\"Alive\",\"Alive\",\"Alive\",\"Alive\",\"dead\",\"Alive\",\"Alive\",\"Alive\",\"Alive\",\"Alive\",\"Alive\",\"Alive\",\"Alive\",\"Alive\",\"Dead\",\"Alive\",\"Alive\",\"Alive\",\"Alive\",\"Dead\",\"Alive\",\"Alive\",\"Alive\",\"Dead\",\"dead\",\"Alive\",\"Alive\",\"Alive\",\"Alive\",\"Alive\",\"Alive\",\"Alive\",\"Alive\",\"Alive\",\"Alive\",\"Dead\",\"Dead\",\"Alive\",\"Dead\",\"Alive\",\"Alive\",\"Alive\",\"Alive\",\"Alive\",\"Dead\",\"Alive\",\"Alive\",\"Alive\",\"Alive\",\"Dead\",\"Alive\",\"Alive\",\"Alive\",\"Alive\",\"Alive\",\"Dead\",\"Alive\",\"Alive\",\"Dead\",\"Alive\",\"Alive\",\"Alive\",\"Dead\",\"Alive\",\"Dead\",\"Dead\",\"Alive\",\"Alive\",\"Alive\",\"Alive\",\"Alive\",\"Alive\",\"Alive\",\"Alive\",\"Dead\",\"Alive\",\"Dead\",\"Dead\",\"Alive\",\"Alive\",\"Alive\",\"Alive\",\"Alive\",\"Alive\",\"Alive\",\"Dead\",\"Alive\",\"Dead\",\"Alive\",\"Alive\",\"Alive\",\"Alive\",\"Alive\",\"Alive\",\"Alive\",\"Alive\",\"Dead\",\"Alive\",\"Dead\",\"Alive\",\"Alive\",\"Dead\",\"Dead\",\"Alive\",\"Alive\",\"Alive\",\"Alive\",\"Alive\",\"Alive\",\"Alive\",\"Alive\",\"Alive\",\"Alive\",\"Alive\",\"Alive\",\"Alive\",\"Alive\",\"Alive\",\"Alive\",\"Alive\",\"Alive\",\"Alive\",\"Alive\",\"Alive\",\"Alive\",\"Alive\",\"Alive\",\"Alive\",\"Alive\",\"Alive\",\"Alive\",\"Dead\",\"Alive\",\"Alive\",\"Alive\",\"Alive\",\"Alive\",\"Alive\",\"Alive\",\"Alive\",\"Dead\",\"Alive\",\"Dead\",\"Alive\",\"Alive\",\"Alive\",\"Alive\",\"Alive\",\"Alive\",\"Alive\",\"Dead\",\"Alive\",\"Alive\",\"Alive\",\"Alive\",\"Alive\",\"Dead\",\"Alive\",\"Alive\",\"Alive\",\"Dead\",\"Alive\",\"Alive\",\"Alive\",\"Alive\",\"Alive\",\"Alive\",\"Dead\",\"Alive\",\"Dead\",\"Alive\",\"Alive\",\"Alive\",\"Dead\",\"Alive\",\"Alive\",\"Dead\",\"Alive\",\"Alive\",\"Alive\",\"Dead\",\"Alive\",\"Alive\",\"Alive\",\"Alive\",\"Alive\",\"Alive\",\"Alive\",\"Alive\",\"Dead\",\"Alive\",\"Alive\",\"Alive\",\"Alive\",\"Alive\",\"Alive\",\"Alive\",\"Dead\",\"Alive\",\"Alive\",\"Alive\",\"Alive\",\"Alive\",\"Alive\",\"Alive\",\"Alive\",\"Dead\",\"Alive\",\"Dead\",\"Dead\",\"Alive\",\"Alive\",\"Alive\",\"Alive\",\"Alive\",\"Dead\",\"Alive\",\"Alive\",\"Alive\",\"Dead\",\"Alive\",\"Alive\",\"Alive\",\"Dead\",\"Alive\",\"Alive\",\"Alive\",\"Alive\",\"Alive\",\"Alive\",\"Alive\",\"Alive\",\"Alive\",\"dead\",\"Dead\",\"Alive\",\"Alive\",\"Alive\",\"Alive\",\"Alive\",\"Alive\",\"Alive\",\"Alive\",\"Alive\",\"Alive\",\"Alive\",\"Dead\",\"Dead\",\"Alive\",\"Alive\",\"Alive\",\"Alive\",\"Alive\",\"Dead\",\"Alive\",\"Alive\",\"Alive\",\"Alive\",\"Alive\",\"Alive\",\"Dead\",\"Alive\",\"Alive\",\"Alive\",\"Alive\",\"Dead\",\"Alive\",\"Alive\",\"Alive\",\"Alive\",\"Alive\",\"Alive\",\"Dead\",\"Alive\",\"Alive\",\"Dead\",\"Alive\",\"Alive\",\"Alive\",\"Alive\",\"Alive\",\"Alive\",\"Dead\",\"Dead\",\"Alive\",\"Alive\",\"Dead\",\"Alive\",\"Alive\",\"Alive\",\"Alive\",\"Alive\",\"Alive\",\"Alive\",\"Alive\",\"Alive\",\"Alive\",\"Dead\",\"Alive\",\"Alive\",\"Alive\",\"Alive\",\"Alive\",\"Alive\",\"Alive\",\"Dead\",\"Alive\",\"Alive\",\"Alive\",\"Alive\",\"Alive\",\"Alive\",\"Alive\",\"Alive\",\"Alive\",\"Alive\",\"Alive\",\"Alive\",\"Alive\",\"Alive\",\"Alive\",\"Alive\",\"Alive\",\"Alive\",\"Alive\",\"Alive\",\"Dead\",\"Alive\",\"Dead\",\"Alive\",\"Alive\",\"Alive\",\"Alive\",\"Alive\",\"Alive\",\"Alive\",\"Alive\",\"Dead\",\"Dead\",\"Dead\",\"Dead\",\"Alive\",\"Alive\",\"Alive\",\"Alive\",\"Alive\",\"Alive\",\"Alive\",\"Alive\",\"Alive\",\"Alive\",\"Alive\",\"Alive\",\"Alive\",\"Alive\",\"Dead\",\"Alive\",\"Alive\",\"Alive\",\"Alive\",\"Alive\",\"Alive\",\"Alive\",\"Alive\",\"Alive\",\"Alive\",\"Alive\",\"Alive\",\"Alive\",\"Alive\",\"Alive\",\"Alive\",\"Dead\",\"Dead\",\"Alive\",\"Alive\",\"Alive\",\"Alive\",\"Alive\",\"Alive\",\"Alive\",\"Alive\",\"Alive\",\"Alive\",\"Alive\",\"Alive\",\"Alive\",\"Alive\",\"Alive\",\"Alive\",\"Dead\",\"Alive\",\"Dead\",\"Alive\",\"Dead\",\"Alive\",\"Alive\",\"Alive\",\"Alive\",\"Alive\",\"Alive\",\"Alive\",\"Alive\",\"Alive\",\"Alive\",\"Dead\",\"Alive\",\"Alive\",\"Alive\",\"Dead\",\"Alive\",\"Alive\",\"Alive\",\"Alive\",\"Alive\",\"Alive\",\"Alive\",\"Alive\",\"Alive\",\"Alive\",\"Alive\",\"Alive\",\"Alive\",\"Alive\",\"Alive\",\"Dead\",\"Dead\",\"Alive\",\"Alive\",\"Alive\",\"Alive\",\"Alive\",\"Alive\",\"Alive\",\"Dead\",\"Alive\",\"Alive\",\"Alive\",\"Alive\",\"Alive\",\"Alive\",\"Alive\",\"Alive\",\"Alive\",\"Alive\",\"Alive\",\"Alive\",\"Dead\",\"Alive\",\"Alive\",\"Alive\",\"Alive\",\"Dead\",\"Alive\",\"Alive\",\"Alive\",\"Alive\",\"Alive\",\"Alive\",\"Dead\",\"Alive\",\"Alive\",\"Dead\",\"Alive\",\"Alive\",\"Alive\",\"Dead\",\"Alive\",\"Alive\",\"Alive\",\"Alive\",\"Alive\",\"Alive\",\"Dead\",\"Alive\",\"Alive\",\"Alive\",\"Alive\",\"Alive\",\"Alive\",\"Alive\",\"Alive\",\"Alive\",\"Alive\",\"Alive\",\"Alive\",\"Alive\",\"Alive\",\"Alive\",\"Alive\",\"Alive\",\"Alive\",\"Alive\",\"Alive\",\"Alive\",\"Alive\",\"Dead\",\"Alive\",\"Alive\",\"Alive\",\"Alive\",\"Alive\",\"Dead\",\"Alive\",\"Dead\",\"Dead\",\"Alive\",\"Alive\",\"Dead\",\"Dead\",\"Alive\",\"Dead\",\"Alive\",\"Alive\",\"Alive\",\"Alive\",\"Alive\",\"Alive\",\"Alive\",\"Alive\",\"Alive\",\"Alive\",\"Alive\",\"Alive\",\"Dead\",\"Alive\",\"Alive\",\"Dead\",\"Alive\",\"Alive\",\"Alive\",\"Alive\",\"Alive\",\"Alive\",\"Alive\",\"Alive\",\"Alive\",\"Alive\",\"Dead\",\"Alive\",\"Alive\",\"Alive\",\"Alive\",\"Alive\",\"Alive\",\"Alive\",\"Alive\",\"Dead\",\"Alive\",\"Alive\",\"Alive\",\"Dead\",\"Alive\",\"Alive\",\"Alive\",\"Alive\",\"Alive\",\"Alive\",\"Alive\",\"Dead\",\"Alive\",\"Alive\",\"Alive\",\"Alive\",\"Alive\",\"Alive\",\"Alive\",\"Alive\",\"Alive\",\"Alive\",\"Alive\",\"Alive\",\"Dead\",\"Alive\",\"Alive\",\"Alive\",\"Alive\",\"Alive\",\"Alive\",\"Alive\",\"Alive\",\"Alive\",\"Alive\",\"Alive\",\"Dead\",\"Dead\",\"Dead\",\"Alive\",\"Alive\",\"Alive\",\"Alive\",\"Alive\",\"Alive\",\"Alive\",\"Alive\",\"Alive\",\"Alive\",\"Alive\",\"Alive\",\"Dead\",\"Alive\",\"Alive\",\"Alive\",\"Alive\",\"Alive\",\"Alive\",\"Alive\",\"Alive\",\"Alive\",\"Alive\",\"Dead\",\"Dead\",\"Alive\",\"Alive\",\"Dead\",\"Alive\",\"Alive\",\"Dead\",\"Alive\",\"Alive\",\"Alive\",\"Alive\",\"Alive\",\"Dead\",\"Dead\",\"Alive\",\"Alive\",\"Alive\",\"Alive\",\"Alive\",\"Alive\",\"Alive\",\"Alive\",\"Alive\",\"Alive\",\"Alive\",\"Dead\",\"Alive\",\"Alive\",\"Alive\",\"Alive\",\"Alive\",\"Alive\",\"Alive\",\"Alive\",\"Alive\",\"Alive\",\"Alive\",\"Alive\",\"Alive\",\"Alive\",\"Alive\",\"Alive\",\"Alive\",\"Alive\",\"Alive\",\"Dead\",\"Alive\",\"Alive\",\"Alive\",\"Alive\",\"Alive\",\"Alive\",\"Alive\",\"Alive\",\"Alive\",\"Alive\",\"Alive\",\"Dead\",\"Alive\",\"Alive\",\"Alive\",\"Alive\",\"Alive\",\"Alive\",\"Alive\",\"Alive\",\"Alive\",\"Alive\",\"Alive\",\"Alive\",\"Dead\",\"Alive\",\"Alive\",\"Alive\",\"Alive\",\"Alive\",\"Dead\",\"Alive\",\"Dead\",\"Alive\",\"Alive\",\"Alive\",\"Dead\",\"Dead\",\"Alive\",\"Alive\",\"Alive\",\"Alive\",\"Dead\",\"Alive\",\"Alive\",\"Alive\",\"Alive\",\"Alive\",\"Alive\",\"Alive\",\"Alive\",\"Dead\",\"Dead\",\"Alive\",\"Alive\",\"Alive\",\"Alive\",\"Alive\",\"Dead\",\"Alive\",\"Dead\",\"Alive\",\"Alive\",\"Alive\",\"Dead\",\"Alive\",\"Alive\",\"Alive\",\"Dead\",\"Alive\",\"Alive\",\"Alive\",\"Alive\",\"Alive\",\"Dead\",\"Alive\",\"Alive\",\"Alive\",\"Alive\",\"Alive\",\"Alive\",\"Alive\",\"Alive\",\"Alive\",\"Alive\",\"Alive\",\"Alive\",\"Alive\",\"Alive\",\"Alive\",\"Alive\",\"Alive\",\"Alive\",\"Alive\",\"Alive\",\"Alive\",\"Alive\",\"Alive\",\"Dead\",\"Alive\",\"Alive\",\"Alive\",\"Alive\",\"Dead\",\"Alive\",\"Alive\",\"Alive\",\"Alive\",\"Dead\",\"Alive\",\"Alive\",\"Alive\",\"Alive\",\"Alive\",\"Alive\",\"Alive\",\"Alive\",\"Alive\",\"Alive\",\"Alive\",\"Alive\",\"Alive\",\"Alive\",\"Alive\",\"Alive\",\"Alive\",\"Alive\",\"Alive\",\"Alive\",\"Alive\",\"Alive\",\"Alive\",\"Alive\",\"Alive\",\"Alive\",\"Alive\",\"Alive\",\"Dead\",\"Alive\",\"Dead\",\"Alive\",\"Alive\",\"Alive\",\"Alive\",\"Alive\",\"Alive\",\"Alive\",\"Alive\",\"Alive\",\"Alive\",\"Alive\",\"Alive\",\"Alive\",\"Alive\",\"Alive\",\"Alive\",\"Dead\",\"Alive\",\"Alive\",\"Alive\",\"Alive\",\"Alive\",\"Alive\",\"Alive\",\"Alive\",\"Alive\",\"Alive\",\"Alive\",\"Dead\",\"Alive\",\"Alive\",\"Alive\",\"Dead\",\"Alive\",\"Alive\",\"Alive\",\"Alive\",\"Alive\",\"Alive\",\"Dead\",\"Alive\",\"Dead\",\"Alive\",\"Alive\",\"Alive\",\"Alive\",\"Dead\",\"Alive\",\"Alive\",\"Alive\",\"Alive\",\"Alive\",\"Dead\",\"Alive\",\"Alive\",\"Alive\",\"Alive\",\"Alive\",\"Alive\",\"Dead\",\"Alive\",\"Dead\",\"Alive\",\"Alive\",\"Alive\",\"Alive\",\"Alive\",\"Dead\",\"Alive\",\"Alive\",\"Alive\",\"Alive\",\"Alive\",\"Alive\",\"Alive\",\"Alive\",\"Alive\",\"Alive\",\"Alive\",\"Alive\",\"Alive\",\"Dead\",\"Alive\",\"Alive\",\"Dead\",\"Alive\",\"Alive\",\"Alive\",\"Alive\",\"Alive\",\"Alive\",\"Alive\",\"Alive\",\"Alive\",\"Alive\",\"Alive\",\"Alive\",\"Alive\",\"Alive\",\"Dead\",\"Alive\",\"Alive\",\"Alive\",\"Alive\",\"Alive\",\"Alive\",\"Dead\",\"Dead\",\"Alive\",\"Alive\",\"Alive\",\"Alive\",\"Alive\",\"Dead\",\"Alive\",\"Alive\",\"Alive\",\"Alive\",\"Alive\",\"Alive\",\"Alive\",\"Alive\",\"Alive\",\"Alive\",\"Alive\",\"Alive\",\"Dead\",\"Alive\",\"Alive\",\"Alive\",\"Alive\",\"Dead\",\"Alive\",\"Alive\",\"Alive\",\"Alive\",\"Alive\",\"Alive\",\"Alive\",\"Alive\",\"Alive\",\"Dead\",\"Alive\",\"Alive\",\"Alive\",\"Alive\",\"Alive\",\"Alive\",\"Alive\",\"Alive\",\"Alive\",\"Alive\",\"Dead\",\"Alive\",\"Alive\",\"Alive\",\"Dead\",\"Alive\",\"Dead\",\"Dead\",\"Alive\",\"Alive\",\"Alive\",\"Dead\",\"Dead\",\"Dead\",\"Alive\",\"Alive\",\"Alive\",\"Alive\",\"Alive\",\"Alive\",\"Alive\",\"Alive\",\"Alive\",\"Dead\",\"Alive\",\"Alive\",\"Alive\",\"Alive\",\"Alive\",\"Dead\",\"Alive\",\"Alive\",\"Dead\",\"Alive\",\"Alive\",\"Alive\",\"Alive\",\"Alive\",\"Alive\",\"Dead\",\"Alive\",\"Alive\",\"Alive\",\"Alive\",\"Alive\",\"Alive\",\"Alive\",\"Alive\",\"Alive\",\"Alive\",\"Alive\",\"Alive\",\"Alive\",\"Dead\",\"Alive\",\"Alive\",\"Alive\",\"Alive\",\"Alive\",\"Alive\",\"Alive\",\"Alive\",\"Alive\",\"Alive\",\"Alive\",\"Alive\",\"Dead\",\"Alive\",\"Alive\",\"Alive\",\"Alive\",\"Dead\",\"Alive\",\"Alive\",\"Alive\",\"Alive\",\"Alive\",\"Alive\",\"Alive\",\"Alive\",\"Alive\",\"Alive\",\"Alive\",\"Alive\",\"Alive\",\"Alive\",\"Alive\",\"Alive\",\"Alive\",\"Alive\",\"Alive\",\"Alive\",\"Alive\",\"Alive\",\"Dead\",\"Dead\",\"Alive\",\"Alive\",\"Alive\",\"Alive\",\"Alive\",\"Alive\",\"Alive\",\"Alive\",\"dead\",\"dead\",\"Alive\",\"Alive\",\"Alive\",\"dead\",\"Alive\",\"Alive\",\"Alive\",\"Alive\",\"Alive\",\"dead\",\"Alive\",\"Alive\",\"Alive\",\"Alive\",\"dead\",\"Alive\",\"Alive\",\"Alive\",\"Dead\",\"Alive\",\"Alive\",\"Alive\",\"Dead\",\"Alive\",\"Dead\",\"Alive\",\"Alive\",\"Alive\",\"Alive\",\"Alive\",\"Alive\",\"Alive\",\"Alive\",\"Dead\",\"Alive\",\"Dead\",\"Alive\",\"Alive\",\"Alive\",\"Dead\",\"Dead\",\"Alive\",\"Alive\",\"Alive\",\"Alive\",\"Alive\",\"Alive\",\"Alive\",\"Alive\",\"Dead\",\"Alive\",\"Alive\",\"Alive\",\"Alive\",\"Alive\",\"Alive\",\"Dead\",\"Alive\",\"Dead\",\"Alive\",\"Alive\",\"Alive\",\"Alive\",\"Alive\",\"Alive\",\"Alive\",\"Dead\",\"Alive\",\"Alive\",\"Alive\",\"Alive\",\"Alive\",\"Alive\",\"Alive\",\"Alive\",\"Alive\",\"Alive\",\"Alive\",\"Alive\",\"Alive\",\"Alive\",\"Alive\",\"Alive\",\"Alive\",\"Alive\",\"Alive\",\"Alive\",\"Alive\",\"Alive\",\"Alive\",\"Alive\",\"Alive\",\"Alive\",\"Alive\",\"Alive\",\"Dead\",\"Alive\",\"Dead\",\"Alive\",\"Alive\",\"Dead\",\"Alive\",\"Dead\",\"Alive\",\"Dead\",\"Alive\",\"Alive\",\"Dead\",\"Dead\",\"Alive\",\"Alive\",\"Alive\",\"Alive\",\"Alive\",\"Alive\",\"Alive\",\"Alive\",\"Alive\",\"Alive\",\"Alive\",\"Alive\",\"Dead\",\"Alive\",\"Alive\",\"Alive\",\"Dead\",\"Alive\",\"Alive\",\"Alive\",\"Alive\",\"Alive\",\"Alive\",\"Dead\",\"Alive\",\"Dead\",\"Alive\",\"Alive\",\"Alive\",\"Alive\",\"Alive\",\"Alive\",\"Alive\",\"Alive\",\"Alive\",\"Alive\",\"Alive\",\"Alive\",\"Alive\",\"Alive\",\"Alive\",\"Alive\",\"Alive\",\"Alive\",\"Alive\",\"Alive\",\"Dead\",\"Alive\",\"Alive\",\"Alive\",\"Alive\",\"Dead\",\"Alive\",\"Alive\",\"Alive\",\"Alive\",\"Alive\",\"Dead\",\"Dead\",\"Dead\",\"Alive\",\"Dead\",\"Alive\",\"Alive\",\"Alive\",\"Alive\",\"Alive\",\"Alive\",\"Alive\",\"Dead\",\"Dead\",\"Alive\",\"Alive\",\"Alive\",\"Alive\",\"Alive\",\"Alive\",\"Alive\",\"Alive\",\"Alive\",\"Alive\",\"Dead\",\"Alive\",\"Alive\",\"Alive\",\"Alive\",\"Alive\",\"Alive\",\"Alive\",\"Alive\",\"Alive\",\"Alive\",\"Alive\",\"Alive\",\"Alive\",\"Alive\",\"Alive\",\"Alive\",\"Alive\",\"Alive\",\"Alive\",\"Alive\",\"Dead\",\"Alive\",\"Alive\",\"Alive\",\"Dead\",\"Alive\",\"Alive\",\"Alive\",\"Alive\",\"Alive\",\"Dead\",\"Alive\",\"Alive\",\"Alive\",\"Alive\",\"Alive\",\"Alive\",\"Alive\",\"Alive\",\"Alive\",\"Alive\",\"Alive\",\"Alive\",\"Alive\",\"Alive\",\"Alive\",\"Dead\",\"Alive\",\"Alive\",\"Alive\",\"Alive\",\"Alive\",\"Alive\",\"Dead\",\"Alive\",\"Alive\",\"Alive\",\"Alive\",\"Dead\",\"Alive\",\"Alive\",\"Alive\",\"Alive\",\"Alive\",\"Dead\",\"Alive\",\"Alive\",\"Alive\",\"Alive\",\"Alive\",\"Alive\",\"Alive\",\"Alive\",\"Dead\",\"Alive\",\"Alive\",\"Alive\",\"Alive\",\"Dead\",\"Alive\",\"Alive\",\"Alive\",\"Alive\",\"Alive\",\"Alive\",\"Alive\",\"Alive\",\"Alive\",\"Alive\",\"Alive\",\"Alive\",\"Alive\",\"Dead\",\"Alive\",\"Alive\",\"Alive\",\"Alive\",\"Alive\",\"Alive\",\"Alive\",\"Alive\",\"Alive\",\"Alive\",\"Alive\",\"Alive\",\"Alive\",\"Alive\",\"Alive\",\"Alive\",\"Alive\",\"Alive\",\"Alive\",\"Alive\",\"Alive\",\"Alive\",\"Alive\",\"Alive\",\"Alive\",\"Alive\",\"Dead\",\"Alive\",\"Alive\",\"Alive\",\"Alive\",\"Alive\",\"Dead\",\"Alive\",\"Alive\",\"Alive\",\"Alive\",\"Alive\",\"Alive\",\"Alive\",\"Alive\",\"Alive\",\"Alive\",\"Alive\",\"Alive\",\"Alive\",\"Dead\",\"Alive\",\"Alive\",\"Dead\",\"Alive\",\"Alive\",\"Alive\",\"Alive\",\"Alive\",\"Alive\",\"Alive\",\"Alive\",\"Alive\",\"Alive\",\"Alive\",\"Alive\",\"Alive\",\"Alive\",\"Alive\",\"Alive\",\"Dead\",\"Alive\",\"Alive\",\"Dead\",\"Alive\",\"Alive\",\"Alive\",\"Dead\",\"Alive\",\"Alive\",\"Dead\",\"Alive\",\"Alive\",\"Alive\",\"Alive\",\"Alive\",\"Alive\",\"Alive\",\"Alive\",\"Alive\",\"Alive\",\"Alive\",\"Alive\",\"Alive\",\"Alive\",\"Alive\",\"Dead\",\"Alive\",\"Alive\",\"Alive\",\"Alive\",\"Dead\",\"Alive\",\"Alive\",\"Alive\",\"Alive\",\"Dead\",\"Alive\",\"Dead\",\"Alive\",\"Alive\",\"Alive\",\"Alive\",\"Alive\",\"Dead\",\"Dead\",\"Alive\",\"Alive\",\"Alive\",\"Alive\",\"Alive\",\"Alive\",\"Alive\",\"Alive\",\"Alive\",\"Alive\",\"Dead\",\"Alive\",\"Alive\",\"Alive\",\"Alive\",\"Dead\",\"Dead\",\"Alive\",\"Alive\",\"Alive\",\"Alive\",\"Alive\",\"Alive\",\"Alive\",\"Alive\",\"Alive\",\"Alive\",\"Alive\",\"Alive\",\"Alive\",\"Dead\",\"Alive\",\"Alive\",\"Alive\",\"Dead\",\"Alive\",\"Alive\",\"Dead\",\"Alive\",\"Alive\",\"Alive\",\"Alive\",\"Alive\",\"Alive\",\"Alive\",\"Alive\",\"Dead\",\"Alive\",\"Dead\",\"Alive\",\"Alive\",\"Alive\",\"Alive\",\"Alive\",\"Alive\",\"Alive\",\"Dead\",\"Alive\",\"Alive\",\"Dead\",\"Alive\",\"Alive\",\"Alive\",\"Alive\",\"Alive\",\"Dead\",\"Alive\",\"Alive\",\"Alive\",\"Alive\",\"Alive\",\"Alive\",\"Alive\",\"Alive\",\"Alive\",\"Alive\",\"Alive\",\"Alive\",\"Alive\",\"Alive\",\"Alive\",\"Alive\",\"Dead\",\"Alive\",\"Dead\",\"Alive\",\"Dead\",\"Alive\",\"Alive\",\"Alive\",\"Alive\",\"Alive\",\"Alive\",\"Alive\",\"Alive\",\"Dead\",\"Alive\",\"Alive\",\"Alive\",\"Alive\",\"Alive\",\"Dead\",\"Alive\",\"Alive\",\"Dead\",\"Alive\",\"Alive\",\"Alive\",\"Alive\",\"Alive\",\"Alive\",\"Alive\",\"Alive\",\"Dead\",\"Alive\",\"Alive\",\"Alive\",\"Alive\",\"Alive\",\"Alive\",\"Alive\",\"Dead\",\"Alive\",\"Alive\",\"Alive\",\"Alive\",\"Alive\",\"Alive\",\"Alive\",\"Alive\",\"Dead\",\"Alive\",\"Alive\",\"Alive\",\"Alive\",\"Alive\",\"Alive\",\"Alive\",\"Dead\",\"Alive\",\"Alive\",\"Alive\",\"Alive\",\"Alive\",\"Alive\",\"Alive\",\"Alive\",\"Alive\",\"Alive\",\"Alive\",\"Alive\",\"Alive\",\"Alive\",\"Alive\",\"Alive\",\"Alive\",\"Dead\",\"Alive\",\"Alive\",\"Alive\",\"Alive\",\"Alive\",\"Alive\",\"Alive\",\"Alive\",\"Dead\",\"Alive\",\"Alive\",\"Dead\",\"Alive\",\"Dead\",\"Alive\",\"Alive\",\"Alive\",\"Alive\",\"Alive\",\"Dead\",\"Alive\",\"Dead\",\"Dead\",\"Alive\",\"Dead\",\"Alive\",\"Alive\",\"Alive\",\"Alive\",\"Dead\",\"Alive\",\"Alive\",\"Alive\",\"Alive\",\"Alive\",\"Alive\",\"Dead\",\"Alive\",\"Alive\",\"Alive\",\"Alive\",\"Alive\",\"Alive\",\"Dead\",\"Dead\",\"Alive\",\"Alive\",\"Dead\",\"Alive\",\"Alive\",\"Alive\",\"Alive\",\"Dead\",\"Alive\",\"Alive\",\"Alive\",\"Alive\",\"Alive\",\"Alive\",\"Alive\",\"Alive\",\"Alive\",\"Alive\",\"Alive\",\"Dead\",\"Alive\",\"Alive\",\"Dead\",\"Alive\",\"Alive\",\"Alive\",\"Alive\",\"Alive\",\"Alive\",\"Alive\",\"Alive\",\"Alive\",\"Alive\",\"Alive\",\"Alive\",\"Alive\",\"Alive\",\"Alive\",\"Alive\",\"Alive\",\"Alive\",\"Alive\",\"Alive\",\"Alive\",\"Alive\",\"Dead\",\"Alive\",\"Alive\",\"Dead\",\"Alive\",\"Alive\",\"Alive\",\"Dead\",\"Alive\",\"Alive\",\"Alive\",\"Alive\",\"Alive\",\"Alive\",\"Alive\",\"Alive\",\"Alive\",\"Alive\",\"Alive\",\"Alive\",\"Alive\",\"Alive\",\"Alive\",\"Alive\",\"Alive\",\"Alive\",\"Alive\",\"Alive\",\"Dead\",\"Dead\",\"Alive\",\"Alive\",\"Alive\",\"Dead\",\"Alive\",\"Alive\",\"Dead\",\"Alive\",\"Dead\",\"Alive\",\"Alive\",\"Dead\",\"Alive\",\"Alive\",\"Dead\",\"Alive\",\"Alive\",\"Alive\",\"Alive\",\"Alive\",\"Alive\",\"Alive\",\"Alive\",\"Dead\",\"Alive\",\"Alive\",\"Alive\",\"Alive\",\"Dead\",\"Alive\",\"Alive\",\"Alive\",\"Alive\",\"Alive\",\"Alive\",\"Alive\",\"Dead\",\"Dead\",\"Alive\",\"Alive\",\"Dead\",\"Alive\",\"Dead\",\"Dead\",\"Alive\",\"Dead\",\"Alive\",\"Alive\",\"Dead\",\"Alive\",\"Alive\",\"Alive\",\"Dead\",\"Alive\",\"Alive\",\"Dead\",\"Alive\",\"Alive\",\"Alive\",\"Alive\",\"Dead\",\"Alive\",\"Alive\",\"Alive\",\"Alive\",\"Alive\",\"Dead\",\"Alive\",\"Alive\",\"Alive\",\"Alive\",\"Alive\",\"Alive\",\"Alive\",\"Alive\",\"Alive\",\"Alive\",\"Alive\",\"Alive\",\"Alive\",\"Alive\",\"Dead\",\"Alive\",\"Alive\",\"Alive\",\"Alive\",\"Alive\",\"Alive\",\"Alive\",\"Alive\",\"Alive\",\"Alive\",\"Alive\",\"Dead\",\"Alive\",\"Alive\",\"Alive\",\"Alive\",\"Alive\",\"Dead\",\"Alive\",\"Alive\",\"Alive\",\"Alive\",\"Alive\",\"Alive\",\"Alive\",\"Alive\",\"Alive\",\"Alive\",\"Alive\",\"Dead\",\"Alive\",\"Dead\",\"Alive\",\"Alive\",\"Alive\",\"Alive\",\"Alive\",\"Alive\",\"Alive\",\"Alive\",\"Alive\",\"Alive\",\"Alive\",\"Alive\",\"Alive\",\"Alive\",\"Alive\",\"Alive\",\"Alive\",\"Dead\",\"Alive\",\"Alive\",\"Alive\",\"Alive\",\"Dead\",\"Alive\",\"Dead\",\"Dead\",\"Dead\",\"Alive\",\"Alive\",\"Alive\",\"Alive\",\"Alive\",\"Alive\",\"Alive\",\"Alive\",\"Alive\",\"Alive\",\"Alive\",\"Alive\",\"Alive\",\"Alive\",\"Alive\",\"Alive\",\"Alive\",\"Alive\",\"Alive\",\"Dead\",\"Alive\",\"Alive\",\"Alive\",\"Alive\",\"Alive\",\"Alive\",\"Alive\",\"Alive\",\"Alive\",\"Alive\",\"Alive\",\"Dead\",\"Alive\",\"Alive\",\"Alive\",\"Alive\",\"Alive\",\"Alive\",\"Alive\",\"Alive\",\"Alive\",\"Alive\",\"Alive\",\"Alive\",\"Dead\",\"Dead\",\"Alive\",\"Dead\",\"Alive\",\"Alive\",\"Alive\",\"Alive\",\"Alive\",\"Alive\",\"Alive\",\"Alive\",\"Alive\",\"Alive\",\"Alive\",\"Alive\",\"Alive\",\"Alive\",\"Dead\",\"Alive\",\"Alive\",\"Alive\",\"Dead\",\"Alive\",\"Alive\",\"Alive\",\"Dead\",\"Alive\",\"Alive\",\"Dead\",\"Alive\",\"Alive\",\"Alive\",\"Dead\",\"Alive\",\"Alive\",\"Alive\",\"Alive\",\"Alive\",\"Alive\",\"Alive\",\"Alive\",\"Alive\",\"Dead\",\"Alive\",\"Alive\",\"Alive\",\"Alive\",\"Alive\",\"Alive\",\"Dead\",\"Alive\",\"Alive\",\"Alive\",\"Alive\",\"Alive\",\"Alive\",\"Alive\",\"Alive\",\"Alive\",\"Alive\",\"Alive\",\"Alive\",\"Alive\",\"Alive\",\"Alive\",\"Dead\",\"Dead\",\"Alive\",\"Alive\",\"Alive\",\"Alive\",\"Alive\",\"Dead\",\"Alive\",\"Dead\",\"Alive\",\"Alive\",\"Alive\",\"Dead\",\"Alive\",\"Dead\",\"Alive\",\"Alive\",\"Alive\",\"Alive\",\"Dead\",\"Alive\",\"Alive\",\"Alive\",\"Alive\",\"Alive\",\"Dead\",\"Alive\",\"Alive\",\"Dead\",\"Dead\",\"Alive\",\"Alive\",\"Alive\",\"Alive\",\"Alive\",\"Alive\",\"Alive\",\"Alive\",\"Alive\",\"Alive\",\"Alive\",\"Alive\",\"Alive\",\"Alive\",\"Alive\",\"Dead\",\"Alive\",\"Alive\",\"Alive\",\"Alive\",\"Dead\",\"Alive\",\"Alive\",\"Dead\",\"Alive\",\"Alive\",\"Dead\",\"Alive\",\"Alive\",\"Alive\",\"Alive\",\"Alive\",\"Alive\",\"Dead\",\"Alive\",\"Alive\",\"Alive\",\"Alive\",\"Dead\",\"Alive\",\"Alive\",\"Alive\",\"Alive\",\"Alive\",\"Alive\",\"Dead\",\"Dead\",\"Alive\",\"Alive\",\"Alive\",\"Alive\",\"Dead\",\"Dead\",\"Alive\",\"Alive\",\"Alive\",\"Alive\",\"Alive\",\"Alive\",\"Alive\",\"Alive\",\"Alive\",\"Alive\",\"Alive\",\"Dead\",\"Alive\",\"Alive\",\"Alive\",\"Dead\",\"Alive\",\"Alive\",\"Alive\",\"Alive\",\"Alive\",\"Alive\",\"Alive\",\"Alive\",\"Alive\",\"Alive\",\"Alive\",\"Alive\",\"Alive\",\"Alive\",\"Dead\",\"Alive\",\"Alive\",\"Alive\",\"Alive\",\"Alive\",\"Alive\",\"Alive\",\"Alive\",\"Alive\",\"Alive\",\"Alive\",\"Alive\",\"Alive\",\"Alive\",\"Alive\",\"Alive\",\"Alive\",\"Alive\",\"Alive\",\"Dead\",\"Alive\",\"Dead\",\"Alive\",\"Alive\",\"Alive\",\"Alive\",\"Alive\",\"Alive\",\"Alive\",\"Alive\",\"Alive\",\"Alive\",\"Dead\",\"Alive\",\"Alive\",\"Alive\",\"Alive\",\"Alive\",\"Alive\",\"Alive\",\"Dead\",\"Alive\",\"Alive\",\"Alive\",\"Alive\",\"Alive\",\"Alive\",\"Alive\",\"Alive\",\"Alive\",\"Alive\",\"Dead\",\"Alive\",\"Alive\",\"Alive\",\"Alive\",\"Alive\",\"Dead\",\"Alive\",\"Alive\",\"Alive\",\"Alive\",\"Dead\",\"Alive\",\"Alive\",\"Alive\",\"Alive\",\"Alive\",\"Alive\",\"Alive\",\"Dead\",\"Alive\",\"Alive\",\"Alive\",\"Alive\",\"Alive\",\"Alive\",\"Alive\",\"Alive\",\"Alive\",\"Alive\",\"Alive\",\"Alive\",\"Alive\",\"Alive\",\"Dead\",\"Alive\",\"Alive\",\"Alive\",\"Alive\",\"Alive\",\"Alive\",\"Alive\",\"Alive\",\"Alive\",\"Alive\",\"Alive\",\"Alive\",\"Alive\",\"Alive\",\"Alive\",\"Dead\",\"Dead\",\"Dead\",\"Alive\",\"Alive\",\"Alive\",\"Alive\",\"Alive\",\"Alive\",\"Alive\",\"Alive\",\"Alive\",\"Alive\",\"Alive\",\"Dead\",\"Alive\",\"Alive\",\"Alive\",\"Alive\",\"Alive\",\"Alive\",\"Dead\",\"Alive\",\"Alive\",\"Alive\",\"Alive\",\"Alive\",\"Dead\",\"Alive\",\"Alive\",\"Dead\",\"Alive\",\"Alive\",\"Alive\",\"Dead\",\"Alive\",\"Alive\",\"Alive\",\"Dead\",\"Alive\",\"Dead\",\"Alive\",\"Alive\",\"Alive\",\"Alive\",\"Alive\",\"Alive\",\"Alive\",\"Alive\",\"Alive\",\"Alive\",\"Alive\",\"Alive\",\"Alive\",\"Alive\",\"Alive\",\"Alive\",\"Alive\",\"Alive\",\"Alive\",\"Alive\",\"Alive\",\"Alive\",\"Alive\",\"Alive\",\"Alive\",\"Alive\",\"Dead\",\"Alive\",\"Dead\",\"Dead\",\"Alive\",\"Alive\",\"Dead\",\"Alive\",\"Alive\",\"Alive\",\"Dead\",\"Alive\",\"Alive\",\"Alive\",\"Alive\",\"Alive\",\"Alive\",\"Alive\",\"Alive\",\"Alive\",\"Alive\",\"Alive\",\"Alive\",\"Alive\",\"Alive\",\"Alive\",\"Alive\",\"Alive\",\"Alive\",\"Alive\",\"Alive\",\"Alive\",\"Alive\",\"Alive\",\"Dead\",\"Alive\",\"Alive\",\"Alive\",\"Alive\",\"Alive\",\"Alive\",\"Alive\",\"Alive\",\"Alive\",\"Dead\",\"Alive\",\"Dead\",\"Alive\",\"Alive\",\"Alive\",\"Alive\",\"Alive\",\"Alive\",\"Alive\",\"Alive\",\"Dead\",\"Alive\",\"Alive\",\"Alive\",\"Alive\",\"Dead\",\"Alive\",\"Alive\",\"Alive\",\"Alive\",\"Alive\",\"Dead\",\"Alive\",\"Alive\",\"Alive\",\"Alive\",\"Dead\",\"Alive\",\"Alive\",\"Alive\",\"Alive\",\"Alive\",\"Alive\",\"Alive\",\"Alive\",\"Alive\",\"Alive\",\"Alive\",\"Alive\",\"Alive\",\"Alive\",\"Dead\",\"Alive\",\"Alive\",\"Alive\",\"Alive\",\"Alive\",\"Alive\",\"Alive\",\"Alive\",\"Alive\",\"Alive\",\"Alive\",\"Alive\",\"Dead\",\"Alive\",\"Dead\",\"Alive\",\"Alive\",\"Dead\",\"Alive\",\"Alive\",\"Alive\",\"Alive\",\"Dead\",\"Dead\",\"Alive\",\"Alive\",\"Alive\",\"Dead\",\"Alive\",\"Alive\",\"Alive\",\"Dead\",\"Alive\",\"Alive\",\"Alive\",\"Dead\",\"Alive\",\"Alive\",\"Alive\",\"Alive\",\"Alive\",\"Alive\",\"Alive\",\"Alive\",\"Alive\",\"Alive\",\"Alive\",\"Alive\",\"Alive\",\"Alive\",\"Alive\",\"Alive\",\"Alive\",\"Alive\",\"Alive\",\"Dead\",\"Alive\",\"Alive\",\"Alive\",\"Alive\",\"Alive\",\"Alive\",\"Alive\",\"Alive\",\"Dead\",\"Alive\",\"Alive\",\"Alive\",\"Alive\",\"Alive\",\"Alive\",\"Alive\",\"Alive\",\"Alive\",\"Alive\",\"Alive\",\"Alive\",\"Alive\",\"Alive\",\"Alive\",\"Alive\",\"Dead\",\"Alive\",\"Alive\",\"Alive\",\"Alive\",\"Alive\",\"Alive\",\"Alive\",\"Alive\",\"Alive\",\"Alive\",\"Alive\",\"Dead\",\"Alive\",\"Alive\",\"Alive\",\"Alive\",\"Alive\",\"Alive\",\"Alive\",\"Dead\",\"Alive\",\"Alive\",\"Alive\",\"Alive\",\"Alive\",\"Alive\",\"Alive\",\"Alive\",\"Alive\",\"Dead\",\"Alive\",\"Alive\",\"Alive\",\"Alive\",\"Alive\",\"Alive\",\"Alive\",\"Alive\",\"Alive\",\"Alive\",\"Alive\",\"Alive\",\"Alive\",\"Alive\",\"Alive\",\"Dead\",\"Alive\",\"Dead\",\"Alive\",\"Alive\",\"Alive\",\"Alive\",\"Alive\",\"Alive\",\"Alive\",\"Alive\",\"Alive\",\"Alive\",\"Alive\",\"Alive\",\"Alive\",\"Alive\",\"Dead\",\"Alive\",\"Alive\",\"Alive\",\"Alive\",\"Alive\",\"Alive\",\"Alive\",\"Alive\",\"Alive\",\"Alive\",\"Alive\",\"Alive\",\"Alive\",\"Alive\",\"Alive\",\"Alive\",\"Alive\",\"Alive\",\"Alive\",\"Alive\",\"Dead\",\"Alive\",\"Alive\",\"Dead\",\"Alive\",\"Alive\",\"Alive\",\"Dead\",\"Alive\",\"Alive\",\"Alive\",\"Alive\",\"Dead\",\"Alive\",\"Dead\",\"Alive\",\"Alive\",\"Alive\",\"Dead\",\"Alive\",\"Alive\",\"Alive\",\"Alive\",\"Alive\",\"Dead\",\"Dead\",\"Alive\",\"Alive\",\"Alive\",\"Alive\",\"Dead\",\"Dead\",\"Alive\",\"Alive\",\"Alive\",\"Alive\",\"Alive\",\"Alive\",\"Alive\",\"Alive\",\"Dead\",\"Alive\",\"Alive\",\"Alive\",\"Alive\",\"Alive\",\"Alive\",\"Alive\",\"Alive\",\"Alive\",\"Dead\",\"Alive\",\"Alive\",\"Alive\",\"Alive\",\"Dead\",\"Dead\",\"Alive\",\"Dead\",\"Alive\",\"Alive\",\"Alive\",\"Alive\",\"Alive\",\"Alive\",\"Alive\",\"Alive\",\"Alive\",\"Alive\",\"Alive\",\"Dead\",\"Alive\",\"Dead\",\"Alive\",\"Alive\",\"Dead\",\"Dead\",\"Alive\",\"Alive\",\"Alive\",\"Alive\",\"Alive\",\"Alive\",\"Alive\",\"Alive\",\"Alive\",\"Alive\",\"Dead\",\"Alive\",\"Dead\",\"Alive\",\"Alive\",\"Alive\",\"Alive\",\"Alive\",\"Alive\",\"Alive\",\"Dead\",\"Alive\",\"Alive\",\"Alive\",\"Alive\",\"Alive\",\"Alive\",\"Alive\",\"Dead\",\"Alive\",\"Dead\",\"Alive\",\"Alive\",\"Alive\",\"Alive\",\"Alive\",\"Dead\",\"Alive\",\"Alive\",\"Dead\",\"Dead\",\"Alive\",\"Alive\",\"Alive\",\"Alive\",\"Alive\",\"Dead\",\"Alive\",\"Alive\",\"Alive\",\"Dead\",\"Alive\",\"Alive\",\"Alive\",\"Alive\",\"Alive\",\"Alive\",\"Alive\",\"Alive\",\"Alive\",\"Alive\",\"Alive\",\"Dead\",\"Alive\",\"Alive\",\"Alive\",\"Alive\",\"Alive\",\"Alive\",\"Alive\",\"Dead\",\"Dead\",\"Alive\",\"Alive\",\"Alive\",\"Dead\",\"Alive\",\"Alive\",\"Alive\",\"Alive\",\"Dead\",\"Alive\",\"Alive\",\"Dead\",\"Alive\",\"Alive\",\"Dead\",\"Alive\",\"Alive\",\"Alive\",\"Dead\",\"Alive\",\"Alive\",\"Alive\",\"Alive\",\"Alive\",\"Alive\",\"Alive\",\"Alive\",\"Alive\",\"Dead\",\"Alive\",\"Alive\",\"Alive\",\"Alive\",\"Alive\",\"Alive\",\"Alive\",\"Alive\",\"Alive\",\"Dead\",\"Dead\",\"Alive\",\"Alive\",\"Alive\",\"Alive\",\"Alive\",\"Alive\",\"Alive\",\"Alive\",\"Alive\",\"Alive\",\"Alive\",\"Alive\",\"Dead\",\"Alive\",\"Alive\",\"Dead\",\"Alive\",\"Dead\",\"Dead\",\"Dead\",\"Alive\",\"Alive\",\"Alive\",\"Alive\",\"Dead\",\"Dead\",\"Alive\",\"Alive\",\"Alive\",\"Alive\",\"Alive\",\"Alive\",\"Alive\",\"Alive\",\"Alive\",\"Alive\",\"Alive\",\"Alive\",\"Alive\",\"Alive\",\"Alive\",\"Alive\",\"Alive\",\"Alive\",\"Alive\",\"Alive\",\"Alive\",\"Alive\",\"Alive\",\"Alive\",\"Alive\",\"Alive\",\"Alive\",\"Alive\",\"Alive\",\"Dead\",\"Alive\",\"Alive\",\"Alive\",\"Alive\",\"Alive\",\"Alive\",\"Dead\",\"Alive\",\"Dead\",\"Alive\",\"Alive\",\"Dead\",\"Alive\",\"Alive\",\"Alive\",\"Alive\",\"Alive\",\"Alive\",\"Dead\",\"Alive\",\"Alive\",\"Alive\",\"Alive\",\"Alive\",\"Alive\",\"Alive\",\"Alive\",\"Alive\",\"Dead\",\"Alive\",\"Alive\",\"Alive\",\"Dead\",\"Alive\",\"Alive\",\"Alive\",\"Alive\",\"Dead\",\"Alive\",\"Alive\",\"Alive\",\"Alive\",\"Alive\",\"Alive\",\"Alive\",\"Alive\",\"Alive\",\"Alive\",\"Alive\",\"Dead\",\"Dead\",\"Alive\",\"Alive\",\"Dead\",\"Dead\",\"Alive\",\"Alive\",\"Alive\",\"Alive\",\"Alive\",\"Alive\",\"Alive\",\"Alive\",\"Alive\",\"Alive\",\"Alive\",\"Alive\",\"Alive\",\"Alive\",\"Alive\",\"Alive\",\"Alive\",\"Dead\",\"Alive\",\"Alive\",\"Alive\",\"Alive\",\"Alive\",\"Alive\",\"Dead\",\"Alive\",\"Alive\",\"Alive\",\"Alive\",\"Alive\",\"DEAD\",\"Alive\",\"Alive\",\"Alive\",\"Alive\",\"DEAD\",\"Alive\",\"Alive\",\"Alive\",\"DEAD\",\"Alive\",\"Alive\",\"Alive\",\"Alive\",\"DEAD\",\"Alive\",\"Alive\",\"DEAD\",\"Alive\",\"Dead\",\"Alive\",\"Alive\",\"Alive\",\"Alive\",\"Alive\",\"Alive\",\"Alive\",\"Alive\",\"Dead\",\"Alive\",\"Alive\",\"Alive\",\"Alive\",\"Alive\",\"Alive\",\"Alive\",\"Alive\",\"Alive\",\"Alive\",\"Dead\",\"Alive\",\"Alive\",\"Alive\",\"Dead\",\"Alive\",\"Alive\",\"Alive\",\"Alive\",\"Alive\",\"Alive\",\"Alive\",\"Alive\",\"Dead\",\"Alive\",\"Dead\",\"Alive\",\"Alive\",\"Alive\",\"Alive\",\"Alive\",\"Alive\",\"Alive\",\"Alive\",\"Alive\",\"Alive\",\"Alive\",\"Alive\",\"Alive\",\"Alive\",\"Alive\",\"Alive\",\"Alive\",\"Alive\",\"Alive\",\"Alive\",\"Alive\",\"Alive\",\"Alive\",\"Alive\",\"Alive\",\"Alive\",\"Alive\",\"Alive\",\"Alive\",\"Alive\",\"Alive\",\"Alive\",\"Alive\",\"Alive\",\"Alive\",\"Alive\",\"Alive\",\"Alive\",\"Alive\",\"Alive\",\"Alive\",\"Dead\",\"Alive\",\"Alive\",\"Alive\",\"Alive\",\"Alive\",\"Alive\",\"Alive\",\"Alive\",\"Alive\",\"Alive\",\"Alive\",\"Alive\",\"Alive\",\"Alive\",\"Alive\",\"Alive\",\"Alive\",\"Alive\",\"Alive\",\"Alive\",\"Alive\",\"Alive\",\"Alive\",\"Alive\",\"Dead\",\"Alive\",\"Alive\",\"Alive\",\"Dead\",\"Alive\",\"Alive\",\"Alive\",\"Alive\",\"Alive\",\"Alive\",\"Alive\",\"Alive\",\"Alive\",\"Dead\",\"Alive\",\"Alive\",\"Alive\",\"Alive\",\"Alive\",\"Dead\",\"Alive\",\"Alive\",\"Alive\",\"Alive\",\"Alive\",\"Alive\",\"Dead\",\"Alive\",\"Alive\",\"Alive\",\"Alive\",\"Alive\",\"Alive\",\"Alive\",\"Dead\",\"Alive\",\"Alive\",\"Alive\",\"Alive\",\"Alive\",\"Alive\",\"Alive\",\"Alive\",\"Alive\",\"Dead\",\"Alive\",\"Alive\",\"Alive\",\"Dead\",\"Alive\",\"Dead\",\"Dead\",\"Alive\",\"Alive\",\"Alive\",\"Dead\",\"Alive\",\"Alive\",\"Alive\",\"Alive\",\"Alive\",\"Alive\",\"Alive\",\"Alive\",\"Alive\",\"Alive\",\"Alive\",\"Dead\",\"Alive\",\"Alive\",\"Alive\",\"Alive\",\"Alive\",\"Alive\",\"Alive\",\"Alive\",\"Alive\",\"Dead\",\"Dead\",\"Alive\",\"Alive\",\"Alive\",\"Alive\",\"Alive\",\"Alive\",\"Alive\",\"Alive\",\"Dead\",\"Alive\",\"Dead\",\"Alive\",\"Alive\",\"Alive\",\"Alive\",\"Alive\",\"Alive\",\"Alive\",\"Alive\",\"Alive\",\"Alive\",\"Alive\",\"Alive\",\"Alive\",\"Alive\",\"Alive\",\"Alive\",\"Dead\",\"Alive\",\"Alive\",\"Dead\",\"Alive\",\"Alive\",\"Alive\",\"Alive\",\"Alive\",\"Alive\",\"Alive\",\"Alive\",\"Alive\",\"Alive\",\"Alive\",\"Dead\",\"Alive\",\"Alive\",\"Alive\",\"Alive\",\"Alive\",\"Alive\",\"Alive\",\"Alive\",\"Dead\",\"Alive\",\"Alive\",\"Alive\",\"Alive\",\"Dead\",\"Alive\",\"Alive\",\"Alive\",\"Alive\",\"Alive\",\"Alive\",\"Alive\",\"Alive\",\"Alive\",\"Alive\",\"Dead\",\"Alive\",\"Alive\",\"Alive\",\"Alive\",\"Alive\",\"Alive\",\"Dead\",\"Alive\",\"Alive\",\"Alive\",\"Dead\",\"Alive\",\"Alive\",\"Alive\",\"Alive\",\"Alive\",\"Alive\",\"Dead\",\"Dead\",\"Alive\",\"Alive\",\"Alive\",\"Alive\",\"Alive\",\"Dead\",\"Alive\",\"Alive\",\"Alive\",\"Alive\",\"Alive\",\"Alive\",\"Dead\",\"Alive\",\"Alive\",\"Alive\",\"Alive\",\"Alive\",\"Alive\"],\"xaxis\":\"x\",\"yaxis\":\"y\",\"type\":\"histogram\"}],                        {\"template\":{\"data\":{\"histogram2dcontour\":[{\"type\":\"histogram2dcontour\",\"colorbar\":{\"outlinewidth\":0,\"ticks\":\"\"},\"colorscale\":[[0.0,\"#0d0887\"],[0.1111111111111111,\"#46039f\"],[0.2222222222222222,\"#7201a8\"],[0.3333333333333333,\"#9c179e\"],[0.4444444444444444,\"#bd3786\"],[0.5555555555555556,\"#d8576b\"],[0.6666666666666666,\"#ed7953\"],[0.7777777777777778,\"#fb9f3a\"],[0.8888888888888888,\"#fdca26\"],[1.0,\"#f0f921\"]]}],\"choropleth\":[{\"type\":\"choropleth\",\"colorbar\":{\"outlinewidth\":0,\"ticks\":\"\"}}],\"histogram2d\":[{\"type\":\"histogram2d\",\"colorbar\":{\"outlinewidth\":0,\"ticks\":\"\"},\"colorscale\":[[0.0,\"#0d0887\"],[0.1111111111111111,\"#46039f\"],[0.2222222222222222,\"#7201a8\"],[0.3333333333333333,\"#9c179e\"],[0.4444444444444444,\"#bd3786\"],[0.5555555555555556,\"#d8576b\"],[0.6666666666666666,\"#ed7953\"],[0.7777777777777778,\"#fb9f3a\"],[0.8888888888888888,\"#fdca26\"],[1.0,\"#f0f921\"]]}],\"heatmap\":[{\"type\":\"heatmap\",\"colorbar\":{\"outlinewidth\":0,\"ticks\":\"\"},\"colorscale\":[[0.0,\"#0d0887\"],[0.1111111111111111,\"#46039f\"],[0.2222222222222222,\"#7201a8\"],[0.3333333333333333,\"#9c179e\"],[0.4444444444444444,\"#bd3786\"],[0.5555555555555556,\"#d8576b\"],[0.6666666666666666,\"#ed7953\"],[0.7777777777777778,\"#fb9f3a\"],[0.8888888888888888,\"#fdca26\"],[1.0,\"#f0f921\"]]}],\"heatmapgl\":[{\"type\":\"heatmapgl\",\"colorbar\":{\"outlinewidth\":0,\"ticks\":\"\"},\"colorscale\":[[0.0,\"#0d0887\"],[0.1111111111111111,\"#46039f\"],[0.2222222222222222,\"#7201a8\"],[0.3333333333333333,\"#9c179e\"],[0.4444444444444444,\"#bd3786\"],[0.5555555555555556,\"#d8576b\"],[0.6666666666666666,\"#ed7953\"],[0.7777777777777778,\"#fb9f3a\"],[0.8888888888888888,\"#fdca26\"],[1.0,\"#f0f921\"]]}],\"contourcarpet\":[{\"type\":\"contourcarpet\",\"colorbar\":{\"outlinewidth\":0,\"ticks\":\"\"}}],\"contour\":[{\"type\":\"contour\",\"colorbar\":{\"outlinewidth\":0,\"ticks\":\"\"},\"colorscale\":[[0.0,\"#0d0887\"],[0.1111111111111111,\"#46039f\"],[0.2222222222222222,\"#7201a8\"],[0.3333333333333333,\"#9c179e\"],[0.4444444444444444,\"#bd3786\"],[0.5555555555555556,\"#d8576b\"],[0.6666666666666666,\"#ed7953\"],[0.7777777777777778,\"#fb9f3a\"],[0.8888888888888888,\"#fdca26\"],[1.0,\"#f0f921\"]]}],\"surface\":[{\"type\":\"surface\",\"colorbar\":{\"outlinewidth\":0,\"ticks\":\"\"},\"colorscale\":[[0.0,\"#0d0887\"],[0.1111111111111111,\"#46039f\"],[0.2222222222222222,\"#7201a8\"],[0.3333333333333333,\"#9c179e\"],[0.4444444444444444,\"#bd3786\"],[0.5555555555555556,\"#d8576b\"],[0.6666666666666666,\"#ed7953\"],[0.7777777777777778,\"#fb9f3a\"],[0.8888888888888888,\"#fdca26\"],[1.0,\"#f0f921\"]]}],\"mesh3d\":[{\"type\":\"mesh3d\",\"colorbar\":{\"outlinewidth\":0,\"ticks\":\"\"}}],\"scatter\":[{\"fillpattern\":{\"fillmode\":\"overlay\",\"size\":10,\"solidity\":0.2},\"type\":\"scatter\"}],\"parcoords\":[{\"type\":\"parcoords\",\"line\":{\"colorbar\":{\"outlinewidth\":0,\"ticks\":\"\"}}}],\"scatterpolargl\":[{\"type\":\"scatterpolargl\",\"marker\":{\"colorbar\":{\"outlinewidth\":0,\"ticks\":\"\"}}}],\"bar\":[{\"error_x\":{\"color\":\"#2a3f5f\"},\"error_y\":{\"color\":\"#2a3f5f\"},\"marker\":{\"line\":{\"color\":\"#E5ECF6\",\"width\":0.5},\"pattern\":{\"fillmode\":\"overlay\",\"size\":10,\"solidity\":0.2}},\"type\":\"bar\"}],\"scattergeo\":[{\"type\":\"scattergeo\",\"marker\":{\"colorbar\":{\"outlinewidth\":0,\"ticks\":\"\"}}}],\"scatterpolar\":[{\"type\":\"scatterpolar\",\"marker\":{\"colorbar\":{\"outlinewidth\":0,\"ticks\":\"\"}}}],\"histogram\":[{\"marker\":{\"pattern\":{\"fillmode\":\"overlay\",\"size\":10,\"solidity\":0.2}},\"type\":\"histogram\"}],\"scattergl\":[{\"type\":\"scattergl\",\"marker\":{\"colorbar\":{\"outlinewidth\":0,\"ticks\":\"\"}}}],\"scatter3d\":[{\"type\":\"scatter3d\",\"line\":{\"colorbar\":{\"outlinewidth\":0,\"ticks\":\"\"}},\"marker\":{\"colorbar\":{\"outlinewidth\":0,\"ticks\":\"\"}}}],\"scattermapbox\":[{\"type\":\"scattermapbox\",\"marker\":{\"colorbar\":{\"outlinewidth\":0,\"ticks\":\"\"}}}],\"scatterternary\":[{\"type\":\"scatterternary\",\"marker\":{\"colorbar\":{\"outlinewidth\":0,\"ticks\":\"\"}}}],\"scattercarpet\":[{\"type\":\"scattercarpet\",\"marker\":{\"colorbar\":{\"outlinewidth\":0,\"ticks\":\"\"}}}],\"carpet\":[{\"aaxis\":{\"endlinecolor\":\"#2a3f5f\",\"gridcolor\":\"white\",\"linecolor\":\"white\",\"minorgridcolor\":\"white\",\"startlinecolor\":\"#2a3f5f\"},\"baxis\":{\"endlinecolor\":\"#2a3f5f\",\"gridcolor\":\"white\",\"linecolor\":\"white\",\"minorgridcolor\":\"white\",\"startlinecolor\":\"#2a3f5f\"},\"type\":\"carpet\"}],\"table\":[{\"cells\":{\"fill\":{\"color\":\"#EBF0F8\"},\"line\":{\"color\":\"white\"}},\"header\":{\"fill\":{\"color\":\"#C8D4E3\"},\"line\":{\"color\":\"white\"}},\"type\":\"table\"}],\"barpolar\":[{\"marker\":{\"line\":{\"color\":\"#E5ECF6\",\"width\":0.5},\"pattern\":{\"fillmode\":\"overlay\",\"size\":10,\"solidity\":0.2}},\"type\":\"barpolar\"}],\"pie\":[{\"automargin\":true,\"type\":\"pie\"}]},\"layout\":{\"autotypenumbers\":\"strict\",\"colorway\":[\"#636efa\",\"#EF553B\",\"#00cc96\",\"#ab63fa\",\"#FFA15A\",\"#19d3f3\",\"#FF6692\",\"#B6E880\",\"#FF97FF\",\"#FECB52\"],\"font\":{\"color\":\"#2a3f5f\"},\"hovermode\":\"closest\",\"hoverlabel\":{\"align\":\"left\"},\"paper_bgcolor\":\"white\",\"plot_bgcolor\":\"#E5ECF6\",\"polar\":{\"bgcolor\":\"#E5ECF6\",\"angularaxis\":{\"gridcolor\":\"white\",\"linecolor\":\"white\",\"ticks\":\"\"},\"radialaxis\":{\"gridcolor\":\"white\",\"linecolor\":\"white\",\"ticks\":\"\"}},\"ternary\":{\"bgcolor\":\"#E5ECF6\",\"aaxis\":{\"gridcolor\":\"white\",\"linecolor\":\"white\",\"ticks\":\"\"},\"baxis\":{\"gridcolor\":\"white\",\"linecolor\":\"white\",\"ticks\":\"\"},\"caxis\":{\"gridcolor\":\"white\",\"linecolor\":\"white\",\"ticks\":\"\"}},\"coloraxis\":{\"colorbar\":{\"outlinewidth\":0,\"ticks\":\"\"}},\"colorscale\":{\"sequential\":[[0.0,\"#0d0887\"],[0.1111111111111111,\"#46039f\"],[0.2222222222222222,\"#7201a8\"],[0.3333333333333333,\"#9c179e\"],[0.4444444444444444,\"#bd3786\"],[0.5555555555555556,\"#d8576b\"],[0.6666666666666666,\"#ed7953\"],[0.7777777777777778,\"#fb9f3a\"],[0.8888888888888888,\"#fdca26\"],[1.0,\"#f0f921\"]],\"sequentialminus\":[[0.0,\"#0d0887\"],[0.1111111111111111,\"#46039f\"],[0.2222222222222222,\"#7201a8\"],[0.3333333333333333,\"#9c179e\"],[0.4444444444444444,\"#bd3786\"],[0.5555555555555556,\"#d8576b\"],[0.6666666666666666,\"#ed7953\"],[0.7777777777777778,\"#fb9f3a\"],[0.8888888888888888,\"#fdca26\"],[1.0,\"#f0f921\"]],\"diverging\":[[0,\"#8e0152\"],[0.1,\"#c51b7d\"],[0.2,\"#de77ae\"],[0.3,\"#f1b6da\"],[0.4,\"#fde0ef\"],[0.5,\"#f7f7f7\"],[0.6,\"#e6f5d0\"],[0.7,\"#b8e186\"],[0.8,\"#7fbc41\"],[0.9,\"#4d9221\"],[1,\"#276419\"]]},\"xaxis\":{\"gridcolor\":\"white\",\"linecolor\":\"white\",\"ticks\":\"\",\"title\":{\"standoff\":15},\"zerolinecolor\":\"white\",\"automargin\":true,\"zerolinewidth\":2},\"yaxis\":{\"gridcolor\":\"white\",\"linecolor\":\"white\",\"ticks\":\"\",\"title\":{\"standoff\":15},\"zerolinecolor\":\"white\",\"automargin\":true,\"zerolinewidth\":2},\"scene\":{\"xaxis\":{\"backgroundcolor\":\"#E5ECF6\",\"gridcolor\":\"white\",\"linecolor\":\"white\",\"showbackground\":true,\"ticks\":\"\",\"zerolinecolor\":\"white\",\"gridwidth\":2},\"yaxis\":{\"backgroundcolor\":\"#E5ECF6\",\"gridcolor\":\"white\",\"linecolor\":\"white\",\"showbackground\":true,\"ticks\":\"\",\"zerolinecolor\":\"white\",\"gridwidth\":2},\"zaxis\":{\"backgroundcolor\":\"#E5ECF6\",\"gridcolor\":\"white\",\"linecolor\":\"white\",\"showbackground\":true,\"ticks\":\"\",\"zerolinecolor\":\"white\",\"gridwidth\":2}},\"shapedefaults\":{\"line\":{\"color\":\"#2a3f5f\"}},\"annotationdefaults\":{\"arrowcolor\":\"#2a3f5f\",\"arrowhead\":0,\"arrowwidth\":1},\"geo\":{\"bgcolor\":\"white\",\"landcolor\":\"#E5ECF6\",\"subunitcolor\":\"white\",\"showland\":true,\"showlakes\":true,\"lakecolor\":\"white\"},\"title\":{\"x\":0.05},\"mapbox\":{\"style\":\"light\"}}},\"xaxis\":{\"anchor\":\"y\",\"domain\":[0.0,1.0],\"title\":{\"text\":\"Mortality_Status\"}},\"yaxis\":{\"anchor\":\"x\",\"domain\":[0.0,1.0],\"title\":{\"text\":\"count\"}},\"legend\":{\"tracegroupgap\":0},\"margin\":{\"t\":60},\"barmode\":\"relative\"},                        {\"responsive\": true}                    ).then(function(){\n",
              "                            \n",
              "var gd = document.getElementById('41453a1b-dfc1-4653-b1e4-bbae8bfb35d1');\n",
              "var x = new MutationObserver(function (mutations, observer) {{\n",
              "        var display = window.getComputedStyle(gd).display;\n",
              "        if (!display || display === 'none') {{\n",
              "            console.log([gd, 'removed!']);\n",
              "            Plotly.purge(gd);\n",
              "            observer.disconnect();\n",
              "        }}\n",
              "}});\n",
              "\n",
              "// Listen for the removal of the full notebook cells\n",
              "var notebookContainer = gd.closest('#notebook-container');\n",
              "if (notebookContainer) {{\n",
              "    x.observe(notebookContainer, {childList: true});\n",
              "}}\n",
              "\n",
              "// Listen for the clearing of the current output cell\n",
              "var outputEl = gd.closest('.output');\n",
              "if (outputEl) {{\n",
              "    x.observe(outputEl, {childList: true});\n",
              "}}\n",
              "\n",
              "                        })                };                            </script>        </div>\n",
              "</body>\n",
              "</html>"
            ]
          },
          "metadata": {},
          "output_type": "display_data"
        }
      ],
      "source": [
        "VariableName_fig = px.histogram(data, x='Mortality_Status')\n",
        "VariableName_fig.show()"
      ]
    },
    {
      "cell_type": "code",
      "execution_count": null,
      "metadata": {
        "colab": {
          "base_uri": "https://localhost:8080/",
          "height": 542
        },
        "id": "DdTOS8AMjCMw",
        "outputId": "109ab788-3097-4412-f54c-6219399e7353"
      },
      "outputs": [
        {
          "data": {
            "text/html": [
              "<html>\n",
              "<head><meta charset=\"utf-8\" /></head>\n",
              "<body>\n",
              "    <div>            <script src=\"https://cdnjs.cloudflare.com/ajax/libs/mathjax/2.7.5/MathJax.js?config=TeX-AMS-MML_SVG\"></script><script type=\"text/javascript\">if (window.MathJax && window.MathJax.Hub && window.MathJax.Hub.Config) {window.MathJax.Hub.Config({SVG: {font: \"STIX-Web\"}});}</script>                <script type=\"text/javascript\">window.PlotlyConfig = {MathJaxConfig: 'local'};</script>\n",
              "        <script charset=\"utf-8\" src=\"https://cdn.plot.ly/plotly-2.35.2.min.js\"></script>                <div id=\"3080f7eb-acc3-4b27-b664-2b3c76f82a59\" class=\"plotly-graph-div\" style=\"height:525px; width:100%;\"></div>            <script type=\"text/javascript\">                                    window.PLOTLYENV=window.PLOTLYENV || {};                                    if (document.getElementById(\"3080f7eb-acc3-4b27-b664-2b3c76f82a59\")) {                    Plotly.newPlot(                        \"3080f7eb-acc3-4b27-b664-2b3c76f82a59\",                        [{\"alignmentgroup\":\"True\",\"bingroup\":\"x\",\"hovertemplate\":\"Tumor_Size=%{x}\\u003cbr\\u003ecount=%{y}\\u003cextra\\u003e\\u003c\\u002fextra\\u003e\",\"legendgroup\":\"\",\"marker\":{\"color\":\"#636efa\",\"pattern\":{\"shape\":\"\"}},\"name\":\"\",\"offsetgroup\":\"\",\"orientation\":\"v\",\"showlegend\":false,\"x\":[4.0,35.0,63.0,18.0,41.0,20.0,8.0,30.0,103.0,32.0,13.0,59.0,35.0,15.0,35.0,19.0,46.0,24.0,25.0,29.0,30.0,40.0,29.0,70.0,20.0,22.0,50.0,17.0,25.0,21.0,40.0,15.0,15.0,20.0,30.0,10.0,27.0,18.0,35.0,23.0,70.0,17.0,21.0,23.0,5.0,51.0,9.0,15.0,32.0,5.0,23.0,55.0,120.0,77.0,2.0,11.0,25.0,18.0,15.0,12.0,18.0,17.0,26.0,75.0,13.0,15.0,70.0,15.0,15.0,17.0,130.0,34.0,30.0,10.0,22.0,55.0,25.0,50.0,50.0,15.0,30.0,20.0,22.0,15.0,15.0,40.0,120.0,80.0,17.0,3.0,60.0,14.0,26.0,25.0,12.0,25.0,30.0,25.0,24.0,27.0,70.0,16.0,45.0,27.0,23.0,25.0,40.0,20.0,21.0,36.0,14.0,51.0,50.0,45.0,51.0,19.0,76.0,20.0,35.0,27.0,35.0,35.0,50.0,38.0,15.0,17.0,25.0,19.0,15.0,18.0,11.0,45.0,12.0,20.0,45.0,18.0,25.0,21.0,49.0,70.0,7.0,19.0,17.0,38.0,34.0,30.0,4.0,72.0,18.0,25.0,9.0,21.0,20.0,15.0,18.0,100.0,17.0,7.0,24.0,43.0,30.0,7.0,18.0,12.0,25.0,62.0,20.0,70.0,37.0,13.0,40.0,70.0,12.0,9.0,10.0,55.0,18.0,15.0,25.0,50.0,10.0,30.0,13.0,40.0,100.0,25.0,68.0,25.0,23.0,15.0,22.0,7.0,16.0,24.0,75.0,11.0,35.0,60.0,30.0,25.0,25.0,25.0,12.0,25.0,17.0,11.0,32.0,21.0,25.0,19.0,-75.0,52.0,9.0,17.0,35.0,85.0,50.0,51.0,18.0,75.0,72.0,35.0,12.0,23.0,16.0,16.0,57.0,50.0,17.0,32.0,21.0,11.0,40.0,15.0,17.0,14.0,60.0,55.0,120.0,11.0,39.0,23.0,28.0,37.0,40.0,9.0,8.0,28.0,15.0,17.0,50.0,48.0,30.0,68.0,110.0,23.0,12.0,13.0,40.0,30.0,9.0,22.0,30.0,12.0,10.0,25.0,16.0,65.0,22.0,17.0,60.0,22.0,35.0,18.0,34.0,6.0,105.0,100.0,20.0,57.0,10.0,17.0,25.0,21.0,45.0,50.0,35.0,38.0,16.0,140.0,25.0,18.0,18.0,34.0,65.0,13.0,20.0,29.0,10.0,62.0,50.0,29.0,15.0,15.0,42.0,130.0,21.0,51.0,30.0,35.0,31.0,14.0,15.0,60.0,20.0,22.0,80.0,15.0,100.0,30.0,8.0,15.0,80.0,30.0,25.0,24.0,35.0,12.0,45.0,25.0,35.0,28.0,17.0,15.0,32.0,15.0,60.0,90.0,11.0,37.0,21.0,2.0,70.0,8.0,22.0,40.0,13.0,32.0,5.0,18.0,52.0,31.0,14.0,7.0,12.0,21.0,20.0,26.0,16.0,15.0,25.0,20.0,80.0,30.0,16.0,20.0,17.0,100.0,41.0,16.0,25.0,108.0,12.0,38.0,24.0,45.0,98.0,25.0,30.0,90.0,27.0,47.0,30.0,25.0,17.0,22.0,18.0,18.0,25.0,27.0,25.0,70.0,65.0,22.0,45.0,20.0,65.0,17.0,15.0,15.0,19.0,90.0,10.0,40.0,31.0,30.0,26.0,25.0,11.0,22.0,59.0,23.0,25.0,18.0,15.0,30.0,25.0,27.0,25.0,24.0,24.0,20.0,10.0,7.0,42.0,54.0,75.0,15.0,22.0,20.0,65.0,61.0,27.0,16.0,35.0,55.0,17.0,8.0,25.0,10.0,26.0,120.0,7.0,18.0,30.0,70.0,20.0,80.0,30.0,45.0,25.0,6.0,21.0,11.0,18.0,40.0,20.0,12.0,16.0,10.0,20.0,20.0,25.0,17.0,22.0,20.0,20.0,30.0,13.0,15.0,36.0,8.0,10.0,35.0,70.0,35.0,74.0,16.0,70.0,21.0,100.0,70.0,12.0,80.0,25.0,19.0,25.0,16.0,60.0,15.0,20.0,9.0,16.0,60.0,15.0,12.0,17.0,25.0,18.0,15.0,45.0,70.0,10.0,9.0,12.0,15.0,18.0,12.0,16.0,15.0,30.0,20.0,21.0,10.0,35.0,22.0,33.0,60.0,13.0,21.0,13.0,39.0,29.0,35.0,18.0,100.0,130.0,21.0,26.0,50.0,8.0,16.0,16.0,15.0,28.0,23.0,1.0,23.0,21.0,19.0,87.0,33.0,15.0,13.0,15.0,25.0,60.0,30.0,18.0,20.0,55.0,null,11.0,11.0,40.0,16.0,55.0,36.0,16.0,25.0,30.0,19.0,30.0,55.0,80.0,50.0,14.0,10.0,30.0,60.0,24.0,32.0,42.0,35.0,26.0,30.0,31.0,11.0,26.0,18.0,43.0,20.0,35.0,13.0,14.0,81.0,10.0,10.0,20.0,30.0,22.0,20.0,28.0,80.0,37.0,35.0,12.0,19.0,20.0,22.0,14.0,32.0,80.0,21.0,25.0,21.0,15.0,28.0,18.0,27.0,30.0,25.0,35.0,12.0,30.0,29.0,70.0,21.0,60.0,25.0,20.0,22.0,12.0,48.0,31.0,27.0,18.0,1.0,40.0,26.0,80.0,20.0,27.0,20.0,30.0,25.0,22.0,63.0,10.0,10.0,40.0,10.0,40.0,20.0,30.0,6.0,22.0,22.0,15.0,40.0,45.0,13.0,25.0,11.0,58.0,30.0,23.0,9.0,32.0,35.0,15.0,15.0,21.0,51.0,15.0,60.0,null,51.0,25.0,30.0,11.0,40.0,5.0,35.0,38.0,30.0,25.0,25.0,27.0,25.0,18.0,40.0,40.0,15.0,20.0,23.0,34.0,16.0,18.0,50.0,45.0,100.0,18.0,23.0,25.0,32.0,30.0,30.0,30.0,18.0,24.0,70.0,28.0,20.0,35.0,117.0,10.0,70.0,35.0,11.0,27.0,12.0,26.0,76.0,32.0,18.0,23.0,10.0,18.0,23.0,25.0,32.0,18.0,17.0,52.0,27.0,7.0,70.0,26.0,55.0,20.0,15.0,20.0,20.0,61.0,8.0,15.0,12.0,40.0,25.0,140.0,12.0,21.0,23.0,20.0,17.0,65.0,null,19.0,12.0,11.0,40.0,26.0,30.0,50.0,44.0,21.0,35.0,22.0,55.0,17.0,1.0,23.0,25.0,14.0,25.0,35.0,20.0,25.0,90.0,13.0,12.0,45.0,15.0,35.0,17.0,24.0,55.0,16.0,20.0,18.0,32.0,30.0,30.0,19.0,24.0,18.0,25.0,19.0,30.0,32.0,16.0,2.0,30.0,27.0,10.0,10.0,18.0,30.0,22.0,40.0,65.0,13.0,6.0,40.0,19.0,20.0,45.0,31.0,30.0,14.0,35.0,10.0,25.0,40.0,45.0,21.0,28.0,4.0,25.0,15.0,61.0,22.0,27.0,19.0,25.0,8.0,23.0,80.0,7.0,15.0,13.0,30.0,50.0,31.0,30.0,15.0,15.0,50.0,25.0,30.0,60.0,21.0,51.0,18.0,25.0,50.0,8.0,40.0,16.0,18.0,13.0,35.0,12.0,50.0,29.0,20.0,7.0,21.0,20.0,22.0,31.0,45.0,25.0,35.0,15.0,22.0,15.0,16.0,26.0,35.0,30.0,23.0,18.0,123.0,16.0,11.0,75.0,60.0,20.0,15.0,27.0,9.0,60.0,7.0,19.0,15.0,40.0,19.0,130.0,30.0,70.0,24.0,110.0,133.0,22.0,55.0,95.0,25.0,13.0,12.0,17.0,10.0,70.0,30.0,20.0,107.0,40.0,30.0,90.0,16.0,47.0,30.0,7.0,30.0,20.0,60.0,30.0,14.0,20.0,27.0,40.0,92.0,7.0,20.0,22.0,8.0,50.0,22.0,14.0,30.0,50.0,15.0,25.0,18.0,35.0,13.0,100.0,105.0,20.0,15.0,30.0,12.0,50.0,20.0,7.0,42.0,19.0,27.0,14.0,17.0,15.0,13.0,12.0,26.0,20.0,17.0,20.0,24.0,30.0,16.0,18.0,30.0,52.0,60.0,21.0,33.0,6.0,25.0,15.0,14.0,105.0,35.0,57.0,20.0,20.0,28.0,60.0,25.0,12.0,69.0,55.0,60.0,20.0,13.0,100.0,2.0,20.0,38.0,24.0,25.0,15.0,25.0,51.0,35.0,25.0,45.0,21.0,19.0,40.0,9.0,22.0,38.0,50.0,30.0,23.0,21.0,140.0,60.0,17.0,55.0,17.0,29.0,40.0,17.0,30.0,32.0,40.0,15.0,35.0,32.0,21.0,25.0,33.0,22.0,15.0,32.0,6.0,30.0,14.0,10.0,12.0,15.0,21.0,20.0,20.0,15.0,54.0,21.0,22.0,22.0,17.0,25.0,22.0,45.0,11.0,17.0,17.0,40.0,5.0,13.0,19.0,19.0,35.0,16.0,15.0,23.0,15.0,19.0,18.0,16.0,21.0,32.0,13.0,16.0,40.0,50.0,35.0,16.0,35.0,36.0,35.0,55.0,25.0,22.0,17.0,55.0,10.0,23.0,25.0,5.0,16.0,55.0,24.0,21.0,13.0,22.0,14.0,30.0,18.0,16.0,56.0,31.0,14.0,15.0,82.0,16.0,16.0,16.0,16.0,50.0,25.0,18.0,25.0,18.0,30.0,65.0,1.0,25.0,20.0,30.0,30.0,18.0,16.0,50.0,52.0,37.0,25.0,40.0,50.0,15.0,25.0,80.0,13.0,25.0,40.0,15.0,19.0,65.0,18.0,15.0,16.0,23.0,21.0,10.0,20.0,40.0,31.0,15.0,11.0,55.0,15.0,37.0,42.0,22.0,48.0,15.0,7.0,40.0,12.0,12.0,65.0,15.0,16.0,22.0,35.0,25.0,20.0,18.0,85.0,25.0,100.0,15.0,18.0,14.0,23.0,40.0,17.0,21.0,22.0,31.0,11.0,19.0,35.0,9.0,21.0,6.0,20.0,60.0,38.0,9.0,11.0,30.0,22.0,25.0,13.0,30.0,25.0,25.0,48.0,6.0,14.0,7.0,90.0,25.0,15.0,120.0,14.0,15.0,35.0,30.0,16.0,9.0,23.0,17.0,43.0,19.0,21.0,17.0,45.0,18.0,43.0,61.0,27.0,15.0,25.0,31.0,50.0,30.0,38.0,5.0,11.0,35.0,7.0,14.0,120.0,14.0,33.0,19.0,19.0,15.0,18.0,47.0,13.0,25.0,28.0,16.0,31.0,4.0,31.0,30.0,55.0,30.0,14.0,17.0,21.0,70.0,30.0,15.0,40.0,8.0,7.0,40.0,35.0,16.0,30.0,18.0,30.0,15.0,12.0,40.0,57.0,60.0,38.0,55.0,24.0,20.0,40.0,38.0,70.0,18.0,25.0,74.0,60.0,60.0,23.0,45.0,21.0,14.0,13.0,20.0,21.0,25.0,22.0,8.0,25.0,25.0,70.0,11.0,80.0,16.0,18.0,15.0,26.0,20.0,18.0,18.0,14.0,42.0,58.0,18.0,25.0,9.0,19.0,11.0,15.0,21.0,52.0,40.0,11.0,20.0,33.0,14.0,28.0,20.0,19.0,100.0,9.0,25.0,15.0,60.0,76.0,16.0,20.0,45.0,35.0,18.0,20.0,26.0,35.0,40.0,30.0,12.0,19.0,28.0,28.0,22.0,8.0,32.0,45.0,55.0,9.0,23.0,20.0,35.0,23.0,80.0,15.0,9.0,30.0,20.0,66.0,22.0,16.0,14.0,80.0,25.0,10.0,22.0,12.0,19.0,17.0,25.0,9.0,9.0,33.0,37.0,24.0,18.0,75.0,25.0,10.0,36.0,26.0,14.0,82.0,30.0,12.0,22.0,16.0,16.0,40.0,20.0,28.0,21.0,24.0,55.0,31.0,24.0,37.0,30.0,20.0,14.0,20.0,27.0,12.0,80.0,23.0,14.0,10.0,22.0,15.0,27.0,20.0,31.0,14.0,40.0,25.0,35.0,20.0,42.0,25.0,50.0,20.0,13.0,6.0,16.0,60.0,23.0,15.0,14.0,9.0,16.0,42.0,40.0,25.0,25.0,37.0,23.0,30.0,12.0,35.0,47.0,28.0,63.0,8.0,35.0,60.0,30.0,22.0,13.0,42.0,45.0,25.0,10.0,35.0,37.0,35.0,40.0,17.0,12.0,15.0,30.0,60.0,19.0,27.0,10.0,12.0,70.0,44.0,45.0,17.0,80.0,16.0,24.0,8.0,51.0,70.0,60.0,45.0,1.0,27.0,35.0,72.0,45.0,20.0,30.0,30.0,13.0,120.0,15.0,61.0,15.0,30.0,18.0,28.0,8.0,22.0,40.0,15.0,20.0,15.0,23.0,20.0,17.0,21.0,52.0,30.0,22.0,19.0,18.0,47.0,15.0,15.0,21.0,40.0,17.0,14.0,23.0,68.0,25.0,50.0,140.0,28.0,7.0,23.0,7.0,10.0,15.0,11.0,12.0,28.0,80.0,25.0,28.0,15.0,30.0,15.0,22.0,28.0,16.0,95.0,27.0,56.0,50.0,21.0,21.0,40.0,18.0,55.0,90.0,28.0,55.0,21.0,9.0,35.0,13.0,55.0,51.0,34.0,5.0,60.0,45.0,38.0,48.0,35.0,32.0,25.0,60.0,12.0,19.0,40.0,50.0,55.0,28.0,18.0,21.0,37.0,11.0,20.0,30.0,15.0,55.0,17.0,17.0,25.0,22.0,35.0,20.0,20.0,39.0,33.0,18.0,40.0,24.0,35.0,40.0,11.0,26.0,18.0,15.0,25.0,21.0,18.0,55.0,15.0,18.0,20.0,15.0,20.0,70.0,13.0,55.0,55.0,24.0,50.0,30.0,10.0,18.0,18.0,45.0,15.0,16.0,45.0,18.0,60.0,24.0,35.0,15.0,21.0,25.0,15.0,11.0,100.0,52.0,24.0,14.0,55.0,45.0,25.0,25.0,32.0,41.0,40.0,32.0,12.0,7.0,30.0,22.0,30.0,17.0,21.0,15.0,22.0,15.0,9.0,49.0,57.0,20.0,27.0,30.0,30.0,5.0,22.0,55.0,45.0,25.0,25.0,5.0,55.0,15.0,15.0,24.0,10.0,14.0,25.0,10.0,20.0,80.0,20.0,15.0,10.0,40.0,15.0,17.0,11.0,15.0,17.0,19.0,26.0,22.0,8.0,120.0,24.0,23.0,90.0,61.0,17.0,40.0,1.0,34.0,10.0,27.0,30.0,50.0,25.0,63.0,17.0,18.0,20.0,45.0,25.0,70.0,3.0,26.0,32.0,60.0,18.0,70.0,35.0,8.0,65.0,70.0,45.0,35.0,28.0,75.0,20.0,15.0,15.0,18.0,30.0,10.0,15.0,35.0,35.0,13.0,15.0,19.0,25.0,23.0,47.0,17.0,14.0,47.0,8.0,12.0,38.0,16.0,90.0,17.0,70.0,18.0,21.0,32.0,30.0,50.0,14.0,19.0,11.0,18.0,19.0,20.0,28.0,15.0,65.0,19.0,15.0,23.0,16.0,30.0,60.0,15.0,22.0,30.0,18.0,20.0,45.0,17.0,20.0,21.0,25.0,6.0,14.0,20.0,15.0,17.0,10.0,25.0,30.0,8.0,18.0,18.0,21.0,15.0,78.0,20.0,18.0,18.0,52.0,20.0,25.0,12.0,15.0,6.0,18.0,35.0,21.0,60.0,97.0,45.0,35.0,13.0,17.0,14.0,25.0,17.0,21.0,35.0,8.0,13.0,38.0,88.0,18.0,40.0,20.0,7.0,27.0,60.0,28.0,38.0,45.0,21.0,42.0,19.0,60.0,43.0,6.0,40.0,50.0,14.0,45.0,20.0,28.0,12.0,20.0,42.0,14.0,2.0,35.0,11.0,5.0,20.0,29.0,24.0,18.0,10.0,30.0,15.0,15.0,60.0,26.0,40.0,40.0,25.0,27.0,22.0,23.0,12.0,30.0,2.0,40.0,30.0,60.0,9.0,70.0,17.0,45.0,51.0,10.0,85.0,30.0,14.0,15.0,10.0,27.0,15.0,35.0,20.0,90.0,10.0,100.0,55.0,35.0,18.0,21.0,15.0,74.0,50.0,70.0,24.0,28.0,15.0,38.0,16.0,35.0,19.0,52.0,10.0,39.0,30.0,8.0,19.0,11.0,22.0,23.0,14.0,25.0,55.0,40.0,35.0,17.0,35.0,15.0,15.0,80.0,40.0,42.0,14.0,26.0,42.0,25.0,70.0,40.0,60.0,25.0,5.0,30.0,45.0,11.0,22.0,25.0,14.0,19.0,20.0,12.0,16.0,60.0,46.0,53.0,6.0,18.0,5.0,25.0,35.0,10.0,60.0,16.0,12.0,31.0,51.0,50.0,25.0,15.0,33.0,80.0,25.0,9.0,27.0,15.0,8.0,70.0,35.0,18.0,20.0,48.0,18.0,35.0,42.0,15.0,15.0,45.0,36.0,40.0,40.0,50.0,15.0,16.0,14.0,10.0,15.0,18.0,24.0,50.0,50.0,20.0,25.0,25.0,25.0,30.0,52.0,62.0,80.0,17.0,36.0,23.0,53.0,10.0,24.0,65.0,15.0,40.0,12.0,20.0,21.0,17.0,56.0,80.0,16.0,30.0,45.0,20.0,20.0,22.0,50.0,16.0,35.0,31.0,29.0,10.0,55.0,8.0,40.0,15.0,70.0,25.0,35.0,69.0,85.0,20.0,18.0,28.0,50.0,12.0,44.0,42.0,17.0,63.0,80.0,90.0,34.0,18.0,35.0,40.0,20.0,110.0,10.0,23.0,20.0,13.0,25.0,36.0,25.0,3.0,3.0,83.0,12.0,14.0,80.0,15.0,15.0,25.0,15.0,15.0,17.0,15.0,21.0,17.0,80.0,45.0,17.0,20.0,34.0,25.0,60.0,25.0,20.0,24.0,30.0,15.0,17.0,16.0,20.0,42.0,25.0,75.0,36.0,12.0,4.0,35.0,34.0,22.0,35.0,30.0,81.0,40.0,30.0,60.0,13.0,15.0,15.0,20.0,40.0,15.0,30.0,25.0,65.0,78.0,14.0,5.0,13.0,15.0,15.0,7.0,14.0,13.0,22.0,14.0,25.0,10.0,11.0,14.0,13.0,10.0,6.0,21.0,40.0,16.0,5.0,18.0,14.0,42.0,32.0,28.0,28.0,60.0,35.0,85.0,12.0,20.0,27.0,36.0,33.0,23.0,13.0,4.0,25.0,80.0,55.0,45.0,11.0,37.0,30.0,18.0,16.0,15.0,42.0,75.0,15.0,35.0,28.0,15.0,24.0,23.0,61.0,75.0,10.0,21.0,12.0,22.0,32.0,28.0,70.0,65.0,16.0,10.0,110.0,25.0,24.0,8.0,25.0,9.0,14.0,40.0,10.0,40.0,10.0,8.0,38.0,18.0,12.0,30.0,23.0,70.0,15.0,36.0,26.0,25.0,25.0,15.0,6.0,14.0,19.0,8.0,17.0,35.0,70.0,15.0,50.0,14.0,21.0,30.0,30.0,20.0,34.0,14.0,25.0,18.0,101.0,20.0,35.0,20.0,16.0,75.0,70.0,29.0,84.0,22.0,90.0,20.0,45.0,22.0,37.0,50.0,22.0,25.0,10.0,40.0,32.0,60.0,100.0,55.0,60.0,11.0,70.0,20.0,55.0,19.0,17.0,90.0,35.0,17.0,35.0,27.0,26.0,23.0,19.0,35.0,50.0,12.0,11.0,15.0,39.0,60.0,11.0,90.0,27.0,14.0,25.0,19.0,50.0,60.0,11.0,90.0,65.0,11.0,30.0,30.0,95.0,50.0,12.0,55.0,28.0,100.0,22.0,20.0,35.0,20.0,4.0,12.0,17.0,20.0,25.0,40.0,25.0,15.0,50.0,30.0,30.0,24.0,75.0,19.0,15.0,55.0,92.0,12.0,14.0,40.0,14.0,35.0,25.0,17.0,60.0,22.0,30.0,12.0,55.0,16.0,60.0,18.0,30.0,15.0,45.0,13.0,40.0,30.0,20.0,20.0,12.0,12.0,11.0,22.0,22.0,12.0,55.0,20.0,4.0,50.0,25.0,130.0,75.0,11.0,33.0,32.0,24.0,35.0,21.0,21.0,25.0,24.0,19.0,22.0,60.0,12.0,16.0,85.0,12.0,60.0,17.0,83.0,20.0,20.0,35.0,50.0,10.0,39.0,18.0,76.0,25.0,9.0,9.0,4.0,33.0,9.0,15.0,23.0,12.0,18.0,70.0,16.0,97.0,35.0,17.0,2.0,20.0,8.0,19.0,15.0,27.0,18.0,25.0,23.0,17.0,11.0,24.0,25.0,20.0,12.0,12.0,35.0,60.0,22.0,30.0,15.0,22.0,23.0,35.0,18.0,30.0,25.0,12.0,18.0,75.0,15.0,24.0,15.0,60.0,45.0,13.0,45.0,21.0,11.0,30.0,29.0,14.0,60.0,68.0,30.0,7.0,16.0,6.0,20.0,10.0,17.0,30.0,1.0,18.0,12.0,16.0,7.0,2.0,21.0,115.0,24.0,15.0,40.0,24.0,29.0,55.0,6.0,20.0,12.0,30.0,30.0,24.0,70.0,30.0,31.0,10.0,15.0,15.0,12.0,40.0,34.0,20.0,30.0,9.0,35.0,13.0,21.0,12.0,51.0,31.0,60.0,25.0,28.0,10.0,30.0,23.0,11.0,100.0,28.0,45.0,10.0,73.0,11.0,30.0,12.0,17.0,38.0,28.0,15.0,17.0,46.0,25.0,25.0,15.0,20.0,15.0,40.0,40.0,25.0,85.0,33.0,16.0,25.0,120.0,60.0,17.0,16.0,30.0,13.0,15.0,18.0,20.0,24.0,56.0,25.0,28.0,45.0,29.0,15.0,45.0,13.0,21.0,45.0,19.0,45.0,27.0,23.0,30.0,40.0,80.0,40.0,15.0,25.0,12.0,20.0,37.0,21.0,17.0,37.0,19.0,8.0,17.0,35.0,40.0,11.0,47.0,21.0,18.0,22.0,20.0,55.0,25.0,11.0,12.0,14.0,42.0,9.0,25.0,35.0,40.0,90.0,20.0,45.0,30.0,35.0,62.0,12.0,8.0,56.0,15.0,29.0,66.0,11.0,50.0,35.0,45.0,65.0,50.0,17.0,38.0,20.0,42.0,60.0,5.0,35.0,24.0,12.0,29.0,7.0,35.0,15.0,85.0,12.0,35.0,22.0,25.0,35.0,80.0,15.0,30.0,39.0,40.0,60.0,32.0,28.0,15.0,25.0,40.0,13.0,74.0,35.0,18.0,25.0,38.0,22.0,20.0,7.0,13.0,15.0,33.0,80.0,6.0,30.0,22.0,34.0,27.0,10.0,60.0,34.0,28.0,13.0,17.0,15.0,20.0,18.0,75.0,26.0,70.0,52.0,14.0,25.0,50.0,17.0,25.0,22.0,18.0,20.0,68.0,5.0,20.0,55.0,15.0,25.0,35.0,15.0,21.0,15.0,35.0,65.0,25.0,65.0,40.0,14.0,12.0,35.0,14.0,75.0,90.0,16.0,120.0,15.0,55.0,35.0,21.0,40.0,19.0,18.0,30.0,21.0,60.0,17.0,77.0,20.0,35.0,12.0,25.0,16.0,10.0,15.0,24.0,34.0,125.0,45.0,57.0,75.0,60.0,20.0,90.0,14.0,4.0,60.0,21.0,27.0,50.0,25.0,17.0,60.0,19.0,50.0,40.0,10.0,30.0,60.0,70.0,52.0,15.0,17.0,13.0,20.0,28.0,15.0,9.0,30.0,11.0,15.0,5.0,20.0,15.0,25.0,23.0,18.0,30.0,25.0,38.0,60.0,37.0,100.0,35.0,18.0,15.0,35.0,85.0,15.0,26.0,35.0,80.0,15.0,25.0,20.0,20.0,32.0,40.0,35.0,25.0,24.0,26.0,104.0,51.0,30.0,35.0,25.0,16.0,16.0,25.0,100.0,60.0,52.0,23.0,16.0,25.0,30.0,17.0,19.0,10.0,18.0,10.0,10.0,12.0,18.0,60.0,45.0,10.0,25.0,22.0,17.0,15.0,30.0,37.0,55.0,65.0,75.0,14.0,11.0,52.0,27.0,49.0,46.0,22.0,40.0,25.0,50.0,50.0,30.0,13.0,21.0,40.0,7.0,25.0,51.0,26.0,20.0,8.0,40.0,10.0,17.0,2.0,63.0,70.0,45.0,21.0,14.0,13.0,13.0,12.0,19.0,20.0,27.0,100.0,16.0,12.0,35.0,4.0,40.0,17.0,32.0,12.0,27.0,8.0,22.0,52.0,9.0,18.0,15.0,13.0,20.0,16.0,16.0,25.0,3.0,32.0,40.0,10.0,35.0,35.0,23.0,47.0,60.0,70.0,50.0,48.0,17.0,25.0,25.0,25.0,63.0,12.0,14.0,12.0,14.0,83.0,28.0,35.0,5.0,14.0,25.0,25.0,12.0,22.0,60.0,80.0,32.0,15.0,63.0,17.0,62.0,16.0,25.0,20.0,11.0,14.0,50.0,18.0,51.0,12.0,7.0,70.0,27.0,19.0,37.0,20.0,25.0,23.0,11.0,80.0,23.0,50.0,90.0,80.0,5.0,20.0,46.0,25.0,15.0,13.0,15.0,70.0,35.0,11.0,16.0,30.0,18.0,25.0,32.0,22.0,40.0,22.0,22.0,45.0,29.0,60.0,60.0,11.0,18.0,18.0,16.0,25.0,75.0,12.0,25.0,60.0,4.0,9.0,25.0,20.0,60.0,42.0,40.0,13.0,14.0,25.0,58.0,30.0,54.0,30.0,20.0,63.0,25.0,3.0,60.0,35.0,15.0,40.0,25.0,65.0,45.0,15.0,24.0,15.0,23.0,30.0,24.0,35.0,5.0,46.0,50.0,38.0,36.0,4.0,25.0,15.0,25.0,30.0,35.0,18.0,23.0,60.0,11.0,21.0,42.0,30.0,37.0,20.0,55.0,78.0,45.0,11.0,15.0,21.0,30.0,36.0,15.0,3.0,25.0,44.0,17.0,57.0,30.0,15.0,80.0,26.0,25.0,80.0,30.0,20.0,13.0,12.0,90.0,45.0,50.0,27.0,30.0,15.0,12.0,60.0,11.0,18.0,10.0,21.0,22.0,28.0,65.0,24.0,33.0,50.0,51.0,5.0,40.0,24.0,25.0,21.0,9.0,10.0,43.0,13.0,10.0,8.0,45.0,14.0,25.0,45.0,18.0,21.0,25.0,20.0,30.0,35.0,44.0,47.0,20.0,55.0,6.0,13.0,12.0,25.0,35.0,50.0,17.0,33.0,20.0,13.0,59.0,42.0,3.0,16.0,60.0,14.0,15.0,34.0,11.0,27.0,35.0,35.0,10.0,22.0,16.0,20.0,26.0,38.0,28.0,14.0,23.0,9.0,20.0,20.0,19.0,60.0,70.0,40.0,60.0,20.0,12.0,25.0,35.0,40.0,15.0,40.0,19.0,100.0,31.0,48.0,37.0,20.0,28.0,26.0,16.0,21.0,25.0,19.0,31.0,22.0,9.0,19.0,50.0,35.0,65.0,22.0,40.0,20.0,25.0,50.0,55.0,30.0,90.0,12.0,35.0,47.0,30.0,17.0,20.0,14.0,20.0,37.0,21.0,24.0,20.0,18.0,15.0,25.0,35.0,15.0,45.0,24.0,15.0,16.0,24.0,11.0,7.0,60.0,27.0,40.0,16.0,9.0,32.0,35.0,17.0,10.0,22.0,35.0,18.0,35.0,15.0,27.0,14.0,15.0,27.0,32.0,25.0,16.0,26.0,20.0,70.0,24.0,21.0,30.0,22.0,11.0,18.0,90.0,16.0,45.0,24.0,30.0,32.0,42.0,24.0,24.0,90.0,40.0,22.0,27.0,16.0,72.0,15.0,40.0,28.0,8.0,12.0,15.0,55.0,16.0,14.0,21.0,18.0,18.0,63.0,48.0,20.0,101.0,28.0,40.0,15.0,11.0,21.0,7.0,35.0,22.0,18.0,34.0,100.0,30.0,18.0,29.0,45.0,18.0,60.0,6.0,30.0,20.0,50.0,17.0,30.0,25.0,48.0,70.0,55.0,13.0,45.0,9.0,25.0,47.0,80.0,25.0,9.0,7.0,80.0,9.0,53.0,30.0,12.0,10.0,20.0,40.0,42.0,17.0,21.0,18.0,35.0,18.0,17.0,30.0,39.0,18.0,45.0,11.0,20.0,50.0,55.0,10.0,13.0,28.0,16.0,27.0,15.0,31.0,94.0,29.0,70.0,14.0,36.0,25.0,27.0,30.0,40.0,40.0,11.0,36.0,50.0,10.0,68.0,35.0,32.0,14.0,13.0,70.0,23.0,19.0,80.0,25.0,15.0,15.0,50.0,24.0,27.0,43.0,15.0,70.0,20.0,28.0,17.0,38.0,35.0,7.0,34.0,40.0,30.0,40.0,25.0,50.0,33.0,52.0,50.0,42.0,38.0,45.0,19.0,17.0,40.0,21.0,13.0,15.0,10.0,12.0,22.0,25.0,3.0,23.0,35.0,10.0,32.0,18.0,17.0,16.0,12.0,39.0,18.0,23.0,25.0,36.0,26.0,17.0,14.0,7.0,10.0,13.0,15.0,22.0,2.0,22.0,70.0,50.0,20.0,84.0,20.0,23.0,41.0,25.0,10.0,13.0,30.0,30.0,35.0,25.0,19.0,35.0,35.0,30.0,21.0,18.0,15.0,74.0,50.0,76.0,17.0,20.0,50.0,30.0,120.0,15.0,24.0,15.0,5.0,25.0,13.0,10.0,21.0,17.0,34.0,22.0,15.0,24.0,28.0,23.0,42.0,30.0,16.0,30.0,50.0,22.0,15.0,15.0,25.0,13.0,25.0,29.0,14.0,14.0,24.0,35.0,23.0,30.0,24.0,52.0,15.0,27.0,30.0,30.0,54.0,12.0,30.0,25.0,21.0,7.0,18.0,40.0,18.0,25.0,31.0,23.0,15.0,25.0,27.0,52.0,21.0,26.0,32.0,15.0,21.0,26.0,14.0,22.0,34.0,30.0,15.0,15.0,30.0,13.0,50.0,28.0,25.0,26.0,7.0,2.0,22.0,59.0,25.0,14.0,43.0,8.0,70.0,28.0,18.0,12.0,20.0,20.0,11.0,17.0,17.0,26.0,12.0,35.0,6.0,22.0,22.0,19.0,50.0,15.0,15.0,72.0,45.0,20.0,90.0,35.0,31.0,10.0,28.0,30.0,86.0,25.0,70.0,30.0,40.0,20.0,40.0,13.0,30.0,40.0,48.0,50.0,21.0,18.0,18.0,58.0,37.0,28.0,18.0,18.0,32.0,22.0,18.0,22.0,39.0,24.0,30.0,25.0,15.0,35.0,10.0,40.0,9.0,40.0,30.0,50.0,20.0,15.0,30.0,17.0,15.0,48.0,62.0,7.0,15.0,95.0,15.0,9.0,25.0,11.0,14.0,14.0,15.0,15.0,25.0,18.0,60.0,15.0,45.0,35.0,40.0,30.0,12.0,13.0,43.0,75.0,100.0,17.0,12.0,75.0,12.0,37.0,54.0,85.0,20.0,46.0,21.0,33.0,33.0,29.0,20.0,65.0,120.0,30.0,16.0,90.0,25.0,32.0,29.0,12.0,32.0,35.0,22.0,40.0,7.0,23.0,30.0,15.0,17.0,15.0,40.0,17.0,15.0,16.0,9.0,25.0,20.0,90.0,10.0,23.0,30.0,82.0,40.0,15.0,30.0,30.0,16.0,19.0,80.0,30.0,50.0,66.0,40.0,45.0,25.0,13.0,37.0,20.0,42.0,35.0,20.0,60.0,60.0,45.0,20.0,19.0,23.0,55.0,23.0,30.0,51.0,22.0,21.0,16.0,53.0,23.0,25.0,18.0,20.0,26.0,65.0,21.0,55.0,7.0,14.0,50.0,10.0,8.0,20.0,40.0,33.0,20.0,26.0,17.0,51.0,30.0,30.0,15.0,18.0,43.0,15.0,15.0,28.0,32.0,32.0,25.0,18.0,19.0,30.0,30.0,25.0,36.0,40.0,26.0,40.0,31.0,15.0,12.0,20.0,32.0,28.0,13.0,47.0,40.0,30.0,23.0,40.0,26.0,100.0,50.0,18.0,13.0,30.0,50.0,33.0,44.0,45.0,30.0,23.0,13.0,18.0,28.0,50.0,11.0,15.0,25.0,27.0,65.0,55.0,40.0,14.0,50.0,30.0,21.0,55.0,120.0,40.0,25.0,55.0,12.0,65.0,34.0,22.0,35.0,17.0,20.0,70.0,40.0,22.0,14.0,13.0,15.0,23.0,55.0,18.0,75.0,47.0,14.0,38.0,23.0,9.0,12.0,25.0,26.0,5.0,18.0,25.0,30.0,15.0,15.0,25.0,64.0,40.0,20.0,31.0,30.0,120.0,31.0,15.0,24.0,25.0,35.0,7.0,20.0,19.0,45.0,25.0,11.0,15.0,30.0,17.0,37.0,13.0,38.0,25.0,20.0,9.0,33.0,16.0,30.0,27.0,22.0,15.0,11.0,17.0,44.0,54.0,8.0,9.0,25.0,25.0,15.0,25.0,55.0,41.0,15.0,15.0,25.0,25.0,32.0,30.0,14.0,58.0,30.0,12.0,24.0,47.0,18.0,55.0,25.0,53.0,23.0,22.0,12.0,32.0,40.0,60.0,25.0,11.0,65.0,80.0,55.0,16.0,18.0,17.0,18.0,50.0,21.0,50.0,13.0,51.0,25.0,30.0,15.0,40.0,10.0,34.0,70.0,27.0,21.0,15.0,15.0,46.0,4.0,5.0,40.0,19.0,33.0,11.0,34.0,16.0,21.0,80.0,55.0,9.0,21.0,25.0,18.0,41.0,23.0,15.0,13.0,35.0,33.0,11.0,35.0,30.0,25.0,27.0,96.0,40.0,11.0,20.0,50.0,75.0,24.0,32.0,16.0,27.0,15.0,19.0,20.0,35.0,80.0,40.0,18.0,12.0,25.0,19.0,60.0,79.0,95.0,30.0,50.0,22.0,33.0,15.0,11.0,30.0,8.0,25.0,30.0,15.0,30.0,70.0,7.0,80.0,6.0,30.0,21.0,17.0,120.0,27.0,22.0,35.0,6.0,15.0,20.0,11.0,30.0,20.0,30.0,20.0,40.0,30.0,15.0,60.0,17.0,35.0,34.0,35.0,25.0,18.0,8.0,24.0,13.0,30.0,27.0,15.0,27.0,22.0,50.0,22.0,25.0,21.0,12.0,140.0,30.0,60.0,35.0,12.0,12.0,21.0,70.0,20.0,67.0,24.0,62.0,11.0,17.0,32.0,65.0,58.0,52.0,30.0,12.0,20.0,30.0,7.0,37.0,30.0,47.0,90.0,38.0,20.0,2.0,25.0,19.0,19.0,18.0,30.0,45.0,45.0,15.0,19.0,24.0,40.0,35.0,21.0,18.0,100.0,23.0,25.0,80.0,15.0,68.0,40.0,50.0,28.0,10.0,9.0,46.0,22.0,44.0,30.0],\"xaxis\":\"x\",\"yaxis\":\"y\",\"type\":\"histogram\"}],                        {\"template\":{\"data\":{\"histogram2dcontour\":[{\"type\":\"histogram2dcontour\",\"colorbar\":{\"outlinewidth\":0,\"ticks\":\"\"},\"colorscale\":[[0.0,\"#0d0887\"],[0.1111111111111111,\"#46039f\"],[0.2222222222222222,\"#7201a8\"],[0.3333333333333333,\"#9c179e\"],[0.4444444444444444,\"#bd3786\"],[0.5555555555555556,\"#d8576b\"],[0.6666666666666666,\"#ed7953\"],[0.7777777777777778,\"#fb9f3a\"],[0.8888888888888888,\"#fdca26\"],[1.0,\"#f0f921\"]]}],\"choropleth\":[{\"type\":\"choropleth\",\"colorbar\":{\"outlinewidth\":0,\"ticks\":\"\"}}],\"histogram2d\":[{\"type\":\"histogram2d\",\"colorbar\":{\"outlinewidth\":0,\"ticks\":\"\"},\"colorscale\":[[0.0,\"#0d0887\"],[0.1111111111111111,\"#46039f\"],[0.2222222222222222,\"#7201a8\"],[0.3333333333333333,\"#9c179e\"],[0.4444444444444444,\"#bd3786\"],[0.5555555555555556,\"#d8576b\"],[0.6666666666666666,\"#ed7953\"],[0.7777777777777778,\"#fb9f3a\"],[0.8888888888888888,\"#fdca26\"],[1.0,\"#f0f921\"]]}],\"heatmap\":[{\"type\":\"heatmap\",\"colorbar\":{\"outlinewidth\":0,\"ticks\":\"\"},\"colorscale\":[[0.0,\"#0d0887\"],[0.1111111111111111,\"#46039f\"],[0.2222222222222222,\"#7201a8\"],[0.3333333333333333,\"#9c179e\"],[0.4444444444444444,\"#bd3786\"],[0.5555555555555556,\"#d8576b\"],[0.6666666666666666,\"#ed7953\"],[0.7777777777777778,\"#fb9f3a\"],[0.8888888888888888,\"#fdca26\"],[1.0,\"#f0f921\"]]}],\"heatmapgl\":[{\"type\":\"heatmapgl\",\"colorbar\":{\"outlinewidth\":0,\"ticks\":\"\"},\"colorscale\":[[0.0,\"#0d0887\"],[0.1111111111111111,\"#46039f\"],[0.2222222222222222,\"#7201a8\"],[0.3333333333333333,\"#9c179e\"],[0.4444444444444444,\"#bd3786\"],[0.5555555555555556,\"#d8576b\"],[0.6666666666666666,\"#ed7953\"],[0.7777777777777778,\"#fb9f3a\"],[0.8888888888888888,\"#fdca26\"],[1.0,\"#f0f921\"]]}],\"contourcarpet\":[{\"type\":\"contourcarpet\",\"colorbar\":{\"outlinewidth\":0,\"ticks\":\"\"}}],\"contour\":[{\"type\":\"contour\",\"colorbar\":{\"outlinewidth\":0,\"ticks\":\"\"},\"colorscale\":[[0.0,\"#0d0887\"],[0.1111111111111111,\"#46039f\"],[0.2222222222222222,\"#7201a8\"],[0.3333333333333333,\"#9c179e\"],[0.4444444444444444,\"#bd3786\"],[0.5555555555555556,\"#d8576b\"],[0.6666666666666666,\"#ed7953\"],[0.7777777777777778,\"#fb9f3a\"],[0.8888888888888888,\"#fdca26\"],[1.0,\"#f0f921\"]]}],\"surface\":[{\"type\":\"surface\",\"colorbar\":{\"outlinewidth\":0,\"ticks\":\"\"},\"colorscale\":[[0.0,\"#0d0887\"],[0.1111111111111111,\"#46039f\"],[0.2222222222222222,\"#7201a8\"],[0.3333333333333333,\"#9c179e\"],[0.4444444444444444,\"#bd3786\"],[0.5555555555555556,\"#d8576b\"],[0.6666666666666666,\"#ed7953\"],[0.7777777777777778,\"#fb9f3a\"],[0.8888888888888888,\"#fdca26\"],[1.0,\"#f0f921\"]]}],\"mesh3d\":[{\"type\":\"mesh3d\",\"colorbar\":{\"outlinewidth\":0,\"ticks\":\"\"}}],\"scatter\":[{\"fillpattern\":{\"fillmode\":\"overlay\",\"size\":10,\"solidity\":0.2},\"type\":\"scatter\"}],\"parcoords\":[{\"type\":\"parcoords\",\"line\":{\"colorbar\":{\"outlinewidth\":0,\"ticks\":\"\"}}}],\"scatterpolargl\":[{\"type\":\"scatterpolargl\",\"marker\":{\"colorbar\":{\"outlinewidth\":0,\"ticks\":\"\"}}}],\"bar\":[{\"error_x\":{\"color\":\"#2a3f5f\"},\"error_y\":{\"color\":\"#2a3f5f\"},\"marker\":{\"line\":{\"color\":\"#E5ECF6\",\"width\":0.5},\"pattern\":{\"fillmode\":\"overlay\",\"size\":10,\"solidity\":0.2}},\"type\":\"bar\"}],\"scattergeo\":[{\"type\":\"scattergeo\",\"marker\":{\"colorbar\":{\"outlinewidth\":0,\"ticks\":\"\"}}}],\"scatterpolar\":[{\"type\":\"scatterpolar\",\"marker\":{\"colorbar\":{\"outlinewidth\":0,\"ticks\":\"\"}}}],\"histogram\":[{\"marker\":{\"pattern\":{\"fillmode\":\"overlay\",\"size\":10,\"solidity\":0.2}},\"type\":\"histogram\"}],\"scattergl\":[{\"type\":\"scattergl\",\"marker\":{\"colorbar\":{\"outlinewidth\":0,\"ticks\":\"\"}}}],\"scatter3d\":[{\"type\":\"scatter3d\",\"line\":{\"colorbar\":{\"outlinewidth\":0,\"ticks\":\"\"}},\"marker\":{\"colorbar\":{\"outlinewidth\":0,\"ticks\":\"\"}}}],\"scattermapbox\":[{\"type\":\"scattermapbox\",\"marker\":{\"colorbar\":{\"outlinewidth\":0,\"ticks\":\"\"}}}],\"scatterternary\":[{\"type\":\"scatterternary\",\"marker\":{\"colorbar\":{\"outlinewidth\":0,\"ticks\":\"\"}}}],\"scattercarpet\":[{\"type\":\"scattercarpet\",\"marker\":{\"colorbar\":{\"outlinewidth\":0,\"ticks\":\"\"}}}],\"carpet\":[{\"aaxis\":{\"endlinecolor\":\"#2a3f5f\",\"gridcolor\":\"white\",\"linecolor\":\"white\",\"minorgridcolor\":\"white\",\"startlinecolor\":\"#2a3f5f\"},\"baxis\":{\"endlinecolor\":\"#2a3f5f\",\"gridcolor\":\"white\",\"linecolor\":\"white\",\"minorgridcolor\":\"white\",\"startlinecolor\":\"#2a3f5f\"},\"type\":\"carpet\"}],\"table\":[{\"cells\":{\"fill\":{\"color\":\"#EBF0F8\"},\"line\":{\"color\":\"white\"}},\"header\":{\"fill\":{\"color\":\"#C8D4E3\"},\"line\":{\"color\":\"white\"}},\"type\":\"table\"}],\"barpolar\":[{\"marker\":{\"line\":{\"color\":\"#E5ECF6\",\"width\":0.5},\"pattern\":{\"fillmode\":\"overlay\",\"size\":10,\"solidity\":0.2}},\"type\":\"barpolar\"}],\"pie\":[{\"automargin\":true,\"type\":\"pie\"}]},\"layout\":{\"autotypenumbers\":\"strict\",\"colorway\":[\"#636efa\",\"#EF553B\",\"#00cc96\",\"#ab63fa\",\"#FFA15A\",\"#19d3f3\",\"#FF6692\",\"#B6E880\",\"#FF97FF\",\"#FECB52\"],\"font\":{\"color\":\"#2a3f5f\"},\"hovermode\":\"closest\",\"hoverlabel\":{\"align\":\"left\"},\"paper_bgcolor\":\"white\",\"plot_bgcolor\":\"#E5ECF6\",\"polar\":{\"bgcolor\":\"#E5ECF6\",\"angularaxis\":{\"gridcolor\":\"white\",\"linecolor\":\"white\",\"ticks\":\"\"},\"radialaxis\":{\"gridcolor\":\"white\",\"linecolor\":\"white\",\"ticks\":\"\"}},\"ternary\":{\"bgcolor\":\"#E5ECF6\",\"aaxis\":{\"gridcolor\":\"white\",\"linecolor\":\"white\",\"ticks\":\"\"},\"baxis\":{\"gridcolor\":\"white\",\"linecolor\":\"white\",\"ticks\":\"\"},\"caxis\":{\"gridcolor\":\"white\",\"linecolor\":\"white\",\"ticks\":\"\"}},\"coloraxis\":{\"colorbar\":{\"outlinewidth\":0,\"ticks\":\"\"}},\"colorscale\":{\"sequential\":[[0.0,\"#0d0887\"],[0.1111111111111111,\"#46039f\"],[0.2222222222222222,\"#7201a8\"],[0.3333333333333333,\"#9c179e\"],[0.4444444444444444,\"#bd3786\"],[0.5555555555555556,\"#d8576b\"],[0.6666666666666666,\"#ed7953\"],[0.7777777777777778,\"#fb9f3a\"],[0.8888888888888888,\"#fdca26\"],[1.0,\"#f0f921\"]],\"sequentialminus\":[[0.0,\"#0d0887\"],[0.1111111111111111,\"#46039f\"],[0.2222222222222222,\"#7201a8\"],[0.3333333333333333,\"#9c179e\"],[0.4444444444444444,\"#bd3786\"],[0.5555555555555556,\"#d8576b\"],[0.6666666666666666,\"#ed7953\"],[0.7777777777777778,\"#fb9f3a\"],[0.8888888888888888,\"#fdca26\"],[1.0,\"#f0f921\"]],\"diverging\":[[0,\"#8e0152\"],[0.1,\"#c51b7d\"],[0.2,\"#de77ae\"],[0.3,\"#f1b6da\"],[0.4,\"#fde0ef\"],[0.5,\"#f7f7f7\"],[0.6,\"#e6f5d0\"],[0.7,\"#b8e186\"],[0.8,\"#7fbc41\"],[0.9,\"#4d9221\"],[1,\"#276419\"]]},\"xaxis\":{\"gridcolor\":\"white\",\"linecolor\":\"white\",\"ticks\":\"\",\"title\":{\"standoff\":15},\"zerolinecolor\":\"white\",\"automargin\":true,\"zerolinewidth\":2},\"yaxis\":{\"gridcolor\":\"white\",\"linecolor\":\"white\",\"ticks\":\"\",\"title\":{\"standoff\":15},\"zerolinecolor\":\"white\",\"automargin\":true,\"zerolinewidth\":2},\"scene\":{\"xaxis\":{\"backgroundcolor\":\"#E5ECF6\",\"gridcolor\":\"white\",\"linecolor\":\"white\",\"showbackground\":true,\"ticks\":\"\",\"zerolinecolor\":\"white\",\"gridwidth\":2},\"yaxis\":{\"backgroundcolor\":\"#E5ECF6\",\"gridcolor\":\"white\",\"linecolor\":\"white\",\"showbackground\":true,\"ticks\":\"\",\"zerolinecolor\":\"white\",\"gridwidth\":2},\"zaxis\":{\"backgroundcolor\":\"#E5ECF6\",\"gridcolor\":\"white\",\"linecolor\":\"white\",\"showbackground\":true,\"ticks\":\"\",\"zerolinecolor\":\"white\",\"gridwidth\":2}},\"shapedefaults\":{\"line\":{\"color\":\"#2a3f5f\"}},\"annotationdefaults\":{\"arrowcolor\":\"#2a3f5f\",\"arrowhead\":0,\"arrowwidth\":1},\"geo\":{\"bgcolor\":\"white\",\"landcolor\":\"#E5ECF6\",\"subunitcolor\":\"white\",\"showland\":true,\"showlakes\":true,\"lakecolor\":\"white\"},\"title\":{\"x\":0.05},\"mapbox\":{\"style\":\"light\"}}},\"xaxis\":{\"anchor\":\"y\",\"domain\":[0.0,1.0],\"title\":{\"text\":\"Tumor_Size\"}},\"yaxis\":{\"anchor\":\"x\",\"domain\":[0.0,1.0],\"title\":{\"text\":\"count\"}},\"legend\":{\"tracegroupgap\":0},\"margin\":{\"t\":60},\"barmode\":\"relative\"},                        {\"responsive\": true}                    ).then(function(){\n",
              "                            \n",
              "var gd = document.getElementById('3080f7eb-acc3-4b27-b664-2b3c76f82a59');\n",
              "var x = new MutationObserver(function (mutations, observer) {{\n",
              "        var display = window.getComputedStyle(gd).display;\n",
              "        if (!display || display === 'none') {{\n",
              "            console.log([gd, 'removed!']);\n",
              "            Plotly.purge(gd);\n",
              "            observer.disconnect();\n",
              "        }}\n",
              "}});\n",
              "\n",
              "// Listen for the removal of the full notebook cells\n",
              "var notebookContainer = gd.closest('#notebook-container');\n",
              "if (notebookContainer) {{\n",
              "    x.observe(notebookContainer, {childList: true});\n",
              "}}\n",
              "\n",
              "// Listen for the clearing of the current output cell\n",
              "var outputEl = gd.closest('.output');\n",
              "if (outputEl) {{\n",
              "    x.observe(outputEl, {childList: true});\n",
              "}}\n",
              "\n",
              "                        })                };                            </script>        </div>\n",
              "</body>\n",
              "</html>"
            ]
          },
          "metadata": {},
          "output_type": "display_data"
        }
      ],
      "source": [
        "VariableName_fig = px.histogram(data, x='Tumor_Size')\n",
        "VariableName_fig.show()"
      ]
    },
    {
      "cell_type": "code",
      "execution_count": null,
      "metadata": {
        "colab": {
          "base_uri": "https://localhost:8080/",
          "height": 542
        },
        "id": "sdePVDO1lIgO",
        "outputId": "4171a480-2319-4374-e5e5-ef8517c89c50"
      },
      "outputs": [
        {
          "data": {
            "text/html": [
              "<html>\n",
              "<head><meta charset=\"utf-8\" /></head>\n",
              "<body>\n",
              "    <div>            <script src=\"https://cdnjs.cloudflare.com/ajax/libs/mathjax/2.7.5/MathJax.js?config=TeX-AMS-MML_SVG\"></script><script type=\"text/javascript\">if (window.MathJax && window.MathJax.Hub && window.MathJax.Hub.Config) {window.MathJax.Hub.Config({SVG: {font: \"STIX-Web\"}});}</script>                <script type=\"text/javascript\">window.PlotlyConfig = {MathJaxConfig: 'local'};</script>\n",
              "        <script charset=\"utf-8\" src=\"https://cdn.plot.ly/plotly-2.35.2.min.js\"></script>                <div id=\"4ea1bfdb-ba47-42ea-b7c4-ce0160e37556\" class=\"plotly-graph-div\" style=\"height:525px; width:100%;\"></div>            <script type=\"text/javascript\">                                    window.PLOTLYENV=window.PLOTLYENV || {};                                    if (document.getElementById(\"4ea1bfdb-ba47-42ea-b7c4-ce0160e37556\")) {                    Plotly.newPlot(                        \"4ea1bfdb-ba47-42ea-b7c4-ce0160e37556\",                        [{\"alignmentgroup\":\"True\",\"hovertemplate\":\"Age=%{x}\\u003cextra\\u003e\\u003c\\u002fextra\\u003e\",\"legendgroup\":\"\",\"marker\":{\"color\":\"#636efa\"},\"name\":\"\",\"notched\":false,\"offsetgroup\":\"\",\"orientation\":\"h\",\"showlegend\":false,\"x\":[68.0,50.0,58.0,58.0,47.0,51.0,51.0,40.0,40.0,69.0,68.0,46.0,65.0,48.0,62.0,61.0,56.0,43.0,48.0,60.0,48.0,57.0,55.0,48.0,62.0,63.0,48.0,46.0,57.0,66.0,47.0,53.0,59.0,60.0,46.0,51.0,54.0,51.0,49.0,51.0,57.0,64.0,62.0,53.0,55.0,66.0,42.0,62.0,null,69.0,37.0,69.0,null,63.0,57.0,55.0,62.0,50.0,50.0,55.0,56.0,51.0,42.0,59.0,67.0,46.0,31.0,40.0,58.0,52.0,null,64.0,31.0,66.0,67.0,56.0,66.0,42.0,51.0,68.0,53.0,67.0,66.0,53.0,51.0,46.0,48.0,52.0,55.0,65.0,53.0,33.0,63.0,45.0,59.0,60.0,50.0,61.0,50.0,68.0,38.0,47.0,39.0,57.0,52.0,60.0,54.0,68.0,38.0,63.0,61.0,37.0,46.0,45.0,54.0,53.0,50.0,69.0,48.0,53.0,67.0,43.0,50.0,59.0,53.0,62.0,39.0,59.0,56.0,45.0,60.0,50.0,58.0,50.0,55.0,37.0,46.0,65.0,61.0,52.0,54.0,36.0,180.0,62.0,54.0,61.0,46.0,38.0,66.0,59.0,38.0,67.0,60.0,61.0,67.0,69.0,47.0,39.0,53.0,55.0,59.0,53.0,59.0,57.0,61.0,68.0,54.0,37.0,48.0,53.0,69.0,63.0,49.0,63.0,60.0,41.0,59.0,43.0,52.0,61.0,60.0,61.0,63.0,48.0,51.0,66.0,68.0,58.0,62.0,46.0,58.0,60.0,62.0,53.0,42.0,63.0,55.0,50.0,52.0,47.0,55.0,60.0,66.0,50.0,64.0,67.0,56.0,60.0,56.0,48.0,44.0,37.0,-50.0,63.0,54.0,63.0,44.0,68.0,64.0,50.0,55.0,66.0,46.0,43.0,43.0,43.0,59.0,55.0,61.0,66.0,55.0,65.0,69.0,59.0,63.0,68.0,48.0,61.0,43.0,44.0,47.0,52.0,69.0,39.0,43.0,64.0,66.0,45.0,37.0,50.0,40.0,52.0,null,32.0,65.0,67.0,57.0,63.0,42.0,57.0,42.0,46.0,47.0,67.0,67.0,65.0,65.0,33.0,64.0,66.0,34.0,55.0,47.0,58.0,38.0,57.0,65.0,52.0,67.0,57.0,61.0,45.0,50.0,50.0,53.0,54.0,58.0,56.0,68.0,41.0,61.0,65.0,69.0,43.0,47.0,67.0,45.0,65.0,53.0,67.0,43.0,47.0,48.0,62.0,68.0,57.0,40.0,56.0,52.0,40.0,51.0,67.0,54.0,56.0,48.0,57.0,47.0,54.0,41.0,65.0,58.0,38.0,38.0,60.0,58.0,63.0,53.0,43.0,60.0,60.0,47.0,48.0,59.0,56.0,53.0,48.0,52.0,61.0,66.0,45.0,52.0,67.0,40.0,50.0,65.0,55.0,47.0,49.0,53.0,53.0,44.0,54.0,51.0,46.0,47.0,68.0,50.0,67.0,47.0,68.0,55.0,47.0,56.0,51.0,41.0,67.0,58.0,67.0,63.0,69.0,59.0,null,65.0,48.0,39.0,55.0,50.0,39.0,49.0,58.0,34.0,49.0,52.0,62.0,55.0,57.0,40.0,52.0,63.0,57.0,40.0,55.0,42.0,52.0,39.0,53.0,47.0,37.0,63.0,null,50.0,56.0,56.0,52.0,38.0,57.0,56.0,null,54.0,69.0,62.0,63.0,46.0,47.0,55.0,40.0,47.0,52.0,65.0,63.0,57.0,45.0,62.0,54.0,65.0,64.0,47.0,63.0,66.0,69.0,48.0,60.0,61.0,61.0,43.0,49.0,63.0,61.0,61.0,69.0,66.0,39.0,52.0,49.0,55.0,62.0,42.0,50.0,52.0,38.0,39.0,57.0,62.0,55.0,47.0,68.0,50.0,42.0,null,42.0,46.0,50.0,62.0,58.0,53.0,46.0,38.0,40.0,60.0,63.0,49.0,57.0,48.0,46.0,61.0,61.0,53.0,53.0,42.0,57.0,56.0,48.0,59.0,57.0,56.0,64.0,50.0,40.0,40.0,52.0,59.0,53.0,54.0,61.0,null,41.0,57.0,40.0,63.0,62.0,62.0,42.0,47.0,53.0,64.0,51.0,56.0,50.0,66.0,56.0,46.0,66.0,57.0,55.0,32.0,58.0,63.0,48.0,64.0,44.0,57.0,61.0,502.0,45.0,52.0,67.0,45.0,63.0,56.0,46.0,53.0,62.0,47.0,39.0,33.0,56.0,55.0,69.0,58.0,42.0,58.0,51.0,64.0,62.0,52.0,43.0,65.0,59.0,62.0,51.0,57.0,46.0,40.0,49.0,46.0,40.0,49.0,61.0,56.0,50.0,55.0,60.0,34.0,51.0,53.0,58.0,61.0,48.0,63.0,56.0,66.0,64.0,49.0,56.0,67.0,42.0,47.0,60.0,43.0,42.0,60.0,52.0,63.0,60.0,61.0,58.0,52.0,64.0,68.0,47.0,51.0,53.0,63.0,50.0,45.0,68.0,46.0,54.0,65.0,51.0,45.0,45.0,57.0,35.0,54.0,68.0,58.0,48.0,59.0,47.0,52.0,46.0,34.0,34.0,36.0,40.0,38.0,61.0,37.0,60.0,38.0,56.0,49.0,65.0,61.0,69.0,53.0,61.0,47.0,62.0,62.0,41.0,41.0,48.0,48.0,54.0,63.0,44.0,51.0,55.0,49.0,64.0,63.0,46.0,46.0,61.0,52.0,62.0,52.0,39.0,36.0,64.0,55.0,65.0,45.0,68.0,57.0,44.0,51.0,50.0,52.0,53.0,49.0,65.0,67.0,63.0,43.0,57.0,63.0,52.0,61.0,58.0,62.0,56.0,48.0,64.0,67.0,57.0,41.0,62.0,51.0,65.0,51.0,46.0,46.0,48.0,43.0,59.0,49.0,56.0,53.0,58.0,51.0,55.0,54.0,34.0,42.0,45.0,46.0,62.0,49.0,38.0,30.0,68.0,59.0,49.0,57.0,49.0,65.0,47.0,40.0,45.0,54.0,55.0,57.0,67.0,51.0,54.0,52.0,63.0,48.0,49.0,46.0,46.0,46.0,65.0,69.0,59.0,48.0,43.0,55.0,59.0,67.0,69.0,54.0,69.0,60.0,45.0,48.0,60.0,49.0,33.0,60.0,68.0,67.0,50.0,46.0,39.0,55.0,59.0,32.0,63.0,53.0,54.0,50.0,45.0,46.0,46.0,67.0,58.0,60.0,55.0,46.0,62.0,59.0,59.0,44.0,69.0,43.0,63.0,43.0,36.0,63.0,60.0,56.0,44.0,69.0,50.0,55.0,65.0,47.0,62.0,60.0,62.0,62.0,63.0,61.0,55.0,66.0,69.0,60.0,61.0,51.0,49.0,58.0,60.0,48.0,63.0,40.0,69.0,67.0,41.0,67.0,45.0,66.0,55.0,48.0,58.0,61.0,59.0,51.0,44.0,59.0,58.0,43.0,52.0,57.0,52.0,56.0,69.0,49.0,64.0,48.0,41.0,51.0,45.0,53.0,47.0,60.0,62.0,50.0,55.0,60.0,65.0,64.0,64.0,67.0,57.0,38.0,52.0,36.0,49.0,89.0,64.0,61.0,68.0,56.0,47.0,31.0,55.0,62.0,48.0,46.0,62.0,61.0,56.0,65.0,38.0,57.0,62.0,57.0,63.0,62.0,49.0,31.0,67.0,39.0,48.0,38.0,47.0,47.0,53.0,46.0,38.0,52.0,46.0,61.0,38.0,50.0,40.0,51.0,61.0,42.0,63.0,64.0,66.0,42.0,51.0,45.0,46.0,55.0,49.0,65.0,58.0,47.0,65.0,67.0,39.0,59.0,38.0,41.0,65.0,52.0,49.0,58.0,55.0,64.0,53.0,39.0,54.0,67.0,65.0,45.0,63.0,56.0,38.0,47.0,46.0,66.0,51.0,63.0,43.0,49.0,69.0,51.0,49.0,44.0,45.0,64.0,60.0,60.0,60.0,53.0,63.0,53.0,53.0,46.0,65.0,30.0,43.0,61.0,67.0,42.0,68.0,58.0,57.0,43.0,39.0,53.0,55.0,66.0,58.0,41.0,50.0,39.0,37.0,46.0,55.0,42.0,53.0,66.0,55.0,48.0,49.0,60.0,61.0,63.0,61.0,47.0,53.0,45.0,62.0,47.0,40.0,63.0,42.0,47.0,51.0,51.0,50.0,46.0,47.0,46.0,56.0,64.0,49.0,66.0,60.0,60.0,53.0,63.0,61.0,45.0,47.0,55.0,35.0,55.0,60.0,31.0,51.0,58.0,50.0,48.0,57.0,69.0,57.0,44.0,60.0,56.0,55.0,68.0,42.0,47.0,59.0,65.0,32.0,49.0,60.0,55.0,64.0,43.0,61.0,42.0,58.0,51.0,68.0,58.0,62.0,66.0,52.0,69.0,64.0,66.0,62.0,55.0,55.0,57.0,54.0,67.0,62.0,66.0,56.0,64.0,67.0,41.0,65.0,51.0,49.0,56.0,44.0,56.0,48.0,54.0,62.0,53.0,45.0,50.0,54.0,32.0,65.0,63.0,67.0,62.0,67.0,42.0,60.0,48.0,60.0,69.0,54.0,56.0,48.0,45.0,59.0,59.0,49.0,64.0,47.0,46.0,63.0,61.0,65.0,64.0,53.0,42.0,49.0,66.0,36.0,46.0,53.0,62.0,55.0,53.0,57.0,58.0,68.0,41.0,69.0,61.0,46.0,60.0,63.0,45.0,60.0,50.0,64.0,51.0,58.0,63.0,61.0,49.0,57.0,51.0,60.0,66.0,50.0,53.0,33.0,45.0,57.0,52.0,52.0,58.0,60.0,59.0,43.0,47.0,52.0,63.0,51.0,63.0,49.0,61.0,64.0,57.0,58.0,55.0,54.0,67.0,57.0,37.0,61.0,46.0,31.0,59.0,50.0,59.0,41.0,64.0,60.0,68.0,46.0,43.0,49.0,56.0,60.0,67.0,67.0,50.0,68.0,66.0,40.0,45.0,61.0,68.0,59.0,65.0,50.0,62.0,59.0,56.0,46.0,41.0,45.0,44.0,47.0,66.0,56.0,49.0,64.0,66.0,45.0,65.0,54.0,48.0,49.0,40.0,64.0,61.0,61.0,55.0,43.0,63.0,48.0,46.0,63.0,43.0,46.0,35.0,68.0,47.0,43.0,57.0,64.0,61.0,44.0,50.0,49.0,67.0,46.0,51.0,58.0,46.0,59.0,53.0,62.0,57.0,51.0,69.0,47.0,57.0,55.0,52.0,45.0,39.0,56.0,45.0,41.0,63.0,68.0,64.0,49.0,68.0,46.0,59.0,40.0,47.0,53.0,59.0,50.0,47.0,46.0,46.0,67.0,51.0,65.0,56.0,68.0,57.0,49.0,48.0,67.0,64.0,53.0,42.0,50.0,56.0,53.0,59.0,67.0,45.0,45.0,49.0,65.0,45.0,56.0,60.0,57.0,54.0,50.0,63.0,41.0,51.0,65.0,59.0,66.0,41.0,66.0,67.0,40.0,39.0,66.0,58.0,45.0,65.0,43.0,57.0,47.0,44.0,46.0,64.0,59.0,51.0,66.0,46.0,52.0,49.0,42.0,63.0,66.0,48.0,66.0,41.0,61.0,55.0,62.0,35.0,59.0,54.0,64.0,64.0,38.0,60.0,55.0,41.0,67.0,53.0,53.0,34.0,39.0,31.0,64.0,40.0,59.0,55.0,46.0,58.0,66.0,56.0,47.0,39.0,46.0,62.0,46.0,60.0,36.0,51.0,60.0,63.0,65.0,59.0,50.0,53.0,46.0,46.0,46.0,47.0,61.0,52.0,57.0,59.0,63.0,48.0,59.0,58.0,47.0,56.0,44.0,44.0,33.0,54.0,45.0,60.0,62.0,53.0,41.0,39.0,44.0,57.0,33.0,68.0,49.0,50.0,60.0,50.0,40.0,46.0,49.0,69.0,54.0,51.0,51.0,68.0,41.0,58.0,62.0,42.0,46.0,54.0,54.0,47.0,66.0,42.0,55.0,60.0,52.0,61.0,48.0,58.0,44.0,43.0,53.0,48.0,63.0,64.0,39.0,59.0,51.0,39.0,56.0,51.0,49.0,68.0,51.0,54.0,64.0,43.0,39.0,69.0,66.0,55.0,69.0,51.0,57.0,63.0,55.0,55.0,59.0,61.0,49.0,60.0,50.0,61.0,47.0,55.0,57.0,53.0,44.0,63.0,62.0,43.0,69.0,46.0,53.0,40.0,63.0,64.0,57.0,43.0,60.0,42.0,40.0,43.0,57.0,68.0,65.0,60.0,67.0,39.0,59.0,52.0,58.0,48.0,61.0,34.0,56.0,59.0,52.0,57.0,67.0,65.0,48.0,64.0,64.0,57.0,47.0,49.0,40.0,57.0,47.0,63.0,43.0,66.0,66.0,44.0,64.0,45.0,68.0,55.0,54.0,66.0,59.0,61.0,58.0,51.0,68.0,41.0,59.0,64.0,63.0,65.0,51.0,66.0,35.0,42.0,49.0,47.0,66.0,49.0,47.0,45.0,55.0,63.0,51.0,59.0,43.0,59.0,55.0,49.0,45.0,41.0,63.0,41.0,59.0,62.0,65.0,47.0,67.0,53.0,46.0,56.0,63.0,67.0,63.0,47.0,63.0,48.0,61.0,39.0,68.0,51.0,69.0,39.0,48.0,30.0,40.0,39.0,44.0,58.0,38.0,47.0,59.0,53.0,41.0,52.0,54.0,51.0,41.0,58.0,49.0,58.0,42.0,68.0,35.0,46.0,53.0,40.0,66.0,62.0,53.0,37.0,53.0,50.0,64.0,66.0,65.0,64.0,49.0,53.0,50.0,61.0,57.0,62.0,52.0,47.0,64.0,34.0,61.0,61.0,58.0,52.0,50.0,66.0,66.0,43.0,41.0,56.0,53.0,53.0,43.0,64.0,51.0,58.0,68.0,66.0,51.0,55.0,62.0,62.0,42.0,55.0,59.0,66.0,57.0,46.0,64.0,65.0,48.0,40.0,54.0,60.0,63.0,61.0,69.0,45.0,45.0,49.0,69.0,42.0,54.0,64.0,49.0,44.0,52.0,47.0,59.0,67.0,63.0,68.0,52.0,61.0,39.0,66.0,53.0,51.0,40.0,56.0,33.0,67.0,55.0,45.0,60.0,47.0,45.0,56.0,41.0,65.0,66.0,52.0,55.0,57.0,49.0,48.0,31.0,59.0,43.0,45.0,61.0,31.0,47.0,32.0,49.0,54.0,51.0,47.0,53.0,40.0,59.0,65.0,47.0,59.0,39.0,54.0,36.0,46.0,41.0,62.0,45.0,41.0,43.0,69.0,56.0,62.0,65.0,32.0,66.0,62.0,32.0,32.0,50.0,53.0,60.0,59.0,46.0,49.0,39.0,50.0,59.0,60.0,63.0,61.0,63.0,49.0,42.0,46.0,51.0,43.0,49.0,45.0,46.0,69.0,50.0,66.0,43.0,56.0,37.0,52.0,53.0,55.0,43.0,52.0,61.0,45.0,42.0,50.0,66.0,62.0,67.0,60.0,57.0,69.0,60.0,48.0,50.0,53.0,63.0,52.0,57.0,55.0,63.0,51.0,46.0,50.0,56.0,57.0,31.0,59.0,53.0,66.0,46.0,67.0,61.0,42.0,36.0,49.0,68.0,55.0,68.0,52.0,63.0,45.0,53.0,46.0,59.0,53.0,53.0,42.0,53.0,51.0,40.0,44.0,60.0,63.0,66.0,57.0,58.0,61.0,46.0,59.0,57.0,55.0,61.0,44.0,55.0,53.0,69.0,55.0,38.0,48.0,67.0,51.0,55.0,47.0,37.0,54.0,61.0,50.0,54.0,47.0,62.0,57.0,59.0,49.0,45.0,69.0,55.0,69.0,45.0,57.0,54.0,49.0,56.0,69.0,60.0,35.0,58.0,69.0,65.0,67.0,51.0,40.0,33.0,56.0,59.0,61.0,46.0,67.0,69.0,52.0,41.0,57.0,54.0,60.0,36.0,52.0,35.0,57.0,68.0,64.0,49.0,57.0,49.0,53.0,52.0,46.0,54.0,60.0,46.0,66.0,55.0,47.0,49.0,44.0,49.0,60.0,46.0,49.0,50.0,49.0,51.0,52.0,46.0,68.0,48.0,48.0,53.0,54.0,50.0,56.0,56.0,54.0,45.0,55.0,64.0,46.0,56.0,58.0,45.0,30.0,67.0,46.0,49.0,63.0,49.0,67.0,60.0,46.0,37.0,65.0,43.0,61.0,64.0,52.0,43.0,67.0,51.0,69.0,67.0,59.0,50.0,65.0,47.0,51.0,46.0,53.0,57.0,53.0,63.0,60.0,47.0,46.0,43.0,46.0,60.0,53.0,62.0,47.0,65.0,59.0,61.0,69.0,55.0,53.0,54.0,49.0,61.0,62.0,40.0,45.0,47.0,59.0,42.0,66.0,34.0,65.0,43.0,50.0,56.0,61.0,55.0,45.0,52.0,42.0,65.0,65.0,39.0,44.0,50.0,67.0,61.0,61.0,60.0,64.0,45.0,60.0,56.0,49.0,51.0,61.0,53.0,59.0,38.0,64.0,53.0,67.0,69.0,63.0,58.0,44.0,67.0,53.0,48.0,58.0,47.0,68.0,69.0,60.0,60.0,50.0,50.0,59.0,63.0,62.0,40.0,48.0,60.0,46.0,50.0,46.0,64.0,64.0,68.0,68.0,65.0,64.0,55.0,65.0,50.0,40.0,35.0,50.0,52.0,39.0,55.0,69.0,55.0,60.0,50.0,62.0,64.0,47.0,41.0,60.0,69.0,38.0,41.0,62.0,54.0,67.0,63.0,50.0,53.0,46.0,46.0,64.0,47.0,68.0,51.0,61.0,55.0,50.0,52.0,47.0,37.0,57.0,47.0,48.0,47.0,45.0,37.0,58.0,43.0,56.0,64.0,40.0,58.0,56.0,42.0,63.0,59.0,62.0,69.0,58.0,64.0,47.0,59.0,48.0,44.0,49.0,46.0,48.0,53.0,63.0,47.0,52.0,62.0,42.0,47.0,43.0,58.0,59.0,35.0,64.0,43.0,56.0,60.0,67.0,57.0,67.0,36.0,40.0,49.0,51.0,63.0,38.0,44.0,56.0,44.0,61.0,38.0,68.0,65.0,55.0,66.0,43.0,57.0,66.0,59.0,57.0,68.0,51.0,68.0,47.0,62.0,50.0,69.0,66.0,67.0,62.0,67.0,66.0,48.0,44.0,50.0,56.0,49.0,46.0,50.0,62.0,40.0,69.0,64.0,36.0,50.0,49.0,65.0,40.0,64.0,50.0,51.0,67.0,51.0,62.0,62.0,55.0,63.0,42.0,56.0,31.0,56.0,59.0,48.0,66.0,51.0,69.0,63.0,48.0,46.0,69.0,60.0,61.0,60.0,58.0,44.0,48.0,45.0,52.0,58.0,48.0,58.0,45.0,66.0,62.0,60.0,54.0,63.0,57.0,63.0,49.0,45.0,67.0,54.0,59.0,51.0,46.0,64.0,68.0,47.0,52.0,69.0,59.0,65.0,56.0,45.0,48.0,43.0,67.0,65.0,57.0,48.0,45.0,64.0,65.0,53.0,63.0,60.0,45.0,51.0,54.0,54.0,49.0,49.0,41.0,51.0,68.0,44.0,68.0,67.0,62.0,45.0,46.0,48.0,61.0,52.0,48.0,61.0,47.0,54.0,55.0,48.0,47.0,62.0,51.0,49.0,46.0,56.0,35.0,66.0,47.0,63.0,41.0,46.0,68.0,49.0,61.0,43.0,50.0,54.0,42.0,68.0,48.0,49.0,46.0,38.0,63.0,65.0,46.0,59.0,61.0,47.0,58.0,55.0,48.0,50.0,59.0,50.0,47.0,58.0,51.0,67.0,44.0,48.0,56.0,48.0,55.0,45.0,51.0,60.0,52.0,62.0,69.0,38.0,57.0,53.0,49.0,58.0,44.0,33.0,46.0,68.0,53.0,49.0,57.0,53.0,67.0,47.0,50.0,60.0,48.0,42.0,56.0,56.0,55.0,46.0,43.0,52.0,64.0,54.0,40.0,58.0,62.0,67.0,66.0,68.0,58.0,54.0,69.0,56.0,61.0,42.0,38.0,57.0,39.0,66.0,59.0,31.0,46.0,53.0,49.0,68.0,45.0,63.0,41.0,61.0,69.0,56.0,45.0,37.0,62.0,69.0,44.0,54.0,53.0,60.0,45.0,42.0,47.0,48.0,49.0,51.0,51.0,55.0,64.0,64.0,58.0,69.0,69.0,61.0,52.0,54.0,64.0,45.0,37.0,56.0,54.0,55.0,56.0,58.0,44.0,51.0,55.0,57.0,50.0,66.0,62.0,62.0,62.0,49.0,49.0,55.0,38.0,63.0,47.0,65.0,63.0,32.0,48.0,60.0,45.0,55.0,42.0,67.0,66.0,44.0,59.0,68.0,44.0,49.0,63.0,63.0,60.0,49.0,46.0,62.0,50.0,48.0,60.0,55.0,66.0,59.0,69.0,57.0,45.0,55.0,36.0,46.0,67.0,59.0,50.0,60.0,63.0,50.0,64.0,55.0,47.0,64.0,64.0,50.0,46.0,61.0,61.0,69.0,69.0,48.0,42.0,45.0,43.0,59.0,62.0,62.0,38.0,69.0,42.0,59.0,66.0,63.0,56.0,37.0,50.0,52.0,54.0,58.0,42.0,59.0,56.0,50.0,42.0,47.0,45.0,41.0,47.0,56.0,51.0,45.0,43.0,54.0,65.0,48.0,49.0,51.0,52.0,54.0,41.0,63.0,54.0,69.0,64.0,69.0,66.0,64.0,46.0,50.0,46.0,60.0,39.0,60.0,48.0,51.0,55.0,62.0,56.0,36.0,65.0,58.0,62.0,52.0,66.0,56.0,54.0,56.0,62.0,54.0,65.0,59.0,51.0,65.0,54.0,57.0,60.0,60.0,48.0,53.0,48.0,68.0,49.0,54.0,49.0,55.0,46.0,41.0,53.0,52.0,55.0,63.0,53.0,66.0,56.0,58.0,50.0,52.0,56.0,53.0,47.0,52.0,55.0,62.0,51.0,63.0,47.0,50.0,60.0,61.0,67.0,59.0,66.0,44.0,44.0,56.0,38.0,49.0,57.0,59.0,49.0,48.0,51.0,54.0,59.0,56.0,52.0,49.0,55.0,60.0,63.0,58.0,39.0,62.0,60.0,45.0,45.0,62.0,65.0,68.0,43.0,36.0,63.0,36.0,47.0,51.0,61.0,66.0,47.0,41.0,48.0,45.0,67.0,58.0,50.0,47.0,59.0,67.0,63.0,62.0,52.0,65.0,35.0,51.0,54.0,44.0,57.0,57.0,36.0,45.0,50.0,43.0,36.0,54.0,65.0,41.0,65.0,59.0,61.0,45.0,69.0,54.0,50.0,53.0,50.0,67.0,43.0,39.0,45.0,46.0,65.0,42.0,68.0,69.0,47.0,48.0,48.0,51.0,68.0,48.0,35.0,49.0,60.0,64.0,55.0,52.0,60.0,68.0,49.0,45.0,46.0,49.0,67.0,62.0,62.0,54.0,50.0,53.0,51.0,57.0,48.0,53.0,54.0,49.0,66.0,65.0,55.0,49.0,47.0,58.0,58.0,47.0,37.0,61.0,58.0,68.0,63.0,57.0,36.0,47.0,59.0,55.0,41.0,44.0,61.0,49.0,65.0,69.0,52.0,64.0,69.0,44.0,49.0,64.0,43.0,55.0,51.0,39.0,37.0,61.0,54.0,59.0,45.0,61.0,50.0,49.0,40.0,48.0,49.0,53.0,44.0,53.0,52.0,53.0,48.0,57.0,44.0,59.0,49.0,53.0,55.0,62.0,38.0,56.0,53.0,40.0,43.0,67.0,43.0,50.0,61.0,62.0,53.0,55.0,58.0,69.0,52.0,62.0,64.0,68.0,48.0,51.0,67.0,58.0,62.0,69.0,57.0,53.0,47.0,58.0,46.0,53.0,49.0,65.0,50.0,39.0,42.0,45.0,47.0,53.0,55.0,63.0,62.0,51.0,57.0,46.0,42.0,63.0,57.0,52.0,56.0,58.0,66.0,36.0,36.0,55.0,44.0,59.0,38.0,40.0,68.0,47.0,57.0,42.0,43.0,52.0,65.0,57.0,47.0,41.0,51.0,60.0,53.0,47.0,52.0,63.0,55.0,69.0,40.0,44.0,40.0,33.0,51.0,41.0,61.0,53.0,61.0,46.0,46.0,42.0,44.0,44.0,52.0,63.0,56.0,53.0,43.0,62.0,49.0,56.0,58.0,62.0,61.0,62.0,54.0,51.0,52.0,38.0,44.0,59.0,52.0,48.0,34.0,67.0,47.0,62.0,49.0,53.0,47.0,54.0,46.0,54.0,48.0,57.0,49.0,48.0,50.0,51.0,42.0,55.0,63.0,62.0,58.0,54.0,62.0,68.0,47.0,52.0,37.0,55.0,65.0,46.0,63.0,62.0,65.0,68.0,58.0,66.0,62.0,68.0,32.0,43.0,62.0,40.0,61.0,46.0,48.0,64.0,60.0,57.0,64.0,54.0,48.0,65.0,35.0,54.0,54.0,69.0,44.0,48.0,69.0,55.0,49.0,65.0,47.0,64.0,52.0,64.0,69.0,48.0,65.0,68.0,49.0,54.0,63.0,57.0,39.0,45.0,54.0,65.0,51.0,64.0,48.0,68.0,49.0,57.0,35.0,66.0,48.0,67.0,53.0,66.0,40.0,59.0,69.0,67.0,60.0,64.0,48.0,63.0,49.0,53.0,50.0,53.0,63.0,44.0,45.0,51.0,54.0,47.0,56.0,54.0,51.0,63.0,59.0,62.0,57.0,50.0,51.0,48.0,48.0,54.0,46.0,69.0,39.0,40.0,56.0,57.0,51.0,49.0,62.0,59.0,53.0,45.0,53.0,65.0,39.0,48.0,53.0,53.0,67.0,62.0,68.0,38.0,64.0,47.0,63.0,61.0,68.0,58.0,41.0,47.0,56.0,56.0,56.0,46.0,53.0,45.0,66.0,61.0,53.0,51.0,68.0,67.0,59.0,64.0,57.0,54.0,41.0,49.0,51.0,42.0,46.0,61.0,44.0,55.0,50.0,62.0,62.0,46.0,56.0,57.0,47.0,42.0,56.0,50.0,43.0,46.0,46.0,60.0,44.0,47.0,46.0,60.0,60.0,61.0,67.0,61.0,43.0,66.0,51.0,56.0,67.0,51.0,50.0,52.0,56.0,61.0,53.0,63.0,59.0,65.0,66.0,57.0,44.0,61.0,41.0,40.0,53.0,51.0,55.0,50.0,60.0,55.0,58.0,41.0,50.0,59.0,60.0,48.0,50.0,67.0,62.0,65.0,54.0,61.0,49.0,54.0,59.0,48.0,42.0,64.0,59.0,53.0,51.0,34.0,49.0,56.0,53.0,59.0,55.0,43.0,69.0,49.0,57.0,48.0,64.0,59.0,64.0,43.0,49.0,41.0,58.0,48.0,40.0,55.0,47.0,63.0,63.0,61.0,46.0,50.0,65.0,52.0,56.0,60.0,46.0,62.0,61.0,52.0,49.0,67.0,50.0,54.0,69.0,42.0,61.0,47.0,40.0,65.0,52.0,48.0,64.0,50.0,69.0,46.0,61.0,66.0,65.0,41.0,50.0,68.0,49.0,43.0,50.0,58.0,60.0,43.0,43.0,53.0,42.0,55.0,43.0,40.0,69.0,49.0,59.0,60.0,63.0,50.0,59.0,56.0,66.0,61.0,54.0,51.0,63.0,40.0,48.0,49.0,61.0,60.0,49.0,52.0,59.0,57.0,65.0,58.0,55.0,63.0,59.0,57.0,61.0,56.0,68.0,62.0,63.0,61.0,65.0,63.0,64.0,68.0,53.0,67.0,40.0,49.0,49.0,53.0,66.0,52.0,43.0,60.0,40.0,46.0,62.0,50.0,66.0,67.0,52.0,55.0,68.0,63.0,59.0,44.0,63.0,65.0,55.0,61.0,59.0,66.0,60.0,63.0,49.0,52.0,33.0,69.0,51.0,48.0,47.0,43.0,54.0,46.0,68.0,62.0,69.0,59.0,48.0,61.0,46.0,51.0,58.0,49.0,43.0,54.0,46.0,47.0,58.0,60.0,38.0,47.0,58.0,45.0,46.0,42.0,67.0,64.0,67.0,50.0,48.0,57.0,56.0,62.0,55.0,58.0,57.0,65.0,45.0,39.0,56.0,51.0,66.0,58.0,57.0,60.0,48.0,63.0,42.0,40.0,67.0,66.0,42.0,49.0,53.0,51.0,48.0,67.0,50.0,48.0,37.0,55.0,49.0,63.0,55.0,64.0,51.0,47.0,64.0,42.0,50.0,41.0,43.0,56.0,59.0,68.0,54.0,53.0,63.0,58.0,50.0,49.0,57.0,56.0,60.0,63.0,47.0,50.0,54.0,53.0,49.0,46.0,56.0,68.0,43.0,46.0,62.0,66.0,68.0,54.0,30.0,62.0,48.0,65.0,51.0,65.0,67.0,42.0,68.0,32.0,53.0,49.0,50.0,55.0,47.0,67.0,42.0,60.0,62.0,59.0,67.0,44.0,49.0,67.0,67.0,64.0,43.0,69.0,55.0,46.0,47.0,60.0,47.0,58.0,66.0,61.0,33.0,55.0,41.0,50.0,63.0,47.0,57.0,42.0,33.0,57.0,56.0,47.0,63.0,53.0,42.0,50.0,44.0,58.0,65.0,44.0,59.0,57.0,57.0,53.0,44.0,46.0,59.0,62.0,48.0,44.0,62.0,65.0,58.0,47.0,42.0,49.0,57.0,44.0,66.0,53.0,45.0,47.0,49.0,47.0,49.0,57.0,59.0,61.0,58.0,48.0,48.0,50.0,48.0,67.0,51.0,50.0,69.0,63.0,52.0,57.0,46.0,63.0,68.0,62.0,38.0,58.0,48.0,49.0,41.0,62.0,46.0,66.0,47.0,51.0,53.0,65.0,53.0,57.0,53.0,49.0,67.0,51.0,55.0,55.0,59.0,65.0,42.0,50.0,52.0,59.0,55.0,46.0,51.0,47.0,62.0,56.0,63.0,48.0,59.0,67.0,35.0,55.0,59.0,61.0,48.0,66.0,49.0,58.0,58.0,55.0,57.0,60.0,54.0,35.0,69.0,55.0,63.0,52.0,49.0,68.0,48.0,61.0,68.0,43.0,62.0,57.0,65.0,66.0,58.0,49.0,62.0,54.0,47.0,46.0,52.0,51.0,60.0,59.0,64.0,46.0,59.0,56.0,68.0,65.0,53.0,66.0,41.0,53.0,63.0,65.0,50.0,62.0,52.0,65.0,43.0,63.0,64.0,69.0,65.0,43.0,66.0,48.0,57.0,60.0,59.0,59.0,44.0,54.0,55.0,62.0,65.0,55.0,63.0,41.0,58.0,68.0,54.0,43.0,40.0,62.0,49.0,54.0,66.0,47.0,52.0,56.0,50.0,57.0,45.0,69.0,41.0,55.0,59.0,67.0,53.0,61.0,45.0,61.0,69.0,43.0,61.0,51.0,61.0,57.0,58.0,52.0,43.0,63.0,65.0,35.0,51.0,50.0,50.0,51.0,68.0,51.0,38.0,54.0,51.0,69.0,62.0,52.0,59.0,61.0,43.0,61.0,68.0,50.0,60.0,47.0,60.0,60.0,47.0,65.0,64.0,45.0,57.0,47.0,65.0,60.0,59.0,41.0,50.0,64.0,59.0,58.0,46.0,69.0,60.0,69.0,54.0,47.0,46.0,47.0,61.0,55.0,49.0,49.0,51.0,47.0,68.0,58.0,56.0,59.0,51.0,51.0,37.0,67.0,44.0,68.0,57.0,66.0,65.0,52.0,47.0,43.0,53.0,56.0,49.0,46.0,41.0,38.0,54.0,58.0,54.0,44.0,59.0,63.0,57.0,49.0,56.0,41.0,55.0,58.0,64.0,44.0,51.0,67.0,57.0,54.0,55.0,61.0,39.0,57.0,50.0,56.0,42.0,51.0,46.0,42.0,38.0,45.0,56.0,46.0,61.0,46.0,48.0,60.0,66.0,49.0,46.0,39.0,61.0,46.0,52.0,60.0,42.0,47.0,42.0,43.0,63.0,55.0,52.0,40.0,38.0,33.0,59.0,63.0,44.0,58.0,69.0,57.0,50.0,36.0,37.0,63.0,45.0,42.0,40.0,45.0,54.0,55.0,47.0,51.0,63.0,65.0,34.0,47.0,69.0,66.0,41.0,58.0,64.0,53.0,43.0,31.0,43.0,54.0,60.0,59.0,47.0,41.0,69.0,48.0,40.0,68.0,56.0,46.0,59.0,46.0,46.0,57.0,51.0,55.0,53.0,64.0,68.0,51.0,36.0,68.0,47.0,40.0,65.0,64.0,52.0,41.0,66.0,69.0,56.0,54.0,60.0,49.0,60.0,65.0,55.0,54.0,60.0,46.0,62.0,49.0,52.0,46.0,57.0,50.0,68.0,50.0,50.0,48.0,48.0,63.0,67.0,56.0,47.0,55.0,40.0,69.0,41.0,41.0,49.0,69.0,54.0,52.0,54.0,57.0,42.0,37.0,45.0,56.0,54.0,55.0,57.0,51.0,48.0,58.0,57.0,62.0,55.0,60.0,65.0,66.0,60.0,58.0,66.0,66.0,69.0,49.0,67.0,53.0,39.0,56.0,62.0,47.0,37.0,56.0,53.0,53.0,48.0,54.0,41.0,32.0,44.0,46.0,47.0,58.0,63.0,67.0,55.0,51.0,44.0,51.0,63.0,66.0,45.0,63.0,60.0,50.0,67.0,56.0,52.0,53.0,57.0,65.0,66.0,47.0,44.0,62.0,50.0,68.0,47.0,52.0,69.0,61.0,54.0,37.0,58.0,58.0,40.0,66.0,69.0,47.0,44.0,61.0,42.0,34.0,59.0,55.0,59.0,51.0,49.0,68.0,62.0,56.0,64.0,44.0,45.0,35.0,56.0,50.0,45.0,61.0,57.0,50.0,43.0,60.0,69.0,40.0,69.0,62.0,59.0,36.0,54.0,59.0,65.0,39.0,65.0,54.0,59.0,52.0,50.0,62.0,58.0,53.0,57.0,59.0,55.0,49.0,49.0,54.0,53.0,58.0,62.0,67.0,61.0,47.0,48.0,60.0,62.0,50.0,51.0,57.0,64.0,64.0,62.0,49.0,51.0,68.0,51.0,47.0,40.0,66.0,68.0,56.0,46.0,68.0,38.0,44.0,46.0,56.0,39.0,54.0,47.0,64.0,48.0,57.0,53.0,41.0,44.0,54.0,57.0,39.0,64.0,59.0,63.0,65.0,47.0,41.0,61.0,64.0,54.0,48.0,48.0,39.0,50.0,54.0,58.0,56.0,62.0,40.0,54.0,47.0,67.0,48.0,68.0,66.0,63.0,62.0,62.0,57.0,66.0,68.0,55.0,66.0,67.0,55.0,49.0,38.0,52.0,65.0,61.0,51.0,55.0,54.0,61.0,39.0,61.0,51.0,42.0,57.0,51.0,62.0,69.0,35.0,68.0,53.0,31.0,55.0,57.0,66.0,58.0,68.0,41.0,44.0,60.0,53.0,59.0,62.0,51.0,68.0,40.0,65.0,54.0,46.0,64.0,62.0,56.0,68.0,58.0,46.0],\"x0\":\" \",\"xaxis\":\"x\",\"y0\":\" \",\"yaxis\":\"y\",\"type\":\"box\"}],                        {\"template\":{\"data\":{\"histogram2dcontour\":[{\"type\":\"histogram2dcontour\",\"colorbar\":{\"outlinewidth\":0,\"ticks\":\"\"},\"colorscale\":[[0.0,\"#0d0887\"],[0.1111111111111111,\"#46039f\"],[0.2222222222222222,\"#7201a8\"],[0.3333333333333333,\"#9c179e\"],[0.4444444444444444,\"#bd3786\"],[0.5555555555555556,\"#d8576b\"],[0.6666666666666666,\"#ed7953\"],[0.7777777777777778,\"#fb9f3a\"],[0.8888888888888888,\"#fdca26\"],[1.0,\"#f0f921\"]]}],\"choropleth\":[{\"type\":\"choropleth\",\"colorbar\":{\"outlinewidth\":0,\"ticks\":\"\"}}],\"histogram2d\":[{\"type\":\"histogram2d\",\"colorbar\":{\"outlinewidth\":0,\"ticks\":\"\"},\"colorscale\":[[0.0,\"#0d0887\"],[0.1111111111111111,\"#46039f\"],[0.2222222222222222,\"#7201a8\"],[0.3333333333333333,\"#9c179e\"],[0.4444444444444444,\"#bd3786\"],[0.5555555555555556,\"#d8576b\"],[0.6666666666666666,\"#ed7953\"],[0.7777777777777778,\"#fb9f3a\"],[0.8888888888888888,\"#fdca26\"],[1.0,\"#f0f921\"]]}],\"heatmap\":[{\"type\":\"heatmap\",\"colorbar\":{\"outlinewidth\":0,\"ticks\":\"\"},\"colorscale\":[[0.0,\"#0d0887\"],[0.1111111111111111,\"#46039f\"],[0.2222222222222222,\"#7201a8\"],[0.3333333333333333,\"#9c179e\"],[0.4444444444444444,\"#bd3786\"],[0.5555555555555556,\"#d8576b\"],[0.6666666666666666,\"#ed7953\"],[0.7777777777777778,\"#fb9f3a\"],[0.8888888888888888,\"#fdca26\"],[1.0,\"#f0f921\"]]}],\"heatmapgl\":[{\"type\":\"heatmapgl\",\"colorbar\":{\"outlinewidth\":0,\"ticks\":\"\"},\"colorscale\":[[0.0,\"#0d0887\"],[0.1111111111111111,\"#46039f\"],[0.2222222222222222,\"#7201a8\"],[0.3333333333333333,\"#9c179e\"],[0.4444444444444444,\"#bd3786\"],[0.5555555555555556,\"#d8576b\"],[0.6666666666666666,\"#ed7953\"],[0.7777777777777778,\"#fb9f3a\"],[0.8888888888888888,\"#fdca26\"],[1.0,\"#f0f921\"]]}],\"contourcarpet\":[{\"type\":\"contourcarpet\",\"colorbar\":{\"outlinewidth\":0,\"ticks\":\"\"}}],\"contour\":[{\"type\":\"contour\",\"colorbar\":{\"outlinewidth\":0,\"ticks\":\"\"},\"colorscale\":[[0.0,\"#0d0887\"],[0.1111111111111111,\"#46039f\"],[0.2222222222222222,\"#7201a8\"],[0.3333333333333333,\"#9c179e\"],[0.4444444444444444,\"#bd3786\"],[0.5555555555555556,\"#d8576b\"],[0.6666666666666666,\"#ed7953\"],[0.7777777777777778,\"#fb9f3a\"],[0.8888888888888888,\"#fdca26\"],[1.0,\"#f0f921\"]]}],\"surface\":[{\"type\":\"surface\",\"colorbar\":{\"outlinewidth\":0,\"ticks\":\"\"},\"colorscale\":[[0.0,\"#0d0887\"],[0.1111111111111111,\"#46039f\"],[0.2222222222222222,\"#7201a8\"],[0.3333333333333333,\"#9c179e\"],[0.4444444444444444,\"#bd3786\"],[0.5555555555555556,\"#d8576b\"],[0.6666666666666666,\"#ed7953\"],[0.7777777777777778,\"#fb9f3a\"],[0.8888888888888888,\"#fdca26\"],[1.0,\"#f0f921\"]]}],\"mesh3d\":[{\"type\":\"mesh3d\",\"colorbar\":{\"outlinewidth\":0,\"ticks\":\"\"}}],\"scatter\":[{\"fillpattern\":{\"fillmode\":\"overlay\",\"size\":10,\"solidity\":0.2},\"type\":\"scatter\"}],\"parcoords\":[{\"type\":\"parcoords\",\"line\":{\"colorbar\":{\"outlinewidth\":0,\"ticks\":\"\"}}}],\"scatterpolargl\":[{\"type\":\"scatterpolargl\",\"marker\":{\"colorbar\":{\"outlinewidth\":0,\"ticks\":\"\"}}}],\"bar\":[{\"error_x\":{\"color\":\"#2a3f5f\"},\"error_y\":{\"color\":\"#2a3f5f\"},\"marker\":{\"line\":{\"color\":\"#E5ECF6\",\"width\":0.5},\"pattern\":{\"fillmode\":\"overlay\",\"size\":10,\"solidity\":0.2}},\"type\":\"bar\"}],\"scattergeo\":[{\"type\":\"scattergeo\",\"marker\":{\"colorbar\":{\"outlinewidth\":0,\"ticks\":\"\"}}}],\"scatterpolar\":[{\"type\":\"scatterpolar\",\"marker\":{\"colorbar\":{\"outlinewidth\":0,\"ticks\":\"\"}}}],\"histogram\":[{\"marker\":{\"pattern\":{\"fillmode\":\"overlay\",\"size\":10,\"solidity\":0.2}},\"type\":\"histogram\"}],\"scattergl\":[{\"type\":\"scattergl\",\"marker\":{\"colorbar\":{\"outlinewidth\":0,\"ticks\":\"\"}}}],\"scatter3d\":[{\"type\":\"scatter3d\",\"line\":{\"colorbar\":{\"outlinewidth\":0,\"ticks\":\"\"}},\"marker\":{\"colorbar\":{\"outlinewidth\":0,\"ticks\":\"\"}}}],\"scattermapbox\":[{\"type\":\"scattermapbox\",\"marker\":{\"colorbar\":{\"outlinewidth\":0,\"ticks\":\"\"}}}],\"scatterternary\":[{\"type\":\"scatterternary\",\"marker\":{\"colorbar\":{\"outlinewidth\":0,\"ticks\":\"\"}}}],\"scattercarpet\":[{\"type\":\"scattercarpet\",\"marker\":{\"colorbar\":{\"outlinewidth\":0,\"ticks\":\"\"}}}],\"carpet\":[{\"aaxis\":{\"endlinecolor\":\"#2a3f5f\",\"gridcolor\":\"white\",\"linecolor\":\"white\",\"minorgridcolor\":\"white\",\"startlinecolor\":\"#2a3f5f\"},\"baxis\":{\"endlinecolor\":\"#2a3f5f\",\"gridcolor\":\"white\",\"linecolor\":\"white\",\"minorgridcolor\":\"white\",\"startlinecolor\":\"#2a3f5f\"},\"type\":\"carpet\"}],\"table\":[{\"cells\":{\"fill\":{\"color\":\"#EBF0F8\"},\"line\":{\"color\":\"white\"}},\"header\":{\"fill\":{\"color\":\"#C8D4E3\"},\"line\":{\"color\":\"white\"}},\"type\":\"table\"}],\"barpolar\":[{\"marker\":{\"line\":{\"color\":\"#E5ECF6\",\"width\":0.5},\"pattern\":{\"fillmode\":\"overlay\",\"size\":10,\"solidity\":0.2}},\"type\":\"barpolar\"}],\"pie\":[{\"automargin\":true,\"type\":\"pie\"}]},\"layout\":{\"autotypenumbers\":\"strict\",\"colorway\":[\"#636efa\",\"#EF553B\",\"#00cc96\",\"#ab63fa\",\"#FFA15A\",\"#19d3f3\",\"#FF6692\",\"#B6E880\",\"#FF97FF\",\"#FECB52\"],\"font\":{\"color\":\"#2a3f5f\"},\"hovermode\":\"closest\",\"hoverlabel\":{\"align\":\"left\"},\"paper_bgcolor\":\"white\",\"plot_bgcolor\":\"#E5ECF6\",\"polar\":{\"bgcolor\":\"#E5ECF6\",\"angularaxis\":{\"gridcolor\":\"white\",\"linecolor\":\"white\",\"ticks\":\"\"},\"radialaxis\":{\"gridcolor\":\"white\",\"linecolor\":\"white\",\"ticks\":\"\"}},\"ternary\":{\"bgcolor\":\"#E5ECF6\",\"aaxis\":{\"gridcolor\":\"white\",\"linecolor\":\"white\",\"ticks\":\"\"},\"baxis\":{\"gridcolor\":\"white\",\"linecolor\":\"white\",\"ticks\":\"\"},\"caxis\":{\"gridcolor\":\"white\",\"linecolor\":\"white\",\"ticks\":\"\"}},\"coloraxis\":{\"colorbar\":{\"outlinewidth\":0,\"ticks\":\"\"}},\"colorscale\":{\"sequential\":[[0.0,\"#0d0887\"],[0.1111111111111111,\"#46039f\"],[0.2222222222222222,\"#7201a8\"],[0.3333333333333333,\"#9c179e\"],[0.4444444444444444,\"#bd3786\"],[0.5555555555555556,\"#d8576b\"],[0.6666666666666666,\"#ed7953\"],[0.7777777777777778,\"#fb9f3a\"],[0.8888888888888888,\"#fdca26\"],[1.0,\"#f0f921\"]],\"sequentialminus\":[[0.0,\"#0d0887\"],[0.1111111111111111,\"#46039f\"],[0.2222222222222222,\"#7201a8\"],[0.3333333333333333,\"#9c179e\"],[0.4444444444444444,\"#bd3786\"],[0.5555555555555556,\"#d8576b\"],[0.6666666666666666,\"#ed7953\"],[0.7777777777777778,\"#fb9f3a\"],[0.8888888888888888,\"#fdca26\"],[1.0,\"#f0f921\"]],\"diverging\":[[0,\"#8e0152\"],[0.1,\"#c51b7d\"],[0.2,\"#de77ae\"],[0.3,\"#f1b6da\"],[0.4,\"#fde0ef\"],[0.5,\"#f7f7f7\"],[0.6,\"#e6f5d0\"],[0.7,\"#b8e186\"],[0.8,\"#7fbc41\"],[0.9,\"#4d9221\"],[1,\"#276419\"]]},\"xaxis\":{\"gridcolor\":\"white\",\"linecolor\":\"white\",\"ticks\":\"\",\"title\":{\"standoff\":15},\"zerolinecolor\":\"white\",\"automargin\":true,\"zerolinewidth\":2},\"yaxis\":{\"gridcolor\":\"white\",\"linecolor\":\"white\",\"ticks\":\"\",\"title\":{\"standoff\":15},\"zerolinecolor\":\"white\",\"automargin\":true,\"zerolinewidth\":2},\"scene\":{\"xaxis\":{\"backgroundcolor\":\"#E5ECF6\",\"gridcolor\":\"white\",\"linecolor\":\"white\",\"showbackground\":true,\"ticks\":\"\",\"zerolinecolor\":\"white\",\"gridwidth\":2},\"yaxis\":{\"backgroundcolor\":\"#E5ECF6\",\"gridcolor\":\"white\",\"linecolor\":\"white\",\"showbackground\":true,\"ticks\":\"\",\"zerolinecolor\":\"white\",\"gridwidth\":2},\"zaxis\":{\"backgroundcolor\":\"#E5ECF6\",\"gridcolor\":\"white\",\"linecolor\":\"white\",\"showbackground\":true,\"ticks\":\"\",\"zerolinecolor\":\"white\",\"gridwidth\":2}},\"shapedefaults\":{\"line\":{\"color\":\"#2a3f5f\"}},\"annotationdefaults\":{\"arrowcolor\":\"#2a3f5f\",\"arrowhead\":0,\"arrowwidth\":1},\"geo\":{\"bgcolor\":\"white\",\"landcolor\":\"#E5ECF6\",\"subunitcolor\":\"white\",\"showland\":true,\"showlakes\":true,\"lakecolor\":\"white\"},\"title\":{\"x\":0.05},\"mapbox\":{\"style\":\"light\"}}},\"xaxis\":{\"anchor\":\"y\",\"domain\":[0.0,1.0],\"title\":{\"text\":\"Age\"}},\"yaxis\":{\"anchor\":\"x\",\"domain\":[0.0,1.0]},\"legend\":{\"tracegroupgap\":0},\"margin\":{\"t\":60},\"boxmode\":\"group\"},                        {\"responsive\": true}                    ).then(function(){\n",
              "                            \n",
              "var gd = document.getElementById('4ea1bfdb-ba47-42ea-b7c4-ce0160e37556');\n",
              "var x = new MutationObserver(function (mutations, observer) {{\n",
              "        var display = window.getComputedStyle(gd).display;\n",
              "        if (!display || display === 'none') {{\n",
              "            console.log([gd, 'removed!']);\n",
              "            Plotly.purge(gd);\n",
              "            observer.disconnect();\n",
              "        }}\n",
              "}});\n",
              "\n",
              "// Listen for the removal of the full notebook cells\n",
              "var notebookContainer = gd.closest('#notebook-container');\n",
              "if (notebookContainer) {{\n",
              "    x.observe(notebookContainer, {childList: true});\n",
              "}}\n",
              "\n",
              "// Listen for the clearing of the current output cell\n",
              "var outputEl = gd.closest('.output');\n",
              "if (outputEl) {{\n",
              "    x.observe(outputEl, {childList: true});\n",
              "}}\n",
              "\n",
              "                        })                };                            </script>        </div>\n",
              "</body>\n",
              "</html>"
            ]
          },
          "metadata": {},
          "output_type": "display_data"
        }
      ],
      "source": [
        "VariableName_fig = px.box(data, x='Age')\n",
        "VariableName_fig.show()"
      ]
    },
    {
      "cell_type": "code",
      "execution_count": null,
      "metadata": {
        "colab": {
          "base_uri": "https://localhost:8080/",
          "height": 542
        },
        "id": "2ltQWICtlvCG",
        "outputId": "90a94135-b8e0-4788-fa8f-867b3b997ac6"
      },
      "outputs": [
        {
          "data": {
            "text/html": [
              "<html>\n",
              "<head><meta charset=\"utf-8\" /></head>\n",
              "<body>\n",
              "    <div>            <script src=\"https://cdnjs.cloudflare.com/ajax/libs/mathjax/2.7.5/MathJax.js?config=TeX-AMS-MML_SVG\"></script><script type=\"text/javascript\">if (window.MathJax && window.MathJax.Hub && window.MathJax.Hub.Config) {window.MathJax.Hub.Config({SVG: {font: \"STIX-Web\"}});}</script>                <script type=\"text/javascript\">window.PlotlyConfig = {MathJaxConfig: 'local'};</script>\n",
              "        <script charset=\"utf-8\" src=\"https://cdn.plot.ly/plotly-2.35.2.min.js\"></script>                <div id=\"10e5de3a-dbb9-485a-be4d-106a0ddc6288\" class=\"plotly-graph-div\" style=\"height:525px; width:100%;\"></div>            <script type=\"text/javascript\">                                    window.PLOTLYENV=window.PLOTLYENV || {};                                    if (document.getElementById(\"10e5de3a-dbb9-485a-be4d-106a0ddc6288\")) {                    Plotly.newPlot(                        \"10e5de3a-dbb9-485a-be4d-106a0ddc6288\",                        [{\"alignmentgroup\":\"True\",\"hovertemplate\":\"Tumor_Size=%{x}\\u003cextra\\u003e\\u003c\\u002fextra\\u003e\",\"legendgroup\":\"\",\"marker\":{\"color\":\"#636efa\"},\"name\":\"\",\"notched\":false,\"offsetgroup\":\"\",\"orientation\":\"h\",\"showlegend\":false,\"x\":[4.0,35.0,63.0,18.0,41.0,20.0,8.0,30.0,103.0,32.0,13.0,59.0,35.0,15.0,35.0,19.0,46.0,24.0,25.0,29.0,30.0,40.0,29.0,70.0,20.0,22.0,50.0,17.0,25.0,21.0,40.0,15.0,15.0,20.0,30.0,10.0,27.0,18.0,35.0,23.0,70.0,17.0,21.0,23.0,5.0,51.0,9.0,15.0,32.0,5.0,23.0,55.0,120.0,77.0,2.0,11.0,25.0,18.0,15.0,12.0,18.0,17.0,26.0,75.0,13.0,15.0,70.0,15.0,15.0,17.0,130.0,34.0,30.0,10.0,22.0,55.0,25.0,50.0,50.0,15.0,30.0,20.0,22.0,15.0,15.0,40.0,120.0,80.0,17.0,3.0,60.0,14.0,26.0,25.0,12.0,25.0,30.0,25.0,24.0,27.0,70.0,16.0,45.0,27.0,23.0,25.0,40.0,20.0,21.0,36.0,14.0,51.0,50.0,45.0,51.0,19.0,76.0,20.0,35.0,27.0,35.0,35.0,50.0,38.0,15.0,17.0,25.0,19.0,15.0,18.0,11.0,45.0,12.0,20.0,45.0,18.0,25.0,21.0,49.0,70.0,7.0,19.0,17.0,38.0,34.0,30.0,4.0,72.0,18.0,25.0,9.0,21.0,20.0,15.0,18.0,100.0,17.0,7.0,24.0,43.0,30.0,7.0,18.0,12.0,25.0,62.0,20.0,70.0,37.0,13.0,40.0,70.0,12.0,9.0,10.0,55.0,18.0,15.0,25.0,50.0,10.0,30.0,13.0,40.0,100.0,25.0,68.0,25.0,23.0,15.0,22.0,7.0,16.0,24.0,75.0,11.0,35.0,60.0,30.0,25.0,25.0,25.0,12.0,25.0,17.0,11.0,32.0,21.0,25.0,19.0,-75.0,52.0,9.0,17.0,35.0,85.0,50.0,51.0,18.0,75.0,72.0,35.0,12.0,23.0,16.0,16.0,57.0,50.0,17.0,32.0,21.0,11.0,40.0,15.0,17.0,14.0,60.0,55.0,120.0,11.0,39.0,23.0,28.0,37.0,40.0,9.0,8.0,28.0,15.0,17.0,50.0,48.0,30.0,68.0,110.0,23.0,12.0,13.0,40.0,30.0,9.0,22.0,30.0,12.0,10.0,25.0,16.0,65.0,22.0,17.0,60.0,22.0,35.0,18.0,34.0,6.0,105.0,100.0,20.0,57.0,10.0,17.0,25.0,21.0,45.0,50.0,35.0,38.0,16.0,140.0,25.0,18.0,18.0,34.0,65.0,13.0,20.0,29.0,10.0,62.0,50.0,29.0,15.0,15.0,42.0,130.0,21.0,51.0,30.0,35.0,31.0,14.0,15.0,60.0,20.0,22.0,80.0,15.0,100.0,30.0,8.0,15.0,80.0,30.0,25.0,24.0,35.0,12.0,45.0,25.0,35.0,28.0,17.0,15.0,32.0,15.0,60.0,90.0,11.0,37.0,21.0,2.0,70.0,8.0,22.0,40.0,13.0,32.0,5.0,18.0,52.0,31.0,14.0,7.0,12.0,21.0,20.0,26.0,16.0,15.0,25.0,20.0,80.0,30.0,16.0,20.0,17.0,100.0,41.0,16.0,25.0,108.0,12.0,38.0,24.0,45.0,98.0,25.0,30.0,90.0,27.0,47.0,30.0,25.0,17.0,22.0,18.0,18.0,25.0,27.0,25.0,70.0,65.0,22.0,45.0,20.0,65.0,17.0,15.0,15.0,19.0,90.0,10.0,40.0,31.0,30.0,26.0,25.0,11.0,22.0,59.0,23.0,25.0,18.0,15.0,30.0,25.0,27.0,25.0,24.0,24.0,20.0,10.0,7.0,42.0,54.0,75.0,15.0,22.0,20.0,65.0,61.0,27.0,16.0,35.0,55.0,17.0,8.0,25.0,10.0,26.0,120.0,7.0,18.0,30.0,70.0,20.0,80.0,30.0,45.0,25.0,6.0,21.0,11.0,18.0,40.0,20.0,12.0,16.0,10.0,20.0,20.0,25.0,17.0,22.0,20.0,20.0,30.0,13.0,15.0,36.0,8.0,10.0,35.0,70.0,35.0,74.0,16.0,70.0,21.0,100.0,70.0,12.0,80.0,25.0,19.0,25.0,16.0,60.0,15.0,20.0,9.0,16.0,60.0,15.0,12.0,17.0,25.0,18.0,15.0,45.0,70.0,10.0,9.0,12.0,15.0,18.0,12.0,16.0,15.0,30.0,20.0,21.0,10.0,35.0,22.0,33.0,60.0,13.0,21.0,13.0,39.0,29.0,35.0,18.0,100.0,130.0,21.0,26.0,50.0,8.0,16.0,16.0,15.0,28.0,23.0,1.0,23.0,21.0,19.0,87.0,33.0,15.0,13.0,15.0,25.0,60.0,30.0,18.0,20.0,55.0,null,11.0,11.0,40.0,16.0,55.0,36.0,16.0,25.0,30.0,19.0,30.0,55.0,80.0,50.0,14.0,10.0,30.0,60.0,24.0,32.0,42.0,35.0,26.0,30.0,31.0,11.0,26.0,18.0,43.0,20.0,35.0,13.0,14.0,81.0,10.0,10.0,20.0,30.0,22.0,20.0,28.0,80.0,37.0,35.0,12.0,19.0,20.0,22.0,14.0,32.0,80.0,21.0,25.0,21.0,15.0,28.0,18.0,27.0,30.0,25.0,35.0,12.0,30.0,29.0,70.0,21.0,60.0,25.0,20.0,22.0,12.0,48.0,31.0,27.0,18.0,1.0,40.0,26.0,80.0,20.0,27.0,20.0,30.0,25.0,22.0,63.0,10.0,10.0,40.0,10.0,40.0,20.0,30.0,6.0,22.0,22.0,15.0,40.0,45.0,13.0,25.0,11.0,58.0,30.0,23.0,9.0,32.0,35.0,15.0,15.0,21.0,51.0,15.0,60.0,null,51.0,25.0,30.0,11.0,40.0,5.0,35.0,38.0,30.0,25.0,25.0,27.0,25.0,18.0,40.0,40.0,15.0,20.0,23.0,34.0,16.0,18.0,50.0,45.0,100.0,18.0,23.0,25.0,32.0,30.0,30.0,30.0,18.0,24.0,70.0,28.0,20.0,35.0,117.0,10.0,70.0,35.0,11.0,27.0,12.0,26.0,76.0,32.0,18.0,23.0,10.0,18.0,23.0,25.0,32.0,18.0,17.0,52.0,27.0,7.0,70.0,26.0,55.0,20.0,15.0,20.0,20.0,61.0,8.0,15.0,12.0,40.0,25.0,140.0,12.0,21.0,23.0,20.0,17.0,65.0,null,19.0,12.0,11.0,40.0,26.0,30.0,50.0,44.0,21.0,35.0,22.0,55.0,17.0,1.0,23.0,25.0,14.0,25.0,35.0,20.0,25.0,90.0,13.0,12.0,45.0,15.0,35.0,17.0,24.0,55.0,16.0,20.0,18.0,32.0,30.0,30.0,19.0,24.0,18.0,25.0,19.0,30.0,32.0,16.0,2.0,30.0,27.0,10.0,10.0,18.0,30.0,22.0,40.0,65.0,13.0,6.0,40.0,19.0,20.0,45.0,31.0,30.0,14.0,35.0,10.0,25.0,40.0,45.0,21.0,28.0,4.0,25.0,15.0,61.0,22.0,27.0,19.0,25.0,8.0,23.0,80.0,7.0,15.0,13.0,30.0,50.0,31.0,30.0,15.0,15.0,50.0,25.0,30.0,60.0,21.0,51.0,18.0,25.0,50.0,8.0,40.0,16.0,18.0,13.0,35.0,12.0,50.0,29.0,20.0,7.0,21.0,20.0,22.0,31.0,45.0,25.0,35.0,15.0,22.0,15.0,16.0,26.0,35.0,30.0,23.0,18.0,123.0,16.0,11.0,75.0,60.0,20.0,15.0,27.0,9.0,60.0,7.0,19.0,15.0,40.0,19.0,130.0,30.0,70.0,24.0,110.0,133.0,22.0,55.0,95.0,25.0,13.0,12.0,17.0,10.0,70.0,30.0,20.0,107.0,40.0,30.0,90.0,16.0,47.0,30.0,7.0,30.0,20.0,60.0,30.0,14.0,20.0,27.0,40.0,92.0,7.0,20.0,22.0,8.0,50.0,22.0,14.0,30.0,50.0,15.0,25.0,18.0,35.0,13.0,100.0,105.0,20.0,15.0,30.0,12.0,50.0,20.0,7.0,42.0,19.0,27.0,14.0,17.0,15.0,13.0,12.0,26.0,20.0,17.0,20.0,24.0,30.0,16.0,18.0,30.0,52.0,60.0,21.0,33.0,6.0,25.0,15.0,14.0,105.0,35.0,57.0,20.0,20.0,28.0,60.0,25.0,12.0,69.0,55.0,60.0,20.0,13.0,100.0,2.0,20.0,38.0,24.0,25.0,15.0,25.0,51.0,35.0,25.0,45.0,21.0,19.0,40.0,9.0,22.0,38.0,50.0,30.0,23.0,21.0,140.0,60.0,17.0,55.0,17.0,29.0,40.0,17.0,30.0,32.0,40.0,15.0,35.0,32.0,21.0,25.0,33.0,22.0,15.0,32.0,6.0,30.0,14.0,10.0,12.0,15.0,21.0,20.0,20.0,15.0,54.0,21.0,22.0,22.0,17.0,25.0,22.0,45.0,11.0,17.0,17.0,40.0,5.0,13.0,19.0,19.0,35.0,16.0,15.0,23.0,15.0,19.0,18.0,16.0,21.0,32.0,13.0,16.0,40.0,50.0,35.0,16.0,35.0,36.0,35.0,55.0,25.0,22.0,17.0,55.0,10.0,23.0,25.0,5.0,16.0,55.0,24.0,21.0,13.0,22.0,14.0,30.0,18.0,16.0,56.0,31.0,14.0,15.0,82.0,16.0,16.0,16.0,16.0,50.0,25.0,18.0,25.0,18.0,30.0,65.0,1.0,25.0,20.0,30.0,30.0,18.0,16.0,50.0,52.0,37.0,25.0,40.0,50.0,15.0,25.0,80.0,13.0,25.0,40.0,15.0,19.0,65.0,18.0,15.0,16.0,23.0,21.0,10.0,20.0,40.0,31.0,15.0,11.0,55.0,15.0,37.0,42.0,22.0,48.0,15.0,7.0,40.0,12.0,12.0,65.0,15.0,16.0,22.0,35.0,25.0,20.0,18.0,85.0,25.0,100.0,15.0,18.0,14.0,23.0,40.0,17.0,21.0,22.0,31.0,11.0,19.0,35.0,9.0,21.0,6.0,20.0,60.0,38.0,9.0,11.0,30.0,22.0,25.0,13.0,30.0,25.0,25.0,48.0,6.0,14.0,7.0,90.0,25.0,15.0,120.0,14.0,15.0,35.0,30.0,16.0,9.0,23.0,17.0,43.0,19.0,21.0,17.0,45.0,18.0,43.0,61.0,27.0,15.0,25.0,31.0,50.0,30.0,38.0,5.0,11.0,35.0,7.0,14.0,120.0,14.0,33.0,19.0,19.0,15.0,18.0,47.0,13.0,25.0,28.0,16.0,31.0,4.0,31.0,30.0,55.0,30.0,14.0,17.0,21.0,70.0,30.0,15.0,40.0,8.0,7.0,40.0,35.0,16.0,30.0,18.0,30.0,15.0,12.0,40.0,57.0,60.0,38.0,55.0,24.0,20.0,40.0,38.0,70.0,18.0,25.0,74.0,60.0,60.0,23.0,45.0,21.0,14.0,13.0,20.0,21.0,25.0,22.0,8.0,25.0,25.0,70.0,11.0,80.0,16.0,18.0,15.0,26.0,20.0,18.0,18.0,14.0,42.0,58.0,18.0,25.0,9.0,19.0,11.0,15.0,21.0,52.0,40.0,11.0,20.0,33.0,14.0,28.0,20.0,19.0,100.0,9.0,25.0,15.0,60.0,76.0,16.0,20.0,45.0,35.0,18.0,20.0,26.0,35.0,40.0,30.0,12.0,19.0,28.0,28.0,22.0,8.0,32.0,45.0,55.0,9.0,23.0,20.0,35.0,23.0,80.0,15.0,9.0,30.0,20.0,66.0,22.0,16.0,14.0,80.0,25.0,10.0,22.0,12.0,19.0,17.0,25.0,9.0,9.0,33.0,37.0,24.0,18.0,75.0,25.0,10.0,36.0,26.0,14.0,82.0,30.0,12.0,22.0,16.0,16.0,40.0,20.0,28.0,21.0,24.0,55.0,31.0,24.0,37.0,30.0,20.0,14.0,20.0,27.0,12.0,80.0,23.0,14.0,10.0,22.0,15.0,27.0,20.0,31.0,14.0,40.0,25.0,35.0,20.0,42.0,25.0,50.0,20.0,13.0,6.0,16.0,60.0,23.0,15.0,14.0,9.0,16.0,42.0,40.0,25.0,25.0,37.0,23.0,30.0,12.0,35.0,47.0,28.0,63.0,8.0,35.0,60.0,30.0,22.0,13.0,42.0,45.0,25.0,10.0,35.0,37.0,35.0,40.0,17.0,12.0,15.0,30.0,60.0,19.0,27.0,10.0,12.0,70.0,44.0,45.0,17.0,80.0,16.0,24.0,8.0,51.0,70.0,60.0,45.0,1.0,27.0,35.0,72.0,45.0,20.0,30.0,30.0,13.0,120.0,15.0,61.0,15.0,30.0,18.0,28.0,8.0,22.0,40.0,15.0,20.0,15.0,23.0,20.0,17.0,21.0,52.0,30.0,22.0,19.0,18.0,47.0,15.0,15.0,21.0,40.0,17.0,14.0,23.0,68.0,25.0,50.0,140.0,28.0,7.0,23.0,7.0,10.0,15.0,11.0,12.0,28.0,80.0,25.0,28.0,15.0,30.0,15.0,22.0,28.0,16.0,95.0,27.0,56.0,50.0,21.0,21.0,40.0,18.0,55.0,90.0,28.0,55.0,21.0,9.0,35.0,13.0,55.0,51.0,34.0,5.0,60.0,45.0,38.0,48.0,35.0,32.0,25.0,60.0,12.0,19.0,40.0,50.0,55.0,28.0,18.0,21.0,37.0,11.0,20.0,30.0,15.0,55.0,17.0,17.0,25.0,22.0,35.0,20.0,20.0,39.0,33.0,18.0,40.0,24.0,35.0,40.0,11.0,26.0,18.0,15.0,25.0,21.0,18.0,55.0,15.0,18.0,20.0,15.0,20.0,70.0,13.0,55.0,55.0,24.0,50.0,30.0,10.0,18.0,18.0,45.0,15.0,16.0,45.0,18.0,60.0,24.0,35.0,15.0,21.0,25.0,15.0,11.0,100.0,52.0,24.0,14.0,55.0,45.0,25.0,25.0,32.0,41.0,40.0,32.0,12.0,7.0,30.0,22.0,30.0,17.0,21.0,15.0,22.0,15.0,9.0,49.0,57.0,20.0,27.0,30.0,30.0,5.0,22.0,55.0,45.0,25.0,25.0,5.0,55.0,15.0,15.0,24.0,10.0,14.0,25.0,10.0,20.0,80.0,20.0,15.0,10.0,40.0,15.0,17.0,11.0,15.0,17.0,19.0,26.0,22.0,8.0,120.0,24.0,23.0,90.0,61.0,17.0,40.0,1.0,34.0,10.0,27.0,30.0,50.0,25.0,63.0,17.0,18.0,20.0,45.0,25.0,70.0,3.0,26.0,32.0,60.0,18.0,70.0,35.0,8.0,65.0,70.0,45.0,35.0,28.0,75.0,20.0,15.0,15.0,18.0,30.0,10.0,15.0,35.0,35.0,13.0,15.0,19.0,25.0,23.0,47.0,17.0,14.0,47.0,8.0,12.0,38.0,16.0,90.0,17.0,70.0,18.0,21.0,32.0,30.0,50.0,14.0,19.0,11.0,18.0,19.0,20.0,28.0,15.0,65.0,19.0,15.0,23.0,16.0,30.0,60.0,15.0,22.0,30.0,18.0,20.0,45.0,17.0,20.0,21.0,25.0,6.0,14.0,20.0,15.0,17.0,10.0,25.0,30.0,8.0,18.0,18.0,21.0,15.0,78.0,20.0,18.0,18.0,52.0,20.0,25.0,12.0,15.0,6.0,18.0,35.0,21.0,60.0,97.0,45.0,35.0,13.0,17.0,14.0,25.0,17.0,21.0,35.0,8.0,13.0,38.0,88.0,18.0,40.0,20.0,7.0,27.0,60.0,28.0,38.0,45.0,21.0,42.0,19.0,60.0,43.0,6.0,40.0,50.0,14.0,45.0,20.0,28.0,12.0,20.0,42.0,14.0,2.0,35.0,11.0,5.0,20.0,29.0,24.0,18.0,10.0,30.0,15.0,15.0,60.0,26.0,40.0,40.0,25.0,27.0,22.0,23.0,12.0,30.0,2.0,40.0,30.0,60.0,9.0,70.0,17.0,45.0,51.0,10.0,85.0,30.0,14.0,15.0,10.0,27.0,15.0,35.0,20.0,90.0,10.0,100.0,55.0,35.0,18.0,21.0,15.0,74.0,50.0,70.0,24.0,28.0,15.0,38.0,16.0,35.0,19.0,52.0,10.0,39.0,30.0,8.0,19.0,11.0,22.0,23.0,14.0,25.0,55.0,40.0,35.0,17.0,35.0,15.0,15.0,80.0,40.0,42.0,14.0,26.0,42.0,25.0,70.0,40.0,60.0,25.0,5.0,30.0,45.0,11.0,22.0,25.0,14.0,19.0,20.0,12.0,16.0,60.0,46.0,53.0,6.0,18.0,5.0,25.0,35.0,10.0,60.0,16.0,12.0,31.0,51.0,50.0,25.0,15.0,33.0,80.0,25.0,9.0,27.0,15.0,8.0,70.0,35.0,18.0,20.0,48.0,18.0,35.0,42.0,15.0,15.0,45.0,36.0,40.0,40.0,50.0,15.0,16.0,14.0,10.0,15.0,18.0,24.0,50.0,50.0,20.0,25.0,25.0,25.0,30.0,52.0,62.0,80.0,17.0,36.0,23.0,53.0,10.0,24.0,65.0,15.0,40.0,12.0,20.0,21.0,17.0,56.0,80.0,16.0,30.0,45.0,20.0,20.0,22.0,50.0,16.0,35.0,31.0,29.0,10.0,55.0,8.0,40.0,15.0,70.0,25.0,35.0,69.0,85.0,20.0,18.0,28.0,50.0,12.0,44.0,42.0,17.0,63.0,80.0,90.0,34.0,18.0,35.0,40.0,20.0,110.0,10.0,23.0,20.0,13.0,25.0,36.0,25.0,3.0,3.0,83.0,12.0,14.0,80.0,15.0,15.0,25.0,15.0,15.0,17.0,15.0,21.0,17.0,80.0,45.0,17.0,20.0,34.0,25.0,60.0,25.0,20.0,24.0,30.0,15.0,17.0,16.0,20.0,42.0,25.0,75.0,36.0,12.0,4.0,35.0,34.0,22.0,35.0,30.0,81.0,40.0,30.0,60.0,13.0,15.0,15.0,20.0,40.0,15.0,30.0,25.0,65.0,78.0,14.0,5.0,13.0,15.0,15.0,7.0,14.0,13.0,22.0,14.0,25.0,10.0,11.0,14.0,13.0,10.0,6.0,21.0,40.0,16.0,5.0,18.0,14.0,42.0,32.0,28.0,28.0,60.0,35.0,85.0,12.0,20.0,27.0,36.0,33.0,23.0,13.0,4.0,25.0,80.0,55.0,45.0,11.0,37.0,30.0,18.0,16.0,15.0,42.0,75.0,15.0,35.0,28.0,15.0,24.0,23.0,61.0,75.0,10.0,21.0,12.0,22.0,32.0,28.0,70.0,65.0,16.0,10.0,110.0,25.0,24.0,8.0,25.0,9.0,14.0,40.0,10.0,40.0,10.0,8.0,38.0,18.0,12.0,30.0,23.0,70.0,15.0,36.0,26.0,25.0,25.0,15.0,6.0,14.0,19.0,8.0,17.0,35.0,70.0,15.0,50.0,14.0,21.0,30.0,30.0,20.0,34.0,14.0,25.0,18.0,101.0,20.0,35.0,20.0,16.0,75.0,70.0,29.0,84.0,22.0,90.0,20.0,45.0,22.0,37.0,50.0,22.0,25.0,10.0,40.0,32.0,60.0,100.0,55.0,60.0,11.0,70.0,20.0,55.0,19.0,17.0,90.0,35.0,17.0,35.0,27.0,26.0,23.0,19.0,35.0,50.0,12.0,11.0,15.0,39.0,60.0,11.0,90.0,27.0,14.0,25.0,19.0,50.0,60.0,11.0,90.0,65.0,11.0,30.0,30.0,95.0,50.0,12.0,55.0,28.0,100.0,22.0,20.0,35.0,20.0,4.0,12.0,17.0,20.0,25.0,40.0,25.0,15.0,50.0,30.0,30.0,24.0,75.0,19.0,15.0,55.0,92.0,12.0,14.0,40.0,14.0,35.0,25.0,17.0,60.0,22.0,30.0,12.0,55.0,16.0,60.0,18.0,30.0,15.0,45.0,13.0,40.0,30.0,20.0,20.0,12.0,12.0,11.0,22.0,22.0,12.0,55.0,20.0,4.0,50.0,25.0,130.0,75.0,11.0,33.0,32.0,24.0,35.0,21.0,21.0,25.0,24.0,19.0,22.0,60.0,12.0,16.0,85.0,12.0,60.0,17.0,83.0,20.0,20.0,35.0,50.0,10.0,39.0,18.0,76.0,25.0,9.0,9.0,4.0,33.0,9.0,15.0,23.0,12.0,18.0,70.0,16.0,97.0,35.0,17.0,2.0,20.0,8.0,19.0,15.0,27.0,18.0,25.0,23.0,17.0,11.0,24.0,25.0,20.0,12.0,12.0,35.0,60.0,22.0,30.0,15.0,22.0,23.0,35.0,18.0,30.0,25.0,12.0,18.0,75.0,15.0,24.0,15.0,60.0,45.0,13.0,45.0,21.0,11.0,30.0,29.0,14.0,60.0,68.0,30.0,7.0,16.0,6.0,20.0,10.0,17.0,30.0,1.0,18.0,12.0,16.0,7.0,2.0,21.0,115.0,24.0,15.0,40.0,24.0,29.0,55.0,6.0,20.0,12.0,30.0,30.0,24.0,70.0,30.0,31.0,10.0,15.0,15.0,12.0,40.0,34.0,20.0,30.0,9.0,35.0,13.0,21.0,12.0,51.0,31.0,60.0,25.0,28.0,10.0,30.0,23.0,11.0,100.0,28.0,45.0,10.0,73.0,11.0,30.0,12.0,17.0,38.0,28.0,15.0,17.0,46.0,25.0,25.0,15.0,20.0,15.0,40.0,40.0,25.0,85.0,33.0,16.0,25.0,120.0,60.0,17.0,16.0,30.0,13.0,15.0,18.0,20.0,24.0,56.0,25.0,28.0,45.0,29.0,15.0,45.0,13.0,21.0,45.0,19.0,45.0,27.0,23.0,30.0,40.0,80.0,40.0,15.0,25.0,12.0,20.0,37.0,21.0,17.0,37.0,19.0,8.0,17.0,35.0,40.0,11.0,47.0,21.0,18.0,22.0,20.0,55.0,25.0,11.0,12.0,14.0,42.0,9.0,25.0,35.0,40.0,90.0,20.0,45.0,30.0,35.0,62.0,12.0,8.0,56.0,15.0,29.0,66.0,11.0,50.0,35.0,45.0,65.0,50.0,17.0,38.0,20.0,42.0,60.0,5.0,35.0,24.0,12.0,29.0,7.0,35.0,15.0,85.0,12.0,35.0,22.0,25.0,35.0,80.0,15.0,30.0,39.0,40.0,60.0,32.0,28.0,15.0,25.0,40.0,13.0,74.0,35.0,18.0,25.0,38.0,22.0,20.0,7.0,13.0,15.0,33.0,80.0,6.0,30.0,22.0,34.0,27.0,10.0,60.0,34.0,28.0,13.0,17.0,15.0,20.0,18.0,75.0,26.0,70.0,52.0,14.0,25.0,50.0,17.0,25.0,22.0,18.0,20.0,68.0,5.0,20.0,55.0,15.0,25.0,35.0,15.0,21.0,15.0,35.0,65.0,25.0,65.0,40.0,14.0,12.0,35.0,14.0,75.0,90.0,16.0,120.0,15.0,55.0,35.0,21.0,40.0,19.0,18.0,30.0,21.0,60.0,17.0,77.0,20.0,35.0,12.0,25.0,16.0,10.0,15.0,24.0,34.0,125.0,45.0,57.0,75.0,60.0,20.0,90.0,14.0,4.0,60.0,21.0,27.0,50.0,25.0,17.0,60.0,19.0,50.0,40.0,10.0,30.0,60.0,70.0,52.0,15.0,17.0,13.0,20.0,28.0,15.0,9.0,30.0,11.0,15.0,5.0,20.0,15.0,25.0,23.0,18.0,30.0,25.0,38.0,60.0,37.0,100.0,35.0,18.0,15.0,35.0,85.0,15.0,26.0,35.0,80.0,15.0,25.0,20.0,20.0,32.0,40.0,35.0,25.0,24.0,26.0,104.0,51.0,30.0,35.0,25.0,16.0,16.0,25.0,100.0,60.0,52.0,23.0,16.0,25.0,30.0,17.0,19.0,10.0,18.0,10.0,10.0,12.0,18.0,60.0,45.0,10.0,25.0,22.0,17.0,15.0,30.0,37.0,55.0,65.0,75.0,14.0,11.0,52.0,27.0,49.0,46.0,22.0,40.0,25.0,50.0,50.0,30.0,13.0,21.0,40.0,7.0,25.0,51.0,26.0,20.0,8.0,40.0,10.0,17.0,2.0,63.0,70.0,45.0,21.0,14.0,13.0,13.0,12.0,19.0,20.0,27.0,100.0,16.0,12.0,35.0,4.0,40.0,17.0,32.0,12.0,27.0,8.0,22.0,52.0,9.0,18.0,15.0,13.0,20.0,16.0,16.0,25.0,3.0,32.0,40.0,10.0,35.0,35.0,23.0,47.0,60.0,70.0,50.0,48.0,17.0,25.0,25.0,25.0,63.0,12.0,14.0,12.0,14.0,83.0,28.0,35.0,5.0,14.0,25.0,25.0,12.0,22.0,60.0,80.0,32.0,15.0,63.0,17.0,62.0,16.0,25.0,20.0,11.0,14.0,50.0,18.0,51.0,12.0,7.0,70.0,27.0,19.0,37.0,20.0,25.0,23.0,11.0,80.0,23.0,50.0,90.0,80.0,5.0,20.0,46.0,25.0,15.0,13.0,15.0,70.0,35.0,11.0,16.0,30.0,18.0,25.0,32.0,22.0,40.0,22.0,22.0,45.0,29.0,60.0,60.0,11.0,18.0,18.0,16.0,25.0,75.0,12.0,25.0,60.0,4.0,9.0,25.0,20.0,60.0,42.0,40.0,13.0,14.0,25.0,58.0,30.0,54.0,30.0,20.0,63.0,25.0,3.0,60.0,35.0,15.0,40.0,25.0,65.0,45.0,15.0,24.0,15.0,23.0,30.0,24.0,35.0,5.0,46.0,50.0,38.0,36.0,4.0,25.0,15.0,25.0,30.0,35.0,18.0,23.0,60.0,11.0,21.0,42.0,30.0,37.0,20.0,55.0,78.0,45.0,11.0,15.0,21.0,30.0,36.0,15.0,3.0,25.0,44.0,17.0,57.0,30.0,15.0,80.0,26.0,25.0,80.0,30.0,20.0,13.0,12.0,90.0,45.0,50.0,27.0,30.0,15.0,12.0,60.0,11.0,18.0,10.0,21.0,22.0,28.0,65.0,24.0,33.0,50.0,51.0,5.0,40.0,24.0,25.0,21.0,9.0,10.0,43.0,13.0,10.0,8.0,45.0,14.0,25.0,45.0,18.0,21.0,25.0,20.0,30.0,35.0,44.0,47.0,20.0,55.0,6.0,13.0,12.0,25.0,35.0,50.0,17.0,33.0,20.0,13.0,59.0,42.0,3.0,16.0,60.0,14.0,15.0,34.0,11.0,27.0,35.0,35.0,10.0,22.0,16.0,20.0,26.0,38.0,28.0,14.0,23.0,9.0,20.0,20.0,19.0,60.0,70.0,40.0,60.0,20.0,12.0,25.0,35.0,40.0,15.0,40.0,19.0,100.0,31.0,48.0,37.0,20.0,28.0,26.0,16.0,21.0,25.0,19.0,31.0,22.0,9.0,19.0,50.0,35.0,65.0,22.0,40.0,20.0,25.0,50.0,55.0,30.0,90.0,12.0,35.0,47.0,30.0,17.0,20.0,14.0,20.0,37.0,21.0,24.0,20.0,18.0,15.0,25.0,35.0,15.0,45.0,24.0,15.0,16.0,24.0,11.0,7.0,60.0,27.0,40.0,16.0,9.0,32.0,35.0,17.0,10.0,22.0,35.0,18.0,35.0,15.0,27.0,14.0,15.0,27.0,32.0,25.0,16.0,26.0,20.0,70.0,24.0,21.0,30.0,22.0,11.0,18.0,90.0,16.0,45.0,24.0,30.0,32.0,42.0,24.0,24.0,90.0,40.0,22.0,27.0,16.0,72.0,15.0,40.0,28.0,8.0,12.0,15.0,55.0,16.0,14.0,21.0,18.0,18.0,63.0,48.0,20.0,101.0,28.0,40.0,15.0,11.0,21.0,7.0,35.0,22.0,18.0,34.0,100.0,30.0,18.0,29.0,45.0,18.0,60.0,6.0,30.0,20.0,50.0,17.0,30.0,25.0,48.0,70.0,55.0,13.0,45.0,9.0,25.0,47.0,80.0,25.0,9.0,7.0,80.0,9.0,53.0,30.0,12.0,10.0,20.0,40.0,42.0,17.0,21.0,18.0,35.0,18.0,17.0,30.0,39.0,18.0,45.0,11.0,20.0,50.0,55.0,10.0,13.0,28.0,16.0,27.0,15.0,31.0,94.0,29.0,70.0,14.0,36.0,25.0,27.0,30.0,40.0,40.0,11.0,36.0,50.0,10.0,68.0,35.0,32.0,14.0,13.0,70.0,23.0,19.0,80.0,25.0,15.0,15.0,50.0,24.0,27.0,43.0,15.0,70.0,20.0,28.0,17.0,38.0,35.0,7.0,34.0,40.0,30.0,40.0,25.0,50.0,33.0,52.0,50.0,42.0,38.0,45.0,19.0,17.0,40.0,21.0,13.0,15.0,10.0,12.0,22.0,25.0,3.0,23.0,35.0,10.0,32.0,18.0,17.0,16.0,12.0,39.0,18.0,23.0,25.0,36.0,26.0,17.0,14.0,7.0,10.0,13.0,15.0,22.0,2.0,22.0,70.0,50.0,20.0,84.0,20.0,23.0,41.0,25.0,10.0,13.0,30.0,30.0,35.0,25.0,19.0,35.0,35.0,30.0,21.0,18.0,15.0,74.0,50.0,76.0,17.0,20.0,50.0,30.0,120.0,15.0,24.0,15.0,5.0,25.0,13.0,10.0,21.0,17.0,34.0,22.0,15.0,24.0,28.0,23.0,42.0,30.0,16.0,30.0,50.0,22.0,15.0,15.0,25.0,13.0,25.0,29.0,14.0,14.0,24.0,35.0,23.0,30.0,24.0,52.0,15.0,27.0,30.0,30.0,54.0,12.0,30.0,25.0,21.0,7.0,18.0,40.0,18.0,25.0,31.0,23.0,15.0,25.0,27.0,52.0,21.0,26.0,32.0,15.0,21.0,26.0,14.0,22.0,34.0,30.0,15.0,15.0,30.0,13.0,50.0,28.0,25.0,26.0,7.0,2.0,22.0,59.0,25.0,14.0,43.0,8.0,70.0,28.0,18.0,12.0,20.0,20.0,11.0,17.0,17.0,26.0,12.0,35.0,6.0,22.0,22.0,19.0,50.0,15.0,15.0,72.0,45.0,20.0,90.0,35.0,31.0,10.0,28.0,30.0,86.0,25.0,70.0,30.0,40.0,20.0,40.0,13.0,30.0,40.0,48.0,50.0,21.0,18.0,18.0,58.0,37.0,28.0,18.0,18.0,32.0,22.0,18.0,22.0,39.0,24.0,30.0,25.0,15.0,35.0,10.0,40.0,9.0,40.0,30.0,50.0,20.0,15.0,30.0,17.0,15.0,48.0,62.0,7.0,15.0,95.0,15.0,9.0,25.0,11.0,14.0,14.0,15.0,15.0,25.0,18.0,60.0,15.0,45.0,35.0,40.0,30.0,12.0,13.0,43.0,75.0,100.0,17.0,12.0,75.0,12.0,37.0,54.0,85.0,20.0,46.0,21.0,33.0,33.0,29.0,20.0,65.0,120.0,30.0,16.0,90.0,25.0,32.0,29.0,12.0,32.0,35.0,22.0,40.0,7.0,23.0,30.0,15.0,17.0,15.0,40.0,17.0,15.0,16.0,9.0,25.0,20.0,90.0,10.0,23.0,30.0,82.0,40.0,15.0,30.0,30.0,16.0,19.0,80.0,30.0,50.0,66.0,40.0,45.0,25.0,13.0,37.0,20.0,42.0,35.0,20.0,60.0,60.0,45.0,20.0,19.0,23.0,55.0,23.0,30.0,51.0,22.0,21.0,16.0,53.0,23.0,25.0,18.0,20.0,26.0,65.0,21.0,55.0,7.0,14.0,50.0,10.0,8.0,20.0,40.0,33.0,20.0,26.0,17.0,51.0,30.0,30.0,15.0,18.0,43.0,15.0,15.0,28.0,32.0,32.0,25.0,18.0,19.0,30.0,30.0,25.0,36.0,40.0,26.0,40.0,31.0,15.0,12.0,20.0,32.0,28.0,13.0,47.0,40.0,30.0,23.0,40.0,26.0,100.0,50.0,18.0,13.0,30.0,50.0,33.0,44.0,45.0,30.0,23.0,13.0,18.0,28.0,50.0,11.0,15.0,25.0,27.0,65.0,55.0,40.0,14.0,50.0,30.0,21.0,55.0,120.0,40.0,25.0,55.0,12.0,65.0,34.0,22.0,35.0,17.0,20.0,70.0,40.0,22.0,14.0,13.0,15.0,23.0,55.0,18.0,75.0,47.0,14.0,38.0,23.0,9.0,12.0,25.0,26.0,5.0,18.0,25.0,30.0,15.0,15.0,25.0,64.0,40.0,20.0,31.0,30.0,120.0,31.0,15.0,24.0,25.0,35.0,7.0,20.0,19.0,45.0,25.0,11.0,15.0,30.0,17.0,37.0,13.0,38.0,25.0,20.0,9.0,33.0,16.0,30.0,27.0,22.0,15.0,11.0,17.0,44.0,54.0,8.0,9.0,25.0,25.0,15.0,25.0,55.0,41.0,15.0,15.0,25.0,25.0,32.0,30.0,14.0,58.0,30.0,12.0,24.0,47.0,18.0,55.0,25.0,53.0,23.0,22.0,12.0,32.0,40.0,60.0,25.0,11.0,65.0,80.0,55.0,16.0,18.0,17.0,18.0,50.0,21.0,50.0,13.0,51.0,25.0,30.0,15.0,40.0,10.0,34.0,70.0,27.0,21.0,15.0,15.0,46.0,4.0,5.0,40.0,19.0,33.0,11.0,34.0,16.0,21.0,80.0,55.0,9.0,21.0,25.0,18.0,41.0,23.0,15.0,13.0,35.0,33.0,11.0,35.0,30.0,25.0,27.0,96.0,40.0,11.0,20.0,50.0,75.0,24.0,32.0,16.0,27.0,15.0,19.0,20.0,35.0,80.0,40.0,18.0,12.0,25.0,19.0,60.0,79.0,95.0,30.0,50.0,22.0,33.0,15.0,11.0,30.0,8.0,25.0,30.0,15.0,30.0,70.0,7.0,80.0,6.0,30.0,21.0,17.0,120.0,27.0,22.0,35.0,6.0,15.0,20.0,11.0,30.0,20.0,30.0,20.0,40.0,30.0,15.0,60.0,17.0,35.0,34.0,35.0,25.0,18.0,8.0,24.0,13.0,30.0,27.0,15.0,27.0,22.0,50.0,22.0,25.0,21.0,12.0,140.0,30.0,60.0,35.0,12.0,12.0,21.0,70.0,20.0,67.0,24.0,62.0,11.0,17.0,32.0,65.0,58.0,52.0,30.0,12.0,20.0,30.0,7.0,37.0,30.0,47.0,90.0,38.0,20.0,2.0,25.0,19.0,19.0,18.0,30.0,45.0,45.0,15.0,19.0,24.0,40.0,35.0,21.0,18.0,100.0,23.0,25.0,80.0,15.0,68.0,40.0,50.0,28.0,10.0,9.0,46.0,22.0,44.0,30.0],\"x0\":\" \",\"xaxis\":\"x\",\"y0\":\" \",\"yaxis\":\"y\",\"type\":\"box\"}],                        {\"template\":{\"data\":{\"histogram2dcontour\":[{\"type\":\"histogram2dcontour\",\"colorbar\":{\"outlinewidth\":0,\"ticks\":\"\"},\"colorscale\":[[0.0,\"#0d0887\"],[0.1111111111111111,\"#46039f\"],[0.2222222222222222,\"#7201a8\"],[0.3333333333333333,\"#9c179e\"],[0.4444444444444444,\"#bd3786\"],[0.5555555555555556,\"#d8576b\"],[0.6666666666666666,\"#ed7953\"],[0.7777777777777778,\"#fb9f3a\"],[0.8888888888888888,\"#fdca26\"],[1.0,\"#f0f921\"]]}],\"choropleth\":[{\"type\":\"choropleth\",\"colorbar\":{\"outlinewidth\":0,\"ticks\":\"\"}}],\"histogram2d\":[{\"type\":\"histogram2d\",\"colorbar\":{\"outlinewidth\":0,\"ticks\":\"\"},\"colorscale\":[[0.0,\"#0d0887\"],[0.1111111111111111,\"#46039f\"],[0.2222222222222222,\"#7201a8\"],[0.3333333333333333,\"#9c179e\"],[0.4444444444444444,\"#bd3786\"],[0.5555555555555556,\"#d8576b\"],[0.6666666666666666,\"#ed7953\"],[0.7777777777777778,\"#fb9f3a\"],[0.8888888888888888,\"#fdca26\"],[1.0,\"#f0f921\"]]}],\"heatmap\":[{\"type\":\"heatmap\",\"colorbar\":{\"outlinewidth\":0,\"ticks\":\"\"},\"colorscale\":[[0.0,\"#0d0887\"],[0.1111111111111111,\"#46039f\"],[0.2222222222222222,\"#7201a8\"],[0.3333333333333333,\"#9c179e\"],[0.4444444444444444,\"#bd3786\"],[0.5555555555555556,\"#d8576b\"],[0.6666666666666666,\"#ed7953\"],[0.7777777777777778,\"#fb9f3a\"],[0.8888888888888888,\"#fdca26\"],[1.0,\"#f0f921\"]]}],\"heatmapgl\":[{\"type\":\"heatmapgl\",\"colorbar\":{\"outlinewidth\":0,\"ticks\":\"\"},\"colorscale\":[[0.0,\"#0d0887\"],[0.1111111111111111,\"#46039f\"],[0.2222222222222222,\"#7201a8\"],[0.3333333333333333,\"#9c179e\"],[0.4444444444444444,\"#bd3786\"],[0.5555555555555556,\"#d8576b\"],[0.6666666666666666,\"#ed7953\"],[0.7777777777777778,\"#fb9f3a\"],[0.8888888888888888,\"#fdca26\"],[1.0,\"#f0f921\"]]}],\"contourcarpet\":[{\"type\":\"contourcarpet\",\"colorbar\":{\"outlinewidth\":0,\"ticks\":\"\"}}],\"contour\":[{\"type\":\"contour\",\"colorbar\":{\"outlinewidth\":0,\"ticks\":\"\"},\"colorscale\":[[0.0,\"#0d0887\"],[0.1111111111111111,\"#46039f\"],[0.2222222222222222,\"#7201a8\"],[0.3333333333333333,\"#9c179e\"],[0.4444444444444444,\"#bd3786\"],[0.5555555555555556,\"#d8576b\"],[0.6666666666666666,\"#ed7953\"],[0.7777777777777778,\"#fb9f3a\"],[0.8888888888888888,\"#fdca26\"],[1.0,\"#f0f921\"]]}],\"surface\":[{\"type\":\"surface\",\"colorbar\":{\"outlinewidth\":0,\"ticks\":\"\"},\"colorscale\":[[0.0,\"#0d0887\"],[0.1111111111111111,\"#46039f\"],[0.2222222222222222,\"#7201a8\"],[0.3333333333333333,\"#9c179e\"],[0.4444444444444444,\"#bd3786\"],[0.5555555555555556,\"#d8576b\"],[0.6666666666666666,\"#ed7953\"],[0.7777777777777778,\"#fb9f3a\"],[0.8888888888888888,\"#fdca26\"],[1.0,\"#f0f921\"]]}],\"mesh3d\":[{\"type\":\"mesh3d\",\"colorbar\":{\"outlinewidth\":0,\"ticks\":\"\"}}],\"scatter\":[{\"fillpattern\":{\"fillmode\":\"overlay\",\"size\":10,\"solidity\":0.2},\"type\":\"scatter\"}],\"parcoords\":[{\"type\":\"parcoords\",\"line\":{\"colorbar\":{\"outlinewidth\":0,\"ticks\":\"\"}}}],\"scatterpolargl\":[{\"type\":\"scatterpolargl\",\"marker\":{\"colorbar\":{\"outlinewidth\":0,\"ticks\":\"\"}}}],\"bar\":[{\"error_x\":{\"color\":\"#2a3f5f\"},\"error_y\":{\"color\":\"#2a3f5f\"},\"marker\":{\"line\":{\"color\":\"#E5ECF6\",\"width\":0.5},\"pattern\":{\"fillmode\":\"overlay\",\"size\":10,\"solidity\":0.2}},\"type\":\"bar\"}],\"scattergeo\":[{\"type\":\"scattergeo\",\"marker\":{\"colorbar\":{\"outlinewidth\":0,\"ticks\":\"\"}}}],\"scatterpolar\":[{\"type\":\"scatterpolar\",\"marker\":{\"colorbar\":{\"outlinewidth\":0,\"ticks\":\"\"}}}],\"histogram\":[{\"marker\":{\"pattern\":{\"fillmode\":\"overlay\",\"size\":10,\"solidity\":0.2}},\"type\":\"histogram\"}],\"scattergl\":[{\"type\":\"scattergl\",\"marker\":{\"colorbar\":{\"outlinewidth\":0,\"ticks\":\"\"}}}],\"scatter3d\":[{\"type\":\"scatter3d\",\"line\":{\"colorbar\":{\"outlinewidth\":0,\"ticks\":\"\"}},\"marker\":{\"colorbar\":{\"outlinewidth\":0,\"ticks\":\"\"}}}],\"scattermapbox\":[{\"type\":\"scattermapbox\",\"marker\":{\"colorbar\":{\"outlinewidth\":0,\"ticks\":\"\"}}}],\"scatterternary\":[{\"type\":\"scatterternary\",\"marker\":{\"colorbar\":{\"outlinewidth\":0,\"ticks\":\"\"}}}],\"scattercarpet\":[{\"type\":\"scattercarpet\",\"marker\":{\"colorbar\":{\"outlinewidth\":0,\"ticks\":\"\"}}}],\"carpet\":[{\"aaxis\":{\"endlinecolor\":\"#2a3f5f\",\"gridcolor\":\"white\",\"linecolor\":\"white\",\"minorgridcolor\":\"white\",\"startlinecolor\":\"#2a3f5f\"},\"baxis\":{\"endlinecolor\":\"#2a3f5f\",\"gridcolor\":\"white\",\"linecolor\":\"white\",\"minorgridcolor\":\"white\",\"startlinecolor\":\"#2a3f5f\"},\"type\":\"carpet\"}],\"table\":[{\"cells\":{\"fill\":{\"color\":\"#EBF0F8\"},\"line\":{\"color\":\"white\"}},\"header\":{\"fill\":{\"color\":\"#C8D4E3\"},\"line\":{\"color\":\"white\"}},\"type\":\"table\"}],\"barpolar\":[{\"marker\":{\"line\":{\"color\":\"#E5ECF6\",\"width\":0.5},\"pattern\":{\"fillmode\":\"overlay\",\"size\":10,\"solidity\":0.2}},\"type\":\"barpolar\"}],\"pie\":[{\"automargin\":true,\"type\":\"pie\"}]},\"layout\":{\"autotypenumbers\":\"strict\",\"colorway\":[\"#636efa\",\"#EF553B\",\"#00cc96\",\"#ab63fa\",\"#FFA15A\",\"#19d3f3\",\"#FF6692\",\"#B6E880\",\"#FF97FF\",\"#FECB52\"],\"font\":{\"color\":\"#2a3f5f\"},\"hovermode\":\"closest\",\"hoverlabel\":{\"align\":\"left\"},\"paper_bgcolor\":\"white\",\"plot_bgcolor\":\"#E5ECF6\",\"polar\":{\"bgcolor\":\"#E5ECF6\",\"angularaxis\":{\"gridcolor\":\"white\",\"linecolor\":\"white\",\"ticks\":\"\"},\"radialaxis\":{\"gridcolor\":\"white\",\"linecolor\":\"white\",\"ticks\":\"\"}},\"ternary\":{\"bgcolor\":\"#E5ECF6\",\"aaxis\":{\"gridcolor\":\"white\",\"linecolor\":\"white\",\"ticks\":\"\"},\"baxis\":{\"gridcolor\":\"white\",\"linecolor\":\"white\",\"ticks\":\"\"},\"caxis\":{\"gridcolor\":\"white\",\"linecolor\":\"white\",\"ticks\":\"\"}},\"coloraxis\":{\"colorbar\":{\"outlinewidth\":0,\"ticks\":\"\"}},\"colorscale\":{\"sequential\":[[0.0,\"#0d0887\"],[0.1111111111111111,\"#46039f\"],[0.2222222222222222,\"#7201a8\"],[0.3333333333333333,\"#9c179e\"],[0.4444444444444444,\"#bd3786\"],[0.5555555555555556,\"#d8576b\"],[0.6666666666666666,\"#ed7953\"],[0.7777777777777778,\"#fb9f3a\"],[0.8888888888888888,\"#fdca26\"],[1.0,\"#f0f921\"]],\"sequentialminus\":[[0.0,\"#0d0887\"],[0.1111111111111111,\"#46039f\"],[0.2222222222222222,\"#7201a8\"],[0.3333333333333333,\"#9c179e\"],[0.4444444444444444,\"#bd3786\"],[0.5555555555555556,\"#d8576b\"],[0.6666666666666666,\"#ed7953\"],[0.7777777777777778,\"#fb9f3a\"],[0.8888888888888888,\"#fdca26\"],[1.0,\"#f0f921\"]],\"diverging\":[[0,\"#8e0152\"],[0.1,\"#c51b7d\"],[0.2,\"#de77ae\"],[0.3,\"#f1b6da\"],[0.4,\"#fde0ef\"],[0.5,\"#f7f7f7\"],[0.6,\"#e6f5d0\"],[0.7,\"#b8e186\"],[0.8,\"#7fbc41\"],[0.9,\"#4d9221\"],[1,\"#276419\"]]},\"xaxis\":{\"gridcolor\":\"white\",\"linecolor\":\"white\",\"ticks\":\"\",\"title\":{\"standoff\":15},\"zerolinecolor\":\"white\",\"automargin\":true,\"zerolinewidth\":2},\"yaxis\":{\"gridcolor\":\"white\",\"linecolor\":\"white\",\"ticks\":\"\",\"title\":{\"standoff\":15},\"zerolinecolor\":\"white\",\"automargin\":true,\"zerolinewidth\":2},\"scene\":{\"xaxis\":{\"backgroundcolor\":\"#E5ECF6\",\"gridcolor\":\"white\",\"linecolor\":\"white\",\"showbackground\":true,\"ticks\":\"\",\"zerolinecolor\":\"white\",\"gridwidth\":2},\"yaxis\":{\"backgroundcolor\":\"#E5ECF6\",\"gridcolor\":\"white\",\"linecolor\":\"white\",\"showbackground\":true,\"ticks\":\"\",\"zerolinecolor\":\"white\",\"gridwidth\":2},\"zaxis\":{\"backgroundcolor\":\"#E5ECF6\",\"gridcolor\":\"white\",\"linecolor\":\"white\",\"showbackground\":true,\"ticks\":\"\",\"zerolinecolor\":\"white\",\"gridwidth\":2}},\"shapedefaults\":{\"line\":{\"color\":\"#2a3f5f\"}},\"annotationdefaults\":{\"arrowcolor\":\"#2a3f5f\",\"arrowhead\":0,\"arrowwidth\":1},\"geo\":{\"bgcolor\":\"white\",\"landcolor\":\"#E5ECF6\",\"subunitcolor\":\"white\",\"showland\":true,\"showlakes\":true,\"lakecolor\":\"white\"},\"title\":{\"x\":0.05},\"mapbox\":{\"style\":\"light\"}}},\"xaxis\":{\"anchor\":\"y\",\"domain\":[0.0,1.0],\"title\":{\"text\":\"Tumor_Size\"}},\"yaxis\":{\"anchor\":\"x\",\"domain\":[0.0,1.0]},\"legend\":{\"tracegroupgap\":0},\"margin\":{\"t\":60},\"boxmode\":\"group\"},                        {\"responsive\": true}                    ).then(function(){\n",
              "                            \n",
              "var gd = document.getElementById('10e5de3a-dbb9-485a-be4d-106a0ddc6288');\n",
              "var x = new MutationObserver(function (mutations, observer) {{\n",
              "        var display = window.getComputedStyle(gd).display;\n",
              "        if (!display || display === 'none') {{\n",
              "            console.log([gd, 'removed!']);\n",
              "            Plotly.purge(gd);\n",
              "            observer.disconnect();\n",
              "        }}\n",
              "}});\n",
              "\n",
              "// Listen for the removal of the full notebook cells\n",
              "var notebookContainer = gd.closest('#notebook-container');\n",
              "if (notebookContainer) {{\n",
              "    x.observe(notebookContainer, {childList: true});\n",
              "}}\n",
              "\n",
              "// Listen for the clearing of the current output cell\n",
              "var outputEl = gd.closest('.output');\n",
              "if (outputEl) {{\n",
              "    x.observe(outputEl, {childList: true});\n",
              "}}\n",
              "\n",
              "                        })                };                            </script>        </div>\n",
              "</body>\n",
              "</html>"
            ]
          },
          "metadata": {},
          "output_type": "display_data"
        }
      ],
      "source": [
        "VariableName_fig = px.box(data, x='Tumor_Size')\n",
        "VariableName_fig.show()"
      ]
    },
    {
      "cell_type": "code",
      "execution_count": null,
      "metadata": {
        "colab": {
          "base_uri": "https://localhost:8080/",
          "height": 542
        },
        "id": "thAtXpmflz3k",
        "outputId": "4172287b-efb4-48b2-e970-3443000a0563"
      },
      "outputs": [
        {
          "data": {
            "text/html": [
              "<html>\n",
              "<head><meta charset=\"utf-8\" /></head>\n",
              "<body>\n",
              "    <div>            <script src=\"https://cdnjs.cloudflare.com/ajax/libs/mathjax/2.7.5/MathJax.js?config=TeX-AMS-MML_SVG\"></script><script type=\"text/javascript\">if (window.MathJax && window.MathJax.Hub && window.MathJax.Hub.Config) {window.MathJax.Hub.Config({SVG: {font: \"STIX-Web\"}});}</script>                <script type=\"text/javascript\">window.PlotlyConfig = {MathJaxConfig: 'local'};</script>\n",
              "        <script charset=\"utf-8\" src=\"https://cdn.plot.ly/plotly-2.35.2.min.js\"></script>                <div id=\"f7169384-29a7-4cdb-847f-dbe3daea8fa5\" class=\"plotly-graph-div\" style=\"height:525px; width:100%;\"></div>            <script type=\"text/javascript\">                                    window.PLOTLYENV=window.PLOTLYENV || {};                                    if (document.getElementById(\"f7169384-29a7-4cdb-847f-dbe3daea8fa5\")) {                    Plotly.newPlot(                        \"f7169384-29a7-4cdb-847f-dbe3daea8fa5\",                        [{\"alignmentgroup\":\"True\",\"hovertemplate\":\"Regional_Node_Examined=%{x}\\u003cextra\\u003e\\u003c\\u002fextra\\u003e\",\"legendgroup\":\"\",\"marker\":{\"color\":\"#636efa\"},\"name\":\"\",\"notched\":false,\"offsetgroup\":\"\",\"orientation\":\"h\",\"showlegend\":false,\"x\":[24.0,14.0,14.0,2.0,3.0,18.0,11.0,9.0,20.0,21.0,9.0,11.0,13.0,23.0,16.0,20.0,1.0,22.0,16.0,20.0,15.0,15.0,4.0,18.0,26.0,31.0,25.0,14.0,14.0,10.0,3.0,5.0,6.0,19.0,19.0,9.0,21.0,14.0,10.0,15.0,12.0,12.0,2.0,15.0,11.0,10.0,15.0,12.0,16.0,8.0,17.0,9.0,7.0,20.0,16.0,13.0,19.0,49.0,15.0,17.0,24.0,12.0,1.0,20.0,16.0,5.0,23.0,20.0,5.0,12.0,12.0,24.0,16.0,15.0,19.0,13.0,11.0,7.0,9.0,9.0,21.0,10.0,9.0,2.0,13.0,12.0,7.0,10.0,11.0,9.0,8.0,15.0,5.0,21.0,12.0,17.0,4.0,10.0,3.0,14.0,33.0,25.0,3.0,7.0,14.0,2.0,11.0,12.0,8.0,30.0,15.0,3.0,34.0,14.0,6.0,12.0,9.0,16.0,15.0,15.0,7.0,15.0,16.0,23.0,23.0,16.0,13.0,3.0,8.0,13.0,14.0,10.0,8.0,5.0,8.0,28.0,12.0,20.0,14.0,18.0,4.0,13.0,24.0,23.0,20.0,15.0,18.0,13.0,1.0,13.0,18.0,14.0,15.0,14.0,14.0,16.0,15.0,6.0,2.0,14.0,18.0,3.0,2.0,20.0,16.0,3.0,12.0,24.0,8.0,14.0,20.0,11.0,9.0,9.0,24.0,11.0,17.0,7.0,31.0,11.0,32.0,23.0,3.0,15.0,14.0,14.0,3.0,14.0,34.0,14.0,12.0,2.0,19.0,5.0,16.0,5.0,16.0,10.0,22.0,11.0,14.0,16.0,1.0,17.0,2.0,6.0,24.0,18.0,12.0,6.0,11.0,17.0,18.0,9.0,10.0,4.0,12.0,17.0,4.0,27.0,14.0,20.0,18.0,9.0,2.0,27.0,20.0,42.0,9.0,15.0,19.0,7.0,22.0,2.0,15.0,26.0,26.0,12.0,28.0,8.0,29.0,30.0,9.0,18.0,15.0,18.0,9.0,18.0,15.0,11.0,6.0,5.0,2.0,13.0,19.0,20.0,13.0,7.0,20.0,12.0,11.0,9.0,9.0,3.0,33.0,3.0,33.0,3.0,4.0,20.0,13.0,20.0,18.0,9.0,11.0,2.0,null,23.0,14.0,14.0,16.0,12.0,18.0,12.0,14.0,7.0,13.0,12.0,30.0,41.0,39.0,17.0,11.0,19.0,14.0,10.0,1.0,11.0,21.0,13.0,18.0,23.0,30.0,46.0,25.0,10.0,22.0,10.0,4.0,19.0,4.0,15.0,14.0,27.0,12.0,4.0,14.0,14.0,28.0,12.0,18.0,15.0,8.0,19.0,16.0,15.0,14.0,1.0,9.0,10.0,24.0,19.0,6.0,19.0,13.0,11.0,4.0,13.0,19.0,13.0,12.0,19.0,17.0,9.0,23.0,12.0,5.0,16.0,29.0,17.0,24.0,16.0,6.0,7.0,1.0,18.0,23.0,5.0,3.0,20.0,10.0,23.0,24.0,2.0,11.0,16.0,19.0,25.0,14.0,12.0,30.0,16.0,2.0,24.0,26.0,14.0,14.0,16.0,18.0,15.0,5.0,6.0,17.0,11.0,22.0,3.0,16.0,10.0,14.0,7.0,20.0,14.0,21.0,18.0,40.0,20.0,14.0,6.0,18.0,8.0,31.0,13.0,14.0,7.0,13.0,20.0,12.0,9.0,1.0,9.0,7.0,19.0,3.0,9.0,9.0,2.0,7.0,20.0,39.0,7.0,27.0,17.0,10.0,8.0,8.0,14.0,20.0,11.0,10.0,10.0,11.0,25.0,1.0,9.0,15.0,19.0,9.0,2.0,25.0,5.0,21.0,17.0,10.0,29.0,20.0,3.0,26.0,6.0,11.0,14.0,2.0,2.0,17.0,9.0,14.0,19.0,20.0,16.0,13.0,10.0,6.0,18.0,18.0,11.0,7.0,11.0,3.0,4.0,12.0,12.0,9.0,3.0,4.0,16.0,7.0,32.0,9.0,28.0,9.0,17.0,18.0,6.0,25.0,16.0,1.0,23.0,9.0,18.0,17.0,18.0,51.0,15.0,7.0,10.0,18.0,23.0,23.0,16.0,19.0,20.0,24.0,15.0,5.0,4.0,22.0,12.0,9.0,15.0,12.0,14.0,17.0,9.0,13.0,13.0,15.0,13.0,28.0,14.0,13.0,13.0,11.0,33.0,29.0,21.0,1.0,17.0,44.0,2.0,16.0,3.0,38.0,14.0,18.0,16.0,17.0,24.0,18.0,7.0,21.0,23.0,23.0,13.0,3.0,9.0,33.0,5.0,15.0,16.0,22.0,20.0,47.0,15.0,13.0,17.0,14.0,1.0,22.0,9.0,14.0,15.0,11.0,19.0,1.0,2.0,17.0,14.0,9.0,27.0,18.0,24.0,16.0,25.0,9.0,26.0,31.0,14.0,16.0,14.0,14.0,5.0,13.0,14.0,19.0,11.0,29.0,19.0,19.0,11.0,10.0,12.0,29.0,4.0,15.0,19.0,13.0,10.0,4.0,13.0,15.0,18.0,3.0,16.0,40.0,27.0,22.0,7.0,16.0,15.0,10.0,15.0,6.0,17.0,8.0,8.0,13.0,8.0,10.0,2.0,5.0,11.0,6.0,23.0,1.0,15.0,24.0,8.0,17.0,4.0,15.0,13.0,26.0,2.0,18.0,54.0,28.0,2.0,6.0,1.0,2.0,2.0,13.0,5.0,14.0,27.0,28.0,11.0,18.0,17.0,12.0,31.0,2.0,24.0,3.0,7.0,26.0,3.0,28.0,24.0,11.0,21.0,14.0,7.0,39.0,19.0,1.0,8.0,16.0,19.0,28.0,12.0,19.0,4.0,19.0,12.0,23.0,17.0,17.0,13.0,10.0,13.0,14.0,22.0,11.0,9.0,18.0,32.0,12.0,13.0,8.0,19.0,16.0,12.0,32.0,20.0,14.0,8.0,18.0,27.0,26.0,19.0,12.0,36.0,19.0,12.0,27.0,5.0,21.0,2.0,15.0,2.0,16.0,26.0,19.0,2.0,14.0,2.0,11.0,4.0,8.0,4.0,14.0,20.0,20.0,14.0,27.0,29.0,24.0,5.0,7.0,22.0,17.0,8.0,22.0,16.0,23.0,10.0,12.0,16.0,26.0,15.0,14.0,11.0,9.0,1.0,8.0,9.0,21.0,26.0,25.0,2.0,13.0,10.0,23.0,10.0,6.0,33.0,10.0,19.0,5.0,13.0,13.0,31.0,3.0,6.0,2.0,24.0,19.0,17.0,2.0,13.0,11.0,19.0,17.0,12.0,7.0,18.0,15.0,20.0,16.0,10.0,2.0,6.0,10.0,30.0,9.0,11.0,18.0,3.0,2.0,15.0,38.0,2.0,9.0,15.0,2.0,11.0,14.0,1.0,25.0,18.0,15.0,27.0,19.0,6.0,17.0,1.0,6.0,14.0,12.0,9.0,14.0,13.0,5.0,20.0,13.0,29.0,21.0,2.0,1.0,9.0,2.0,1.0,20.0,19.0,26.0,24.0,14.0,6.0,13.0,17.0,5.0,1.0,14.0,26.0,3.0,23.0,5.0,7.0,36.0,15.0,19.0,31.0,14.0,16.0,12.0,19.0,20.0,10.0,12.0,17.0,5.0,9.0,19.0,3.0,4.0,25.0,6.0,32.0,15.0,16.0,31.0,16.0,7.0,21.0,18.0,15.0,20.0,10.0,31.0,13.0,3.0,3.0,17.0,6.0,21.0,17.0,16.0,20.0,10.0,16.0,25.0,15.0,6.0,17.0,6.0,18.0,25.0,10.0,10.0,7.0,28.0,10.0,25.0,38.0,26.0,20.0,9.0,14.0,32.0,25.0,4.0,12.0,3.0,11.0,7.0,9.0,17.0,24.0,9.0,29.0,2.0,32.0,13.0,18.0,4.0,18.0,7.0,19.0,3.0,13.0,19.0,19.0,27.0,18.0,8.0,26.0,10.0,5.0,1.0,23.0,10.0,11.0,16.0,12.0,15.0,13.0,3.0,14.0,21.0,14.0,23.0,61.0,7.0,1.0,23.0,26.0,10.0,11.0,14.0,15.0,16.0,10.0,10.0,8.0,5.0,34.0,16.0,11.0,22.0,23.0,2.0,15.0,11.0,32.0,21.0,12.0,14.0,19.0,10.0,14.0,9.0,17.0,9.0,20.0,5.0,10.0,32.0,2.0,9.0,18.0,5.0,19.0,9.0,13.0,17.0,3.0,2.0,26.0,9.0,41.0,17.0,18.0,10.0,8.0,11.0,26.0,21.0,9.0,20.0,22.0,3.0,19.0,22.0,8.0,23.0,13.0,5.0,21.0,17.0,16.0,15.0,20.0,24.0,10.0,17.0,3.0,23.0,16.0,17.0,17.0,18.0,17.0,6.0,17.0,16.0,15.0,20.0,60.0,6.0,18.0,15.0,29.0,18.0,18.0,2.0,6.0,18.0,13.0,6.0,30.0,23.0,25.0,9.0,19.0,10.0,17.0,9.0,10.0,13.0,8.0,14.0,15.0,17.0,23.0,7.0,16.0,10.0,10.0,24.0,7.0,19.0,25.0,19.0,19.0,27.0,19.0,18.0,9.0,16.0,22.0,12.0,16.0,23.0,29.0,5.0,13.0,26.0,4.0,5.0,9.0,30.0,26.0,12.0,15.0,4.0,12.0,1.0,28.0,15.0,22.0,33.0,28.0,23.0,23.0,18.0,22.0,9.0,6.0,10.0,15.0,11.0,15.0,21.0,10.0,1.0,18.0,14.0,22.0,11.0,20.0,16.0,10.0,12.0,11.0,8.0,2.0,26.0,10.0,16.0,16.0,30.0,2.0,11.0,11.0,11.0,6.0,4.0,4.0,37.0,2.0,17.0,4.0,23.0,2.0,10.0,11.0,10.0,14.0,10.0,21.0,12.0,13.0,17.0,9.0,16.0,13.0,22.0,11.0,1.0,18.0,8.0,11.0,14.0,14.0,18.0,10.0,4.0,9.0,12.0,15.0,17.0,11.0,10.0,21.0,16.0,13.0,23.0,8.0,8.0,20.0,7.0,12.0,3.0,6.0,13.0,13.0,22.0,4.0,5.0,23.0,4.0,18.0,21.0,13.0,7.0,14.0,12.0,20.0,3.0,12.0,9.0,22.0,21.0,7.0,2.0,1.0,15.0,13.0,5.0,28.0,15.0,12.0,19.0,9.0,8.0,16.0,9.0,17.0,9.0,14.0,18.0,28.0,18.0,12.0,2.0,9.0,15.0,16.0,26.0,15.0,8.0,18.0,15.0,10.0,3.0,15.0,13.0,3.0,6.0,8.0,7.0,19.0,13.0,25.0,5.0,9.0,5.0,16.0,4.0,14.0,11.0,14.0,14.0,3.0,16.0,18.0,26.0,10.0,20.0,10.0,5.0,3.0,4.0,11.0,15.0,27.0,2.0,19.0,22.0,5.0,20.0,20.0,4.0,3.0,16.0,21.0,17.0,36.0,5.0,15.0,8.0,9.0,13.0,15.0,2.0,10.0,10.0,8.0,26.0,21.0,14.0,14.0,18.0,10.0,4.0,10.0,12.0,32.0,13.0,26.0,6.0,13.0,13.0,12.0,6.0,11.0,20.0,21.0,18.0,28.0,14.0,3.0,22.0,2.0,13.0,21.0,22.0,16.0,13.0,16.0,5.0,1.0,1.0,4.0,32.0,16.0,11.0,13.0,24.0,28.0,30.0,16.0,16.0,3.0,8.0,2.0,6.0,9.0,2.0,16.0,10.0,13.0,1.0,23.0,26.0,21.0,4.0,13.0,13.0,14.0,30.0,5.0,3.0,18.0,14.0,15.0,21.0,14.0,7.0,14.0,11.0,20.0,16.0,17.0,11.0,20.0,13.0,4.0,5.0,13.0,16.0,8.0,14.0,4.0,9.0,6.0,21.0,13.0,15.0,4.0,14.0,15.0,18.0,24.0,4.0,10.0,20.0,16.0,19.0,21.0,13.0,15.0,29.0,8.0,15.0,15.0,24.0,16.0,21.0,28.0,9.0,14.0,10.0,3.0,10.0,1.0,25.0,34.0,1.0,9.0,23.0,4.0,1.0,13.0,9.0,6.0,15.0,14.0,8.0,18.0,11.0,27.0,7.0,13.0,9.0,14.0,13.0,15.0,15.0,14.0,17.0,16.0,14.0,3.0,13.0,13.0,28.0,20.0,5.0,28.0,23.0,3.0,12.0,23.0,14.0,17.0,14.0,24.0,27.0,21.0,16.0,19.0,11.0,23.0,3.0,3.0,10.0,8.0,14.0,11.0,9.0,13.0,25.0,13.0,12.0,13.0,2.0,13.0,14.0,36.0,21.0,24.0,35.0,4.0,7.0,3.0,11.0,27.0,13.0,29.0,6.0,17.0,11.0,11.0,31.0,13.0,12.0,12.0,3.0,16.0,17.0,19.0,5.0,12.0,9.0,15.0,23.0,9.0,23.0,2.0,5.0,12.0,17.0,17.0,12.0,16.0,13.0,11.0,25.0,20.0,15.0,9.0,11.0,26.0,13.0,20.0,12.0,13.0,21.0,20.0,9.0,13.0,9.0,4.0,3.0,16.0,27.0,14.0,15.0,16.0,40.0,17.0,13.0,22.0,19.0,1.0,32.0,3.0,2.0,10.0,15.0,22.0,1.0,20.0,16.0,2.0,21.0,11.0,16.0,31.0,15.0,14.0,14.0,16.0,16.0,10.0,15.0,12.0,19.0,7.0,5.0,4.0,10.0,25.0,16.0,4.0,20.0,17.0,6.0,11.0,47.0,24.0,15.0,9.0,17.0,12.0,16.0,29.0,4.0,11.0,13.0,4.0,16.0,9.0,17.0,18.0,28.0,9.0,11.0,9.0,43.0,9.0,7.0,9.0,32.0,9.0,20.0,5.0,11.0,24.0,6.0,39.0,18.0,8.0,16.0,8.0,14.0,26.0,18.0,25.0,13.0,17.0,8.0,13.0,22.0,10.0,10.0,9.0,18.0,21.0,22.0,20.0,8.0,24.0,18.0,11.0,7.0,19.0,20.0,23.0,25.0,9.0,9.0,19.0,49.0,9.0,7.0,7.0,18.0,11.0,6.0,16.0,17.0,4.0,17.0,11.0,4.0,25.0,25.0,27.0,19.0,18.0,21.0,16.0,12.0,26.0,15.0,16.0,12.0,18.0,23.0,27.0,18.0,8.0,8.0,9.0,16.0,17.0,18.0,4.0,17.0,20.0,20.0,13.0,4.0,24.0,6.0,29.0,11.0,1.0,18.0,6.0,25.0,18.0,7.0,12.0,14.0,6.0,13.0,13.0,20.0,5.0,14.0,15.0,21.0,13.0,13.0,3.0,19.0,12.0,19.0,10.0,5.0,15.0,16.0,20.0,13.0,7.0,13.0,7.0,20.0,26.0,9.0,6.0,21.0,10.0,6.0,22.0,16.0,21.0,3.0,25.0,16.0,19.0,11.0,19.0,10.0,6.0,24.0,13.0,20.0,18.0,2.0,27.0,15.0,11.0,11.0,8.0,24.0,8.0,10.0,21.0,6.0,11.0,23.0,1.0,5.0,2.0,27.0,27.0,1.0,21.0,11.0,16.0,20.0,8.0,19.0,9.0,15.0,24.0,14.0,26.0,16.0,18.0,17.0,14.0,9.0,20.0,15.0,2.0,11.0,14.0,10.0,12.0,27.0,15.0,16.0,1.0,15.0,4.0,15.0,23.0,16.0,6.0,9.0,14.0,9.0,13.0,3.0,16.0,9.0,16.0,10.0,16.0,26.0,11.0,16.0,10.0,29.0,21.0,25.0,9.0,12.0,24.0,2.0,17.0,10.0,19.0,5.0,13.0,6.0,13.0,13.0,6.0,8.0,11.0,3.0,29.0,11.0,1.0,7.0,1.0,22.0,4.0,34.0,7.0,3.0,5.0,17.0,15.0,18.0,15.0,6.0,10.0,9.0,20.0,9.0,11.0,9.0,18.0,1.0,14.0,6.0,22.0,8.0,15.0,15.0,8.0,11.0,23.0,14.0,28.0,6.0,8.0,11.0,8.0,19.0,20.0,3.0,10.0,16.0,4.0,9.0,24.0,4.0,12.0,10.0,6.0,12.0,13.0,25.0,18.0,12.0,16.0,14.0,4.0,15.0,13.0,13.0,20.0,11.0,8.0,35.0,18.0,15.0,12.0,1.0,16.0,12.0,10.0,23.0,8.0,16.0,24.0,14.0,24.0,10.0,24.0,17.0,9.0,30.0,13.0,23.0,15.0,20.0,1.0,8.0,19.0,16.0,27.0,15.0,9.0,9.0,25.0,2.0,9.0,7.0,18.0,19.0,13.0,8.0,9.0,6.0,14.0,15.0,15.0,19.0,16.0,23.0,2.0,3.0,17.0,1.0,20.0,5.0,1.0,27.0,15.0,23.0,3.0,13.0,10.0,14.0,15.0,18.0,25.0,21.0,14.0,11.0,17.0,13.0,10.0,13.0,15.0,18.0,13.0,12.0,11.0,20.0,22.0,11.0,13.0,8.0,17.0,12.0,15.0,11.0,2.0,11.0,10.0,18.0,14.0,19.0,21.0,14.0,3.0,3.0,13.0,17.0,6.0,24.0,14.0,24.0,17.0,17.0,12.0,15.0,4.0,9.0,29.0,18.0,5.0,3.0,18.0,19.0,21.0,12.0,10.0,17.0,7.0,18.0,4.0,18.0,7.0,17.0,8.0,22.0,2.0,4.0,16.0,30.0,7.0,13.0,16.0,1.0,7.0,14.0,5.0,25.0,9.0,12.0,14.0,15.0,1.0,22.0,17.0,7.0,6.0,24.0,5.0,13.0,17.0,15.0,7.0,21.0,25.0,17.0,16.0,37.0,13.0,8.0,33.0,24.0,28.0,24.0,13.0,22.0,33.0,21.0,11.0,14.0,12.0,19.0,13.0,26.0,19.0,3.0,12.0,14.0,15.0,15.0,12.0,4.0,3.0,9.0,12.0,41.0,16.0,22.0,8.0,13.0,17.0,3.0,19.0,1.0,21.0,2.0,16.0,12.0,6.0,4.0,11.0,13.0,26.0,23.0,11.0,10.0,22.0,14.0,8.0,4.0,3.0,17.0,2.0,23.0,17.0,3.0,13.0,19.0,14.0,23.0,8.0,13.0,24.0,12.0,11.0,11.0,17.0,2.0,21.0,16.0,15.0,9.0,2.0,17.0,14.0,20.0,12.0,16.0,27.0,13.0,29.0,10.0,24.0,19.0,14.0,14.0,9.0,19.0,19.0,7.0,20.0,16.0,13.0,16.0,11.0,19.0,5.0,36.0,11.0,20.0,5.0,5.0,28.0,52.0,7.0,23.0,15.0,9.0,11.0,13.0,15.0,41.0,15.0,1.0,23.0,8.0,23.0,26.0,12.0,20.0,12.0,3.0,16.0,2.0,23.0,16.0,11.0,11.0,37.0,14.0,15.0,15.0,34.0,8.0,21.0,7.0,27.0,22.0,3.0,21.0,1.0,10.0,13.0,7.0,11.0,11.0,10.0,23.0,2.0,24.0,14.0,41.0,17.0,9.0,12.0,1.0,28.0,9.0,13.0,8.0,22.0,3.0,23.0,18.0,2.0,12.0,15.0,16.0,18.0,19.0,17.0,10.0,2.0,5.0,2.0,10.0,8.0,14.0,2.0,19.0,17.0,12.0,35.0,7.0,19.0,21.0,2.0,19.0,13.0,4.0,1.0,16.0,13.0,2.0,1.0,3.0,22.0,17.0,23.0,25.0,9.0,10.0,11.0,20.0,24.0,14.0,15.0,15.0,7.0,18.0,16.0,13.0,45.0,17.0,16.0,12.0,9.0,36.0,18.0,3.0,20.0,14.0,18.0,22.0,31.0,17.0,12.0,11.0,12.0,16.0,8.0,1.0,1.0,11.0,19.0,18.0,4.0,15.0,1.0,10.0,22.0,26.0,11.0,29.0,18.0,13.0,4.0,18.0,18.0,9.0,21.0,13.0,8.0,13.0,18.0,21.0,26.0,10.0,2.0,12.0,13.0,12.0,35.0,4.0,23.0,12.0,1.0,10.0,12.0,8.0,32.0,6.0,15.0,29.0,20.0,6.0,17.0,18.0,9.0,15.0,2.0,6.0,16.0,18.0,10.0,13.0,14.0,16.0,14.0,10.0,14.0,20.0,35.0,12.0,12.0,13.0,14.0,2.0,21.0,32.0,8.0,3.0,10.0,23.0,15.0,14.0,15.0,16.0,12.0,7.0,4.0,16.0,14.0,17.0,5.0,16.0,13.0,12.0,14.0,31.0,8.0,27.0,15.0,32.0,30.0,9.0,21.0,18.0,24.0,15.0,18.0,18.0,22.0,16.0,9.0,20.0,16.0,20.0,4.0,5.0,6.0,28.0,1.0,2.0,9.0,35.0,23.0,16.0,16.0,10.0,15.0,16.0,10.0,6.0,17.0,14.0,8.0,17.0,18.0,12.0,28.0,18.0,23.0,32.0,17.0,1.0,20.0,17.0,13.0,7.0,9.0,10.0,5.0,16.0,9.0,11.0,30.0,9.0,19.0,9.0,5.0,14.0,8.0,21.0,8.0,18.0,16.0,13.0,1.0,3.0,9.0,13.0,12.0,21.0,30.0,17.0,11.0,3.0,7.0,12.0,11.0,11.0,2.0,10.0,8.0,8.0,7.0,28.0,27.0,24.0,4.0,22.0,15.0,2.0,9.0,14.0,28.0,13.0,2.0,13.0,10.0,11.0,21.0,19.0,30.0,8.0,20.0,2.0,14.0,43.0,8.0,57.0,14.0,5.0,16.0,16.0,12.0,13.0,21.0,9.0,6.0,17.0,5.0,19.0,9.0,8.0,14.0,12.0,16.0,5.0,28.0,19.0,14.0,25.0,18.0,14.0,22.0,13.0,22.0,19.0,16.0,12.0,9.0,15.0,30.0,13.0,10.0,8.0,21.0,12.0,3.0,3.0,8.0,11.0,15.0,11.0,26.0,20.0,10.0,25.0,5.0,19.0,19.0,13.0,15.0,8.0,10.0,9.0,15.0,10.0,4.0,17.0,8.0,4.0,26.0,11.0,16.0,25.0,13.0,11.0,14.0,13.0,16.0,9.0,13.0,8.0,13.0,13.0,6.0,13.0,5.0,7.0,2.0,21.0,23.0,26.0,1.0,13.0,6.0,16.0,18.0,20.0,17.0,19.0,1.0,25.0,12.0,25.0,10.0,17.0,10.0,4.0,17.0,18.0,25.0,17.0,9.0,28.0,13.0,2.0,17.0,18.0,24.0,8.0,21.0,12.0,15.0,24.0,5.0,9.0,14.0,17.0,26.0,6.0,17.0,12.0,15.0,12.0,8.0,14.0,16.0,7.0,10.0,5.0,16.0,13.0,1.0,14.0,9.0,10.0,22.0,12.0,37.0,9.0,12.0,2.0,36.0,11.0,19.0,12.0,12.0,12.0,28.0,18.0,8.0,15.0,23.0,13.0,26.0,5.0,1.0,16.0,11.0,21.0,13.0,17.0,15.0,18.0,8.0,17.0,18.0,23.0,17.0,17.0,2.0,19.0,10.0,30.0,8.0,15.0,17.0,10.0,11.0,12.0,18.0,20.0,17.0,13.0,22.0,13.0,5.0,7.0,14.0,13.0,7.0,4.0,4.0,12.0,11.0,19.0,11.0,2.0,9.0,12.0,26.0,11.0,1.0,15.0,13.0,17.0,12.0,9.0,20.0,13.0,14.0,5.0,3.0,13.0,4.0,18.0,27.0,4.0,5.0,14.0,2.0,18.0,6.0,16.0,3.0,3.0,4.0,19.0,10.0,18.0,24.0,13.0,3.0,7.0,9.0,20.0,4.0,6.0,32.0,7.0,21.0,6.0,14.0,5.0,2.0,14.0,8.0,12.0,14.0,19.0,13.0,21.0,11.0,4.0,21.0,11.0,21.0,32.0,12.0,2.0,43.0,13.0,14.0,5.0,16.0,13.0,10.0,15.0,14.0,19.0,8.0,8.0,21.0,12.0,16.0,18.0,11.0,5.0,17.0,18.0,19.0,6.0,6.0,13.0,15.0,6.0,12.0,17.0,39.0,12.0,26.0,24.0,17.0,15.0,9.0,26.0,16.0,6.0,25.0,8.0,11.0,26.0,25.0,10.0,13.0,16.0,19.0,20.0,17.0,22.0,20.0,11.0,11.0,18.0,15.0,23.0,9.0,22.0,7.0,2.0,3.0,5.0,16.0,10.0,23.0,33.0,24.0,10.0,12.0,16.0,10.0,2.0,16.0,18.0,6.0,29.0,23.0,11.0,13.0,7.0,12.0,16.0,23.0,5.0,8.0,10.0,24.0,19.0,1.0,14.0,9.0,5.0,14.0,4.0,22.0,22.0,12.0,17.0,2.0,22.0,9.0,8.0,17.0,26.0,22.0,23.0,9.0,1.0,21.0,12.0,26.0,8.0,19.0,15.0,4.0,14.0,11.0,27.0,16.0,9.0,26.0,13.0,2.0,15.0,9.0,26.0,15.0,10.0,19.0,10.0,2.0,10.0,16.0,13.0,11.0,23.0,11.0,7.0,19.0,21.0,7.0,20.0,12.0,8.0,1.0,11.0,9.0,8.0,32.0,24.0,9.0,17.0,8.0,13.0,12.0,15.0,12.0,24.0,12.0,12.0,10.0,9.0,47.0,17.0,4.0,9.0,23.0,8.0,10.0,22.0,14.0,27.0,6.0,12.0,19.0,16.0,14.0,21.0,16.0,18.0,14.0,16.0,3.0,17.0,20.0,22.0,12.0,9.0,14.0,9.0,14.0,13.0,22.0,22.0,14.0,17.0,3.0,15.0,6.0,13.0,2.0,2.0,14.0,30.0,22.0,10.0,2.0,15.0,9.0,35.0,11.0,14.0,1.0,6.0,19.0,17.0,11.0,24.0,33.0,4.0,10.0,14.0,10.0,10.0,27.0,13.0,7.0,30.0,14.0,14.0,19.0,3.0,14.0,18.0,8.0,21.0,27.0,17.0,12.0,6.0,8.0,30.0,28.0,18.0,8.0,16.0,13.0,20.0,13.0,6.0,36.0,12.0,13.0,5.0,17.0,2.0,8.0,23.0,10.0,12.0,13.0,29.0,10.0,14.0,3.0,8.0,5.0,24.0,29.0,16.0,32.0,19.0,17.0,29.0,12.0,20.0,7.0,1.0,18.0,8.0,13.0,8.0,17.0,24.0,19.0,12.0,12.0,9.0,10.0,16.0,14.0,11.0,34.0,2.0,13.0,14.0,17.0,20.0,18.0,24.0,5.0,27.0,1.0,13.0,15.0,29.0,16.0,25.0,14.0,2.0,9.0,4.0,10.0,12.0,8.0,9.0,18.0,6.0,37.0,33.0,13.0,9.0,15.0,24.0,11.0,9.0,11.0,9.0,21.0,19.0,12.0,3.0,12.0,24.0,3.0,9.0,12.0,19.0,15.0,35.0,8.0,14.0,10.0,12.0,4.0,19.0,9.0,22.0,16.0,7.0,11.0,4.0,17.0,5.0,13.0,8.0,16.0,23.0,15.0,9.0,8.0,8.0,10.0,15.0,28.0,21.0,6.0,17.0,5.0,3.0,17.0,17.0,35.0,14.0,21.0,11.0,12.0,27.0,18.0,14.0,19.0,12.0,11.0,16.0,12.0,18.0,17.0,18.0,24.0,15.0,8.0,18.0,1.0,8.0,25.0,19.0,26.0,8.0,18.0,22.0,13.0,15.0,9.0,29.0,4.0,17.0,9.0,47.0,25.0,15.0,11.0,13.0,19.0,22.0,23.0,14.0,16.0,27.0,29.0,7.0,8.0,1.0,1.0,25.0,40.0,19.0,28.0,23.0,10.0,12.0,17.0,23.0,14.0,41.0,13.0,13.0,16.0,16.0,19.0,5.0,24.0,13.0,4.0,2.0,9.0,10.0,8.0,24.0,7.0,14.0,6.0,6.0,24.0,5.0,10.0,14.0,20.0,13.0,26.0,21.0,13.0,14.0,11.0,9.0,11.0,15.0,12.0,5.0,18.0,30.0,4.0,17.0,10.0,13.0,1.0,19.0,24.0,4.0,26.0,17.0,8.0,19.0,20.0,16.0,13.0,16.0,25.0,19.0,16.0,3.0,12.0,15.0,14.0,37.0,2.0,9.0,18.0,11.0,1.0,27.0,15.0,1.0,16.0,1.0,26.0,22.0,16.0,10.0,18.0,12.0,11.0,4.0,21.0,7.0,9.0,6.0,21.0,12.0,21.0,17.0,22.0,5.0,14.0,5.0,2.0,17.0,18.0,2.0,11.0,18.0,11.0,11.0,6.0,10.0,13.0,17.0,15.0,4.0,15.0,26.0,33.0,19.0,29.0,18.0,10.0,5.0,11.0,9.0,22.0,15.0,14.0,13.0,2.0,8.0,9.0,15.0,16.0,2.0,12.0,15.0,5.0,16.0,8.0,47.0,10.0,13.0,15.0,9.0,5.0,8.0,15.0,13.0,13.0,27.0,13.0,20.0,13.0,20.0,21.0,4.0,25.0,8.0,6.0,2.0,20.0,15.0,11.0,15.0,21.0,1.0,20.0,16.0,21.0,2.0,16.0,5.0,10.0,20.0,12.0,19.0,15.0,35.0,23.0,3.0,9.0,21.0,19.0,21.0,17.0,5.0,24.0,14.0,27.0,14.0,13.0,19.0,8.0,3.0,26.0,2.0,2.0,18.0,3.0,18.0,21.0,18.0,7.0,18.0,20.0,16.0,22.0,11.0,21.0,10.0,13.0,9.0,10.0,4.0,17.0,12.0,16.0,15.0,9.0,16.0,19.0,14.0,11.0,17.0,7.0,23.0,13.0,13.0,16.0,3.0,5.0,9.0,10.0,16.0,27.0,15.0,13.0,31.0,13.0,10.0,15.0,6.0,23.0,17.0,23.0,4.0,20.0,4.0,12.0,14.0,9.0,8.0,30.0,5.0,15.0,13.0,2.0,7.0,16.0,7.0,14.0,13.0,29.0,13.0,1.0,21.0,8.0,12.0,3.0,8.0,9.0,6.0,7.0,2.0,12.0,17.0,16.0,14.0,5.0,18.0,11.0,16.0,24.0,11.0,21.0,7.0,16.0,16.0,14.0,37.0,11.0,1.0,17.0,6.0,15.0,3.0,1.0,15.0,6.0,10.0,18.0,5.0,12.0,23.0,6.0,51.0,20.0,5.0,14.0,12.0,11.0,16.0,8.0,21.0,34.0,10.0,5.0,27.0,14.0,17.0,19.0,3.0,2.0,10.0,14.0,11.0,9.0,18.0,12.0,16.0,22.0,18.0,18.0,12.0,8.0,13.0,13.0,13.0,4.0,19.0,16.0,6.0,12.0,7.0,51.0,11.0,9.0,12.0,16.0,17.0,16.0,11.0,21.0,15.0,4.0,16.0,25.0,5.0,27.0,18.0,9.0,19.0,10.0,10.0,23.0,20.0,22.0,1.0,5.0,17.0,11.0,14.0,24.0,19.0,6.0,14.0,11.0,12.0,14.0,6.0,19.0,17.0,14.0,14.0,18.0,13.0,30.0,29.0,8.0,17.0,19.0,4.0,10.0,23.0,8.0,17.0,9.0,3.0,12.0,23.0,20.0,12.0,8.0,7.0,1.0,15.0,13.0,10.0,13.0,21.0,20.0,6.0,13.0,13.0,3.0,12.0,27.0,11.0,14.0,19.0,27.0,4.0,2.0,9.0,13.0,9.0,12.0,13.0,18.0,12.0,13.0,1.0,13.0,31.0,14.0,3.0,20.0,3.0,12.0,6.0,19.0,12.0,8.0,13.0,2.0,12.0,28.0,16.0,10.0,3.0,2.0,14.0,24.0,5.0,18.0,21.0,19.0,22.0,20.0,18.0,26.0,28.0,10.0,17.0,24.0,5.0,4.0,18.0,13.0,4.0,12.0,31.0,20.0,18.0,17.0,15.0,10.0,15.0,1.0,18.0,3.0,10.0,24.0,8.0,16.0,2.0,16.0,12.0,13.0,4.0,6.0,26.0,6.0,11.0,7.0,11.0,13.0,26.0,6.0,17.0,8.0,18.0,21.0,28.0,28.0,11.0,4.0,8.0,17.0,24.0,17.0,8.0,13.0,2.0,16.0,18.0,13.0,3.0,10.0,15.0,13.0,13.0,30.0,12.0,17.0,26.0,16.0,10.0,30.0,23.0,12.0,1.0,22.0,9.0,13.0,8.0,28.0,21.0,17.0,20.0,2.0,13.0,18.0,8.0,11.0,18.0,6.0,14.0,3.0,18.0,42.0,14.0,18.0,21.0,19.0,10.0,7.0,11.0,17.0,38.0,24.0,12.0,13.0,9.0,20.0,11.0,15.0,12.0,6.0,12.0,16.0,20.0,11.0,16.0,8.0,11.0,4.0,12.0,10.0,6.0,11.0,7.0,2.0,19.0,21.0,15.0,7.0,16.0,19.0,2.0,11.0,2.0,22.0,3.0,15.0,15.0,17.0,16.0,17.0,12.0,6.0,2.0,14.0,25.0,25.0,16.0,9.0,17.0,6.0,21.0,2.0,23.0,26.0,13.0,11.0,19.0,14.0,12.0,11.0,15.0,25.0,11.0,47.0,19.0,10.0,14.0,9.0,11.0,2.0,16.0,19.0,9.0,16.0,15.0,7.0,3.0,13.0,6.0,15.0,18.0,19.0,12.0,28.0,22.0,18.0,2.0,19.0,20.0,16.0,23.0,16.0,4.0,20.0,16.0,1.0,18.0,21.0,2.0,1.0,8.0,20.0,9.0,7.0,31.0,21.0,3.0,15.0,28.0,8.0,9.0,11.0,22.0,8.0,26.0,16.0,25.0,22.0,10.0,13.0,28.0,18.0,26.0,13.0,12.0,11.0,11.0,5.0,16.0,1.0,19.0,21.0,27.0,18.0,18.0,3.0,6.0,23.0,2.0,20.0,2.0,22.0,14.0,6.0,18.0,11.0,22.0,17.0,7.0,7.0,3.0,11.0,16.0,4.0,12.0,1.0,25.0,31.0,7.0,19.0,21.0,14.0,18.0,12.0,28.0,11.0,14.0,16.0,15.0,17.0,13.0,17.0,17.0,5.0,20.0,2.0,16.0,7.0,12.0,16.0,21.0,14.0,16.0,18.0,8.0,40.0,23.0,17.0,15.0,25.0,32.0,11.0,10.0,9.0,13.0,8.0,17.0,3.0,13.0,5.0,23.0,14.0,19.0,24.0,13.0,6.0,18.0,29.0,14.0,7.0,4.0,24.0,22.0,9.0,10.0,36.0,22.0,20.0,10.0,29.0,7.0,12.0,14.0,23.0,20.0,24.0,27.0,16.0,24.0,4.0,4.0,3.0,14.0,8.0,31.0,10.0,1.0,16.0,1.0,9.0,25.0,13.0,60.0,10.0,10.0,9.0,5.0,13.0,12.0,37.0,24.0,28.0,28.0,4.0,18.0,14.0,1.0,23.0,25.0,14.0,14.0,10.0,15.0,6.0,7.0,12.0,16.0,13.0,9.0,18.0,31.0,21.0,22.0,13.0,20.0,14.0,19.0,22.0,6.0,12.0,23.0,12.0,39.0,13.0,23.0,27.0,19.0,17.0,21.0,15.0,11.0,12.0,13.0,16.0,5.0,21.0,19.0,14.0,18.0,10.0,19.0,20.0,6.0,24.0,20.0,10.0,22.0,4.0,29.0,2.0,11.0,1.0,14.0,11.0,11.0,7.0],\"x0\":\" \",\"xaxis\":\"x\",\"y0\":\" \",\"yaxis\":\"y\",\"type\":\"box\"}],                        {\"template\":{\"data\":{\"histogram2dcontour\":[{\"type\":\"histogram2dcontour\",\"colorbar\":{\"outlinewidth\":0,\"ticks\":\"\"},\"colorscale\":[[0.0,\"#0d0887\"],[0.1111111111111111,\"#46039f\"],[0.2222222222222222,\"#7201a8\"],[0.3333333333333333,\"#9c179e\"],[0.4444444444444444,\"#bd3786\"],[0.5555555555555556,\"#d8576b\"],[0.6666666666666666,\"#ed7953\"],[0.7777777777777778,\"#fb9f3a\"],[0.8888888888888888,\"#fdca26\"],[1.0,\"#f0f921\"]]}],\"choropleth\":[{\"type\":\"choropleth\",\"colorbar\":{\"outlinewidth\":0,\"ticks\":\"\"}}],\"histogram2d\":[{\"type\":\"histogram2d\",\"colorbar\":{\"outlinewidth\":0,\"ticks\":\"\"},\"colorscale\":[[0.0,\"#0d0887\"],[0.1111111111111111,\"#46039f\"],[0.2222222222222222,\"#7201a8\"],[0.3333333333333333,\"#9c179e\"],[0.4444444444444444,\"#bd3786\"],[0.5555555555555556,\"#d8576b\"],[0.6666666666666666,\"#ed7953\"],[0.7777777777777778,\"#fb9f3a\"],[0.8888888888888888,\"#fdca26\"],[1.0,\"#f0f921\"]]}],\"heatmap\":[{\"type\":\"heatmap\",\"colorbar\":{\"outlinewidth\":0,\"ticks\":\"\"},\"colorscale\":[[0.0,\"#0d0887\"],[0.1111111111111111,\"#46039f\"],[0.2222222222222222,\"#7201a8\"],[0.3333333333333333,\"#9c179e\"],[0.4444444444444444,\"#bd3786\"],[0.5555555555555556,\"#d8576b\"],[0.6666666666666666,\"#ed7953\"],[0.7777777777777778,\"#fb9f3a\"],[0.8888888888888888,\"#fdca26\"],[1.0,\"#f0f921\"]]}],\"heatmapgl\":[{\"type\":\"heatmapgl\",\"colorbar\":{\"outlinewidth\":0,\"ticks\":\"\"},\"colorscale\":[[0.0,\"#0d0887\"],[0.1111111111111111,\"#46039f\"],[0.2222222222222222,\"#7201a8\"],[0.3333333333333333,\"#9c179e\"],[0.4444444444444444,\"#bd3786\"],[0.5555555555555556,\"#d8576b\"],[0.6666666666666666,\"#ed7953\"],[0.7777777777777778,\"#fb9f3a\"],[0.8888888888888888,\"#fdca26\"],[1.0,\"#f0f921\"]]}],\"contourcarpet\":[{\"type\":\"contourcarpet\",\"colorbar\":{\"outlinewidth\":0,\"ticks\":\"\"}}],\"contour\":[{\"type\":\"contour\",\"colorbar\":{\"outlinewidth\":0,\"ticks\":\"\"},\"colorscale\":[[0.0,\"#0d0887\"],[0.1111111111111111,\"#46039f\"],[0.2222222222222222,\"#7201a8\"],[0.3333333333333333,\"#9c179e\"],[0.4444444444444444,\"#bd3786\"],[0.5555555555555556,\"#d8576b\"],[0.6666666666666666,\"#ed7953\"],[0.7777777777777778,\"#fb9f3a\"],[0.8888888888888888,\"#fdca26\"],[1.0,\"#f0f921\"]]}],\"surface\":[{\"type\":\"surface\",\"colorbar\":{\"outlinewidth\":0,\"ticks\":\"\"},\"colorscale\":[[0.0,\"#0d0887\"],[0.1111111111111111,\"#46039f\"],[0.2222222222222222,\"#7201a8\"],[0.3333333333333333,\"#9c179e\"],[0.4444444444444444,\"#bd3786\"],[0.5555555555555556,\"#d8576b\"],[0.6666666666666666,\"#ed7953\"],[0.7777777777777778,\"#fb9f3a\"],[0.8888888888888888,\"#fdca26\"],[1.0,\"#f0f921\"]]}],\"mesh3d\":[{\"type\":\"mesh3d\",\"colorbar\":{\"outlinewidth\":0,\"ticks\":\"\"}}],\"scatter\":[{\"fillpattern\":{\"fillmode\":\"overlay\",\"size\":10,\"solidity\":0.2},\"type\":\"scatter\"}],\"parcoords\":[{\"type\":\"parcoords\",\"line\":{\"colorbar\":{\"outlinewidth\":0,\"ticks\":\"\"}}}],\"scatterpolargl\":[{\"type\":\"scatterpolargl\",\"marker\":{\"colorbar\":{\"outlinewidth\":0,\"ticks\":\"\"}}}],\"bar\":[{\"error_x\":{\"color\":\"#2a3f5f\"},\"error_y\":{\"color\":\"#2a3f5f\"},\"marker\":{\"line\":{\"color\":\"#E5ECF6\",\"width\":0.5},\"pattern\":{\"fillmode\":\"overlay\",\"size\":10,\"solidity\":0.2}},\"type\":\"bar\"}],\"scattergeo\":[{\"type\":\"scattergeo\",\"marker\":{\"colorbar\":{\"outlinewidth\":0,\"ticks\":\"\"}}}],\"scatterpolar\":[{\"type\":\"scatterpolar\",\"marker\":{\"colorbar\":{\"outlinewidth\":0,\"ticks\":\"\"}}}],\"histogram\":[{\"marker\":{\"pattern\":{\"fillmode\":\"overlay\",\"size\":10,\"solidity\":0.2}},\"type\":\"histogram\"}],\"scattergl\":[{\"type\":\"scattergl\",\"marker\":{\"colorbar\":{\"outlinewidth\":0,\"ticks\":\"\"}}}],\"scatter3d\":[{\"type\":\"scatter3d\",\"line\":{\"colorbar\":{\"outlinewidth\":0,\"ticks\":\"\"}},\"marker\":{\"colorbar\":{\"outlinewidth\":0,\"ticks\":\"\"}}}],\"scattermapbox\":[{\"type\":\"scattermapbox\",\"marker\":{\"colorbar\":{\"outlinewidth\":0,\"ticks\":\"\"}}}],\"scatterternary\":[{\"type\":\"scatterternary\",\"marker\":{\"colorbar\":{\"outlinewidth\":0,\"ticks\":\"\"}}}],\"scattercarpet\":[{\"type\":\"scattercarpet\",\"marker\":{\"colorbar\":{\"outlinewidth\":0,\"ticks\":\"\"}}}],\"carpet\":[{\"aaxis\":{\"endlinecolor\":\"#2a3f5f\",\"gridcolor\":\"white\",\"linecolor\":\"white\",\"minorgridcolor\":\"white\",\"startlinecolor\":\"#2a3f5f\"},\"baxis\":{\"endlinecolor\":\"#2a3f5f\",\"gridcolor\":\"white\",\"linecolor\":\"white\",\"minorgridcolor\":\"white\",\"startlinecolor\":\"#2a3f5f\"},\"type\":\"carpet\"}],\"table\":[{\"cells\":{\"fill\":{\"color\":\"#EBF0F8\"},\"line\":{\"color\":\"white\"}},\"header\":{\"fill\":{\"color\":\"#C8D4E3\"},\"line\":{\"color\":\"white\"}},\"type\":\"table\"}],\"barpolar\":[{\"marker\":{\"line\":{\"color\":\"#E5ECF6\",\"width\":0.5},\"pattern\":{\"fillmode\":\"overlay\",\"size\":10,\"solidity\":0.2}},\"type\":\"barpolar\"}],\"pie\":[{\"automargin\":true,\"type\":\"pie\"}]},\"layout\":{\"autotypenumbers\":\"strict\",\"colorway\":[\"#636efa\",\"#EF553B\",\"#00cc96\",\"#ab63fa\",\"#FFA15A\",\"#19d3f3\",\"#FF6692\",\"#B6E880\",\"#FF97FF\",\"#FECB52\"],\"font\":{\"color\":\"#2a3f5f\"},\"hovermode\":\"closest\",\"hoverlabel\":{\"align\":\"left\"},\"paper_bgcolor\":\"white\",\"plot_bgcolor\":\"#E5ECF6\",\"polar\":{\"bgcolor\":\"#E5ECF6\",\"angularaxis\":{\"gridcolor\":\"white\",\"linecolor\":\"white\",\"ticks\":\"\"},\"radialaxis\":{\"gridcolor\":\"white\",\"linecolor\":\"white\",\"ticks\":\"\"}},\"ternary\":{\"bgcolor\":\"#E5ECF6\",\"aaxis\":{\"gridcolor\":\"white\",\"linecolor\":\"white\",\"ticks\":\"\"},\"baxis\":{\"gridcolor\":\"white\",\"linecolor\":\"white\",\"ticks\":\"\"},\"caxis\":{\"gridcolor\":\"white\",\"linecolor\":\"white\",\"ticks\":\"\"}},\"coloraxis\":{\"colorbar\":{\"outlinewidth\":0,\"ticks\":\"\"}},\"colorscale\":{\"sequential\":[[0.0,\"#0d0887\"],[0.1111111111111111,\"#46039f\"],[0.2222222222222222,\"#7201a8\"],[0.3333333333333333,\"#9c179e\"],[0.4444444444444444,\"#bd3786\"],[0.5555555555555556,\"#d8576b\"],[0.6666666666666666,\"#ed7953\"],[0.7777777777777778,\"#fb9f3a\"],[0.8888888888888888,\"#fdca26\"],[1.0,\"#f0f921\"]],\"sequentialminus\":[[0.0,\"#0d0887\"],[0.1111111111111111,\"#46039f\"],[0.2222222222222222,\"#7201a8\"],[0.3333333333333333,\"#9c179e\"],[0.4444444444444444,\"#bd3786\"],[0.5555555555555556,\"#d8576b\"],[0.6666666666666666,\"#ed7953\"],[0.7777777777777778,\"#fb9f3a\"],[0.8888888888888888,\"#fdca26\"],[1.0,\"#f0f921\"]],\"diverging\":[[0,\"#8e0152\"],[0.1,\"#c51b7d\"],[0.2,\"#de77ae\"],[0.3,\"#f1b6da\"],[0.4,\"#fde0ef\"],[0.5,\"#f7f7f7\"],[0.6,\"#e6f5d0\"],[0.7,\"#b8e186\"],[0.8,\"#7fbc41\"],[0.9,\"#4d9221\"],[1,\"#276419\"]]},\"xaxis\":{\"gridcolor\":\"white\",\"linecolor\":\"white\",\"ticks\":\"\",\"title\":{\"standoff\":15},\"zerolinecolor\":\"white\",\"automargin\":true,\"zerolinewidth\":2},\"yaxis\":{\"gridcolor\":\"white\",\"linecolor\":\"white\",\"ticks\":\"\",\"title\":{\"standoff\":15},\"zerolinecolor\":\"white\",\"automargin\":true,\"zerolinewidth\":2},\"scene\":{\"xaxis\":{\"backgroundcolor\":\"#E5ECF6\",\"gridcolor\":\"white\",\"linecolor\":\"white\",\"showbackground\":true,\"ticks\":\"\",\"zerolinecolor\":\"white\",\"gridwidth\":2},\"yaxis\":{\"backgroundcolor\":\"#E5ECF6\",\"gridcolor\":\"white\",\"linecolor\":\"white\",\"showbackground\":true,\"ticks\":\"\",\"zerolinecolor\":\"white\",\"gridwidth\":2},\"zaxis\":{\"backgroundcolor\":\"#E5ECF6\",\"gridcolor\":\"white\",\"linecolor\":\"white\",\"showbackground\":true,\"ticks\":\"\",\"zerolinecolor\":\"white\",\"gridwidth\":2}},\"shapedefaults\":{\"line\":{\"color\":\"#2a3f5f\"}},\"annotationdefaults\":{\"arrowcolor\":\"#2a3f5f\",\"arrowhead\":0,\"arrowwidth\":1},\"geo\":{\"bgcolor\":\"white\",\"landcolor\":\"#E5ECF6\",\"subunitcolor\":\"white\",\"showland\":true,\"showlakes\":true,\"lakecolor\":\"white\"},\"title\":{\"x\":0.05},\"mapbox\":{\"style\":\"light\"}}},\"xaxis\":{\"anchor\":\"y\",\"domain\":[0.0,1.0],\"title\":{\"text\":\"Regional_Node_Examined\"}},\"yaxis\":{\"anchor\":\"x\",\"domain\":[0.0,1.0]},\"legend\":{\"tracegroupgap\":0},\"margin\":{\"t\":60},\"boxmode\":\"group\"},                        {\"responsive\": true}                    ).then(function(){\n",
              "                            \n",
              "var gd = document.getElementById('f7169384-29a7-4cdb-847f-dbe3daea8fa5');\n",
              "var x = new MutationObserver(function (mutations, observer) {{\n",
              "        var display = window.getComputedStyle(gd).display;\n",
              "        if (!display || display === 'none') {{\n",
              "            console.log([gd, 'removed!']);\n",
              "            Plotly.purge(gd);\n",
              "            observer.disconnect();\n",
              "        }}\n",
              "}});\n",
              "\n",
              "// Listen for the removal of the full notebook cells\n",
              "var notebookContainer = gd.closest('#notebook-container');\n",
              "if (notebookContainer) {{\n",
              "    x.observe(notebookContainer, {childList: true});\n",
              "}}\n",
              "\n",
              "// Listen for the clearing of the current output cell\n",
              "var outputEl = gd.closest('.output');\n",
              "if (outputEl) {{\n",
              "    x.observe(outputEl, {childList: true});\n",
              "}}\n",
              "\n",
              "                        })                };                            </script>        </div>\n",
              "</body>\n",
              "</html>"
            ]
          },
          "metadata": {},
          "output_type": "display_data"
        }
      ],
      "source": [
        "VariableName_fig = px.box(data, x='Regional_Node_Examined')\n",
        "VariableName_fig.show()"
      ]
    },
    {
      "cell_type": "code",
      "execution_count": null,
      "metadata": {
        "colab": {
          "base_uri": "https://localhost:8080/",
          "height": 542
        },
        "id": "OqL-5i_WrHoz",
        "outputId": "bffec400-b048-4f66-86e1-866b8796d3c1"
      },
      "outputs": [
        {
          "data": {
            "text/html": [
              "<html>\n",
              "<head><meta charset=\"utf-8\" /></head>\n",
              "<body>\n",
              "    <div>            <script src=\"https://cdnjs.cloudflare.com/ajax/libs/mathjax/2.7.5/MathJax.js?config=TeX-AMS-MML_SVG\"></script><script type=\"text/javascript\">if (window.MathJax && window.MathJax.Hub && window.MathJax.Hub.Config) {window.MathJax.Hub.Config({SVG: {font: \"STIX-Web\"}});}</script>                <script type=\"text/javascript\">window.PlotlyConfig = {MathJaxConfig: 'local'};</script>\n",
              "        <script charset=\"utf-8\" src=\"https://cdn.plot.ly/plotly-2.35.2.min.js\"></script>                <div id=\"2b006076-3f5b-43d1-a913-82ee8919aaff\" class=\"plotly-graph-div\" style=\"height:525px; width:100%;\"></div>            <script type=\"text/javascript\">                                    window.PLOTLYENV=window.PLOTLYENV || {};                                    if (document.getElementById(\"2b006076-3f5b-43d1-a913-82ee8919aaff\")) {                    Plotly.newPlot(                        \"2b006076-3f5b-43d1-a913-82ee8919aaff\",                        [{\"alignmentgroup\":\"True\",\"hovertemplate\":\"Survival_Months=%{x}\\u003cextra\\u003e\\u003c\\u002fextra\\u003e\",\"legendgroup\":\"\",\"marker\":{\"color\":\"#636efa\"},\"name\":\"\",\"notched\":false,\"offsetgroup\":\"\",\"orientation\":\"h\",\"showlegend\":false,\"x\":[60,62,75,84,50,89,54,14,64,92,56,38,49,105,62,107,77,81,50,78,82,64,86,52,49,90,62,77,37,103,82,105,61,86,84,63,90,39,59,82,71,71,74,73,91,73,77,80,49,78,60,106,85,79,84,52,98,95,79,106,81,55,65,72,55,65,95,95,91,57,87,91,50,25,73,63,50,73,8,53,65,58,24,64,106,61,66,79,69,103,52,91,57,94,79,86,49,14,100,50,79,77,50,73,96,87,41,54,84,67,86,102,52,107,92,69,82,101,64,55,98,56,51,102,71,11,53,82,89,56,54,72,51,100,62,84,87,96,74,77,64,93,74,23,86,71,79,60,89,66,84,50,55,98,53,103,77,63,45,68,53,91,105,76,94,56,31,85,62,50,107,76,87,101,53,93,90,59,58,68,94,72,103,77,49,99,107,87,103,96,40,78,92,106,54,85,93,76,58,79,63,104,74,67,98,100,58,61,45,57,42,55,68,99,88,87,60,92,65,23,50,61,50,95,65,81,81,92,53,91,49,61,48,75,57,81,56,73,53,68,88,79,74,53,104,57,90,73,94,98,74,89,100,16,107,70,68,81,67,97,60,86,87,75,102,101,80,104,61,41,100,105,57,59,54,76,82,53,102,100,107,73,91,107,85,102,49,85,86,53,54,101,98,104,54,91,107,76,66,57,93,87,102,58,51,82,56,51,66,100,92,104,91,81,75,85,78,45,64,99,55,82,96,51,106,22,83,86,45,99,84,87,92,49,56,98,97,106,100,90,74,66,75,63,68,55,73,60,100,90,95,103,99,102,103,88,58,61,101,101,9,68,87,93,61,95,80,52,56,66,48,81,69,84,89,97,100,67,52,70,95,87,53,83,60,106,107,95,58,94,52,97,86,91,49,69,100,9,86,76,61,69,92,54,87,80,49,56,75,87,53,61,102,101,69,80,98,59,53,107,94,60,100,91,66,44,60,50,90,88,75,74,56,19,25,93,87,69,95,81,104,52,67,87,18,55,50,66,107,85,64,96,98,52,76,64,54,89,90,61,52,69,93,62,103,71,100,62,96,74,66,75,89,72,97,103,88,60,57,81,91,75,51,93,84,62,79,93,88,55,104,85,78,35,94,75,27,98,68,36,53,79,83,89,64,89,102,101,54,36,50,87,85,68,73,59,67,66,58,57,75,104,50,62,93,73,94,73,70,72,81,37,66,95,69,95,73,79,47,79,89,74,59,49,59,100,93,57,95,65,58,72,64,54,93,76,79,44,95,66,16,19,104,71,60,67,88,40,47,39,105,53,61,50,99,104,85,71,102,58,70,99,61,38,34,103,67,65,97,85,81,59,58,57,97,87,74,85,69,82,80,105,53,18,97,54,80,82,99,87,88,90,49,47,77,77,48,54,66,83,81,80,91,76,85,61,56,85,97,101,77,75,99,54,103,89,89,101,95,94,94,48,58,101,96,90,102,101,50,62,96,97,76,20,53,69,69,69,102,99,75,89,53,96,56,102,57,106,107,64,107,58,45,91,107,54,107,83,78,28,96,79,57,76,54,67,85,85,73,70,73,98,49,62,47,98,103,107,77,85,65,68,100,69,25,80,87,62,84,85,17,53,92,102,104,85,94,55,99,65,55,60,46,80,75,70,19,95,97,68,90,96,44,81,24,61,74,71,65,43,46,69,81,30,92,68,84,63,90,67,44,49,77,24,71,75,89,84,69,81,97,84,96,81,58,50,80,61,77,87,105,77,67,82,95,15,67,74,10,95,73,58,92,60,81,17,52,96,70,65,98,14,35,74,88,89,104,96,83,74,87,57,103,102,50,92,90,50,67,13,80,95,66,62,88,98,22,51,90,67,72,99,83,93,73,95,88,103,91,106,88,75,85,70,85,64,67,96,61,68,73,35,88,106,78,67,98,56,56,73,57,95,101,99,97,94,50,86,100,62,97,64,59,97,87,60,76,69,56,93,49,52,62,92,79,58,67,63,45,99,62,82,76,41,98,51,21,55,48,103,60,52,56,91,53,96,48,81,94,88,56,83,73,103,31,48,89,83,86,97,58,101,53,94,76,74,73,61,103,63,95,47,64,50,87,77,105,80,101,52,79,13,101,88,48,73,69,91,102,77,101,36,83,83,66,76,98,75,100,72,86,74,78,94,62,17,98,50,103,69,107,101,50,68,68,52,84,102,53,85,101,106,72,84,59,72,73,58,88,89,86,94,49,103,105,101,98,81,75,69,87,72,75,85,93,56,49,70,51,57,87,98,80,104,62,72,86,53,58,83,94,101,59,43,54,57,96,64,71,74,49,53,96,51,64,95,92,58,62,107,62,18,77,86,87,24,63,57,72,67,68,107,28,62,76,81,22,50,83,104,83,8,93,93,50,99,65,64,56,65,74,74,75,60,98,103,48,68,97,85,47,63,54,46,74,98,97,66,64,79,39,103,90,48,76,87,103,87,58,89,40,54,80,18,100,95,67,78,56,54,52,106,99,66,61,73,94,56,83,69,76,85,48,75,107,63,94,98,40,64,80,58,89,87,93,27,95,87,100,99,23,102,106,41,55,58,51,40,40,76,66,54,75,58,65,81,40,76,69,55,60,94,82,61,90,90,64,50,54,13,89,102,47,63,90,75,46,57,31,53,79,50,89,104,66,77,100,76,86,82,107,96,72,82,103,54,77,9,97,89,91,92,103,81,47,77,89,83,72,56,105,59,69,66,103,78,47,88,102,71,51,67,33,107,77,84,91,61,56,103,58,103,50,66,69,51,86,96,74,58,66,55,102,104,31,37,77,81,93,93,103,72,76,52,81,49,42,102,51,53,98,69,40,59,61,66,107,94,77,53,76,83,67,88,80,81,72,96,60,67,83,101,64,91,78,105,78,40,92,99,89,98,40,76,31,95,71,69,106,84,74,74,46,52,77,78,98,49,77,71,98,83,83,74,23,71,106,61,101,95,63,59,61,99,73,103,67,86,72,59,66,64,64,81,89,47,53,105,106,100,81,85,45,56,92,81,76,50,20,95,35,98,92,82,55,15,56,56,80,30,60,64,93,47,46,88,93,93,87,49,56,107,72,58,103,94,11,102,80,48,106,86,78,96,98,99,75,102,70,60,75,72,107,60,101,97,107,62,73,96,91,102,64,50,52,100,83,67,61,53,47,97,31,65,75,82,97,37,58,71,105,63,83,61,9,52,77,54,79,47,12,64,96,49,81,63,107,106,18,71,69,52,91,64,57,96,56,94,22,94,78,72,25,69,90,59,55,105,95,14,82,68,100,78,105,66,93,71,80,21,102,98,75,81,13,58,100,96,58,73,98,96,89,79,77,107,60,54,61,72,89,106,52,80,73,52,74,53,72,68,55,70,80,8,98,91,101,99,74,80,70,69,9,72,100,103,39,87,67,50,53,66,92,66,26,23,68,83,63,100,106,102,27,48,63,68,77,100,78,41,91,53,56,54,106,101,81,92,102,70,30,93,59,52,63,18,34,59,107,102,49,56,60,94,94,91,41,84,52,65,71,66,8,79,62,71,97,61,61,75,83,44,70,27,62,69,73,63,88,51,107,68,78,89,96,100,54,76,95,98,77,87,97,56,61,67,98,50,89,60,57,107,94,85,58,102,16,57,65,82,92,102,67,71,66,45,103,85,98,65,55,53,63,95,106,53,89,106,98,44,82,81,65,107,96,86,75,106,56,47,58,79,101,97,92,95,100,68,58,83,48,82,49,54,46,91,51,8,91,49,36,42,65,87,23,68,84,76,71,49,70,96,42,91,64,99,104,65,51,80,58,96,90,82,97,87,61,101,77,51,96,57,93,75,57,67,24,69,65,67,72,55,76,59,99,82,78,96,15,97,65,37,69,12,54,58,66,95,67,64,81,78,95,88,27,50,86,92,63,77,80,80,53,78,76,80,59,60,59,76,44,70,77,93,63,102,79,75,68,97,82,56,63,83,68,99,100,52,105,96,52,99,90,50,99,79,51,75,83,55,41,88,89,63,80,84,64,55,94,74,51,104,52,88,78,60,97,92,64,42,54,98,104,96,103,78,65,102,81,74,102,91,38,58,94,86,58,49,68,74,87,60,52,82,53,86,69,96,69,84,23,70,48,81,84,24,49,86,99,89,83,51,59,102,104,62,60,98,92,78,76,100,58,49,95,54,95,75,100,76,89,63,94,96,103,77,41,106,66,104,37,74,63,56,90,67,48,72,59,95,94,60,91,49,103,32,104,93,99,66,57,13,70,69,82,90,64,56,83,107,65,102,51,85,74,67,64,106,82,80,56,98,53,64,98,70,97,62,43,65,64,72,102,68,22,57,92,83,48,57,76,72,98,47,48,54,62,48,100,57,24,103,90,64,82,88,38,82,35,64,100,60,59,73,88,65,72,63,44,98,100,104,106,69,93,49,72,51,103,101,78,74,103,63,66,53,66,46,104,82,76,92,46,82,50,48,13,77,94,16,78,99,85,65,75,51,77,85,94,70,87,65,89,86,70,81,68,62,107,105,106,93,67,71,50,64,67,99,68,18,73,43,95,83,72,37,74,101,78,76,80,97,104,55,58,99,82,61,102,83,48,33,49,84,84,71,56,51,59,57,101,53,95,97,92,52,81,21,55,62,93,83,60,56,94,92,32,55,33,94,80,100,107,64,59,67,93,80,91,49,73,80,9,107,95,92,60,53,60,79,49,45,68,96,32,104,11,104,70,56,35,52,49,52,76,79,40,83,49,51,48,98,94,77,99,67,77,69,50,16,59,67,102,104,85,82,105,65,48,38,101,59,105,84,97,75,99,48,81,51,81,89,69,88,57,63,52,97,51,54,53,61,66,49,82,78,79,27,53,63,59,78,61,91,59,48,80,66,68,77,88,49,83,106,61,103,70,81,51,84,90,105,98,44,73,88,61,89,107,70,101,57,66,104,79,94,100,69,51,98,82,98,100,56,70,90,84,81,75,59,48,89,102,45,39,92,51,105,68,103,70,89,60,57,84,95,82,67,63,17,57,30,71,65,98,44,60,60,34,101,84,94,41,97,105,80,93,39,106,100,84,86,52,56,91,52,20,70,71,44,69,87,77,92,91,79,50,86,98,43,55,86,87,104,55,88,98,56,38,73,40,49,90,93,50,59,103,68,98,87,92,59,22,71,102,95,53,45,79,94,105,80,67,13,66,75,78,65,96,64,88,53,74,75,99,61,78,53,41,96,97,84,82,38,98,75,91,77,20,95,93,76,30,48,37,54,24,54,65,63,97,63,75,100,78,78,48,81,69,22,106,27,61,62,98,63,101,67,68,61,77,98,48,74,69,94,95,67,102,74,102,65,69,101,80,83,60,40,105,78,75,99,88,50,88,92,70,74,78,35,57,79,95,72,50,107,59,57,64,74,96,63,83,54,80,74,66,89,86,96,66,83,107,23,75,76,67,55,59,78,53,41,55,50,60,47,54,101,18,85,55,87,50,64,75,69,61,89,65,107,50,64,31,36,100,81,48,54,55,66,67,63,49,85,41,60,72,53,73,85,90,70,10,94,65,92,21,63,86,53,29,97,94,55,96,68,94,54,75,76,52,94,49,85,62,50,97,51,50,40,99,59,95,83,80,82,56,30,79,88,45,92,86,73,52,55,69,88,88,97,98,85,58,100,70,86,95,106,70,72,81,92,84,68,64,101,69,89,104,77,93,78,27,52,35,82,44,98,95,52,91,103,61,100,86,101,95,85,83,77,102,93,62,95,68,54,55,48,51,98,101,68,78,68,75,63,67,63,61,54,84,78,107,75,49,91,45,70,51,50,98,38,106,95,85,93,106,93,74,100,58,84,107,87,79,82,105,82,68,69,63,65,85,56,59,72,80,72,53,99,56,57,27,99,95,69,104,100,49,103,33,88,62,59,81,97,103,88,88,96,52,56,41,88,77,89,102,78,83,55,100,45,41,96,86,73,50,89,71,92,89,88,88,85,88,80,51,50,101,99,89,70,62,76,98,105,103,12,75,62,60,96,99,79,83,54,56,83,90,107,100,62,51,72,57,93,75,73,70,100,61,64,105,67,89,93,100,78,93,67,72,67,53,103,100,55,86,63,65,65,58,50,67,104,55,102,69,14,61,52,83,69,80,60,73,63,63,49,69,74,52,75,90,88,83,58,100,56,59,71,97,57,98,50,79,46,87,79,34,48,96,89,81,76,70,82,101,90,39,69,51,20,63,80,81,55,78,97,105,55,56,50,65,50,87,81,83,72,65,88,36,59,63,105,54,56,62,59,93,47,48,79,88,60,51,107,50,80,77,102,66,97,84,79,81,54,54,64,91,98,88,73,93,86,71,74,54,68,76,73,98,64,81,58,84,61,105,85,48,26,56,100,56,63,97,82,48,105,98,72,63,89,66,96,104,64,86,48,66,94,65,57,80,96,94,61,103,78,48,93,84,72,60,53,91,78,41,76,31,33,56,95,63,97,63,49,93,77,97,72,45,86,74,57,59,61,79,76,72,52,74,56,95,89,78,59,63,66,43,69,70,101,87,102,23,69,28,78,105,46,51,14,56,33,49,8,82,73,69,84,83,91,101,49,67,48,66,64,75,67,97,66,64,82,77,78,96,78,107,83,55,66,60,93,75,87,66,106,46,83,89,84,48,71,50,107,56,84,68,76,62,53,50,12,51,58,75,86,80,75,81,58,82,85,66,84,101,55,47,104,68,102,57,88,83,38,67,89,92,60,53,84,87,64,63,84,91,100,77,102,107,107,89,51,27,87,56,52,77,69,80,63,69,49,35,57,105,88,94,48,62,77,102,84,75,97,87,59,105,63,107,66,69,61,94,78,70,60,82,78,81,104,80,86,57,88,66,91,88,41,70,105,79,94,80,66,49,80,95,99,93,80,52,105,52,59,52,77,99,65,49,107,67,28,69,69,103,80,60,87,59,55,82,66,72,95,92,59,69,81,69,90,97,93,58,48,66,63,77,72,52,86,46,68,71,59,72,50,60,56,101,66,58,88,48,107,77,66,58,69,104,97,84,91,63,54,95,55,58,102,68,65,80,107,64,74,27,57,20,51,76,72,60,53,77,97,85,99,49,69,69,69,59,56,41,81,89,59,68,74,70,81,51,79,62,75,95,56,77,62,106,70,21,90,52,60,65,63,102,55,80,76,83,62,59,85,89,52,54,93,50,56,100,85,63,24,61,64,76,66,75,52,27,100,102,68,52,19,70,49,69,69,72,100],\"x0\":\" \",\"xaxis\":\"x\",\"y0\":\" \",\"yaxis\":\"y\",\"type\":\"box\"}],                        {\"template\":{\"data\":{\"histogram2dcontour\":[{\"type\":\"histogram2dcontour\",\"colorbar\":{\"outlinewidth\":0,\"ticks\":\"\"},\"colorscale\":[[0.0,\"#0d0887\"],[0.1111111111111111,\"#46039f\"],[0.2222222222222222,\"#7201a8\"],[0.3333333333333333,\"#9c179e\"],[0.4444444444444444,\"#bd3786\"],[0.5555555555555556,\"#d8576b\"],[0.6666666666666666,\"#ed7953\"],[0.7777777777777778,\"#fb9f3a\"],[0.8888888888888888,\"#fdca26\"],[1.0,\"#f0f921\"]]}],\"choropleth\":[{\"type\":\"choropleth\",\"colorbar\":{\"outlinewidth\":0,\"ticks\":\"\"}}],\"histogram2d\":[{\"type\":\"histogram2d\",\"colorbar\":{\"outlinewidth\":0,\"ticks\":\"\"},\"colorscale\":[[0.0,\"#0d0887\"],[0.1111111111111111,\"#46039f\"],[0.2222222222222222,\"#7201a8\"],[0.3333333333333333,\"#9c179e\"],[0.4444444444444444,\"#bd3786\"],[0.5555555555555556,\"#d8576b\"],[0.6666666666666666,\"#ed7953\"],[0.7777777777777778,\"#fb9f3a\"],[0.8888888888888888,\"#fdca26\"],[1.0,\"#f0f921\"]]}],\"heatmap\":[{\"type\":\"heatmap\",\"colorbar\":{\"outlinewidth\":0,\"ticks\":\"\"},\"colorscale\":[[0.0,\"#0d0887\"],[0.1111111111111111,\"#46039f\"],[0.2222222222222222,\"#7201a8\"],[0.3333333333333333,\"#9c179e\"],[0.4444444444444444,\"#bd3786\"],[0.5555555555555556,\"#d8576b\"],[0.6666666666666666,\"#ed7953\"],[0.7777777777777778,\"#fb9f3a\"],[0.8888888888888888,\"#fdca26\"],[1.0,\"#f0f921\"]]}],\"heatmapgl\":[{\"type\":\"heatmapgl\",\"colorbar\":{\"outlinewidth\":0,\"ticks\":\"\"},\"colorscale\":[[0.0,\"#0d0887\"],[0.1111111111111111,\"#46039f\"],[0.2222222222222222,\"#7201a8\"],[0.3333333333333333,\"#9c179e\"],[0.4444444444444444,\"#bd3786\"],[0.5555555555555556,\"#d8576b\"],[0.6666666666666666,\"#ed7953\"],[0.7777777777777778,\"#fb9f3a\"],[0.8888888888888888,\"#fdca26\"],[1.0,\"#f0f921\"]]}],\"contourcarpet\":[{\"type\":\"contourcarpet\",\"colorbar\":{\"outlinewidth\":0,\"ticks\":\"\"}}],\"contour\":[{\"type\":\"contour\",\"colorbar\":{\"outlinewidth\":0,\"ticks\":\"\"},\"colorscale\":[[0.0,\"#0d0887\"],[0.1111111111111111,\"#46039f\"],[0.2222222222222222,\"#7201a8\"],[0.3333333333333333,\"#9c179e\"],[0.4444444444444444,\"#bd3786\"],[0.5555555555555556,\"#d8576b\"],[0.6666666666666666,\"#ed7953\"],[0.7777777777777778,\"#fb9f3a\"],[0.8888888888888888,\"#fdca26\"],[1.0,\"#f0f921\"]]}],\"surface\":[{\"type\":\"surface\",\"colorbar\":{\"outlinewidth\":0,\"ticks\":\"\"},\"colorscale\":[[0.0,\"#0d0887\"],[0.1111111111111111,\"#46039f\"],[0.2222222222222222,\"#7201a8\"],[0.3333333333333333,\"#9c179e\"],[0.4444444444444444,\"#bd3786\"],[0.5555555555555556,\"#d8576b\"],[0.6666666666666666,\"#ed7953\"],[0.7777777777777778,\"#fb9f3a\"],[0.8888888888888888,\"#fdca26\"],[1.0,\"#f0f921\"]]}],\"mesh3d\":[{\"type\":\"mesh3d\",\"colorbar\":{\"outlinewidth\":0,\"ticks\":\"\"}}],\"scatter\":[{\"fillpattern\":{\"fillmode\":\"overlay\",\"size\":10,\"solidity\":0.2},\"type\":\"scatter\"}],\"parcoords\":[{\"type\":\"parcoords\",\"line\":{\"colorbar\":{\"outlinewidth\":0,\"ticks\":\"\"}}}],\"scatterpolargl\":[{\"type\":\"scatterpolargl\",\"marker\":{\"colorbar\":{\"outlinewidth\":0,\"ticks\":\"\"}}}],\"bar\":[{\"error_x\":{\"color\":\"#2a3f5f\"},\"error_y\":{\"color\":\"#2a3f5f\"},\"marker\":{\"line\":{\"color\":\"#E5ECF6\",\"width\":0.5},\"pattern\":{\"fillmode\":\"overlay\",\"size\":10,\"solidity\":0.2}},\"type\":\"bar\"}],\"scattergeo\":[{\"type\":\"scattergeo\",\"marker\":{\"colorbar\":{\"outlinewidth\":0,\"ticks\":\"\"}}}],\"scatterpolar\":[{\"type\":\"scatterpolar\",\"marker\":{\"colorbar\":{\"outlinewidth\":0,\"ticks\":\"\"}}}],\"histogram\":[{\"marker\":{\"pattern\":{\"fillmode\":\"overlay\",\"size\":10,\"solidity\":0.2}},\"type\":\"histogram\"}],\"scattergl\":[{\"type\":\"scattergl\",\"marker\":{\"colorbar\":{\"outlinewidth\":0,\"ticks\":\"\"}}}],\"scatter3d\":[{\"type\":\"scatter3d\",\"line\":{\"colorbar\":{\"outlinewidth\":0,\"ticks\":\"\"}},\"marker\":{\"colorbar\":{\"outlinewidth\":0,\"ticks\":\"\"}}}],\"scattermapbox\":[{\"type\":\"scattermapbox\",\"marker\":{\"colorbar\":{\"outlinewidth\":0,\"ticks\":\"\"}}}],\"scatterternary\":[{\"type\":\"scatterternary\",\"marker\":{\"colorbar\":{\"outlinewidth\":0,\"ticks\":\"\"}}}],\"scattercarpet\":[{\"type\":\"scattercarpet\",\"marker\":{\"colorbar\":{\"outlinewidth\":0,\"ticks\":\"\"}}}],\"carpet\":[{\"aaxis\":{\"endlinecolor\":\"#2a3f5f\",\"gridcolor\":\"white\",\"linecolor\":\"white\",\"minorgridcolor\":\"white\",\"startlinecolor\":\"#2a3f5f\"},\"baxis\":{\"endlinecolor\":\"#2a3f5f\",\"gridcolor\":\"white\",\"linecolor\":\"white\",\"minorgridcolor\":\"white\",\"startlinecolor\":\"#2a3f5f\"},\"type\":\"carpet\"}],\"table\":[{\"cells\":{\"fill\":{\"color\":\"#EBF0F8\"},\"line\":{\"color\":\"white\"}},\"header\":{\"fill\":{\"color\":\"#C8D4E3\"},\"line\":{\"color\":\"white\"}},\"type\":\"table\"}],\"barpolar\":[{\"marker\":{\"line\":{\"color\":\"#E5ECF6\",\"width\":0.5},\"pattern\":{\"fillmode\":\"overlay\",\"size\":10,\"solidity\":0.2}},\"type\":\"barpolar\"}],\"pie\":[{\"automargin\":true,\"type\":\"pie\"}]},\"layout\":{\"autotypenumbers\":\"strict\",\"colorway\":[\"#636efa\",\"#EF553B\",\"#00cc96\",\"#ab63fa\",\"#FFA15A\",\"#19d3f3\",\"#FF6692\",\"#B6E880\",\"#FF97FF\",\"#FECB52\"],\"font\":{\"color\":\"#2a3f5f\"},\"hovermode\":\"closest\",\"hoverlabel\":{\"align\":\"left\"},\"paper_bgcolor\":\"white\",\"plot_bgcolor\":\"#E5ECF6\",\"polar\":{\"bgcolor\":\"#E5ECF6\",\"angularaxis\":{\"gridcolor\":\"white\",\"linecolor\":\"white\",\"ticks\":\"\"},\"radialaxis\":{\"gridcolor\":\"white\",\"linecolor\":\"white\",\"ticks\":\"\"}},\"ternary\":{\"bgcolor\":\"#E5ECF6\",\"aaxis\":{\"gridcolor\":\"white\",\"linecolor\":\"white\",\"ticks\":\"\"},\"baxis\":{\"gridcolor\":\"white\",\"linecolor\":\"white\",\"ticks\":\"\"},\"caxis\":{\"gridcolor\":\"white\",\"linecolor\":\"white\",\"ticks\":\"\"}},\"coloraxis\":{\"colorbar\":{\"outlinewidth\":0,\"ticks\":\"\"}},\"colorscale\":{\"sequential\":[[0.0,\"#0d0887\"],[0.1111111111111111,\"#46039f\"],[0.2222222222222222,\"#7201a8\"],[0.3333333333333333,\"#9c179e\"],[0.4444444444444444,\"#bd3786\"],[0.5555555555555556,\"#d8576b\"],[0.6666666666666666,\"#ed7953\"],[0.7777777777777778,\"#fb9f3a\"],[0.8888888888888888,\"#fdca26\"],[1.0,\"#f0f921\"]],\"sequentialminus\":[[0.0,\"#0d0887\"],[0.1111111111111111,\"#46039f\"],[0.2222222222222222,\"#7201a8\"],[0.3333333333333333,\"#9c179e\"],[0.4444444444444444,\"#bd3786\"],[0.5555555555555556,\"#d8576b\"],[0.6666666666666666,\"#ed7953\"],[0.7777777777777778,\"#fb9f3a\"],[0.8888888888888888,\"#fdca26\"],[1.0,\"#f0f921\"]],\"diverging\":[[0,\"#8e0152\"],[0.1,\"#c51b7d\"],[0.2,\"#de77ae\"],[0.3,\"#f1b6da\"],[0.4,\"#fde0ef\"],[0.5,\"#f7f7f7\"],[0.6,\"#e6f5d0\"],[0.7,\"#b8e186\"],[0.8,\"#7fbc41\"],[0.9,\"#4d9221\"],[1,\"#276419\"]]},\"xaxis\":{\"gridcolor\":\"white\",\"linecolor\":\"white\",\"ticks\":\"\",\"title\":{\"standoff\":15},\"zerolinecolor\":\"white\",\"automargin\":true,\"zerolinewidth\":2},\"yaxis\":{\"gridcolor\":\"white\",\"linecolor\":\"white\",\"ticks\":\"\",\"title\":{\"standoff\":15},\"zerolinecolor\":\"white\",\"automargin\":true,\"zerolinewidth\":2},\"scene\":{\"xaxis\":{\"backgroundcolor\":\"#E5ECF6\",\"gridcolor\":\"white\",\"linecolor\":\"white\",\"showbackground\":true,\"ticks\":\"\",\"zerolinecolor\":\"white\",\"gridwidth\":2},\"yaxis\":{\"backgroundcolor\":\"#E5ECF6\",\"gridcolor\":\"white\",\"linecolor\":\"white\",\"showbackground\":true,\"ticks\":\"\",\"zerolinecolor\":\"white\",\"gridwidth\":2},\"zaxis\":{\"backgroundcolor\":\"#E5ECF6\",\"gridcolor\":\"white\",\"linecolor\":\"white\",\"showbackground\":true,\"ticks\":\"\",\"zerolinecolor\":\"white\",\"gridwidth\":2}},\"shapedefaults\":{\"line\":{\"color\":\"#2a3f5f\"}},\"annotationdefaults\":{\"arrowcolor\":\"#2a3f5f\",\"arrowhead\":0,\"arrowwidth\":1},\"geo\":{\"bgcolor\":\"white\",\"landcolor\":\"#E5ECF6\",\"subunitcolor\":\"white\",\"showland\":true,\"showlakes\":true,\"lakecolor\":\"white\"},\"title\":{\"x\":0.05},\"mapbox\":{\"style\":\"light\"}}},\"xaxis\":{\"anchor\":\"y\",\"domain\":[0.0,1.0],\"title\":{\"text\":\"Survival_Months\"}},\"yaxis\":{\"anchor\":\"x\",\"domain\":[0.0,1.0]},\"legend\":{\"tracegroupgap\":0},\"margin\":{\"t\":60},\"boxmode\":\"group\"},                        {\"responsive\": true}                    ).then(function(){\n",
              "                            \n",
              "var gd = document.getElementById('2b006076-3f5b-43d1-a913-82ee8919aaff');\n",
              "var x = new MutationObserver(function (mutations, observer) {{\n",
              "        var display = window.getComputedStyle(gd).display;\n",
              "        if (!display || display === 'none') {{\n",
              "            console.log([gd, 'removed!']);\n",
              "            Plotly.purge(gd);\n",
              "            observer.disconnect();\n",
              "        }}\n",
              "}});\n",
              "\n",
              "// Listen for the removal of the full notebook cells\n",
              "var notebookContainer = gd.closest('#notebook-container');\n",
              "if (notebookContainer) {{\n",
              "    x.observe(notebookContainer, {childList: true});\n",
              "}}\n",
              "\n",
              "// Listen for the clearing of the current output cell\n",
              "var outputEl = gd.closest('.output');\n",
              "if (outputEl) {{\n",
              "    x.observe(outputEl, {childList: true});\n",
              "}}\n",
              "\n",
              "                        })                };                            </script>        </div>\n",
              "</body>\n",
              "</html>"
            ]
          },
          "metadata": {},
          "output_type": "display_data"
        }
      ],
      "source": [
        "VariableName_fig = px.box(data, x='Survival_Months')\n",
        "VariableName_fig.show()"
      ]
    },
    {
      "cell_type": "code",
      "execution_count": null,
      "metadata": {
        "colab": {
          "base_uri": "https://localhost:8080/",
          "height": 542
        },
        "id": "dOw3-Shyr2c5",
        "outputId": "10feb195-c942-4083-f55c-0983ae9a0b56"
      },
      "outputs": [
        {
          "data": {
            "text/html": [
              "<html>\n",
              "<head><meta charset=\"utf-8\" /></head>\n",
              "<body>\n",
              "    <div>            <script src=\"https://cdnjs.cloudflare.com/ajax/libs/mathjax/2.7.5/MathJax.js?config=TeX-AMS-MML_SVG\"></script><script type=\"text/javascript\">if (window.MathJax && window.MathJax.Hub && window.MathJax.Hub.Config) {window.MathJax.Hub.Config({SVG: {font: \"STIX-Web\"}});}</script>                <script type=\"text/javascript\">window.PlotlyConfig = {MathJaxConfig: 'local'};</script>\n",
              "        <script charset=\"utf-8\" src=\"https://cdn.plot.ly/plotly-2.35.2.min.js\"></script>                <div id=\"e2a55457-2ed7-4fb5-9d78-86b17212a277\" class=\"plotly-graph-div\" style=\"height:525px; width:100%;\"></div>            <script type=\"text/javascript\">                                    window.PLOTLYENV=window.PLOTLYENV || {};                                    if (document.getElementById(\"e2a55457-2ed7-4fb5-9d78-86b17212a277\")) {                    Plotly.newPlot(                        \"e2a55457-2ed7-4fb5-9d78-86b17212a277\",                        [{\"alignmentgroup\":\"True\",\"hovertemplate\":\"Reginol_Node_Positive=%{x}\\u003cextra\\u003e\\u003c\\u002fextra\\u003e\",\"legendgroup\":\"\",\"marker\":{\"color\":\"#636efa\"},\"name\":\"\",\"notched\":false,\"offsetgroup\":\"\",\"orientation\":\"h\",\"showlegend\":false,\"x\":[1,5,7,1,1,2,1,1,12,1,3,3,7,14,1,1,1,1,1,2,5,1,22,17,23,1,4,1,1,1,1,3,10,2,6,2,2,5,2,1,6,2,5,2,1,9,3,3,1,1,1,1,1,2,2,1,1,3,1,3,1,3,20,1,1,16,1,4,1,1,1,13,1,2,1,1,11,1,1,1,1,4,16,3,2,2,1,3,1,1,1,1,3,1,1,2,2,3,4,3,10,2,5,3,9,3,2,2,3,16,4,2,1,2,1,2,3,1,6,1,1,7,5,1,1,10,1,4,1,1,2,1,3,1,2,1,5,2,1,1,1,14,4,1,1,2,6,1,7,1,1,2,2,1,2,1,10,2,14,5,1,2,1,13,2,2,9,1,1,1,4,1,1,2,5,2,2,2,4,1,12,1,1,1,1,1,1,12,1,1,1,2,7,2,3,1,2,9,1,4,1,7,5,1,2,1,21,1,2,1,2,2,15,5,1,1,3,2,1,6,1,2,2,2,1,1,1,1,2,3,1,1,1,3,1,10,9,2,3,9,1,1,2,3,1,2,10,2,2,6,2,11,28,1,1,6,14,1,1,4,1,3,1,2,3,5,3,4,1,3,2,5,6,17,1,1,3,1,1,1,7,1,6,4,1,1,9,1,2,3,1,1,2,1,3,4,3,9,1,5,12,1,2,9,2,4,4,1,1,1,1,2,2,1,1,2,1,2,2,4,7,4,6,11,1,4,13,3,1,2,4,4,6,1,1,1,3,2,1,17,2,9,1,4,1,8,1,2,1,3,1,2,2,2,1,1,2,1,1,1,1,2,2,1,1,5,1,2,2,1,11,2,1,5,14,1,1,1,13,1,1,3,1,2,2,2,5,3,1,6,2,1,1,1,1,19,1,11,1,1,2,2,1,3,3,3,1,2,1,1,1,1,1,8,6,3,6,24,1,1,7,1,1,6,1,3,6,2,2,1,1,19,2,5,1,2,2,7,1,3,2,1,3,2,2,2,3,2,13,1,5,1,12,20,1,1,14,1,1,4,5,2,24,1,1,1,1,1,1,3,29,1,5,4,22,4,3,2,4,2,1,8,7,2,4,5,1,1,1,4,2,2,10,13,2,1,9,5,26,7,1,1,2,1,10,1,3,2,1,1,1,10,1,3,1,4,2,9,1,2,5,2,1,4,5,1,3,2,11,3,1,1,2,3,3,1,8,1,2,1,1,1,1,9,1,1,8,1,6,1,1,1,2,1,1,1,1,4,3,1,9,19,2,2,3,2,7,1,1,3,2,2,1,22,2,10,16,1,1,3,1,5,4,2,1,1,1,1,3,4,2,3,3,3,3,1,21,1,5,14,2,2,1,1,1,5,2,4,1,6,17,11,6,1,6,7,2,10,6,15,1,4,3,1,3,1,2,1,4,1,4,3,1,5,3,1,7,22,4,2,1,2,3,1,4,2,1,3,3,2,1,3,1,6,2,4,1,3,1,2,2,6,3,3,1,2,6,1,1,2,1,1,6,1,3,1,6,8,1,1,5,1,13,3,2,1,1,5,1,8,3,1,18,1,1,2,1,2,8,1,1,1,1,2,1,10,16,1,1,1,1,1,4,3,1,1,1,1,3,10,20,14,1,1,1,1,1,1,2,4,6,1,5,1,1,1,9,4,3,1,1,2,2,18,5,1,15,1,1,1,1,7,3,1,1,8,4,3,3,2,5,1,10,2,14,6,10,3,3,1,1,5,4,1,2,2,1,4,3,1,5,1,3,2,1,3,9,22,2,5,1,1,2,1,2,2,23,1,2,19,1,1,1,2,1,5,1,3,2,2,2,2,1,3,1,2,3,1,2,3,7,3,7,22,1,1,20,3,2,9,4,15,1,1,2,1,2,1,2,2,2,9,1,1,9,5,16,1,3,3,4,4,1,2,9,1,1,3,1,1,1,9,6,1,2,1,19,3,1,1,2,3,11,4,1,2,3,1,1,2,5,7,22,3,1,5,3,1,5,1,9,7,1,2,16,1,3,4,1,3,2,5,2,2,3,5,1,3,2,11,1,1,1,1,1,28,22,8,11,2,2,2,1,8,1,1,2,7,3,2,6,8,3,3,1,18,17,8,1,2,3,5,9,3,17,9,8,7,4,1,1,9,3,4,2,11,20,2,2,2,1,1,2,15,1,6,17,2,1,9,3,2,1,10,1,3,3,1,5,14,22,1,9,3,1,1,3,6,1,24,4,3,15,30,2,1,2,1,1,1,2,1,2,7,1,2,7,10,1,1,2,5,1,9,1,1,2,1,1,7,1,10,1,1,4,4,2,1,5,5,2,2,1,8,4,4,1,7,2,1,1,1,2,6,1,3,12,1,3,6,2,3,1,1,4,1,5,7,3,1,1,1,1,1,27,1,2,6,2,1,4,3,2,2,8,1,22,10,1,2,4,2,1,2,2,1,2,6,2,1,1,1,2,1,1,7,3,1,1,2,1,1,1,1,4,1,2,1,6,6,9,3,5,1,1,3,2,2,2,1,18,1,1,2,20,1,3,3,13,1,2,1,1,1,1,5,2,8,22,1,7,1,9,3,1,7,10,1,1,3,1,1,2,2,1,1,2,2,3,1,1,1,2,4,1,16,1,2,1,1,1,1,3,1,5,1,1,12,4,1,1,1,1,1,1,15,9,1,1,1,12,1,2,1,1,2,11,1,2,3,1,2,1,1,1,2,3,7,5,2,1,1,2,1,2,1,1,2,1,2,1,2,3,1,4,8,1,2,10,16,1,2,3,25,1,1,1,9,17,1,2,13,1,1,4,1,2,1,2,10,1,1,3,1,1,10,3,3,2,2,24,3,1,5,8,6,15,2,1,10,1,1,1,6,9,2,3,1,3,20,1,3,16,1,1,4,1,8,8,1,13,10,17,1,3,6,5,6,2,1,19,4,3,1,1,1,19,1,1,1,1,2,3,3,1,9,8,2,1,1,1,3,1,2,1,8,1,1,1,2,7,1,2,4,4,5,2,2,1,6,2,4,1,2,1,1,1,2,3,1,5,1,10,1,1,2,22,1,2,1,1,11,1,1,2,1,1,2,1,1,11,12,2,19,8,6,14,13,4,2,1,1,2,2,5,1,1,4,3,3,6,1,7,8,1,2,2,14,2,2,2,16,29,1,1,1,1,6,1,2,1,3,8,1,3,8,3,2,1,1,3,1,2,5,6,5,3,10,2,1,1,3,3,4,1,2,21,8,3,2,1,2,4,1,1,3,17,2,5,1,10,1,4,4,1,4,1,1,17,1,1,4,2,2,2,2,1,8,6,7,2,2,3,1,3,1,4,1,2,1,1,2,1,1,1,1,8,3,2,2,1,3,2,1,2,3,1,29,1,3,1,1,2,1,3,2,3,1,5,1,2,13,2,3,1,1,1,15,1,2,4,2,3,7,1,2,3,13,9,2,1,1,3,4,1,25,3,5,3,1,1,1,1,2,1,2,2,2,2,2,6,4,1,1,1,1,1,1,1,1,1,1,7,5,1,18,1,2,1,1,1,8,17,4,3,2,2,1,2,3,5,6,1,2,2,1,1,3,2,2,2,1,2,8,1,6,1,2,3,1,1,1,1,3,7,2,10,21,3,1,3,1,2,1,3,1,5,10,4,1,2,5,1,12,9,1,5,1,1,2,1,1,1,3,7,2,3,3,4,4,1,4,5,6,6,1,2,1,19,1,11,2,2,1,4,1,1,1,2,4,1,2,11,1,1,4,3,9,3,1,3,1,1,2,2,1,1,7,2,2,2,1,1,1,4,1,2,1,5,7,1,1,11,2,1,2,1,1,1,1,1,1,2,3,5,3,5,2,2,2,1,5,1,16,11,1,4,2,4,1,2,9,5,1,1,1,9,2,2,1,1,3,18,1,3,5,1,1,2,23,2,5,4,5,1,1,5,6,2,2,2,1,1,1,3,3,5,2,4,5,1,1,1,3,1,9,4,1,1,5,1,3,3,17,1,3,11,1,2,1,13,2,2,1,1,4,3,7,1,3,6,2,1,1,12,4,1,1,2,1,1,7,1,2,1,1,7,1,1,2,1,1,1,14,1,2,3,2,1,1,1,1,1,12,2,1,3,27,22,2,1,3,19,14,2,2,4,8,2,1,3,1,1,1,2,2,1,6,1,1,4,2,1,5,1,2,1,15,3,1,6,5,1,2,2,2,1,3,1,1,1,1,1,1,1,2,4,4,2,5,6,1,7,8,5,1,1,1,1,4,1,7,3,1,8,1,1,1,7,4,1,1,1,12,2,1,1,1,1,1,2,5,1,2,3,4,1,10,1,16,2,7,2,1,2,1,4,1,14,11,2,10,2,1,1,2,6,1,2,1,2,5,3,2,7,4,3,2,1,2,4,1,2,3,1,1,14,15,1,5,1,2,4,1,1,6,1,2,2,1,1,12,1,1,1,2,1,2,1,1,11,1,2,1,1,1,1,9,1,3,1,1,1,1,3,2,2,1,1,1,4,1,2,12,3,16,12,4,1,1,1,1,1,2,2,2,4,2,4,1,2,4,1,1,1,3,1,2,1,8,4,1,1,9,9,3,12,3,18,1,2,17,3,26,4,1,3,4,4,1,6,4,1,1,1,6,4,3,3,2,2,4,4,6,2,6,2,1,6,2,2,13,1,3,2,18,4,10,1,1,1,1,2,2,1,2,10,1,2,2,2,2,1,3,14,1,3,7,2,4,12,4,3,3,5,1,1,17,1,2,18,5,4,5,20,1,1,2,1,4,1,1,9,2,1,1,5,1,1,1,1,1,3,7,6,2,1,1,1,1,1,1,5,1,6,3,2,1,1,1,4,1,5,1,3,5,2,4,1,1,1,1,6,8,10,1,28,4,1,2,2,2,4,1,3,1,4,3,2,1,2,1,2,1,4,2,5,10,1,2,1,5,2,1,2,1,1,1,1,4,5,10,1,6,1,1,1,5,1,2,11,1,1,11,11,1,2,2,3,5,2,4,3,16,5,1,4,9,2,19,2,2,1,1,7,1,3,5,5,9,5,1,5,1,3,2,5,3,1,1,2,1,2,1,7,6,2,15,2,3,15,1,2,1,13,9,2,2,3,2,3,2,2,1,1,1,1,21,1,3,2,1,1,2,5,1,1,1,3,18,2,5,5,1,3,8,3,7,26,1,1,1,6,2,6,7,2,3,2,4,1,1,2,1,5,2,2,2,1,10,1,4,1,5,2,1,3,4,6,10,2,5,1,6,16,11,1,7,11,3,3,8,1,1,1,1,1,1,1,12,5,1,1,4,1,4,2,3,1,6,3,2,4,2,5,10,1,4,1,5,5,1,1,5,1,1,3,1,1,8,4,11,1,5,1,2,2,1,1,2,3,4,4,3,2,1,1,2,4,2,1,1,14,1,2,2,2,1,5,3,5,4,5,7,1,1,2,2,1,1,1,1,1,3,1,12,1,5,13,9,1,8,1,1,5,1,1,2,3,4,4,2,2,1,4,1,3,1,9,6,1,2,1,7,2,6,2,1,1,7,8,3,26,3,1,1,17,16,5,15,5,3,17,3,3,1,2,3,2,3,2,1,3,1,1,1,2,4,7,1,1,1,1,5,16,1,3,7,2,1,2,5,5,2,2,1,1,5,7,1,12,19,2,1,5,3,1,1,1,7,1,1,1,2,2,3,1,21,2,1,1,1,11,6,1,2,1,1,5,5,8,1,1,1,3,13,9,1,4,1,1,2,2,1,4,19,9,1,6,1,3,11,4,6,3,1,2,6,3,1,1,1,3,3,1,2,3,3,13,1,2,5,3,1,6,1,2,1,1,1,4,6,1,1,1,1,5,16,1,9,16,2,1,1,1,1,1,1,4,1,1,1,1,1,2,1,1,1,1,1,30,7,1,1,12,1,1,6,1,1,1,3,2,4,1,2,1,1,2,2,8,4,6,10,3,3,1,10,2,4,6,2,1,1,4,1,21,1,2,1,2,5,1,2,3,2,1,3,2,1,8,1,2,10,1,1,1,14,1,1,3,4,3,5,19,14,2,11,5,2,1,14,2,2,2,15,4,2,3,3,1,5,3,34,1,8,4,1,3,2,2,5,1,2,1,17,3,9,12,1,1,2,4,2,8,4,2,1,1,3,1,1,7,5,1,2,8,1,1,1,1,11,3,2,1,2,5,2,1,2,5,1,2,6,3,10,2,1,1,13,1,1,7,9,22,12,3,4,1,1,7,3,1,1,3,1,8,6,11,3,3,5,2,3,7,3,1,16,1,2,1,3,1,5,1,1,3,12,1,4,1,1,1,6,1,2,4,2,2,1,1,1,2,7,8,1,3,1,2,3,1,1,1,1,1,1,2,1,2,1,4,12,1,1,5,7,11,2,1,5,6,1,1,5,2,2,17,2,2,2,1,12,1,4,2,7,1,2,1,3,1,2,1,3,4,8,6,3,6,4,1,6,3,1,1,1,17,1,2,1,1,2,2,3,1,1,8,2,1,18,2,1,1,13,1,2,1,2,14,4,2,4,7,1,2,2,3,1,3,1,1,12,21,8,1,1,3,1,1,2,1,2,2,5,1,3,1,1,2,33,1,21,8,3,1,2,4,5,6,1,2,2,5,4,2,6,1,2,15,1,9,5,1,2,1,5,1,4,2,1,3,1,2,4,1,3,1,1,3,2,6,3,1,3,4,3,6,4,3,2,5,14,1,23,1,1,19,2,10,12,5,11,4,2,1,1,1,3,3,1,1,1,14,1,2,2,3,4,3,2,8,1,2,1,1,2,1,3,1,2,1,12,14,2,5,1,1,2,1,10,2,2,1,1,1,2,1,1,1,1,1,11,2,2,5,1,12,1,1,7,5,1,24,1,11,4,1,1,1,1,2,7,1,3,1,3,2,2,1,5,3,3,2,1,2,2,4,1,1,6,2,9,3,1,1,2,1,3,6,1,4,5,3,1,1,12,1,4,5,2,2,5,3,5,5,3,11,5,11,1,2,7,7,3,2,3,1,3,1,1,1,1,2,12,1,1,1,1,2,1,2,1,3,1,4,1,1,6,1,6,2,1,13,4,1,7,1,4,6,1,1,3,2,3,7,7,11,1,1,1,5,13,1,4,1,7,1,3,4,1,1,2,2,1,3,6,5,18,1,14,19,1,1,1,4,5,1,1,1,8,1,2,2,2,1,1,1,1,2,2,2,2,11,1,1,6,9,8,9,14,3,1,1,1,1,1,1,1,3,1,1,1,3,3,5,1,8,3,1,2,3,3,1,1,2,24,2,2,10,4,1,2,14,1,1,1,1,6,3,1,3,1,6,8,3,7,3,3,1,2,2,2,5,2,1,4,4,13,4,1,1,3,1,1,1,1,26,1,3,1,1,2,4,5,1,1,2,2,5,4,8,2,1,16,1,2,1,2,1,4,4,1,1,1,1,2,1,26,5,6,1,6,4,7,2,2,19,3,4,1,3,4,2,4,3,2,1,1,6,2,7,6,5,9,1,7,1,2,1,2,7,6,1,1,1,1,1,11,15,1,1,1,10,4,5,4,5,1,1,3,1,3,4,1,1,1,22,2,2,1,4,11,2,1,1,1,2,1,3,9,2,4,1,12,4,2,9,5,10,1,6,2,6,8,1,1,2,6,1,2,1,2,2,1,2,1,1,1,12,3,4,2,1,10,1,1,1,4,1,7,2,1,1,4,2,1,1,1,1,2,2,1,22,2,1,3,1,3,1,2,1,1,26,6,1,4,3,13,1,9,8,2,1,2,9,3,12,1,19,24,6,1,1,2,5,2,2,1,3,3,1,15,2,5,2,1,1,1,4,4,5,1,1,1,1,1,14,1,2,6,1,1,7,1,1,1,1,13,2,19,1,2,1,3,12,1,1,1,2,9,5,9,5,29,2,1,4,1,7,1,5,5,4,2,5,1,5,25,9,4,2,2,3,2,7,3,2,2,1,6,4,1,13,3,1,2,2,1,3,2,1,16,1,1,5,1,1,1,9,1,3,3,1,5,2,1,3,27,1,4,1,1,8,14,2,1,1,1,2,4,3,4,3,8,1,3,11,1,1,19,2,1,2,1,19,1,2,14,9,2,1,5,2,1,1,7,9,2,2,1,2,1,4,1,4,2,1,1,1,8,3,1,2],\"x0\":\" \",\"xaxis\":\"x\",\"y0\":\" \",\"yaxis\":\"y\",\"type\":\"box\"}],                        {\"template\":{\"data\":{\"histogram2dcontour\":[{\"type\":\"histogram2dcontour\",\"colorbar\":{\"outlinewidth\":0,\"ticks\":\"\"},\"colorscale\":[[0.0,\"#0d0887\"],[0.1111111111111111,\"#46039f\"],[0.2222222222222222,\"#7201a8\"],[0.3333333333333333,\"#9c179e\"],[0.4444444444444444,\"#bd3786\"],[0.5555555555555556,\"#d8576b\"],[0.6666666666666666,\"#ed7953\"],[0.7777777777777778,\"#fb9f3a\"],[0.8888888888888888,\"#fdca26\"],[1.0,\"#f0f921\"]]}],\"choropleth\":[{\"type\":\"choropleth\",\"colorbar\":{\"outlinewidth\":0,\"ticks\":\"\"}}],\"histogram2d\":[{\"type\":\"histogram2d\",\"colorbar\":{\"outlinewidth\":0,\"ticks\":\"\"},\"colorscale\":[[0.0,\"#0d0887\"],[0.1111111111111111,\"#46039f\"],[0.2222222222222222,\"#7201a8\"],[0.3333333333333333,\"#9c179e\"],[0.4444444444444444,\"#bd3786\"],[0.5555555555555556,\"#d8576b\"],[0.6666666666666666,\"#ed7953\"],[0.7777777777777778,\"#fb9f3a\"],[0.8888888888888888,\"#fdca26\"],[1.0,\"#f0f921\"]]}],\"heatmap\":[{\"type\":\"heatmap\",\"colorbar\":{\"outlinewidth\":0,\"ticks\":\"\"},\"colorscale\":[[0.0,\"#0d0887\"],[0.1111111111111111,\"#46039f\"],[0.2222222222222222,\"#7201a8\"],[0.3333333333333333,\"#9c179e\"],[0.4444444444444444,\"#bd3786\"],[0.5555555555555556,\"#d8576b\"],[0.6666666666666666,\"#ed7953\"],[0.7777777777777778,\"#fb9f3a\"],[0.8888888888888888,\"#fdca26\"],[1.0,\"#f0f921\"]]}],\"heatmapgl\":[{\"type\":\"heatmapgl\",\"colorbar\":{\"outlinewidth\":0,\"ticks\":\"\"},\"colorscale\":[[0.0,\"#0d0887\"],[0.1111111111111111,\"#46039f\"],[0.2222222222222222,\"#7201a8\"],[0.3333333333333333,\"#9c179e\"],[0.4444444444444444,\"#bd3786\"],[0.5555555555555556,\"#d8576b\"],[0.6666666666666666,\"#ed7953\"],[0.7777777777777778,\"#fb9f3a\"],[0.8888888888888888,\"#fdca26\"],[1.0,\"#f0f921\"]]}],\"contourcarpet\":[{\"type\":\"contourcarpet\",\"colorbar\":{\"outlinewidth\":0,\"ticks\":\"\"}}],\"contour\":[{\"type\":\"contour\",\"colorbar\":{\"outlinewidth\":0,\"ticks\":\"\"},\"colorscale\":[[0.0,\"#0d0887\"],[0.1111111111111111,\"#46039f\"],[0.2222222222222222,\"#7201a8\"],[0.3333333333333333,\"#9c179e\"],[0.4444444444444444,\"#bd3786\"],[0.5555555555555556,\"#d8576b\"],[0.6666666666666666,\"#ed7953\"],[0.7777777777777778,\"#fb9f3a\"],[0.8888888888888888,\"#fdca26\"],[1.0,\"#f0f921\"]]}],\"surface\":[{\"type\":\"surface\",\"colorbar\":{\"outlinewidth\":0,\"ticks\":\"\"},\"colorscale\":[[0.0,\"#0d0887\"],[0.1111111111111111,\"#46039f\"],[0.2222222222222222,\"#7201a8\"],[0.3333333333333333,\"#9c179e\"],[0.4444444444444444,\"#bd3786\"],[0.5555555555555556,\"#d8576b\"],[0.6666666666666666,\"#ed7953\"],[0.7777777777777778,\"#fb9f3a\"],[0.8888888888888888,\"#fdca26\"],[1.0,\"#f0f921\"]]}],\"mesh3d\":[{\"type\":\"mesh3d\",\"colorbar\":{\"outlinewidth\":0,\"ticks\":\"\"}}],\"scatter\":[{\"fillpattern\":{\"fillmode\":\"overlay\",\"size\":10,\"solidity\":0.2},\"type\":\"scatter\"}],\"parcoords\":[{\"type\":\"parcoords\",\"line\":{\"colorbar\":{\"outlinewidth\":0,\"ticks\":\"\"}}}],\"scatterpolargl\":[{\"type\":\"scatterpolargl\",\"marker\":{\"colorbar\":{\"outlinewidth\":0,\"ticks\":\"\"}}}],\"bar\":[{\"error_x\":{\"color\":\"#2a3f5f\"},\"error_y\":{\"color\":\"#2a3f5f\"},\"marker\":{\"line\":{\"color\":\"#E5ECF6\",\"width\":0.5},\"pattern\":{\"fillmode\":\"overlay\",\"size\":10,\"solidity\":0.2}},\"type\":\"bar\"}],\"scattergeo\":[{\"type\":\"scattergeo\",\"marker\":{\"colorbar\":{\"outlinewidth\":0,\"ticks\":\"\"}}}],\"scatterpolar\":[{\"type\":\"scatterpolar\",\"marker\":{\"colorbar\":{\"outlinewidth\":0,\"ticks\":\"\"}}}],\"histogram\":[{\"marker\":{\"pattern\":{\"fillmode\":\"overlay\",\"size\":10,\"solidity\":0.2}},\"type\":\"histogram\"}],\"scattergl\":[{\"type\":\"scattergl\",\"marker\":{\"colorbar\":{\"outlinewidth\":0,\"ticks\":\"\"}}}],\"scatter3d\":[{\"type\":\"scatter3d\",\"line\":{\"colorbar\":{\"outlinewidth\":0,\"ticks\":\"\"}},\"marker\":{\"colorbar\":{\"outlinewidth\":0,\"ticks\":\"\"}}}],\"scattermapbox\":[{\"type\":\"scattermapbox\",\"marker\":{\"colorbar\":{\"outlinewidth\":0,\"ticks\":\"\"}}}],\"scatterternary\":[{\"type\":\"scatterternary\",\"marker\":{\"colorbar\":{\"outlinewidth\":0,\"ticks\":\"\"}}}],\"scattercarpet\":[{\"type\":\"scattercarpet\",\"marker\":{\"colorbar\":{\"outlinewidth\":0,\"ticks\":\"\"}}}],\"carpet\":[{\"aaxis\":{\"endlinecolor\":\"#2a3f5f\",\"gridcolor\":\"white\",\"linecolor\":\"white\",\"minorgridcolor\":\"white\",\"startlinecolor\":\"#2a3f5f\"},\"baxis\":{\"endlinecolor\":\"#2a3f5f\",\"gridcolor\":\"white\",\"linecolor\":\"white\",\"minorgridcolor\":\"white\",\"startlinecolor\":\"#2a3f5f\"},\"type\":\"carpet\"}],\"table\":[{\"cells\":{\"fill\":{\"color\":\"#EBF0F8\"},\"line\":{\"color\":\"white\"}},\"header\":{\"fill\":{\"color\":\"#C8D4E3\"},\"line\":{\"color\":\"white\"}},\"type\":\"table\"}],\"barpolar\":[{\"marker\":{\"line\":{\"color\":\"#E5ECF6\",\"width\":0.5},\"pattern\":{\"fillmode\":\"overlay\",\"size\":10,\"solidity\":0.2}},\"type\":\"barpolar\"}],\"pie\":[{\"automargin\":true,\"type\":\"pie\"}]},\"layout\":{\"autotypenumbers\":\"strict\",\"colorway\":[\"#636efa\",\"#EF553B\",\"#00cc96\",\"#ab63fa\",\"#FFA15A\",\"#19d3f3\",\"#FF6692\",\"#B6E880\",\"#FF97FF\",\"#FECB52\"],\"font\":{\"color\":\"#2a3f5f\"},\"hovermode\":\"closest\",\"hoverlabel\":{\"align\":\"left\"},\"paper_bgcolor\":\"white\",\"plot_bgcolor\":\"#E5ECF6\",\"polar\":{\"bgcolor\":\"#E5ECF6\",\"angularaxis\":{\"gridcolor\":\"white\",\"linecolor\":\"white\",\"ticks\":\"\"},\"radialaxis\":{\"gridcolor\":\"white\",\"linecolor\":\"white\",\"ticks\":\"\"}},\"ternary\":{\"bgcolor\":\"#E5ECF6\",\"aaxis\":{\"gridcolor\":\"white\",\"linecolor\":\"white\",\"ticks\":\"\"},\"baxis\":{\"gridcolor\":\"white\",\"linecolor\":\"white\",\"ticks\":\"\"},\"caxis\":{\"gridcolor\":\"white\",\"linecolor\":\"white\",\"ticks\":\"\"}},\"coloraxis\":{\"colorbar\":{\"outlinewidth\":0,\"ticks\":\"\"}},\"colorscale\":{\"sequential\":[[0.0,\"#0d0887\"],[0.1111111111111111,\"#46039f\"],[0.2222222222222222,\"#7201a8\"],[0.3333333333333333,\"#9c179e\"],[0.4444444444444444,\"#bd3786\"],[0.5555555555555556,\"#d8576b\"],[0.6666666666666666,\"#ed7953\"],[0.7777777777777778,\"#fb9f3a\"],[0.8888888888888888,\"#fdca26\"],[1.0,\"#f0f921\"]],\"sequentialminus\":[[0.0,\"#0d0887\"],[0.1111111111111111,\"#46039f\"],[0.2222222222222222,\"#7201a8\"],[0.3333333333333333,\"#9c179e\"],[0.4444444444444444,\"#bd3786\"],[0.5555555555555556,\"#d8576b\"],[0.6666666666666666,\"#ed7953\"],[0.7777777777777778,\"#fb9f3a\"],[0.8888888888888888,\"#fdca26\"],[1.0,\"#f0f921\"]],\"diverging\":[[0,\"#8e0152\"],[0.1,\"#c51b7d\"],[0.2,\"#de77ae\"],[0.3,\"#f1b6da\"],[0.4,\"#fde0ef\"],[0.5,\"#f7f7f7\"],[0.6,\"#e6f5d0\"],[0.7,\"#b8e186\"],[0.8,\"#7fbc41\"],[0.9,\"#4d9221\"],[1,\"#276419\"]]},\"xaxis\":{\"gridcolor\":\"white\",\"linecolor\":\"white\",\"ticks\":\"\",\"title\":{\"standoff\":15},\"zerolinecolor\":\"white\",\"automargin\":true,\"zerolinewidth\":2},\"yaxis\":{\"gridcolor\":\"white\",\"linecolor\":\"white\",\"ticks\":\"\",\"title\":{\"standoff\":15},\"zerolinecolor\":\"white\",\"automargin\":true,\"zerolinewidth\":2},\"scene\":{\"xaxis\":{\"backgroundcolor\":\"#E5ECF6\",\"gridcolor\":\"white\",\"linecolor\":\"white\",\"showbackground\":true,\"ticks\":\"\",\"zerolinecolor\":\"white\",\"gridwidth\":2},\"yaxis\":{\"backgroundcolor\":\"#E5ECF6\",\"gridcolor\":\"white\",\"linecolor\":\"white\",\"showbackground\":true,\"ticks\":\"\",\"zerolinecolor\":\"white\",\"gridwidth\":2},\"zaxis\":{\"backgroundcolor\":\"#E5ECF6\",\"gridcolor\":\"white\",\"linecolor\":\"white\",\"showbackground\":true,\"ticks\":\"\",\"zerolinecolor\":\"white\",\"gridwidth\":2}},\"shapedefaults\":{\"line\":{\"color\":\"#2a3f5f\"}},\"annotationdefaults\":{\"arrowcolor\":\"#2a3f5f\",\"arrowhead\":0,\"arrowwidth\":1},\"geo\":{\"bgcolor\":\"white\",\"landcolor\":\"#E5ECF6\",\"subunitcolor\":\"white\",\"showland\":true,\"showlakes\":true,\"lakecolor\":\"white\"},\"title\":{\"x\":0.05},\"mapbox\":{\"style\":\"light\"}}},\"xaxis\":{\"anchor\":\"y\",\"domain\":[0.0,1.0],\"title\":{\"text\":\"Reginol_Node_Positive\"}},\"yaxis\":{\"anchor\":\"x\",\"domain\":[0.0,1.0]},\"legend\":{\"tracegroupgap\":0},\"margin\":{\"t\":60},\"boxmode\":\"group\"},                        {\"responsive\": true}                    ).then(function(){\n",
              "                            \n",
              "var gd = document.getElementById('e2a55457-2ed7-4fb5-9d78-86b17212a277');\n",
              "var x = new MutationObserver(function (mutations, observer) {{\n",
              "        var display = window.getComputedStyle(gd).display;\n",
              "        if (!display || display === 'none') {{\n",
              "            console.log([gd, 'removed!']);\n",
              "            Plotly.purge(gd);\n",
              "            observer.disconnect();\n",
              "        }}\n",
              "}});\n",
              "\n",
              "// Listen for the removal of the full notebook cells\n",
              "var notebookContainer = gd.closest('#notebook-container');\n",
              "if (notebookContainer) {{\n",
              "    x.observe(notebookContainer, {childList: true});\n",
              "}}\n",
              "\n",
              "// Listen for the clearing of the current output cell\n",
              "var outputEl = gd.closest('.output');\n",
              "if (outputEl) {{\n",
              "    x.observe(outputEl, {childList: true});\n",
              "}}\n",
              "\n",
              "                        })                };                            </script>        </div>\n",
              "</body>\n",
              "</html>"
            ]
          },
          "metadata": {},
          "output_type": "display_data"
        }
      ],
      "source": [
        "VariableName_fig = px.box(data, x='Reginol_Node_Positive')\n",
        "VariableName_fig.show()"
      ]
    },
    {
      "cell_type": "code",
      "execution_count": null,
      "metadata": {
        "id": "DasG1A3BmplO"
      },
      "outputs": [],
      "source": [
        "def find_outliers_IQR(data):\n",
        "    q1 = data.quantile(0.25)  # 25th percentile\n",
        "    q3 = data.quantile(0.75)  # 75th percentile\n",
        "    IQR = q3 - q1             # Interquartile Range\n",
        "\n",
        "    # Find outliers\n",
        "    outliers = data[(data < (q1 - 1.5 * IQR)) | (data > (q3 + 1.5 * IQR))]\n",
        "    return outliers"
      ]
    },
    {
      "cell_type": "code",
      "execution_count": null,
      "metadata": {
        "colab": {
          "base_uri": "https://localhost:8080/"
        },
        "id": "MaPw-bEsmsJo",
        "outputId": "eea0c6c2-84c6-4bfb-ceec-c787ae1276d4"
      },
      "outputs": [
        {
          "name": "stdout",
          "output_type": "stream",
          "text": [
            "142    180.0\n",
            "212    -50.0\n",
            "522    502.0\n",
            "842     89.0\n",
            "Name: Age, dtype: float64\n"
          ]
        }
      ],
      "source": [
        "outliers_age = find_outliers_IQR(data['Age'])\n",
        "print(outliers_age)"
      ]
    },
    {
      "cell_type": "code",
      "execution_count": null,
      "metadata": {
        "id": "eHAqyyAwnsZS"
      },
      "outputs": [],
      "source": [
        "data.drop(data.index[[142,212,522,842]], inplace=True)"
      ]
    },
    {
      "cell_type": "code",
      "execution_count": null,
      "metadata": {
        "colab": {
          "base_uri": "https://localhost:8080/"
        },
        "id": "hkkZwkARoITn",
        "outputId": "1e8728e7-afc7-4435-e20d-21faa81139c6"
      },
      "outputs": [
        {
          "name": "stdout",
          "output_type": "stream",
          "text": [
            "Series([], Name: Age, dtype: float64)\n"
          ]
        }
      ],
      "source": [
        "outliers_age = find_outliers_IQR(data['Age'])\n",
        "print(outliers_age)"
      ]
    },
    {
      "cell_type": "code",
      "execution_count": null,
      "metadata": {
        "colab": {
          "base_uri": "https://localhost:8080/"
        },
        "id": "kSZdPgaaoWSs",
        "outputId": "1cb76070-588e-449e-bbc0-0452b9b0e7c7"
      },
      "outputs": [
        {
          "name": "stdout",
          "output_type": "stream",
          "text": [
            "8       103.0\n",
            "52      120.0\n",
            "53       77.0\n",
            "63       75.0\n",
            "70      130.0\n",
            "        ...  \n",
            "3930    120.0\n",
            "3965    140.0\n",
            "3991     90.0\n",
            "4009    100.0\n",
            "4012     80.0\n",
            "Name: Tumor_Size, Length: 220, dtype: float64\n"
          ]
        }
      ],
      "source": [
        "outliers_tumor_size = find_outliers_IQR(data['Tumor_Size'])\n",
        "print(outliers_tumor_size)"
      ]
    },
    {
      "cell_type": "code",
      "execution_count": null,
      "metadata": {
        "id": "tPSVD-kXopuF"
      },
      "outputs": [],
      "source": [
        "data = data.drop(outliers_tumor_size.index)"
      ]
    },
    {
      "cell_type": "code",
      "execution_count": null,
      "metadata": {
        "colab": {
          "base_uri": "https://localhost:8080/"
        },
        "id": "vPEN-LPkpE8L",
        "outputId": "66abf4b0-0ba6-4b45-ca64-0bddda33ad8c"
      },
      "outputs": [
        {
          "name": "stdout",
          "output_type": "stream",
          "text": [
            "57      49.0\n",
            "227     42.0\n",
            "290     39.0\n",
            "303     46.0\n",
            "394     40.0\n",
            "        ... \n",
            "3708    38.0\n",
            "3771    47.0\n",
            "3950    60.0\n",
            "3957    37.0\n",
            "3990    39.0\n",
            "Name: Regional_Node_Examined, Length: 64, dtype: float64\n"
          ]
        }
      ],
      "source": [
        "outliers_Regional_Node_Examined = find_outliers_IQR(data['Regional_Node_Examined'])\n",
        "print(outliers_Regional_Node_Examined)"
      ]
    },
    {
      "cell_type": "code",
      "execution_count": null,
      "metadata": {
        "id": "aRXFS1uhp57E"
      },
      "outputs": [],
      "source": [
        "data = data.drop(outliers_Regional_Node_Examined.index)"
      ]
    },
    {
      "cell_type": "code",
      "execution_count": null,
      "metadata": {
        "colab": {
          "base_uri": "https://localhost:8080/"
        },
        "id": "0xBz2f2CrSat",
        "outputId": "741b626d-e86f-42c3-b7a6-7d2bc6be5088"
      },
      "outputs": [
        {
          "name": "stdout",
          "output_type": "stream",
          "text": [
            "260       7\n",
            "374     760\n",
            "414       3\n",
            "520       5\n",
            "631       5\n",
            "679       4\n",
            "721       3\n",
            "843       5\n",
            "857       7\n",
            "896       4\n",
            "921       1\n",
            "928       3\n",
            "1042      4\n",
            "1082      7\n",
            "1143      5\n",
            "1156      2\n",
            "1384      7\n",
            "1444      5\n",
            "1709      3\n",
            "1731      4\n",
            "1751      2\n",
            "1861      6\n",
            "1893      4\n",
            "1968      6\n",
            "2106      6\n",
            "2230      2\n",
            "2408      6\n",
            "2410      4\n",
            "2921      6\n",
            "3068      6\n",
            "3089      4\n",
            "3427      6\n",
            "3474      4\n",
            "3711      5\n",
            "3803      4\n",
            "Name: Survival_Months, dtype: int64\n"
          ]
        }
      ],
      "source": [
        "outliers_Survival_Months = find_outliers_IQR(data['Survival_Months'])\n",
        "print(outliers_Survival_Months)"
      ]
    },
    {
      "cell_type": "code",
      "execution_count": null,
      "metadata": {
        "id": "qAlrE8LareWr"
      },
      "outputs": [],
      "source": [
        "data = data.drop(outliers_Survival_Months.index)"
      ]
    },
    {
      "cell_type": "code",
      "execution_count": null,
      "metadata": {
        "colab": {
          "base_uri": "https://localhost:8080/"
        },
        "id": "2km0DqVqrkPy",
        "outputId": "0b1b6f18-67f0-449c-a213-0dc783bae1b6"
      },
      "outputs": [
        {
          "name": "stdout",
          "output_type": "stream",
          "text": [
            "9       12\n",
            "14      14\n",
            "24      22\n",
            "25      17\n",
            "26      23\n",
            "        ..\n",
            "3985    19\n",
            "3992    19\n",
            "3995    14\n",
            "3996     9\n",
            "4004     9\n",
            "Name: Reginol_Node_Positive, Length: 419, dtype: int64\n"
          ]
        }
      ],
      "source": [
        "outliers_Reginol_Node_Positive = find_outliers_IQR(data['Reginol_Node_Positive'])\n",
        "print(outliers_Reginol_Node_Positive)"
      ]
    },
    {
      "cell_type": "code",
      "execution_count": null,
      "metadata": {
        "id": "J8Qd1VV9sWrd"
      },
      "outputs": [],
      "source": [
        "# Drop the Patient_ID column\n",
        "data = data.drop(columns=['Patient_ID'])"
      ]
    },
    {
      "cell_type": "code",
      "execution_count": null,
      "metadata": {
        "id": "YAk4n4Nx3B6p"
      },
      "outputs": [],
      "source": [
        "Mean_Age = data['Age'].mean()\n",
        "data['Age'] = data['Age'].fillna(Mean_Age)\n"
      ]
    },
    {
      "cell_type": "code",
      "execution_count": null,
      "metadata": {
        "id": "NW0BjDMR3xRH"
      },
      "outputs": [],
      "source": [
        "Mean_TumorSize = data['Tumor_Size'].mean()\n",
        "data['Tumor_Size'] = data['Tumor_Size'].fillna(Mean_TumorSize)"
      ]
    },
    {
      "cell_type": "code",
      "execution_count": null,
      "metadata": {
        "id": "lgk5V1zL4V3d"
      },
      "outputs": [],
      "source": [
        "# Fill missing values with the most common value\n",
        "most_common_sex = data['Sex'].mode()[0]\n",
        "data['Sex'].fillna(most_common_sex, inplace=True)"
      ]
    },
    {
      "cell_type": "code",
      "execution_count": null,
      "metadata": {
        "colab": {
          "base_uri": "https://localhost:8080/"
        },
        "id": "LtOnSwHe76hZ",
        "outputId": "e516f117-6f22-4f0c-9a76-ab7db28f4ed7"
      },
      "outputs": [
        {
          "name": "stdout",
          "output_type": "stream",
          "text": [
            "<class 'pandas.core.frame.DataFrame'>\n",
            "Index: 3204 entries, 0 to 4023\n",
            "Data columns (total 15 columns):\n",
            " #   Column                  Non-Null Count  Dtype  \n",
            "---  ------                  --------------  -----  \n",
            " 0   Age                     3204 non-null   float64\n",
            " 1   Sex                     3204 non-null   object \n",
            " 2   T_Stage                 3204 non-null   object \n",
            " 3   N_Stage                 3204 non-null   object \n",
            " 4   6th_Stage               3204 non-null   object \n",
            " 5   Differentiated          3204 non-null   object \n",
            " 6   Grade                   3204 non-null   int64  \n",
            " 7   A_Stage                 3204 non-null   object \n",
            " 8   Tumor_Size              3204 non-null   float64\n",
            " 9   Estrogen_Status         3204 non-null   object \n",
            " 10  Progesterone_Status     3204 non-null   object \n",
            " 11  Regional_Node_Examined  3204 non-null   float64\n",
            " 12  Reginol_Node_Positive   3204 non-null   int64  \n",
            " 13  Survival_Months         3204 non-null   int64  \n",
            " 14  Mortality_Status        3204 non-null   object \n",
            "dtypes: float64(3), int64(3), object(9)\n",
            "memory usage: 529.5+ KB\n"
          ]
        }
      ],
      "source": [
        "data.info()"
      ]
    },
    {
      "cell_type": "code",
      "execution_count": null,
      "metadata": {
        "colab": {
          "base_uri": "https://localhost:8080/"
        },
        "id": "ED7CdW7G8vY2",
        "outputId": "5e7a3c7b-43e0-4239-f52f-294064cf109d"
      },
      "outputs": [
        {
          "name": "stdout",
          "output_type": "stream",
          "text": [
            "0\n"
          ]
        }
      ],
      "source": [
        "print(data.isnull().sum().sum())  # validation"
      ]
    },
    {
      "cell_type": "code",
      "execution_count": null,
      "metadata": {
        "id": "k2PHlhMb-let"
      },
      "outputs": [],
      "source": [
        "data['Sex'] = data['Sex'].map({'Male': 0, 'Female': 1}) #encoding"
      ]
    },
    {
      "cell_type": "code",
      "execution_count": null,
      "metadata": {
        "id": "OnqpQXE2-qIb"
      },
      "outputs": [],
      "source": [
        "data['Estrogen_Status'] = data['Estrogen_Status'].map({'Negative': 0, 'Positive': 1})"
      ]
    },
    {
      "cell_type": "code",
      "execution_count": null,
      "metadata": {
        "id": "sMZJTp6H-zo0"
      },
      "outputs": [],
      "source": [
        "data['Progesterone_Status'] = data['Progesterone_Status'].map({'Negative': 0, 'Positive': 1})"
      ]
    },
    {
      "cell_type": "code",
      "execution_count": null,
      "metadata": {
        "id": "rGe0GrB8_PtK"
      },
      "outputs": [],
      "source": [
        "# Convert float columns to integers\n",
        "data = data.astype({\n",
        "    \"Age\": \"int\",\n",
        "    \"Tumor_Size\": \"int\",\n",
        "    \"Regional_Node_Examined\": \"int\"\n",
        "})"
      ]
    },
    {
      "cell_type": "code",
      "execution_count": null,
      "metadata": {
        "id": "LBEqXJWzANtu"
      },
      "outputs": [],
      "source": [
        "data['Sex'] = data['Sex'].fillna(data['Sex'].mode()[0])\n",
        "data['Sex'] = data['Sex'].astype(int)"
      ]
    },
    {
      "cell_type": "code",
      "execution_count": null,
      "metadata": {
        "colab": {
          "base_uri": "https://localhost:8080/"
        },
        "id": "W1cAM2X6Apsg",
        "outputId": "e6a8f576-de91-4c61-f80c-e31c8d4bb071"
      },
      "outputs": [
        {
          "name": "stdout",
          "output_type": "stream",
          "text": [
            "<class 'pandas.core.frame.DataFrame'>\n",
            "Index: 3204 entries, 0 to 4023\n",
            "Data columns (total 15 columns):\n",
            " #   Column                  Non-Null Count  Dtype \n",
            "---  ------                  --------------  ----- \n",
            " 0   Age                     3204 non-null   int64 \n",
            " 1   Sex                     3204 non-null   int64 \n",
            " 2   T_Stage                 3204 non-null   object\n",
            " 3   N_Stage                 3204 non-null   object\n",
            " 4   6th_Stage               3204 non-null   object\n",
            " 5   Differentiated          3204 non-null   object\n",
            " 6   Grade                   3204 non-null   int64 \n",
            " 7   A_Stage                 3204 non-null   object\n",
            " 8   Tumor_Size              3204 non-null   int64 \n",
            " 9   Estrogen_Status         3204 non-null   int64 \n",
            " 10  Progesterone_Status     3204 non-null   int64 \n",
            " 11  Regional_Node_Examined  3204 non-null   int64 \n",
            " 12  Reginol_Node_Positive   3204 non-null   int64 \n",
            " 13  Survival_Months         3204 non-null   int64 \n",
            " 14  Mortality_Status        3204 non-null   object\n",
            "dtypes: int64(9), object(6)\n",
            "memory usage: 529.5+ KB\n"
          ]
        }
      ],
      "source": [
        "data.info()"
      ]
    },
    {
      "cell_type": "code",
      "execution_count": null,
      "metadata": {
        "id": "J3FS0GjQBg-X"
      },
      "outputs": [],
      "source": [
        "data.to_csv(r'/content/drive/MyDrive/Updated Cw data', index=False)"
      ]
    }
  ],
  "metadata": {
    "colab": {
      "provenance": []
    },
    "kernelspec": {
      "display_name": "Python 3",
      "name": "python3"
    },
    "language_info": {
      "name": "python",
      "version": "3.12.1"
    }
  },
  "nbformat": 4,
  "nbformat_minor": 0
}
